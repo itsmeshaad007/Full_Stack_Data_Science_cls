{
 "cells": [
  {
   "cell_type": "markdown",
   "id": "88328f53-52a2-4033-8608-07917fb5cbde",
   "metadata": {},
   "source": [
    "### While loop "
   ]
  },
  {
   "cell_type": "markdown",
   "id": "af654354-ffea-4258-87e4-64d05207957e",
   "metadata": {},
   "source": [
    "while True:\n",
    "\n",
    "    print('abc'"
   ]
  },
  {
   "cell_type": "code",
   "execution_count": 2,
   "id": "f7e7fc51-d59a-4a92-95de-fd8890ef0585",
   "metadata": {},
   "outputs": [
    {
     "name": "stdout",
     "output_type": "stream",
     "text": [
      "20\n",
      "19\n",
      "18\n",
      "17\n",
      "16\n",
      "15\n",
      "14\n",
      "13\n",
      "12\n",
      "11\n",
      "10\n",
      "9\n",
      "8\n",
      "7\n",
      "6\n",
      "5\n",
      "4\n",
      "3\n",
      "2\n",
      "1\n"
     ]
    }
   ],
   "source": [
    "a = 20\n",
    "\n",
    "while a > 0:\n",
    "    print(a)\n",
    "    a-= 1"
   ]
  },
  {
   "cell_type": "markdown",
   "id": "0a34d310-1969-4638-a771-1b08088ff7a4",
   "metadata": {},
   "source": [
    "##### addition of numbers:"
   ]
  },
  {
   "cell_type": "code",
   "execution_count": 8,
   "id": "0fc99e75-7d6c-44d3-bace-34406c192ba7",
   "metadata": {},
   "outputs": [
    {
     "name": "stdout",
     "output_type": "stream",
     "text": [
      "55\n"
     ]
    }
   ],
   "source": [
    "a = 10\n",
    "sum_ = 0\n",
    "while a>0:\n",
    "    sum_ += a\n",
    "    a -= 1\n",
    "\n",
    "print(sum_)"
   ]
  },
  {
   "cell_type": "markdown",
   "id": "b38d83ee-3883-4b24-a437-8c00f5c7ea3b",
   "metadata": {},
   "source": [
    "##### Using While loop "
   ]
  },
  {
   "cell_type": "code",
   "execution_count": 16,
   "id": "223f6335-2443-4b8f-a020-9e9a95a1375a",
   "metadata": {},
   "outputs": [
    {
     "name": "stdout",
     "output_type": "stream",
     "text": [
      "55\n"
     ]
    }
   ],
   "source": [
    "s = 0\n",
    "n = 1\n",
    "t = 10\n",
    "while n<=t:\n",
    "    s += n\n",
    "    n += 1\n",
    "    \n",
    "print(s)"
   ]
  },
  {
   "cell_type": "markdown",
   "id": "f50df676-1174-43e1-8336-c5975795150d",
   "metadata": {},
   "source": [
    "##### using for loop"
   ]
  },
  {
   "cell_type": "code",
   "execution_count": 9,
   "id": "4bc30c5a-30e9-46fc-95f8-feecb0470e93",
   "metadata": {},
   "outputs": [
    {
     "name": "stdout",
     "output_type": "stream",
     "text": [
      "55\n"
     ]
    }
   ],
   "source": [
    "sum_ = 0\n",
    "\n",
    "for i in range(1, 11):\n",
    "    sum_ += i\n",
    "    \n",
    "print(sum_)"
   ]
  },
  {
   "cell_type": "markdown",
   "id": "6bf30c3c-6271-429e-814f-9571b0004b4c",
   "metadata": {},
   "source": [
    "##### using lambda"
   ]
  },
  {
   "cell_type": "code",
   "execution_count": 11,
   "id": "2485b571-f5e6-4b02-819c-f714a4037e28",
   "metadata": {},
   "outputs": [],
   "source": [
    "from functools import reduce"
   ]
  },
  {
   "cell_type": "code",
   "execution_count": 12,
   "id": "a095751c-8845-40b7-983a-dd63c27f4032",
   "metadata": {},
   "outputs": [],
   "source": [
    "sum_ = reduce(lambda a, b: a+b, [i for i in range(1, 11)])"
   ]
  },
  {
   "cell_type": "code",
   "execution_count": 14,
   "id": "611571e4-4c8b-4a63-9ce9-3cec56d317a2",
   "metadata": {},
   "outputs": [
    {
     "data": {
      "text/plain": [
       "55"
      ]
     },
     "execution_count": 14,
     "metadata": {},
     "output_type": "execute_result"
    }
   ],
   "source": [
    "sum_"
   ]
  },
  {
   "cell_type": "markdown",
   "id": "711a0a93-2e5b-477d-9c23-1e1876870ea3",
   "metadata": {},
   "source": [
    "##### Multiplication of numbers\n",
    "###### Also factorial code when n = 1"
   ]
  },
  {
   "cell_type": "code",
   "execution_count": 19,
   "id": "1ca1b5bd-cc39-44e5-9f56-f579fd6f5f58",
   "metadata": {},
   "outputs": [
    {
     "name": "stdout",
     "output_type": "stream",
     "text": [
      "3628800\n"
     ]
    }
   ],
   "source": [
    "s = 1\n",
    "n = 1\n",
    "t = 10\n",
    "while n<=t:\n",
    "    s *= n\n",
    "    n += 1\n",
    "    \n",
    "print(s)"
   ]
  },
  {
   "cell_type": "markdown",
   "id": "fb6b9442-dd95-457e-b308-3a57a2d79974",
   "metadata": {},
   "source": [
    "##### Multiplication using for while"
   ]
  },
  {
   "cell_type": "code",
   "execution_count": 25,
   "id": "4b58eaad-d57c-4914-850b-98e1204dad81",
   "metadata": {},
   "outputs": [
    {
     "name": "stdout",
     "output_type": "stream",
     "text": [
      "12 * 1 = 12\n",
      "12 * 2 = 24\n",
      "12 * 3 = 36\n",
      "12 * 4 = 48\n",
      "12 * 5 = 60\n",
      "12 * 6 = 72\n",
      "12 * 7 = 84\n",
      "12 * 8 = 96\n",
      "12 * 9 = 108\n",
      "12 * 10 = 120\n"
     ]
    }
   ],
   "source": [
    "n = 12\n",
    "\n",
    "i = 1\n",
    "\n",
    "while i<=10:\n",
    "    print(f'{n} * {i} = {n*i}')\n",
    "    i += 1"
   ]
  },
  {
   "cell_type": "markdown",
   "id": "c906111d-da34-4859-8b4a-e2809184838d",
   "metadata": {},
   "source": [
    "##### Multiplication using for loop"
   ]
  },
  {
   "cell_type": "code",
   "execution_count": 21,
   "id": "ff32032c-e5ec-4cb9-af9f-7f1f5cf42f52",
   "metadata": {},
   "outputs": [
    {
     "name": "stdout",
     "output_type": "stream",
     "text": [
      "13 * 1 = 13\n",
      "13 * 2 = 26\n",
      "13 * 3 = 39\n",
      "13 * 4 = 52\n",
      "13 * 5 = 65\n",
      "13 * 6 = 78\n",
      "13 * 7 = 91\n",
      "13 * 8 = 104\n",
      "13 * 9 = 117\n",
      "13 * 10 = 130\n"
     ]
    }
   ],
   "source": [
    "n = 13\n",
    "\n",
    "for i in range(1, 11):\n",
    "    print(f'{n} * {i} = {n*i}')"
   ]
  },
  {
   "cell_type": "markdown",
   "id": "062f8037-7bd8-4946-8ae2-8c3587982d04",
   "metadata": {},
   "source": [
    "##### Multiplication using map"
   ]
  },
  {
   "cell_type": "code",
   "execution_count": 24,
   "id": "db80ba91-bc1f-4e06-89b3-7aeabd9b4215",
   "metadata": {},
   "outputs": [
    {
     "data": {
      "text/plain": [
       "[5, 10, 15, 20, 25, 30, 35, 40, 45, 50]"
      ]
     },
     "execution_count": 24,
     "metadata": {},
     "output_type": "execute_result"
    }
   ],
   "source": [
    "n = 5\n",
    "lis = [i for i in range(1,11)]\n",
    "\n",
    "list(map(lambda a: a*n, lis))"
   ]
  },
  {
   "cell_type": "markdown",
   "id": "798b13c3-2231-411e-a499-7a5bed24c566",
   "metadata": {},
   "source": [
    "##### Creating a counter"
   ]
  },
  {
   "cell_type": "code",
   "execution_count": 2,
   "id": "40f0f7a4-5482-4e8e-bfab-7c2a362a8990",
   "metadata": {},
   "outputs": [
    {
     "name": "stdout",
     "output_type": "stream",
     "text": [
      "5\n",
      "4\n",
      "3\n",
      "2\n",
      "1\n",
      "break time is over\n"
     ]
    }
   ],
   "source": [
    "import time\n",
    "\n",
    "s = 5\n",
    "while s > 0:\n",
    "    print(s)\n",
    "    time.sleep(1)\n",
    "    s-=1\n",
    "    \n",
    "print('break time is over')"
   ]
  },
  {
   "cell_type": "markdown",
   "id": "59230f9a-1aca-48ad-8f7e-3b767630009e",
   "metadata": {},
   "source": [
    "#### Vending machine"
   ]
  },
  {
   "cell_type": "code",
   "execution_count": 1,
   "id": "499b3781-ee7f-4cf9-aa16-18e2b11e2d1c",
   "metadata": {},
   "outputs": [
    {
     "name": "stdout",
     "output_type": "stream",
     "text": [
      "money is available 20\n"
     ]
    },
    {
     "name": "stdin",
     "output_type": "stream",
     "text": [
      "enter your choice(1: biscuit, 2:chips, 3:redbull, 4: coke 2\n"
     ]
    },
    {
     "name": "stdout",
     "output_type": "stream",
     "text": [
      "take your chips\n",
      "money is available 15\n"
     ]
    },
    {
     "name": "stdin",
     "output_type": "stream",
     "text": [
      "enter your choice(1: biscuit, 2:chips, 3:redbull, 4: coke 1\n"
     ]
    },
    {
     "name": "stdout",
     "output_type": "stream",
     "text": [
      "take your biscuit\n",
      "money is available 11\n"
     ]
    },
    {
     "name": "stdin",
     "output_type": "stream",
     "text": [
      "enter your choice(1: biscuit, 2:chips, 3:redbull, 4: coke 4\n"
     ]
    },
    {
     "name": "stdout",
     "output_type": "stream",
     "text": [
      "take your coke\n",
      "you dont have sufficient enough balance\n"
     ]
    }
   ],
   "source": [
    "money_in_hand = 20\n",
    "\n",
    "while money_in_hand >= 5:\n",
    "    print('money is available' , money_in_hand)\n",
    "    choice = int(input('enter your choice(1: biscuit, 2:chips, 3:redbull, 4: coke'))\n",
    "    \n",
    "    if choice == 1:\n",
    "        print('take your biscuit')\n",
    "        money_in_hand -= 4  # 4 = price of biscuit\n",
    "    \n",
    "    elif choice == 2:\n",
    "        print('take your chips')\n",
    "        money_in_hand -= 5 # 5 = price of chips\n",
    "        \n",
    "    elif choice == 3:\n",
    "        print('take your redbull')\n",
    "        money_in_hand -= 10 # 10 = price of redbull\n",
    "        \n",
    "    elif choice == 4:\n",
    "        print('take your coke')\n",
    "        money_in_hand -= 8 # 10 = price of coke\n",
    "    \n",
    "    else:\n",
    "        print('you have not entered correct choice')\n",
    "\n",
    "print('you dont have sufficient enough balance')"
   ]
  },
  {
   "cell_type": "code",
   "execution_count": 2,
   "id": "3667b0b0-378c-4fad-a93c-d00d93c9fe2a",
   "metadata": {},
   "outputs": [
    {
     "name": "stdout",
     "output_type": "stream",
     "text": [
      "money is available 20\n"
     ]
    },
    {
     "name": "stdin",
     "output_type": "stream",
     "text": [
      "enter your choice(1: biscuit, 2:chips, 3:redbull, 4: coke 5\n"
     ]
    },
    {
     "name": "stdout",
     "output_type": "stream",
     "text": [
      "you have not entered correct choice\n",
      "money is available 20\n"
     ]
    },
    {
     "name": "stdin",
     "output_type": "stream",
     "text": [
      "enter your choice(1: biscuit, 2:chips, 3:redbull, 4: coke 3\n"
     ]
    },
    {
     "name": "stdout",
     "output_type": "stream",
     "text": [
      "take your redbull\n",
      "you dont have sufficient enough balance\n"
     ]
    }
   ],
   "source": [
    "money_in_hand = 20\n",
    "\n",
    "while money_in_hand >= 5:\n",
    "    print('money is available' , money_in_hand)\n",
    "    choice = int(input('enter your choice(1: biscuit, 2:chips, 3:redbull, 4: coke'))\n",
    "    \n",
    "    if choice == 1:\n",
    "        print('take your biscuit')\n",
    "        money_in_hand -= 4  # 4 = price of biscuit\n",
    "        break\n",
    "        \n",
    "    elif choice == 2:\n",
    "        print('take your chips')\n",
    "        money_in_hand -= 5 # 5 = price of chips\n",
    "        break\n",
    "        \n",
    "    elif choice == 3:\n",
    "        print('take your redbull')\n",
    "        money_in_hand -= 10 # 10 = price of redbull\n",
    "        break\n",
    "        \n",
    "    elif choice == 4:\n",
    "        print('take your coke')\n",
    "        money_in_hand -= 8 # 10 = price of coke\n",
    "        break\n",
    "        \n",
    "    else:\n",
    "        print('you have not entered correct choice')\n",
    "\n",
    "print('you dont have sufficient enough balance')"
   ]
  },
  {
   "cell_type": "markdown",
   "id": "20afa64c-593c-4d50-b359-f0749d1f481d",
   "metadata": {},
   "source": [
    "##### Counter along with stop"
   ]
  },
  {
   "cell_type": "code",
   "execution_count": 3,
   "id": "b1d9e584-245f-4a69-b71e-ebd1259c5b1f",
   "metadata": {},
   "outputs": [
    {
     "name": "stdout",
     "output_type": "stream",
     "text": [
      "2\n",
      "1\n",
      "break time is over\n"
     ]
    }
   ],
   "source": [
    "import time\n",
    "\n",
    "s = 2\n",
    "while s > 0:\n",
    "    print(s)\n",
    "    time.sleep(1)\n",
    "    s-=1\n",
    "    \n",
    "print('break time is over')"
   ]
  },
  {
   "cell_type": "code",
   "execution_count": 8,
   "id": "11eb4244-bf85-40b2-9986-ab7b35b0803e",
   "metadata": {},
   "outputs": [
    {
     "name": "stdout",
     "output_type": "stream",
     "text": [
      "enter s to stop the timer\n"
     ]
    },
    {
     "name": "stdin",
     "output_type": "stream",
     "text": [
      "enter s for stop \n"
     ]
    },
    {
     "name": "stdout",
     "output_type": "stream",
     "text": [
      "enter s to stop the timer\n"
     ]
    },
    {
     "name": "stdin",
     "output_type": "stream",
     "text": [
      "enter s for stop s\n"
     ]
    },
    {
     "name": "stdout",
     "output_type": "stream",
     "text": [
      "start the class\n"
     ]
    }
   ],
   "source": [
    "stop = False\n",
    "\n",
    "while not stop:\n",
    "    print('enter s to stop the timer')\n",
    "    \n",
    "    \n",
    "    time.sleep(1)\n",
    "    press_stop = input('enter s for stop')\n",
    "    \n",
    "    if press_stop.lower() == 's':\n",
    "        stop = True\n",
    "\n",
    "print('start the class')"
   ]
  },
  {
   "cell_type": "markdown",
   "id": "cfd3a54a-5bab-4d9e-bf74-f102e2ec1064",
   "metadata": {},
   "source": [
    "#### Wrong example"
   ]
  },
  {
   "cell_type": "code",
   "execution_count": 14,
   "id": "57f86390-9b1b-4fc6-9182-113f2e48a6ca",
   "metadata": {},
   "outputs": [
    {
     "name": "stdout",
     "output_type": "stream",
     "text": [
      "5\n"
     ]
    },
    {
     "name": "stdin",
     "output_type": "stream",
     "text": [
      "enter anything to stop d\n"
     ]
    },
    {
     "name": "stdout",
     "output_type": "stream",
     "text": [
      "start the class\n"
     ]
    }
   ],
   "source": [
    "s = 5\n",
    "\n",
    "while s>=0:\n",
    "    print(s)\n",
    "    time.sleep(1)\n",
    "    i = input('enter anything to stop')\n",
    "    \n",
    "    if i:\n",
    "        break\n",
    "    else:\n",
    "        s-=1\n",
    "\n",
    "        \n",
    "print('start the class')"
   ]
  },
  {
   "cell_type": "markdown",
   "id": "6b34ddf0-85ac-49d8-a192-1d53fadae67a",
   "metadata": {},
   "source": [
    "##### Q:"
   ]
  },
  {
   "cell_type": "markdown",
   "id": "2387babe-e761-4c43-af5c-733a3a5f2efb",
   "metadata": {},
   "source": [
    "1- username and password - if username or password is wrong <br>\n",
    "2- option to re-enter or forgest password<br>\n",
    "3- if re-enter 3 times incorrect - freeze for 1 hour<br>\n",
    "4- if forget password is done, then re-enter the password<br>"
   ]
  },
  {
   "cell_type": "code",
   "execution_count": 2,
   "id": "6e2a568c-7f2d-4c53-8523-8be7d4d04719",
   "metadata": {},
   "outputs": [
    {
     "name": "stdin",
     "output_type": "stream",
     "text": [
      "enter the username shad\n",
      "enter password first time aloe\n",
      "enter the password again to confirm aloe\n"
     ]
    },
    {
     "name": "stdout",
     "output_type": "stream",
     "text": [
      "confirmation complete\n"
     ]
    }
   ],
   "source": [
    "username = input('enter the username')\n",
    "password = input('enter password first time')\n",
    "                 \n",
    "\n",
    "pass_word_renter = input('enter the password again to confirm')\n",
    "                 \n",
    "if password == pass_word_renter:\n",
    "    print('confirmation complete')\n",
    "else:\n",
    "    print('confirmation failed')"
   ]
  },
  {
   "cell_type": "markdown",
   "id": "2907344c-8fca-42b7-b984-e8ffbd919f5c",
   "metadata": {},
   "source": [
    "## Introspect again, and re-work on this"
   ]
  },
  {
   "cell_type": "code",
   "execution_count": 12,
   "id": "dfdfab0b-086e-460d-b024-4ae469a9fed1",
   "metadata": {},
   "outputs": [
    {
     "name": "stdin",
     "output_type": "stream",
     "text": [
      "enter username 2\n",
      "enter your password to login d\n"
     ]
    },
    {
     "name": "stdout",
     "output_type": "stream",
     "text": [
      "login or password failed\n",
      "select 1- re-enter username, 2- re-enter password (3 attempts), 3- reset password\n"
     ]
    },
    {
     "name": "stdin",
     "output_type": "stream",
     "text": [
      "enter your input 2\n",
      "enter your password aloe\n"
     ]
    },
    {
     "name": "stdout",
     "output_type": "stream",
     "text": [
      "username is incorrect\n",
      "username is incorrect\n",
      "username is incorrect\n",
      "username is incorrect\n"
     ]
    }
   ],
   "source": [
    "# to login\n",
    "username_login = input('enter username')\n",
    "password_login = input('enter your password to login')\n",
    "\n",
    "if username_login == username and password_login == password:\n",
    "    print('login successfully')\n",
    "else:\n",
    "    print('login or password failed')\n",
    "    print('select 1- re-enter username, 2- re-enter password (3 attempts), 3- reset password')\n",
    "    attempt = 0\n",
    "    input_user = int(input('enter your input'))\n",
    "    \n",
    "    if input_user == 1:\n",
    "        username_renter = input('enter your correct username')\n",
    "            \n",
    "        while attempt <= 3:\n",
    "            if username_renter == username:\n",
    "                print('login successfully')\n",
    "                break\n",
    "            else:\n",
    "                print('username is incorrect')\n",
    "                attempt += 1\n",
    "                username_renter = input('enter your correct username')\n",
    "        \n",
    "    elif input_user == 2:\n",
    "        password_login = input('enter your password')\n",
    "        while attempt <= 3:\n",
    "            if username_login == username and password_login == password:\n",
    "                print('login successfully')\n",
    "                break\n",
    "            else:\n",
    "                print('username is incorrect')\n",
    "                attempt += 1\n",
    "                     \n",
    "    elif input_user == 3:\n",
    "        password = input('enter password first time')\n",
    "        pass_word_renter = input('enter the password again to confirm')\n",
    "        \n",
    "        while attempt <= 3:\n",
    "            if password == pass_word_renter:\n",
    "                print('confirmation complete')\n",
    "                if username_login == username and pass_word_renter == password:\n",
    "                    print('login successfully')\n",
    "                    break\n",
    "                else:\n",
    "                    print('username is incorrect')\n",
    "                    attempt += 1\n",
    "                     \n",
    "    else:\n",
    "        print('confirmation failed') \n",
    "                \n",
    "            "
   ]
  },
  {
   "cell_type": "code",
   "execution_count": 1,
   "id": "d8e657c9-9ffb-44ef-ac73-0967d7465eae",
   "metadata": {},
   "outputs": [],
   "source": [
    "import time"
   ]
  },
  {
   "cell_type": "code",
   "execution_count": 4,
   "id": "f86577fe-9093-462c-89e9-fd94789b0718",
   "metadata": {},
   "outputs": [
    {
     "name": "stdin",
     "output_type": "stream",
     "text": [
      "enter your user id for account shad\n",
      "enter your password for respective userid gs\n",
      "enter your password for respective userid gsg\n",
      "enter your password for respective userid sg\n"
     ]
    },
    {
     "name": "stdout",
     "output_type": "stream",
     "text": [
      "you have attempted maximum times and your account is locked wait for 10 seconds to re-try entering password\n"
     ]
    },
    {
     "name": "stdin",
     "output_type": "stream",
     "text": [
      "enter your password for respective userid shad@123\n"
     ]
    },
    {
     "name": "stdout",
     "output_type": "stream",
     "text": [
      "you have logged in successfully\n"
     ]
    }
   ],
   "source": [
    "user_id = 'shad'\n",
    "password = 'shad@123'\n",
    "\n",
    "counter = 0\n",
    "\n",
    "user_id_check = False\n",
    "userid = input('enter your user id for account')\n",
    "   \n",
    "while counter <3:\n",
    "    if userid == user_id:\n",
    "        user_id_check = True\n",
    "    else:\n",
    "        print('wrong userid')\n",
    "    if user_id_check == True:\n",
    "        pswd = input('enter your password for respective userid')\n",
    "        if pswd == password:\n",
    "            print('you have logged in successfully')\n",
    "            break\n",
    "        counter +=1\n",
    "        if counter == 3:\n",
    "            print('you have attempted maximum times and your account is locked wait for 10 seconds to re-try entering password')\n",
    "            time.sleep(10)\n",
    "            \n",
    "            counter = 0\n",
    "            \n",
    "\n",
    "\n"
   ]
  },
  {
   "cell_type": "markdown",
   "id": "1fd9456b-9c93-4a2d-9016-b3dd8c9bc260",
   "metadata": {},
   "source": [
    "### To do list"
   ]
  },
  {
   "cell_type": "code",
   "execution_count": 18,
   "id": "c9b091f2-d99f-48b6-a728-229792cd1328",
   "metadata": {},
   "outputs": [
    {
     "name": "stdin",
     "output_type": "stream",
     "text": [
      "do you want to enter in to do list: y or n y\n",
      "enter to do list to do programming\n",
      "do you want to enter in to do list: y or n y\n",
      "enter to do list to do questions\n",
      "do you want to enter in to do list: y or n y\n",
      "enter to do list to do qa\n",
      "do you want to enter in to do list: y or n n\n"
     ]
    },
    {
     "name": "stdout",
     "output_type": "stream",
     "text": [
      "you have completed entering and your to-do list is:\n",
      "task to do programming: \n",
      "task to do questions: \n",
      "task to do qa: \n"
     ]
    }
   ],
   "source": [
    "to_do_list = []\n",
    "\n",
    "\n",
    "while True:\n",
    "    input_user = input('do you want to enter in to do list: y or n')\n",
    "\n",
    "    if input_user.lower() == 'y':\n",
    "        to_do = input('enter to do list')\n",
    "        to_do_list.append(to_do)\n",
    "    elif input_user.lower() == 'n':\n",
    "        print('you have completed entering and your to-do list is:')\n",
    "        for i in to_do_list:\n",
    "            print(f'task: {i}: ')\n",
    "        break\n",
    "    \n",
    "    else: \n",
    "        print('wrong input')\n",
    "        for i in to_do_list:\n",
    "            print(f'task {i}: ')\n",
    "        break"
   ]
  },
  {
   "cell_type": "code",
   "execution_count": 19,
   "id": "0876bcc8-24b7-4014-ae03-7726234800a5",
   "metadata": {},
   "outputs": [
    {
     "name": "stdin",
     "output_type": "stream",
     "text": [
      "enter your todo task gssg\n",
      "enter n id you want to add in todo list or enter y if you dont want to add y\n"
     ]
    },
    {
     "name": "stdout",
     "output_type": "stream",
     "text": [
      "my todo list is  ['gssg']\n"
     ]
    }
   ],
   "source": [
    "todo_list = []\n",
    "end_of_todo = 'n'\n",
    "while end_of_todo != 'y':\n",
    "    todo_item = input(\"enter your todo task\")\n",
    "    todo_list.append(todo_item)\n",
    "    end_of_todo = input(\"enter n id you want to add in todo list or enter y if you dont want to add\")\n",
    "print(\"my todo list is \" , todo_list)"
   ]
  },
  {
   "cell_type": "markdown",
   "id": "2667ea3f-7c46-435b-a612-77a0938f773c",
   "metadata": {},
   "source": [
    "### Factorial"
   ]
  },
  {
   "cell_type": "code",
   "execution_count": null,
   "id": "f24bed01-ac41-4b17-8887-3ff83200417c",
   "metadata": {},
   "outputs": [],
   "source": [
    "# 5! = 5*4*3*2*1 = 12o"
   ]
  },
  {
   "cell_type": "code",
   "execution_count": 11,
   "id": "3931a228-57d6-4ef4-8b87-3cf19b4a336e",
   "metadata": {},
   "outputs": [],
   "source": [
    "def fact(n):\n",
    "    # base condition always written in recursive\n",
    "    if n==0:\n",
    "        return 1\n",
    "    else:\n",
    "        return n*fact(n-1)\n",
    "        n-=1"
   ]
  },
  {
   "cell_type": "code",
   "execution_count": 40,
   "id": "90d127a2-25db-46fd-87cb-f1f56194df6c",
   "metadata": {},
   "outputs": [
    {
     "data": {
      "text/plain": [
       "1307674368000"
      ]
     },
     "execution_count": 40,
     "metadata": {},
     "output_type": "execute_result"
    }
   ],
   "source": [
    "fact(15)"
   ]
  },
  {
   "cell_type": "markdown",
   "id": "cb27137a-305a-488e-ac03-be977e354710",
   "metadata": {},
   "source": [
    "### Fibonacci series"
   ]
  },
  {
   "cell_type": "code",
   "execution_count": null,
   "id": "091f84bd-668c-4724-9b0a-4e1002108e26",
   "metadata": {},
   "outputs": [],
   "source": [
    "1, 2, 3, 5, 8"
   ]
  },
  {
   "cell_type": "code",
   "execution_count": 47,
   "id": "b1d923a7-8bb8-457a-8cb7-0e51c35e4e38",
   "metadata": {},
   "outputs": [],
   "source": [
    "def fib(n):\n",
    "    if n<= 1:\n",
    "        return n\n",
    "    else:\n",
    "        return fib(n-2) + fib(n-1)"
   ]
  },
  {
   "cell_type": "code",
   "execution_count": 48,
   "id": "528e14e1-6a18-4a28-8f37-3bfbd6fb2d06",
   "metadata": {},
   "outputs": [
    {
     "data": {
      "text/plain": [
       "2"
      ]
     },
     "execution_count": 48,
     "metadata": {},
     "output_type": "execute_result"
    }
   ],
   "source": [
    "fib(3)"
   ]
  },
  {
   "cell_type": "code",
   "execution_count": 51,
   "id": "a45d49e1-7089-4563-853b-fb30ea469f6d",
   "metadata": {},
   "outputs": [],
   "source": [
    "a = []\n",
    "\n",
    "for i in range(1, 10):\n",
    "    c = fib(i)\n",
    "    a.append(c)"
   ]
  },
  {
   "cell_type": "code",
   "execution_count": 52,
   "id": "99935312-99f1-4a60-aee0-48539b0986d1",
   "metadata": {},
   "outputs": [
    {
     "data": {
      "text/plain": [
       "[1, 1, 2, 3, 5, 8, 13, 21, 34]"
      ]
     },
     "execution_count": 52,
     "metadata": {},
     "output_type": "execute_result"
    }
   ],
   "source": [
    "a"
   ]
  },
  {
   "cell_type": "markdown",
   "id": "6b70c0e9-7ba3-479c-854e-15cb22c921e1",
   "metadata": {},
   "source": [
    "#### Fibonacci series using recursive and lambda and list comprehension"
   ]
  },
  {
   "cell_type": "code",
   "execution_count": 60,
   "id": "ba14ed4a-9b0b-49ad-8c7c-e25b7bfd4421",
   "metadata": {},
   "outputs": [
    {
     "data": {
      "text/plain": [
       "[1, 1, 2, 3, 5, 8, 13, 21, 34]"
      ]
     },
     "execution_count": 60,
     "metadata": {},
     "output_type": "execute_result"
    }
   ],
   "source": [
    "fib_l = lambda n: n if n<=1 else fib_l(n-2) + fib_l(n-1)\n",
    "\n",
    "[fib_l(i) for i in range(1, 10)]"
   ]
  },
  {
   "cell_type": "code",
   "execution_count": 61,
   "id": "e9ff210a-4abc-46f3-bf69-96667d951863",
   "metadata": {},
   "outputs": [
    {
     "data": {
      "text/plain": [
       "22634"
      ]
     },
     "execution_count": 61,
     "metadata": {},
     "output_type": "execute_result"
    }
   ],
   "source": [
    "22634\n"
   ]
  },
  {
   "cell_type": "markdown",
   "id": "df6cd390-a5c3-4f5b-b1b7-e62289530b02",
   "metadata": {},
   "source": [
    "##### function to sum of all digits\n",
    "##### input = any number"
   ]
  },
  {
   "cell_type": "code",
   "execution_count": 65,
   "id": "621b5023-029a-43e9-8af4-278a03e02182",
   "metadata": {},
   "outputs": [
    {
     "name": "stdin",
     "output_type": "stream",
     "text": [
      "enter diit 5654646\n"
     ]
    }
   ],
   "source": [
    "def get_sum(string):\n",
    "    sum_ = 0\n",
    "    for digit in string:\n",
    "        sum_ += int(digit)\n",
    "    return sum_"
   ]
  },
  {
   "cell_type": "code",
   "execution_count": 67,
   "id": "d05cfc8f-609d-4208-b347-eed484fdc67c",
   "metadata": {},
   "outputs": [
    {
     "name": "stdin",
     "output_type": "stream",
     "text": [
      "enter diit 45\n"
     ]
    },
    {
     "data": {
      "text/plain": [
       "9"
      ]
     },
     "execution_count": 67,
     "metadata": {},
     "output_type": "execute_result"
    }
   ],
   "source": [
    "string = input('enter diit')\n",
    "get_sum(string)"
   ]
  },
  {
   "cell_type": "markdown",
   "id": "0ac762e5-537e-4a75-a91e-82ed8802bf25",
   "metadata": {},
   "source": [
    "##### Using recursive"
   ]
  },
  {
   "cell_type": "code",
   "execution_count": 74,
   "id": "9601da6c-28f2-4da1-90bc-c63aabd8681d",
   "metadata": {},
   "outputs": [],
   "source": [
    "def sum_digit(n):\n",
    "    if n < 10:\n",
    "        return n\n",
    "    else:\n",
    "        return n%10 + sum_digit(n//10) # // floor"
   ]
  },
  {
   "cell_type": "code",
   "execution_count": 75,
   "id": "5baeba83-4c19-499e-af36-fb7c296cb877",
   "metadata": {},
   "outputs": [
    {
     "data": {
      "text/plain": [
       "7"
      ]
     },
     "execution_count": 75,
     "metadata": {},
     "output_type": "execute_result"
    }
   ],
   "source": [
    "sum_digit(34)"
   ]
  },
  {
   "cell_type": "markdown",
   "id": "78962c7d-e900-4ce9-9d2b-b332532ded4d",
   "metadata": {},
   "source": [
    "##### MAX of a list"
   ]
  },
  {
   "cell_type": "code",
   "execution_count": 76,
   "id": "6182b617-6ac6-4b36-98a3-b4e080631262",
   "metadata": {},
   "outputs": [],
   "source": [
    "l = [3, 4, 5, 6, 76]"
   ]
  },
  {
   "cell_type": "code",
   "execution_count": 77,
   "id": "a1eb74da-881f-41f7-b504-236bb5d479d0",
   "metadata": {},
   "outputs": [
    {
     "data": {
      "text/plain": [
       "76"
      ]
     },
     "execution_count": 77,
     "metadata": {},
     "output_type": "execute_result"
    }
   ],
   "source": [
    "max(l)"
   ]
  },
  {
   "cell_type": "markdown",
   "id": "4515a407-92f2-4824-8b40-ea53dce99048",
   "metadata": {},
   "source": [
    "###### Using lambda and reduce:"
   ]
  },
  {
   "cell_type": "code",
   "execution_count": 79,
   "id": "73719ad7-266f-4c20-a0fd-23c988757edd",
   "metadata": {},
   "outputs": [
    {
     "data": {
      "text/plain": [
       "76"
      ]
     },
     "execution_count": 79,
     "metadata": {},
     "output_type": "execute_result"
    }
   ],
   "source": [
    "from functools import reduce\n",
    "reduce(lambda a,b: a if a>b else b, l)"
   ]
  },
  {
   "cell_type": "code",
   "execution_count": 82,
   "id": "0d8b6244-d20e-46de-92d1-a0f43fc205b7",
   "metadata": {},
   "outputs": [],
   "source": [
    "def max_list(l):\n",
    "    if len(l) == 1:\n",
    "        return l[0]\n",
    "    else:\n",
    "        return max(l[0] , max_list(l[1:]))"
   ]
  },
  {
   "cell_type": "code",
   "execution_count": 83,
   "id": "9b71ae18-f893-44c9-b438-394422ca839e",
   "metadata": {},
   "outputs": [
    {
     "data": {
      "text/plain": [
       "66"
      ]
     },
     "execution_count": 83,
     "metadata": {},
     "output_type": "execute_result"
    }
   ],
   "source": [
    "max_list([2,4,5,1,66,1])"
   ]
  },
  {
   "cell_type": "code",
   "execution_count": 89,
   "id": "fa1b3b72-6963-4bc4-a749-591f4a1f204e",
   "metadata": {},
   "outputs": [],
   "source": [
    "def sum_list(l):\n",
    "    if len(l) == 1:\n",
    "        return l[0]\n",
    "    else:\n",
    "        return (l[0] + sum_list(l[1:]))"
   ]
  },
  {
   "cell_type": "code",
   "execution_count": 90,
   "id": "eb5dff7c-d6d5-409b-b65d-a63dd095af5d",
   "metadata": {},
   "outputs": [
    {
     "data": {
      "text/plain": [
       "12"
      ]
     },
     "execution_count": 90,
     "metadata": {},
     "output_type": "execute_result"
    }
   ],
   "source": [
    "sum_list([1,2, 9])"
   ]
  },
  {
   "cell_type": "code",
   "execution_count": 91,
   "id": "9a5aa0a5-df0c-4a3f-bf37-0e9701cfedc5",
   "metadata": {},
   "outputs": [
    {
     "data": {
      "text/plain": [
       "5"
      ]
     },
     "execution_count": 91,
     "metadata": {},
     "output_type": "execute_result"
    }
   ],
   "source": [
    "sum_list([5])"
   ]
  },
  {
   "cell_type": "markdown",
   "id": "e7c30dc5-3d4c-445b-b955-ec3c7f41b879",
   "metadata": {},
   "source": [
    "##### Power"
   ]
  },
  {
   "cell_type": "code",
   "execution_count": 104,
   "id": "96339b54-e345-4bf1-9ea4-086183a023d5",
   "metadata": {},
   "outputs": [],
   "source": [
    "# n^k"
   ]
  },
  {
   "cell_type": "code",
   "execution_count": 105,
   "id": "b6c5b2f6-7560-4f17-9c13-459432d42531",
   "metadata": {},
   "outputs": [],
   "source": [
    "def power_fun(n , k) :\n",
    "    if k == 0 :\n",
    "        return 1\n",
    "    else :\n",
    "        return n * power_fun(n ,k-1)"
   ]
  },
  {
   "cell_type": "code",
   "execution_count": 106,
   "id": "edbb9f7e-e819-423a-af4a-4ee2d93e9980",
   "metadata": {},
   "outputs": [
    {
     "data": {
      "text/plain": [
       "81"
      ]
     },
     "execution_count": 106,
     "metadata": {},
     "output_type": "execute_result"
    }
   ],
   "source": [
    "power_fun(3, 4)"
   ]
  },
  {
   "cell_type": "markdown",
   "id": "ca508cd3-e166-48c5-a3d5-bb033d6eca6e",
   "metadata": {},
   "source": [
    "n(n-1)(n-2) or (n+2)(n+1)n"
   ]
  },
  {
   "cell_type": "code",
   "execution_count": 130,
   "id": "201bfeff-485f-4df3-95d7-ff0e4cfece45",
   "metadata": {},
   "outputs": [],
   "source": [
    "def test(n):\n",
    "    if n < 0:\n",
    "        return 1\n",
    "    else:\n",
    "        return n + test(n-1)"
   ]
  },
  {
   "cell_type": "code",
   "execution_count": 131,
   "id": "ab0a2258-589b-4f80-bb3e-1c1db2e65492",
   "metadata": {},
   "outputs": [],
   "source": [
    "### 3 + 2 +1 "
   ]
  },
  {
   "cell_type": "code",
   "execution_count": 132,
   "id": "34a805a7-dd77-4f14-9943-8993fc9eb9de",
   "metadata": {},
   "outputs": [
    {
     "data": {
      "text/plain": [
       "7"
      ]
     },
     "execution_count": 132,
     "metadata": {},
     "output_type": "execute_result"
    }
   ],
   "source": [
    "test(3)"
   ]
  },
  {
   "cell_type": "code",
   "execution_count": 133,
   "id": "9831b397-569a-44a1-b756-1b854f9d0640",
   "metadata": {},
   "outputs": [
    {
     "data": {
      "text/plain": [
       "[2, 4, 7, 11]"
      ]
     },
     "execution_count": 133,
     "metadata": {},
     "output_type": "execute_result"
    }
   ],
   "source": [
    "[test(i) for i in range(1, 5)]\n",
    "\n"
   ]
  },
  {
   "cell_type": "code",
   "execution_count": null,
   "id": "c5a06b23-5a00-4a55-8501-c038608d326d",
   "metadata": {},
   "outputs": [],
   "source": []
  },
  {
   "cell_type": "code",
   "execution_count": null,
   "id": "94c4caa8-eb06-4917-afa7-43965bddedd4",
   "metadata": {},
   "outputs": [],
   "source": []
  }
 ],
 "metadata": {
  "kernelspec": {
   "display_name": "Python 3 (ipykernel)",
   "language": "python",
   "name": "python3"
  },
  "language_info": {
   "codemirror_mode": {
    "name": "ipython",
    "version": 3
   },
   "file_extension": ".py",
   "mimetype": "text/x-python",
   "name": "python",
   "nbconvert_exporter": "python",
   "pygments_lexer": "ipython3",
   "version": "3.10.8"
  }
 },
 "nbformat": 4,
 "nbformat_minor": 5
}
