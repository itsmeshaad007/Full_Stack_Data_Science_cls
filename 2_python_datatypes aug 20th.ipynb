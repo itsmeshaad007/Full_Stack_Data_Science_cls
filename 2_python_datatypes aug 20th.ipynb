{
 "cells": [
  {
   "cell_type": "markdown",
   "id": "5eb724ea-d3e9-4329-8ae7-68816e2881ba",
   "metadata": {},
   "source": [
    "# List"
   ]
  },
  {
   "cell_type": "code",
   "execution_count": 1,
   "id": "71ae422a-2ee6-4855-aea2-e44a472e71c3",
   "metadata": {},
   "outputs": [],
   "source": [
    "l = []\n"
   ]
  },
  {
   "cell_type": "code",
   "execution_count": 2,
   "id": "d394c4e4-1e8b-4f54-856f-47cd6e6c8da3",
   "metadata": {},
   "outputs": [
    {
     "data": {
      "text/plain": [
       "list"
      ]
     },
     "execution_count": 2,
     "metadata": {},
     "output_type": "execute_result"
    }
   ],
   "source": [
    "type(l)"
   ]
  },
  {
   "cell_type": "code",
   "execution_count": 3,
   "id": "07662958-56a3-401c-a01f-2773cdf52ca4",
   "metadata": {},
   "outputs": [],
   "source": [
    "l1 = [1,2,3,4, 'shad', 'ansari', 3+6j, 23.453, True, [1,2]]"
   ]
  },
  {
   "cell_type": "code",
   "execution_count": 4,
   "id": "7f993bd1-9121-411f-a7e0-1a9430be66a0",
   "metadata": {},
   "outputs": [
    {
     "data": {
      "text/plain": [
       "[1, 2, 3, 4, 'shad', 'ansari', (3+6j), 23.453, True, [1, 2]]"
      ]
     },
     "execution_count": 4,
     "metadata": {},
     "output_type": "execute_result"
    }
   ],
   "source": [
    "l1"
   ]
  },
  {
   "cell_type": "code",
   "execution_count": 5,
   "id": "223bd90f-be37-43ff-a2fa-00a2903c2e2b",
   "metadata": {},
   "outputs": [
    {
     "data": {
      "text/plain": [
       "list"
      ]
     },
     "execution_count": 5,
     "metadata": {},
     "output_type": "execute_result"
    }
   ],
   "source": [
    "type(l1)"
   ]
  },
  {
   "cell_type": "code",
   "execution_count": 6,
   "id": "6638cbc5-b3d5-435f-b2ec-98924b33ac67",
   "metadata": {},
   "outputs": [
    {
     "data": {
      "text/plain": [
       "[1, 2]"
      ]
     },
     "execution_count": 6,
     "metadata": {},
     "output_type": "execute_result"
    }
   ],
   "source": [
    "l1[-1]"
   ]
  },
  {
   "cell_type": "code",
   "execution_count": 7,
   "id": "42c9da80-7506-4b8b-b6a0-e80f4a70a427",
   "metadata": {},
   "outputs": [
    {
     "data": {
      "text/plain": [
       "2"
      ]
     },
     "execution_count": 7,
     "metadata": {},
     "output_type": "execute_result"
    }
   ],
   "source": [
    "l1[-1][-1]"
   ]
  },
  {
   "cell_type": "code",
   "execution_count": 8,
   "id": "3a72b142-5730-41bd-90d8-b154e6d0b112",
   "metadata": {},
   "outputs": [
    {
     "data": {
      "text/plain": [
       "'shad'"
      ]
     },
     "execution_count": 8,
     "metadata": {},
     "output_type": "execute_result"
    }
   ],
   "source": [
    "l1[4]"
   ]
  },
  {
   "cell_type": "code",
   "execution_count": 9,
   "id": "65db3af0-8da7-4f07-9590-81c75d2c7bed",
   "metadata": {},
   "outputs": [
    {
     "data": {
      "text/plain": [
       "1"
      ]
     },
     "execution_count": 9,
     "metadata": {},
     "output_type": "execute_result"
    }
   ],
   "source": [
    "l1[-1][0]"
   ]
  },
  {
   "cell_type": "code",
   "execution_count": 10,
   "id": "410ca0e6-4436-40e6-9fd2-9f65dcf8bed0",
   "metadata": {},
   "outputs": [
    {
     "data": {
      "text/plain": [
       "'shad'"
      ]
     },
     "execution_count": 10,
     "metadata": {},
     "output_type": "execute_result"
    }
   ],
   "source": [
    "l1[4]"
   ]
  },
  {
   "cell_type": "code",
   "execution_count": 11,
   "id": "81ca9b32-29cb-463d-999f-b10815bc22be",
   "metadata": {},
   "outputs": [
    {
     "data": {
      "text/plain": [
       "'a'"
      ]
     },
     "execution_count": 11,
     "metadata": {},
     "output_type": "execute_result"
    }
   ],
   "source": [
    "l1[4][2]"
   ]
  },
  {
   "cell_type": "code",
   "execution_count": 12,
   "id": "9c1cab58-31e1-46e9-8757-fb199b408673",
   "metadata": {},
   "outputs": [],
   "source": [
    "a = 3\n",
    "b = 'bs'\n",
    "c = 543"
   ]
  },
  {
   "cell_type": "code",
   "execution_count": 13,
   "id": "fac73c32-0ef7-4664-b913-425f83a3bbc6",
   "metadata": {},
   "outputs": [],
   "source": [
    "l2 = [a, b, c]"
   ]
  },
  {
   "cell_type": "code",
   "execution_count": 14,
   "id": "e9e8ecb9-3647-4856-8f28-43175adae8b7",
   "metadata": {},
   "outputs": [
    {
     "data": {
      "text/plain": [
       "[3, 'bs', 543]"
      ]
     },
     "execution_count": 14,
     "metadata": {},
     "output_type": "execute_result"
    }
   ],
   "source": [
    "l2"
   ]
  },
  {
   "cell_type": "code",
   "execution_count": null,
   "id": "7c2d672d-9016-4140-9422-531202e33f51",
   "metadata": {},
   "outputs": [],
   "source": [
    "l1 + l2"
   ]
  },
  {
   "cell_type": "code",
   "execution_count": 16,
   "id": "fdb1dacb-5024-429e-b4e5-64f5e1b3880e",
   "metadata": {},
   "outputs": [],
   "source": [
    "l1 = [1,2,3,4,5, \"sudh\" , \"kumar\" , 3+6j , 345.565, True,[3,4,5,6]]"
   ]
  },
  {
   "cell_type": "code",
   "execution_count": 17,
   "id": "b37f2079-ba73-494e-a976-da88b979c96c",
   "metadata": {},
   "outputs": [],
   "source": [
    "l2 = [3,4,5,\"pwskills\",\"sudh\"]"
   ]
  },
  {
   "cell_type": "code",
   "execution_count": 18,
   "id": "5efb8ef0-262f-4c6b-9bc1-4df5c8e2f540",
   "metadata": {},
   "outputs": [
    {
     "data": {
      "text/plain": [
       "[1,\n",
       " 2,\n",
       " 3,\n",
       " 4,\n",
       " 5,\n",
       " 'sudh',\n",
       " 'kumar',\n",
       " (3+6j),\n",
       " 345.565,\n",
       " True,\n",
       " [3, 4, 5, 6],\n",
       " 3,\n",
       " 4,\n",
       " 5,\n",
       " 'pwskills',\n",
       " 'sudh']"
      ]
     },
     "execution_count": 18,
     "metadata": {},
     "output_type": "execute_result"
    }
   ],
   "source": [
    "l1 + l2"
   ]
  },
  {
   "cell_type": "code",
   "execution_count": 19,
   "id": "da4b3c7f-560e-44c0-af6e-8d79dc77a05c",
   "metadata": {},
   "outputs": [
    {
     "ename": "TypeError",
     "evalue": "can only concatenate list (not \"str\") to list",
     "output_type": "error",
     "traceback": [
      "\u001b[0;31m---------------------------------------------------------------------------\u001b[0m",
      "\u001b[0;31mTypeError\u001b[0m                                 Traceback (most recent call last)",
      "Cell \u001b[0;32mIn[19], line 2\u001b[0m\n\u001b[1;32m      1\u001b[0m \u001b[38;5;66;03m# Should be in same format\u001b[39;00m\n\u001b[0;32m----> 2\u001b[0m \u001b[43ml2\u001b[49m\u001b[43m \u001b[49m\u001b[38;5;241;43m+\u001b[39;49m\u001b[43m \u001b[49m\u001b[38;5;124;43m'\u001b[39;49m\u001b[38;5;124;43mstrgs\u001b[39;49m\u001b[38;5;124;43m'\u001b[39;49m\n",
      "\u001b[0;31mTypeError\u001b[0m: can only concatenate list (not \"str\") to list"
     ]
    }
   ],
   "source": [
    "# Should be in same format\n",
    "l2 + 'strgs'"
   ]
  },
  {
   "cell_type": "code",
   "execution_count": 20,
   "id": "94bbe68b-7c6e-4c2b-a374-18fe220f79d5",
   "metadata": {},
   "outputs": [
    {
     "data": {
      "text/plain": [
       "['s', 'h', 'a', 'd']"
      ]
     },
     "execution_count": 20,
     "metadata": {},
     "output_type": "execute_result"
    }
   ],
   "source": [
    "list('shad')"
   ]
  },
  {
   "cell_type": "code",
   "execution_count": 21,
   "id": "2be74421-c4cf-4fce-af01-dea94b506d3c",
   "metadata": {},
   "outputs": [
    {
     "data": {
      "text/plain": [
       "[3, 4, 5, 'pwskills', 'sudh']"
      ]
     },
     "execution_count": 21,
     "metadata": {},
     "output_type": "execute_result"
    }
   ],
   "source": [
    "l2"
   ]
  },
  {
   "cell_type": "code",
   "execution_count": 22,
   "id": "19258084-9bb6-4272-95db-72e2f2cf0feb",
   "metadata": {},
   "outputs": [
    {
     "data": {
      "text/plain": [
       "[3, 4, 5, 'pwskills', 'sudh', 3, 4, 5, 'pwskills', 'sudh']"
      ]
     },
     "execution_count": 22,
     "metadata": {},
     "output_type": "execute_result"
    }
   ],
   "source": [
    "# Re-repeat\n",
    "l2*2"
   ]
  },
  {
   "cell_type": "code",
   "execution_count": 23,
   "id": "03608671-ccd0-4721-b345-1400a52b0727",
   "metadata": {},
   "outputs": [],
   "source": [
    "l2[0] = 300"
   ]
  },
  {
   "cell_type": "code",
   "execution_count": 24,
   "id": "e1343f69-4eb1-46c0-a4e7-dadd5fcead45",
   "metadata": {},
   "outputs": [
    {
     "data": {
      "text/plain": [
       "[300, 4, 5, 'pwskills', 'sudh']"
      ]
     },
     "execution_count": 24,
     "metadata": {},
     "output_type": "execute_result"
    }
   ],
   "source": [
    "l2"
   ]
  },
  {
   "cell_type": "markdown",
   "id": "95248000-97b9-496f-b15b-dfe67db45393",
   "metadata": {},
   "source": [
    "### List is mutable identity"
   ]
  },
  {
   "cell_type": "markdown",
   "id": "7d7a68d3-e28f-4358-ad82-00041e072d59",
   "metadata": {},
   "source": [
    "# Tuple"
   ]
  },
  {
   "cell_type": "code",
   "execution_count": 25,
   "id": "db26a207-9147-488a-bf5b-420e9ddfdc66",
   "metadata": {},
   "outputs": [],
   "source": [
    "t = (1,2,3,4,\"sudh\" , \"pwksills\" , 4+56j , True)"
   ]
  },
  {
   "cell_type": "code",
   "execution_count": 26,
   "id": "dc3c082a-0036-41f8-9e9f-51d0002ef059",
   "metadata": {},
   "outputs": [
    {
     "data": {
      "text/plain": [
       "tuple"
      ]
     },
     "execution_count": 26,
     "metadata": {},
     "output_type": "execute_result"
    }
   ],
   "source": [
    "type(t)"
   ]
  },
  {
   "cell_type": "code",
   "execution_count": 27,
   "id": "3f5df608-8370-4aff-b7f2-75293452a15f",
   "metadata": {},
   "outputs": [
    {
     "data": {
      "text/plain": [
       "1"
      ]
     },
     "execution_count": 27,
     "metadata": {},
     "output_type": "execute_result"
    }
   ],
   "source": [
    "t[0]"
   ]
  },
  {
   "cell_type": "code",
   "execution_count": 28,
   "id": "d229e3a8-87da-4bde-9bfd-8d2c60fce545",
   "metadata": {},
   "outputs": [
    {
     "data": {
      "text/plain": [
       "True"
      ]
     },
     "execution_count": 28,
     "metadata": {},
     "output_type": "execute_result"
    }
   ],
   "source": [
    "t[-1]"
   ]
  },
  {
   "cell_type": "code",
   "execution_count": 29,
   "id": "f79aeac4-17c7-41cf-b6ee-ffada2519811",
   "metadata": {},
   "outputs": [
    {
     "data": {
      "text/plain": [
       "(True, (4+56j), 'pwksills', 'sudh', 4, 3, 2, 1)"
      ]
     },
     "execution_count": 29,
     "metadata": {},
     "output_type": "execute_result"
    }
   ],
   "source": [
    "t[::-1]"
   ]
  },
  {
   "cell_type": "markdown",
   "id": "c00d84b1-f974-4cf9-8229-424d1e02bf4b",
   "metadata": {},
   "source": [
    "## Tuple is immutable"
   ]
  },
  {
   "cell_type": "code",
   "execution_count": 30,
   "id": "0072e5b7-e1c7-402b-9290-c8f557482f21",
   "metadata": {},
   "outputs": [
    {
     "ename": "TypeError",
     "evalue": "'tuple' object does not support item assignment",
     "output_type": "error",
     "traceback": [
      "\u001b[0;31m---------------------------------------------------------------------------\u001b[0m",
      "\u001b[0;31mTypeError\u001b[0m                                 Traceback (most recent call last)",
      "Cell \u001b[0;32mIn[30], line 1\u001b[0m\n\u001b[0;32m----> 1\u001b[0m \u001b[43mt\u001b[49m\u001b[43m[\u001b[49m\u001b[38;5;241;43m0\u001b[39;49m\u001b[43m]\u001b[49m \u001b[38;5;241m=\u001b[39m \u001b[38;5;124m'\u001b[39m\u001b[38;5;124mshadman\u001b[39m\u001b[38;5;124m'\u001b[39m\n",
      "\u001b[0;31mTypeError\u001b[0m: 'tuple' object does not support item assignment"
     ]
    }
   ],
   "source": [
    "t[0] = 'shadman'"
   ]
  },
  {
   "cell_type": "code",
   "execution_count": 31,
   "id": "cce4c677-cb33-48a1-91a8-6c9b7d4dc5ae",
   "metadata": {},
   "outputs": [],
   "source": [
    "t1 = (5, 6, 7, 8, 9)"
   ]
  },
  {
   "cell_type": "code",
   "execution_count": null,
   "id": "4721470a-5f65-4906-9f69-380b77273d4b",
   "metadata": {},
   "outputs": [],
   "source": []
  },
  {
   "cell_type": "code",
   "execution_count": 32,
   "id": "fa25d423-f898-4dc2-97ac-5711e4e74a5b",
   "metadata": {},
   "outputs": [
    {
     "data": {
      "text/plain": [
       "(1, 2, 3, 4, 'sudh', 'pwksills', (4+56j), True, 5, 6, 7, 8, 9)"
      ]
     },
     "execution_count": 32,
     "metadata": {},
     "output_type": "execute_result"
    }
   ],
   "source": [
    "# Concatation is possible in tuple\n",
    "t + t1"
   ]
  },
  {
   "cell_type": "code",
   "execution_count": 33,
   "id": "e7de9ed1-c503-46cd-833e-8e5392108f81",
   "metadata": {},
   "outputs": [
    {
     "data": {
      "text/plain": [
       "(5, 6, 7, 8, 9, 5, 6, 7, 8, 9)"
      ]
     },
     "execution_count": 33,
     "metadata": {},
     "output_type": "execute_result"
    }
   ],
   "source": [
    "t1 * 2"
   ]
  },
  {
   "cell_type": "code",
   "execution_count": null,
   "id": "d6222094-83b6-4ac9-9b41-5ec0741c8165",
   "metadata": {},
   "outputs": [],
   "source": []
  },
  {
   "cell_type": "code",
   "execution_count": 34,
   "id": "6518ef84-9d91-4725-b1ce-4a91e9ad7d79",
   "metadata": {},
   "outputs": [
    {
     "data": {
      "text/plain": [
       "[1, 2, 3, 4, 'sudh', 'pwksills', (4+56j), True]"
      ]
     },
     "execution_count": 34,
     "metadata": {},
     "output_type": "execute_result"
    }
   ],
   "source": [
    "# tuple to list\n",
    "list(t)"
   ]
  },
  {
   "cell_type": "code",
   "execution_count": 35,
   "id": "3ada857c-1d8f-4478-beba-4b4579403105",
   "metadata": {},
   "outputs": [
    {
     "data": {
      "text/plain": [
       "(300, 4, 5, 'pwskills', 'sudh')"
      ]
     },
     "execution_count": 35,
     "metadata": {},
     "output_type": "execute_result"
    }
   ],
   "source": [
    "# List to tuple\n",
    "tuple(l2)"
   ]
  },
  {
   "cell_type": "code",
   "execution_count": 36,
   "id": "44a1b1e6-c47e-4180-93b0-b9afeaf6d787",
   "metadata": {},
   "outputs": [
    {
     "data": {
      "text/plain": [
       "8"
      ]
     },
     "execution_count": 36,
     "metadata": {},
     "output_type": "execute_result"
    }
   ],
   "source": [
    "len(t)"
   ]
  },
  {
   "cell_type": "code",
   "execution_count": 37,
   "id": "b15b698b-f65c-4cf9-85fc-c5ba957a8533",
   "metadata": {},
   "outputs": [
    {
     "data": {
      "text/plain": [
       "7"
      ]
     },
     "execution_count": 37,
     "metadata": {},
     "output_type": "execute_result"
    }
   ],
   "source": [
    "len('Shadman')"
   ]
  },
  {
   "cell_type": "code",
   "execution_count": 38,
   "id": "1bff5386-c9a6-4c36-9c5a-29a583ee2164",
   "metadata": {},
   "outputs": [
    {
     "data": {
      "text/plain": [
       "9"
      ]
     },
     "execution_count": 38,
     "metadata": {},
     "output_type": "execute_result"
    }
   ],
   "source": [
    "len('sha      ')"
   ]
  },
  {
   "cell_type": "markdown",
   "id": "4e5c7f95-40f4-460c-ac77-dc6f0783ba41",
   "metadata": {},
   "source": [
    "# SET"
   ]
  },
  {
   "cell_type": "code",
   "execution_count": 39,
   "id": "54bf27c1-afc0-4d35-a094-694a1e1c7f21",
   "metadata": {},
   "outputs": [],
   "source": [
    "s = {}"
   ]
  },
  {
   "cell_type": "code",
   "execution_count": 40,
   "id": "3f1dcad4-ac41-44cd-bb76-2dc3e9ca94fb",
   "metadata": {},
   "outputs": [
    {
     "data": {
      "text/plain": [
       "dict"
      ]
     },
     "execution_count": 40,
     "metadata": {},
     "output_type": "execute_result"
    }
   ],
   "source": [
    "type(s)"
   ]
  },
  {
   "cell_type": "code",
   "execution_count": 41,
   "id": "ba72b307-8c13-44b1-a33f-06ba636dc395",
   "metadata": {},
   "outputs": [],
   "source": [
    "s1 = {1,2,3,3, 4,5, 5}"
   ]
  },
  {
   "cell_type": "code",
   "execution_count": 42,
   "id": "e96cc1d5-a7ae-4bd1-b696-f5c1c7288734",
   "metadata": {},
   "outputs": [
    {
     "data": {
      "text/plain": [
       "set"
      ]
     },
     "execution_count": 42,
     "metadata": {},
     "output_type": "execute_result"
    }
   ],
   "source": [
    "type(s1)"
   ]
  },
  {
   "cell_type": "markdown",
   "id": "46d23932-90e4-4e9f-b37a-1311b7e72d12",
   "metadata": {},
   "source": [
    "### Removing duplications"
   ]
  },
  {
   "cell_type": "code",
   "execution_count": 43,
   "id": "3ca28f0c-0c73-45c4-beeb-83fa802111e8",
   "metadata": {},
   "outputs": [
    {
     "data": {
      "text/plain": [
       "{1, 2, 3, 4, 5}"
      ]
     },
     "execution_count": 43,
     "metadata": {},
     "output_type": "execute_result"
    }
   ],
   "source": [
    "s1"
   ]
  },
  {
   "cell_type": "code",
   "execution_count": 44,
   "id": "2dc9b77d-4e74-4864-bf29-49748cea9b70",
   "metadata": {},
   "outputs": [],
   "source": [
    "s2 ={ \"sudh\" , \"sudh\" , \"Sudh\" , 1,2,3,4,2,3,4,5,5,6,7,8}"
   ]
  },
  {
   "cell_type": "markdown",
   "id": "fc4775a4-ec21-4e13-9470-b30a3c4415c2",
   "metadata": {},
   "source": [
    "## SET is removing duplications but not doing sorting"
   ]
  },
  {
   "cell_type": "code",
   "execution_count": 45,
   "id": "0f7d692a-f3ed-4433-9e57-ade9564b3c12",
   "metadata": {},
   "outputs": [
    {
     "data": {
      "text/plain": [
       "{1, 2, 3, 4, 5, 6, 7, 8, 'Sudh', 'sudh'}"
      ]
     },
     "execution_count": 45,
     "metadata": {},
     "output_type": "execute_result"
    }
   ],
   "source": [
    "s2"
   ]
  },
  {
   "cell_type": "code",
   "execution_count": 46,
   "id": "6e38761f-a684-4af8-bedf-8d5c6eaf344f",
   "metadata": {},
   "outputs": [
    {
     "data": {
      "text/plain": [
       "[1, 2, 3, 'sudh', 'Sudh', 4, 5, 6, 7, 8]"
      ]
     },
     "execution_count": 46,
     "metadata": {},
     "output_type": "execute_result"
    }
   ],
   "source": [
    "list(s2)"
   ]
  },
  {
   "cell_type": "code",
   "execution_count": 47,
   "id": "b01a243c-ca66-4bfd-a365-cd6caa4f7887",
   "metadata": {},
   "outputs": [
    {
     "ename": "TypeError",
     "evalue": "unhashable type: 'list'",
     "output_type": "error",
     "traceback": [
      "\u001b[0;31m---------------------------------------------------------------------------\u001b[0m",
      "\u001b[0;31mTypeError\u001b[0m                                 Traceback (most recent call last)",
      "Cell \u001b[0;32mIn[47], line 1\u001b[0m\n\u001b[0;32m----> 1\u001b[0m \u001b[38;5;28;43mset\u001b[39;49m\u001b[43m(\u001b[49m\u001b[43ml1\u001b[49m\u001b[43m)\u001b[49m\n",
      "\u001b[0;31mTypeError\u001b[0m: unhashable type: 'list'"
     ]
    }
   ],
   "source": [
    "set(l1)"
   ]
  },
  {
   "cell_type": "markdown",
   "id": "27c2e9dc-3d70-42f0-8eb1-dfb91832578c",
   "metadata": {},
   "source": [
    "# Error since l1 has nested list\n",
    "#### it is not able to compare with elements to remove duplicates since there is nested list"
   ]
  },
  {
   "cell_type": "code",
   "execution_count": null,
   "id": "68c14610-4426-4128-a84c-e9846045693d",
   "metadata": {},
   "outputs": [],
   "source": []
  },
  {
   "cell_type": "code",
   "execution_count": 48,
   "id": "62559438-34ad-4099-a0db-6e1109cc3733",
   "metadata": {},
   "outputs": [
    {
     "data": {
      "text/plain": [
       "{300, 4, 5, 'pwskills', 'sudh'}"
      ]
     },
     "execution_count": 48,
     "metadata": {},
     "output_type": "execute_result"
    }
   ],
   "source": [
    "set(l2)"
   ]
  },
  {
   "cell_type": "markdown",
   "id": "116928dc-c809-4665-8cba-7748385c7a98",
   "metadata": {},
   "source": [
    "### Slicing won't work in sets"
   ]
  },
  {
   "cell_type": "code",
   "execution_count": 49,
   "id": "866cc488-1cd7-4104-978d-20d0e670b8a6",
   "metadata": {},
   "outputs": [
    {
     "ename": "TypeError",
     "evalue": "'set' object is not subscriptable",
     "output_type": "error",
     "traceback": [
      "\u001b[0;31m---------------------------------------------------------------------------\u001b[0m",
      "\u001b[0;31mTypeError\u001b[0m                                 Traceback (most recent call last)",
      "Cell \u001b[0;32mIn[49], line 1\u001b[0m\n\u001b[0;32m----> 1\u001b[0m \u001b[43ms2\u001b[49m\u001b[43m[\u001b[49m\u001b[38;5;241;43m0\u001b[39;49m\u001b[43m]\u001b[49m\n",
      "\u001b[0;31mTypeError\u001b[0m: 'set' object is not subscriptable"
     ]
    }
   ],
   "source": [
    "s2[0]"
   ]
  },
  {
   "cell_type": "code",
   "execution_count": 50,
   "id": "5203b5c8-e783-4745-8ee5-7fb19d05858a",
   "metadata": {},
   "outputs": [
    {
     "data": {
      "text/plain": [
       "{1, 2, 3, 4, 5, 6, 7, 8, 'Sudh', 'sudh'}"
      ]
     },
     "execution_count": 50,
     "metadata": {},
     "output_type": "execute_result"
    }
   ],
   "source": [
    "s2"
   ]
  },
  {
   "cell_type": "code",
   "execution_count": 51,
   "id": "cd86a1f8-8665-4bae-9bec-25fbb2a7941a",
   "metadata": {},
   "outputs": [
    {
     "data": {
      "text/plain": [
       "1"
      ]
     },
     "execution_count": 51,
     "metadata": {},
     "output_type": "execute_result"
    }
   ],
   "source": [
    "s3 = list(s2)\n",
    "s3[0]"
   ]
  },
  {
   "cell_type": "markdown",
   "id": "4a4b7479-34de-4263-9bb8-00ef1227dfbd",
   "metadata": {},
   "source": [
    "#### There is no point of mutability and immutability since in sets we can't access set elements"
   ]
  },
  {
   "cell_type": "markdown",
   "id": "a35ba4aa-3c85-42ad-a24c-5da7595e1109",
   "metadata": {},
   "source": [
    "## Sets is used to remove duplicates"
   ]
  },
  {
   "cell_type": "code",
   "execution_count": 52,
   "id": "2e5b3dcb-161a-4e7f-9141-360ff9f26944",
   "metadata": {},
   "outputs": [],
   "source": [
    "s3 = {345,456456,23,12,34,56,78,12,12,34,34,56,56,\"sudh\" , 234.56}"
   ]
  },
  {
   "cell_type": "markdown",
   "id": "c80a916e-68f7-4fc5-bb70-ec77583e5d2b",
   "metadata": {},
   "source": [
    "### SET doesn't sort the data as shown above"
   ]
  },
  {
   "cell_type": "markdown",
   "id": "95cd8533-8613-4352-84a2-89f0bc55fc50",
   "metadata": {},
   "source": [
    "# Dictionary"
   ]
  },
  {
   "cell_type": "code",
   "execution_count": 53,
   "id": "250cfcb3-2acb-4a96-8a37-1735f0521602",
   "metadata": {},
   "outputs": [],
   "source": [
    "d = {}"
   ]
  },
  {
   "cell_type": "code",
   "execution_count": 54,
   "id": "9e53a380-2e61-4da9-abc0-810c786ecead",
   "metadata": {},
   "outputs": [
    {
     "data": {
      "text/plain": [
       "dict"
      ]
     },
     "execution_count": 54,
     "metadata": {},
     "output_type": "execute_result"
    }
   ],
   "source": [
    "type(d)"
   ]
  },
  {
   "cell_type": "code",
   "execution_count": 55,
   "id": "6e80d9ec-8aa5-4046-a802-c361191e6ab9",
   "metadata": {},
   "outputs": [],
   "source": [
    "d1 = {'name' : \"sudhanshu\" ,\"subject\" :[\"data science \" , \"big data \" , \"data analytics\"] , \"number\" :43242424}"
   ]
  },
  {
   "cell_type": "code",
   "execution_count": 56,
   "id": "27716b35-43b1-4b6e-b91e-688ed1b8d88b",
   "metadata": {},
   "outputs": [
    {
     "data": {
      "text/plain": [
       "{'name': 'sudhanshu',\n",
       " 'subject': ['data science ', 'big data ', 'data analytics'],\n",
       " 'number': 43242424}"
      ]
     },
     "execution_count": 56,
     "metadata": {},
     "output_type": "execute_result"
    }
   ],
   "source": [
    "d1"
   ]
  },
  {
   "cell_type": "markdown",
   "id": "281a4231-5a69-4b2a-bbd1-3a070b3eaf2e",
   "metadata": {},
   "source": [
    "### KEY are like self made indexes\n",
    "### KEY in dictionary should be unique"
   ]
  },
  {
   "cell_type": "code",
   "execution_count": 57,
   "id": "8da0faac-2cec-43b1-aedf-8a93947fb74e",
   "metadata": {},
   "outputs": [],
   "source": [
    "d2 = {\"name\" :\"sudh\" , \"name\" : \"pwskills\" }"
   ]
  },
  {
   "cell_type": "code",
   "execution_count": 58,
   "id": "1eba04a7-c9a1-417a-a95a-400e30d89df6",
   "metadata": {},
   "outputs": [
    {
     "data": {
      "text/plain": [
       "{'name': 'pwskills'}"
      ]
     },
     "execution_count": 58,
     "metadata": {},
     "output_type": "execute_result"
    }
   ],
   "source": [
    "d2\n",
    "# output will be latest value"
   ]
  },
  {
   "cell_type": "code",
   "execution_count": 59,
   "id": "97d7b4c9-dca4-4e50-a6fc-dc8d4cff5cc6",
   "metadata": {},
   "outputs": [],
   "source": [
    " d3 = {234: 'shad'}"
   ]
  },
  {
   "cell_type": "code",
   "execution_count": 60,
   "id": "2e7cf331-aaf1-44a5-b1e6-243fb0c3d590",
   "metadata": {},
   "outputs": [
    {
     "data": {
      "text/plain": [
       "{234: 'shad'}"
      ]
     },
     "execution_count": 60,
     "metadata": {},
     "output_type": "execute_result"
    }
   ],
   "source": [
    "d3"
   ]
  },
  {
   "cell_type": "code",
   "execution_count": 61,
   "id": "616db9a0-e445-43a0-b93c-eae8cd0684b2",
   "metadata": {},
   "outputs": [
    {
     "ename": "TypeError",
     "evalue": "unhashable type: 'list'",
     "output_type": "error",
     "traceback": [
      "\u001b[0;31m---------------------------------------------------------------------------\u001b[0m",
      "\u001b[0;31mTypeError\u001b[0m                                 Traceback (most recent call last)",
      "Cell \u001b[0;32mIn[61], line 2\u001b[0m\n\u001b[1;32m      1\u001b[0m \u001b[38;5;66;03m## can't take list as a key\u001b[39;00m\n\u001b[0;32m----> 2\u001b[0m d3 \u001b[38;5;241m=\u001b[39m {[\u001b[38;5;241m1\u001b[39m,\u001b[38;5;241m2\u001b[39m]: \u001b[38;5;124m'\u001b[39m\u001b[38;5;124mshad\u001b[39m\u001b[38;5;124m'\u001b[39m}\n",
      "\u001b[0;31mTypeError\u001b[0m: unhashable type: 'list'"
     ]
    }
   ],
   "source": [
    "## can't take list as a key\n",
    "d3 = {[1,2]: 'shad'}"
   ]
  },
  {
   "cell_type": "code",
   "execution_count": 62,
   "id": "870c35bd-d85d-45a3-8667-ca0d09128669",
   "metadata": {},
   "outputs": [
    {
     "ename": "TypeError",
     "evalue": "unhashable type: 'set'",
     "output_type": "error",
     "traceback": [
      "\u001b[0;31m---------------------------------------------------------------------------\u001b[0m",
      "\u001b[0;31mTypeError\u001b[0m                                 Traceback (most recent call last)",
      "Cell \u001b[0;32mIn[62], line 2\u001b[0m\n\u001b[1;32m      1\u001b[0m \u001b[38;5;66;03m## can't take set as a key\u001b[39;00m\n\u001b[0;32m----> 2\u001b[0m d3 \u001b[38;5;241m=\u001b[39m {{\u001b[38;5;241m1\u001b[39m,\u001b[38;5;241m2\u001b[39m}: \u001b[38;5;124m'\u001b[39m\u001b[38;5;124mshad\u001b[39m\u001b[38;5;124m'\u001b[39m}\n",
      "\u001b[0;31mTypeError\u001b[0m: unhashable type: 'set'"
     ]
    }
   ],
   "source": [
    "## can't take set as a key\n",
    "d3 = {{1,2}: 'shad'}"
   ]
  },
  {
   "cell_type": "code",
   "execution_count": 63,
   "id": "7df00314-ffdd-493a-9867-f2aede188c73",
   "metadata": {},
   "outputs": [],
   "source": [
    "## tuple can be keys\n",
    "d3 = {(1,2): 'shad'}"
   ]
  },
  {
   "cell_type": "markdown",
   "id": "4bb74d20-43b7-4003-891e-3541b5ef47cd",
   "metadata": {},
   "source": [
    "# string, numerical, tuple can be key"
   ]
  },
  {
   "cell_type": "code",
   "execution_count": 64,
   "id": "8b9d4c3b-e009-4247-aa4a-812320819b08",
   "metadata": {},
   "outputs": [
    {
     "ename": "SyntaxError",
     "evalue": "invalid syntax (989555506.py, line 1)",
     "output_type": "error",
     "traceback": [
      "\u001b[0;36m  Cell \u001b[0;32mIn[64], line 1\u001b[0;36m\u001b[0m\n\u001b[0;31m    d3={%fsf: 'shad'}\u001b[0m\n\u001b[0m        ^\u001b[0m\n\u001b[0;31mSyntaxError\u001b[0m\u001b[0;31m:\u001b[0m invalid syntax\n"
     ]
    }
   ],
   "source": [
    "d3={%fsf: 'shad'}"
   ]
  },
  {
   "cell_type": "code",
   "execution_count": 65,
   "id": "eb232bad-8417-4649-9c36-4d43c4c4ceb4",
   "metadata": {},
   "outputs": [],
   "source": [
    "d3={\"%fsf\": 'shad'}"
   ]
  },
  {
   "cell_type": "code",
   "execution_count": 66,
   "id": "60a8938b-0b95-49b1-9aa1-b2343dccd1c6",
   "metadata": {},
   "outputs": [
    {
     "data": {
      "text/plain": [
       "{'%fsf': 'shad'}"
      ]
     },
     "execution_count": 66,
     "metadata": {},
     "output_type": "execute_result"
    }
   ],
   "source": [
    "d3"
   ]
  },
  {
   "cell_type": "markdown",
   "id": "6bdcc978-137e-4f03-ab31-dfedc13d6988",
   "metadata": {
    "tags": []
   },
   "source": [
    "## Dict can be used to control indexes"
   ]
  },
  {
   "cell_type": "code",
   "execution_count": 67,
   "id": "bd3ffa7e-b8b5-4a22-8bd3-f256f21a2afc",
   "metadata": {},
   "outputs": [],
   "source": [
    "d4 = {'course ' : ['dsa','java','webdev','blockchain' , 'cloud'] , 'mentor' :('sudh' , 'krish' , 'viswa' , 'sourganshu' , 'sunny '),\n",
    "     'price' : {3500, 20000,15000, 11000,3500} , 'duration' :1 , 'access year' : 1 ,'syllabus' :{'python':['core python','oops','pandas','numpy' , 'db','mongodb'],'ml':['supervised','unsupervised','semisupervised']}}"
   ]
  },
  {
   "cell_type": "code",
   "execution_count": 68,
   "id": "0a1fa194-f88a-4cc7-b88e-af6f6bad70f7",
   "metadata": {},
   "outputs": [
    {
     "data": {
      "text/plain": [
       "{'course ': ['dsa', 'java', 'webdev', 'blockchain', 'cloud'],\n",
       " 'mentor': ('sudh', 'krish', 'viswa', 'sourganshu', 'sunny '),\n",
       " 'price': {3500, 11000, 15000, 20000},\n",
       " 'duration': 1,\n",
       " 'access year': 1,\n",
       " 'syllabus': {'python': ['core python',\n",
       "   'oops',\n",
       "   'pandas',\n",
       "   'numpy',\n",
       "   'db',\n",
       "   'mongodb'],\n",
       "  'ml': ['supervised', 'unsupervised', 'semisupervised']}}"
      ]
     },
     "execution_count": 68,
     "metadata": {},
     "output_type": "execute_result"
    }
   ],
   "source": [
    "d4"
   ]
  },
  {
   "cell_type": "code",
   "execution_count": 69,
   "id": "781e17d6-771e-489d-a833-7b3a922771e5",
   "metadata": {},
   "outputs": [
    {
     "data": {
      "text/plain": [
       "['dsa', 'java', 'webdev', 'blockchain', 'cloud']"
      ]
     },
     "execution_count": 69,
     "metadata": {},
     "output_type": "execute_result"
    }
   ],
   "source": [
    "d4['course ']"
   ]
  },
  {
   "cell_type": "code",
   "execution_count": 70,
   "id": "afa8ab53-bbf9-40c0-be5d-e3a57d8246b4",
   "metadata": {},
   "outputs": [
    {
     "data": {
      "text/plain": [
       "{'python': ['core python', 'oops', 'pandas', 'numpy', 'db', 'mongodb'],\n",
       " 'ml': ['supervised', 'unsupervised', 'semisupervised']}"
      ]
     },
     "execution_count": 70,
     "metadata": {},
     "output_type": "execute_result"
    }
   ],
   "source": [
    "d4['syllabus']"
   ]
  },
  {
   "cell_type": "code",
   "execution_count": 71,
   "id": "1d2fc414-764f-4f21-a834-7702b5b5a188",
   "metadata": {},
   "outputs": [
    {
     "data": {
      "text/plain": [
       "{3500, 11000, 15000, 20000}"
      ]
     },
     "execution_count": 71,
     "metadata": {},
     "output_type": "execute_result"
    }
   ],
   "source": [
    "d4['price']"
   ]
  },
  {
   "cell_type": "code",
   "execution_count": 72,
   "id": "1b894328-cb67-4fd4-96c7-d0a377c30c84",
   "metadata": {},
   "outputs": [
    {
     "data": {
      "text/plain": [
       "['core python', 'oops', 'pandas', 'numpy', 'db', 'mongodb']"
      ]
     },
     "execution_count": 72,
     "metadata": {},
     "output_type": "execute_result"
    }
   ],
   "source": [
    "d4['syllabus']['python']"
   ]
  },
  {
   "cell_type": "code",
   "execution_count": 73,
   "id": "c4c4f292-0735-431b-98fc-763237c97d8e",
   "metadata": {},
   "outputs": [
    {
     "data": {
      "text/plain": [
       "['supervised', 'unsupervised', 'semisupervised']"
      ]
     },
     "execution_count": 73,
     "metadata": {},
     "output_type": "execute_result"
    }
   ],
   "source": [
    "d4['syllabus']['ml']"
   ]
  },
  {
   "cell_type": "code",
   "execution_count": 74,
   "id": "316a8ff2-4f0e-40e8-b504-9b8c01a6d3c1",
   "metadata": {},
   "outputs": [
    {
     "data": {
      "text/plain": [
       "{'name': 'pwskills'}"
      ]
     },
     "execution_count": 74,
     "metadata": {},
     "output_type": "execute_result"
    }
   ],
   "source": [
    "d2"
   ]
  },
  {
   "cell_type": "code",
   "execution_count": 75,
   "id": "0f69dec5-ab6b-4f35-aae7-72a9277eca40",
   "metadata": {},
   "outputs": [],
   "source": [
    "d2['phone'] = 424232"
   ]
  },
  {
   "cell_type": "code",
   "execution_count": 76,
   "id": "e3fea738-127c-4854-afbc-2498a31885f7",
   "metadata": {},
   "outputs": [
    {
     "data": {
      "text/plain": [
       "{'name': 'pwskills', 'phone': 424232}"
      ]
     },
     "execution_count": 76,
     "metadata": {},
     "output_type": "execute_result"
    }
   ],
   "source": [
    "d2"
   ]
  },
  {
   "cell_type": "markdown",
   "id": "b57cc97b-5b49-481a-81cb-10c9bb534a6a",
   "metadata": {},
   "source": [
    "#### if key is available then it will replace existing value, so dict is a mutable dictionary"
   ]
  },
  {
   "cell_type": "code",
   "execution_count": 77,
   "id": "095436c5-ba41-4067-90eb-99c296e839b5",
   "metadata": {},
   "outputs": [],
   "source": [
    "d2['name'] = 'shadman'"
   ]
  },
  {
   "cell_type": "code",
   "execution_count": 78,
   "id": "28573a00-3969-4209-b746-89ef63df0e11",
   "metadata": {},
   "outputs": [
    {
     "data": {
      "text/plain": [
       "{'name': 'shadman', 'phone': 424232}"
      ]
     },
     "execution_count": 78,
     "metadata": {},
     "output_type": "execute_result"
    }
   ],
   "source": [
    "d2"
   ]
  },
  {
   "cell_type": "code",
   "execution_count": 79,
   "id": "4e9410a3-1269-4002-9189-074e35b3b86c",
   "metadata": {},
   "outputs": [],
   "source": [
    "s1 = 'Pwskills'"
   ]
  },
  {
   "cell_type": "code",
   "execution_count": 80,
   "id": "a6fe53d5-36e6-4176-95c8-d1317cbc385f",
   "metadata": {},
   "outputs": [
    {
     "data": {
      "text/plain": [
       "2"
      ]
     },
     "execution_count": 80,
     "metadata": {},
     "output_type": "execute_result"
    }
   ],
   "source": [
    "s1.count('l')"
   ]
  },
  {
   "cell_type": "code",
   "execution_count": 81,
   "id": "03ca7a7a-a20e-4f51-a310-9bb962841e1e",
   "metadata": {},
   "outputs": [
    {
     "data": {
      "text/plain": [
       "0"
      ]
     },
     "execution_count": 81,
     "metadata": {},
     "output_type": "execute_result"
    }
   ],
   "source": [
    "# lowest index of the string\n",
    "s1.find('P')"
   ]
  },
  {
   "cell_type": "code",
   "execution_count": 82,
   "id": "5c1b6ff8-8c78-4c12-aca2-2e08490bca73",
   "metadata": {},
   "outputs": [
    {
     "data": {
      "text/plain": [
       "-1"
      ]
     },
     "execution_count": 82,
     "metadata": {},
     "output_type": "execute_result"
    }
   ],
   "source": [
    "s1.find('m')"
   ]
  },
  {
   "cell_type": "code",
   "execution_count": 83,
   "id": "4de15db5-b754-448a-9e9a-8a2768126d3e",
   "metadata": {},
   "outputs": [
    {
     "data": {
      "text/plain": [
       "2"
      ]
     },
     "execution_count": 83,
     "metadata": {},
     "output_type": "execute_result"
    }
   ],
   "source": [
    "s1.find('s')"
   ]
  },
  {
   "cell_type": "code",
   "execution_count": 84,
   "id": "04761bf9-56d2-4858-902f-5b0d936cac25",
   "metadata": {},
   "outputs": [
    {
     "ename": "ValueError",
     "evalue": "substring not found",
     "output_type": "error",
     "traceback": [
      "\u001b[0;31m---------------------------------------------------------------------------\u001b[0m",
      "\u001b[0;31mValueError\u001b[0m                                Traceback (most recent call last)",
      "Cell \u001b[0;32mIn[84], line 1\u001b[0m\n\u001b[0;32m----> 1\u001b[0m \u001b[43ms1\u001b[49m\u001b[38;5;241;43m.\u001b[39;49m\u001b[43mindex\u001b[49m\u001b[43m(\u001b[49m\u001b[38;5;124;43m'\u001b[39;49m\u001b[38;5;124;43mm\u001b[39;49m\u001b[38;5;124;43m'\u001b[39;49m\u001b[43m)\u001b[49m\n",
      "\u001b[0;31mValueError\u001b[0m: substring not found"
     ]
    }
   ],
   "source": [
    "s1.index('m')"
   ]
  },
  {
   "cell_type": "code",
   "execution_count": 85,
   "id": "7ae07f45-51b7-4fcb-933e-04b75fa68334",
   "metadata": {},
   "outputs": [
    {
     "data": {
      "text/plain": [
       "'PWSKILLS'"
      ]
     },
     "execution_count": 85,
     "metadata": {},
     "output_type": "execute_result"
    }
   ],
   "source": [
    "s1.upper()"
   ]
  },
  {
   "cell_type": "code",
   "execution_count": 86,
   "id": "48b2be1f-ab71-46e1-a627-718edbece2d0",
   "metadata": {},
   "outputs": [
    {
     "data": {
      "text/plain": [
       "'pwskills'"
      ]
     },
     "execution_count": 86,
     "metadata": {},
     "output_type": "execute_result"
    }
   ],
   "source": [
    "s1.lower()"
   ]
  },
  {
   "cell_type": "code",
   "execution_count": 87,
   "id": "75eb9b18-b59f-4943-805a-a911768cefaf",
   "metadata": {},
   "outputs": [],
   "source": [
    "s2 = 'my name is sudhanshu kumar'"
   ]
  },
  {
   "cell_type": "code",
   "execution_count": 88,
   "id": "c2bd6339-21f5-451e-91ec-1b16dc50d7a2",
   "metadata": {},
   "outputs": [
    {
     "data": {
      "text/plain": [
       "'My Name Is Sudhanshu Kumar'"
      ]
     },
     "execution_count": 88,
     "metadata": {},
     "output_type": "execute_result"
    }
   ],
   "source": [
    "s2.title()"
   ]
  },
  {
   "cell_type": "code",
   "execution_count": 89,
   "id": "635d1fee-ad05-414a-8a67-3c4be35ccbb8",
   "metadata": {},
   "outputs": [
    {
     "data": {
      "text/plain": [
       "['my', 'name', 'is', 'sudhanshu', 'kumar']"
      ]
     },
     "execution_count": 89,
     "metadata": {},
     "output_type": "execute_result"
    }
   ],
   "source": [
    "s2.split()"
   ]
  },
  {
   "cell_type": "code",
   "execution_count": 90,
   "id": "d299512a-b8f5-4ca1-8634-88e1b5b7d08b",
   "metadata": {},
   "outputs": [],
   "source": [
    "s3 = 'my name, is, shadman, ansari'"
   ]
  },
  {
   "cell_type": "code",
   "execution_count": 91,
   "id": "dd2add8d-058e-4904-9659-939f708e89f0",
   "metadata": {},
   "outputs": [
    {
     "data": {
      "text/plain": [
       "['my', 'name,', 'is,', 'shadman,', 'ansari']"
      ]
     },
     "execution_count": 91,
     "metadata": {},
     "output_type": "execute_result"
    }
   ],
   "source": [
    "# Trying to separate the data based on the separator\n",
    "s3.split()"
   ]
  },
  {
   "cell_type": "code",
   "execution_count": null,
   "id": "5bf44dca-3551-4cff-9adb-f67803e0cce2",
   "metadata": {},
   "outputs": [],
   "source": []
  },
  {
   "cell_type": "code",
   "execution_count": 92,
   "id": "25a27a88-878b-42b0-89a9-1e2ff9ae179c",
   "metadata": {},
   "outputs": [
    {
     "data": {
      "text/plain": [
       "['my name i', ' ', 'udhan', 'hu kumar']"
      ]
     },
     "execution_count": 92,
     "metadata": {},
     "output_type": "execute_result"
    }
   ],
   "source": [
    "s2.split('s')"
   ]
  },
  {
   "cell_type": "code",
   "execution_count": 93,
   "id": "e1d13807-db67-4c34-86ff-8c5de4674916",
   "metadata": {},
   "outputs": [
    {
     "data": {
      "text/plain": [
       "'this is my fsds pro class . i am attending this class for 4th time'"
      ]
     },
     "execution_count": 93,
     "metadata": {},
     "output_type": "execute_result"
    }
   ],
   "source": [
    "s4 = \"this is my fsds pro class . i am attending this class for 4th time\"\n",
    "s4"
   ]
  },
  {
   "cell_type": "code",
   "execution_count": 94,
   "id": "520c0401-6b5f-4b02-a568-115ac5d19a6a",
   "metadata": {},
   "outputs": [
    {
     "data": {
      "text/plain": [
       "['this is my fsds pro class ', ' i am attending this class for 4th time']"
      ]
     },
     "execution_count": 94,
     "metadata": {},
     "output_type": "execute_result"
    }
   ],
   "source": [
    "s4.split('.')"
   ]
  },
  {
   "cell_type": "code",
   "execution_count": 95,
   "id": "4c235358-115c-4e3b-98a3-829511b80922",
   "metadata": {},
   "outputs": [
    {
     "data": {
      "text/plain": [
       "'Pwskills'"
      ]
     },
     "execution_count": 95,
     "metadata": {},
     "output_type": "execute_result"
    }
   ],
   "source": [
    "s1.capitalize()"
   ]
  },
  {
   "cell_type": "code",
   "execution_count": 96,
   "id": "ae644c30-b40d-4f24-bbbc-75b3e23725c1",
   "metadata": {},
   "outputs": [
    {
     "data": {
      "text/plain": [
       "'My name is sudhanshu kumar'"
      ]
     },
     "execution_count": 96,
     "metadata": {},
     "output_type": "execute_result"
    }
   ],
   "source": [
    "s2.capitalize()"
   ]
  },
  {
   "cell_type": "code",
   "execution_count": 97,
   "id": "001a2698-bf07-4960-a748-1b3d1f87454a",
   "metadata": {},
   "outputs": [
    {
     "data": {
      "text/plain": [
       "'My Name Is Sudhanshu Kumar'"
      ]
     },
     "execution_count": 97,
     "metadata": {},
     "output_type": "execute_result"
    }
   ],
   "source": [
    "s2.title()"
   ]
  },
  {
   "cell_type": "code",
   "execution_count": 98,
   "id": "c8d12c59-18dd-4fb9-a1f2-f27e2d0411ac",
   "metadata": {},
   "outputs": [
    {
     "data": {
      "text/plain": [
       "'my name is sudhanshu kumar'"
      ]
     },
     "execution_count": 98,
     "metadata": {},
     "output_type": "execute_result"
    }
   ],
   "source": [
    "s2"
   ]
  },
  {
   "cell_type": "code",
   "execution_count": 99,
   "id": "7c8c3e31-837d-4e76-98eb-3c5350a7f542",
   "metadata": {},
   "outputs": [
    {
     "data": {
      "text/plain": [
       "'my aame is sudhaashu kumar'"
      ]
     },
     "execution_count": 99,
     "metadata": {},
     "output_type": "execute_result"
    }
   ],
   "source": [
    "## Strings are immutable, then why character is replacing?\n",
    "s2.replace('n','a')"
   ]
  },
  {
   "cell_type": "code",
   "execution_count": 100,
   "id": "31356ae1-8e5c-4be2-827b-d96b35b57761",
   "metadata": {},
   "outputs": [
    {
     "data": {
      "text/plain": [
       "'my name is sudhanshu kumar'"
      ]
     },
     "execution_count": 100,
     "metadata": {},
     "output_type": "execute_result"
    }
   ],
   "source": [
    "s2"
   ]
  },
  {
   "cell_type": "code",
   "execution_count": 101,
   "id": "3e0515d1-3b9c-4f61-92a9-25fbbeb22527",
   "metadata": {},
   "outputs": [
    {
     "data": {
      "text/plain": [
       "'Pwskills'"
      ]
     },
     "execution_count": 101,
     "metadata": {},
     "output_type": "execute_result"
    }
   ],
   "source": [
    "s1"
   ]
  },
  {
   "cell_type": "code",
   "execution_count": 102,
   "id": "85802829-e9f9-416d-847d-76a6934d3928",
   "metadata": {},
   "outputs": [],
   "source": [
    "### Important inbuilt function to create separator line"
   ]
  },
  {
   "cell_type": "code",
   "execution_count": 103,
   "id": "1d812655-1ff4-4510-b25e-48a568dce907",
   "metadata": {},
   "outputs": [
    {
     "name": "stdout",
     "output_type": "stream",
     "text": [
      "----------------Pwskills----------------\n",
      "shadman\n"
     ]
    }
   ],
   "source": [
    "print(s1.center(40, '-'))\n",
    "print('shadman')"
   ]
  },
  {
   "cell_type": "code",
   "execution_count": 104,
   "id": "b98fb6d0-5753-4cf7-acd0-89a2b965c777",
   "metadata": {},
   "outputs": [],
   "source": [
    "s5 = '   pwskills  '"
   ]
  },
  {
   "cell_type": "code",
   "execution_count": 105,
   "id": "f00675e4-0d91-43b0-a766-aa1a1c5ff2f9",
   "metadata": {},
   "outputs": [
    {
     "data": {
      "text/plain": [
       "'   pwskills'"
      ]
     },
     "execution_count": 105,
     "metadata": {},
     "output_type": "execute_result"
    }
   ],
   "source": [
    "s5.rstrip()"
   ]
  },
  {
   "cell_type": "code",
   "execution_count": 106,
   "id": "140241e4-f013-45f4-bdd9-43b7f37b8c5d",
   "metadata": {},
   "outputs": [
    {
     "data": {
      "text/plain": [
       "'pwskills  '"
      ]
     },
     "execution_count": 106,
     "metadata": {},
     "output_type": "execute_result"
    }
   ],
   "source": [
    "s5.lstrip()"
   ]
  },
  {
   "cell_type": "code",
   "execution_count": 107,
   "id": "6cb55486-1a10-4400-b3b0-fac8a09b35d0",
   "metadata": {},
   "outputs": [
    {
     "data": {
      "text/plain": [
       "'pwskills'"
      ]
     },
     "execution_count": 107,
     "metadata": {},
     "output_type": "execute_result"
    }
   ],
   "source": [
    "s5.strip()"
   ]
  },
  {
   "cell_type": "code",
   "execution_count": 108,
   "id": "8d3f9098-83f5-4378-a8ac-1314ff461347",
   "metadata": {},
   "outputs": [
    {
     "data": {
      "text/plain": [
       "True"
      ]
     },
     "execution_count": 108,
     "metadata": {},
     "output_type": "execute_result"
    }
   ],
   "source": [
    "s1.isalnum() # check for alpha numeric"
   ]
  },
  {
   "cell_type": "code",
   "execution_count": 109,
   "id": "f331f71a-553f-4723-a5ac-a5518dd0d8c8",
   "metadata": {},
   "outputs": [
    {
     "data": {
      "text/plain": [
       "'Pwskills'"
      ]
     },
     "execution_count": 109,
     "metadata": {},
     "output_type": "execute_result"
    }
   ],
   "source": [
    "s1"
   ]
  },
  {
   "cell_type": "code",
   "execution_count": 110,
   "id": "d74a40f4-9262-49bd-ba93-bd6dfcf24f56",
   "metadata": {},
   "outputs": [
    {
     "data": {
      "text/plain": [
       "False"
      ]
     },
     "execution_count": 110,
     "metadata": {},
     "output_type": "execute_result"
    }
   ],
   "source": [
    "s1.isnumeric() # check for numeric"
   ]
  },
  {
   "cell_type": "code",
   "execution_count": 111,
   "id": "08420725-b69f-4626-88ef-5940778c6213",
   "metadata": {},
   "outputs": [
    {
     "data": {
      "text/plain": [
       "False"
      ]
     },
     "execution_count": 111,
     "metadata": {},
     "output_type": "execute_result"
    }
   ],
   "source": [
    "s1.islower()"
   ]
  },
  {
   "cell_type": "code",
   "execution_count": 112,
   "id": "3bb767cd-18b2-4cc7-b863-99bd4de773f5",
   "metadata": {},
   "outputs": [
    {
     "data": {
      "text/plain": [
       "[1, 2, 3, 4, 5, 'sudh', 'kumar', (3+6j), 345.565, True, [3, 4, 5, 6]]"
      ]
     },
     "execution_count": 112,
     "metadata": {},
     "output_type": "execute_result"
    }
   ],
   "source": [
    "l1"
   ]
  },
  {
   "cell_type": "code",
   "execution_count": 113,
   "id": "ab9490ec-571a-4f48-94c6-2263b4057884",
   "metadata": {},
   "outputs": [],
   "source": [
    "# add the data at the end of the list\n",
    "l1.append(343424)"
   ]
  },
  {
   "cell_type": "code",
   "execution_count": 114,
   "id": "f866f4bc-2b83-48d2-ba6c-7934482aac75",
   "metadata": {},
   "outputs": [
    {
     "data": {
      "text/plain": [
       "[1, 2, 3, 4, 5, 'sudh', 'kumar', (3+6j), 345.565, True, [3, 4, 5, 6], 343424]"
      ]
     },
     "execution_count": 114,
     "metadata": {},
     "output_type": "execute_result"
    }
   ],
   "source": [
    "l1"
   ]
  },
  {
   "cell_type": "code",
   "execution_count": 115,
   "id": "887a3142-1e48-4d9b-ba21-133e76302e2d",
   "metadata": {},
   "outputs": [],
   "source": [
    "# append the data after three\n",
    "l1.insert(2, 'pwskills')"
   ]
  },
  {
   "cell_type": "code",
   "execution_count": 116,
   "id": "a77e5878-ea87-4b7a-9875-811a44a990cc",
   "metadata": {},
   "outputs": [
    {
     "data": {
      "text/plain": [
       "[1,\n",
       " 2,\n",
       " 'pwskills',\n",
       " 3,\n",
       " 4,\n",
       " 5,\n",
       " 'sudh',\n",
       " 'kumar',\n",
       " (3+6j),\n",
       " 345.565,\n",
       " True,\n",
       " [3, 4, 5, 6],\n",
       " 343424]"
      ]
     },
     "execution_count": 116,
     "metadata": {},
     "output_type": "execute_result"
    }
   ],
   "source": [
    "l1"
   ]
  },
  {
   "cell_type": "code",
   "execution_count": 117,
   "id": "2ef3dce9-6c51-4456-8277-84545590bc71",
   "metadata": {},
   "outputs": [],
   "source": [
    "l2.extend('shad')"
   ]
  },
  {
   "cell_type": "code",
   "execution_count": 118,
   "id": "19a0f441-33d7-489e-a5fd-2e0cf4424d55",
   "metadata": {},
   "outputs": [
    {
     "data": {
      "text/plain": [
       "[300, 4, 5, 'pwskills', 'sudh', 's', 'h', 'a', 'd']"
      ]
     },
     "execution_count": 118,
     "metadata": {},
     "output_type": "execute_result"
    }
   ],
   "source": [
    "l2"
   ]
  },
  {
   "cell_type": "code",
   "execution_count": 119,
   "id": "50cfa7e8-f5ce-4269-9c13-8cc1a2746873",
   "metadata": {},
   "outputs": [],
   "source": [
    "l2.append('don')"
   ]
  },
  {
   "cell_type": "code",
   "execution_count": 120,
   "id": "161e7621-8b14-49d9-82d6-027b2928ce6f",
   "metadata": {},
   "outputs": [
    {
     "data": {
      "text/plain": [
       "[300, 4, 5, 'pwskills', 'sudh', 's', 'h', 'a', 'd', 'don']"
      ]
     },
     "execution_count": 120,
     "metadata": {},
     "output_type": "execute_result"
    }
   ],
   "source": [
    "l2"
   ]
  },
  {
   "cell_type": "code",
   "execution_count": 121,
   "id": "6d75cbed-92d8-4316-9132-553b21a28922",
   "metadata": {},
   "outputs": [],
   "source": [
    "l2.extend('don')"
   ]
  },
  {
   "cell_type": "code",
   "execution_count": 122,
   "id": "a95b0d56-7881-48bb-a571-6c83aa4854a5",
   "metadata": {},
   "outputs": [
    {
     "data": {
      "text/plain": [
       "[300, 4, 5, 'pwskills', 'sudh', 's', 'h', 'a', 'd', 'don', 'd', 'o', 'n']"
      ]
     },
     "execution_count": 122,
     "metadata": {},
     "output_type": "execute_result"
    }
   ],
   "source": [
    "l2"
   ]
  },
  {
   "cell_type": "code",
   "execution_count": 123,
   "id": "cfdd665d-c0a4-4672-9ccc-acbd619f7484",
   "metadata": {},
   "outputs": [],
   "source": [
    "l3 = [1,2,3,4,5]"
   ]
  },
  {
   "cell_type": "code",
   "execution_count": 124,
   "id": "b384c71e-6165-4517-b178-6a2d8be56b86",
   "metadata": {},
   "outputs": [],
   "source": [
    "l3.append([1,2,3])"
   ]
  },
  {
   "cell_type": "code",
   "execution_count": 125,
   "id": "8eb751e7-c020-4fab-aa8d-f8f72712e124",
   "metadata": {},
   "outputs": [
    {
     "data": {
      "text/plain": [
       "[1, 2, 3, 4, 5, [1, 2, 3]]"
      ]
     },
     "execution_count": 125,
     "metadata": {},
     "output_type": "execute_result"
    }
   ],
   "source": [
    "l3"
   ]
  },
  {
   "cell_type": "code",
   "execution_count": 126,
   "id": "5b98f9b7-e9ea-45ac-8fcd-f085c3c170e6",
   "metadata": {},
   "outputs": [],
   "source": [
    "### Extend can be useful to save our time and it can be used to split and append in one go\n",
    "l3.extend([1,2,3])"
   ]
  },
  {
   "cell_type": "code",
   "execution_count": 127,
   "id": "3ebb261c-42ea-43af-8459-a28c924d893b",
   "metadata": {},
   "outputs": [
    {
     "data": {
      "text/plain": [
       "[1, 2, 3, 4, 5, [1, 2, 3], 1, 2, 3]"
      ]
     },
     "execution_count": 127,
     "metadata": {},
     "output_type": "execute_result"
    }
   ],
   "source": [
    "l3"
   ]
  },
  {
   "cell_type": "markdown",
   "id": "3417ecc9-d69b-4652-9bb7-2abe0b4dae7b",
   "metadata": {},
   "source": [
    "1- insert\n",
    "2- append\n",
    "3- extend"
   ]
  },
  {
   "cell_type": "code",
   "execution_count": 128,
   "id": "709e8c4d-c1e5-4b8f-b90d-6298f003bc01",
   "metadata": {},
   "outputs": [
    {
     "data": {
      "text/plain": [
       "[1, 2, 3, 4, 5, [1, 2, 3], 1, 2, 3]"
      ]
     },
     "execution_count": 128,
     "metadata": {},
     "output_type": "execute_result"
    }
   ],
   "source": [
    "l3"
   ]
  },
  {
   "cell_type": "code",
   "execution_count": 129,
   "id": "126bf0d3-310d-490e-8fb9-955d7c62c035",
   "metadata": {},
   "outputs": [
    {
     "data": {
      "text/plain": [
       "3"
      ]
     },
     "execution_count": 129,
     "metadata": {},
     "output_type": "execute_result"
    }
   ],
   "source": [
    "l3.pop()"
   ]
  },
  {
   "cell_type": "code",
   "execution_count": 130,
   "id": "1c9bbc98-0c5f-49f5-9b04-be32abc9f061",
   "metadata": {},
   "outputs": [
    {
     "data": {
      "text/plain": [
       "[1, 2, 3, 4, 5, [1, 2, 3], 1, 2]"
      ]
     },
     "execution_count": 130,
     "metadata": {},
     "output_type": "execute_result"
    }
   ],
   "source": [
    "l3"
   ]
  },
  {
   "cell_type": "code",
   "execution_count": 131,
   "id": "ff0f31cb-f18c-4f90-937f-2db289bbaaef",
   "metadata": {},
   "outputs": [
    {
     "data": {
      "text/plain": [
       "2"
      ]
     },
     "execution_count": 131,
     "metadata": {},
     "output_type": "execute_result"
    }
   ],
   "source": [
    "l3.pop(1) # provided index"
   ]
  },
  {
   "cell_type": "code",
   "execution_count": 132,
   "id": "16998015-05b9-482b-ae7f-c60e8543c77c",
   "metadata": {},
   "outputs": [
    {
     "data": {
      "text/plain": [
       "[1, 3, 4, 5, [1, 2, 3], 1, 2]"
      ]
     },
     "execution_count": 132,
     "metadata": {},
     "output_type": "execute_result"
    }
   ],
   "source": [
    "l3"
   ]
  },
  {
   "cell_type": "code",
   "execution_count": 133,
   "id": "0081f842-286c-4b9e-b240-9dfc6d113130",
   "metadata": {},
   "outputs": [],
   "source": [
    "del l3"
   ]
  },
  {
   "cell_type": "code",
   "execution_count": 134,
   "id": "ddfe9a08-5618-486c-b7ac-9ecbd4d230e1",
   "metadata": {},
   "outputs": [
    {
     "ename": "NameError",
     "evalue": "name 'l3' is not defined",
     "output_type": "error",
     "traceback": [
      "\u001b[0;31m---------------------------------------------------------------------------\u001b[0m",
      "\u001b[0;31mNameError\u001b[0m                                 Traceback (most recent call last)",
      "Cell \u001b[0;32mIn[134], line 1\u001b[0m\n\u001b[0;32m----> 1\u001b[0m \u001b[43ml3\u001b[49m\n",
      "\u001b[0;31mNameError\u001b[0m: name 'l3' is not defined"
     ]
    }
   ],
   "source": [
    "l3"
   ]
  },
  {
   "cell_type": "code",
   "execution_count": 135,
   "id": "b926673d-3de6-48a8-8cb9-dc13062a6d35",
   "metadata": {},
   "outputs": [
    {
     "data": {
      "text/plain": [
       "'my name is sudhanshu kumar'"
      ]
     },
     "execution_count": 135,
     "metadata": {},
     "output_type": "execute_result"
    }
   ],
   "source": [
    "s2"
   ]
  },
  {
   "cell_type": "code",
   "execution_count": 136,
   "id": "fa55be6c-c482-4a9a-b5f6-fc3f91b550ef",
   "metadata": {},
   "outputs": [],
   "source": [
    "del s2"
   ]
  },
  {
   "cell_type": "code",
   "execution_count": 137,
   "id": "1aa2cb29-c984-4d12-b6c9-2282d32c1349",
   "metadata": {},
   "outputs": [
    {
     "ename": "NameError",
     "evalue": "name 's2' is not defined",
     "output_type": "error",
     "traceback": [
      "\u001b[0;31m---------------------------------------------------------------------------\u001b[0m",
      "\u001b[0;31mNameError\u001b[0m                                 Traceback (most recent call last)",
      "Cell \u001b[0;32mIn[137], line 1\u001b[0m\n\u001b[0;32m----> 1\u001b[0m \u001b[43ms2\u001b[49m\n",
      "\u001b[0;31mNameError\u001b[0m: name 's2' is not defined"
     ]
    }
   ],
   "source": [
    "s2"
   ]
  },
  {
   "cell_type": "code",
   "execution_count": 138,
   "id": "8d348003-f53b-4cc7-bf49-3d11aac598d1",
   "metadata": {},
   "outputs": [
    {
     "data": {
      "text/plain": [
       "[300, 4, 5, 'pwskills', 'sudh', 's', 'h', 'a', 'd', 'don', 'd', 'o', 'n']"
      ]
     },
     "execution_count": 138,
     "metadata": {},
     "output_type": "execute_result"
    }
   ],
   "source": [
    "l2"
   ]
  },
  {
   "cell_type": "code",
   "execution_count": 139,
   "id": "a71183db-b3d8-4203-acec-3b557aedc419",
   "metadata": {},
   "outputs": [],
   "source": [
    "l2.remove('s') # removing first occurance of s"
   ]
  },
  {
   "cell_type": "code",
   "execution_count": 140,
   "id": "a325c0f8-3a25-4213-a257-07acd9f5adfe",
   "metadata": {},
   "outputs": [
    {
     "data": {
      "text/plain": [
       "[300, 4, 5, 'pwskills', 'sudh', 'h', 'a', 'd', 'don', 'd', 'o', 'n']"
      ]
     },
     "execution_count": 140,
     "metadata": {},
     "output_type": "execute_result"
    }
   ],
   "source": [
    "l2"
   ]
  },
  {
   "cell_type": "code",
   "execution_count": 141,
   "id": "049e53ce-94ae-4e16-86ed-a47616f52b7f",
   "metadata": {},
   "outputs": [
    {
     "ename": "ValueError",
     "evalue": "list.remove(x): x not in list",
     "output_type": "error",
     "traceback": [
      "\u001b[0;31m---------------------------------------------------------------------------\u001b[0m",
      "\u001b[0;31mValueError\u001b[0m                                Traceback (most recent call last)",
      "Cell \u001b[0;32mIn[141], line 1\u001b[0m\n\u001b[0;32m----> 1\u001b[0m \u001b[43ml2\u001b[49m\u001b[38;5;241;43m.\u001b[39;49m\u001b[43mremove\u001b[49m\u001b[43m(\u001b[49m\u001b[38;5;124;43m'\u001b[39;49m\u001b[38;5;124;43mz\u001b[39;49m\u001b[38;5;124;43m'\u001b[39;49m\u001b[43m)\u001b[49m\n",
      "\u001b[0;31mValueError\u001b[0m: list.remove(x): x not in list"
     ]
    }
   ],
   "source": [
    "l2.remove('z')"
   ]
  },
  {
   "cell_type": "code",
   "execution_count": 142,
   "id": "77256b4d-3107-473f-9a6e-2f8ed5387a16",
   "metadata": {},
   "outputs": [
    {
     "ename": "IndexError",
     "evalue": "pop index out of range",
     "output_type": "error",
     "traceback": [
      "\u001b[0;31m---------------------------------------------------------------------------\u001b[0m",
      "\u001b[0;31mIndexError\u001b[0m                                Traceback (most recent call last)",
      "Cell \u001b[0;32mIn[142], line 1\u001b[0m\n\u001b[0;32m----> 1\u001b[0m \u001b[43ml2\u001b[49m\u001b[38;5;241;43m.\u001b[39;49m\u001b[43mpop\u001b[49m\u001b[43m(\u001b[49m\u001b[38;5;241;43m100\u001b[39;49m\u001b[43m)\u001b[49m\n",
      "\u001b[0;31mIndexError\u001b[0m: pop index out of range"
     ]
    }
   ],
   "source": [
    "l2.pop(100)"
   ]
  },
  {
   "cell_type": "code",
   "execution_count": 143,
   "id": "7bd373b6-34c6-4a8e-a84e-ed4f37e4d213",
   "metadata": {},
   "outputs": [
    {
     "data": {
      "text/plain": [
       "[1,\n",
       " 2,\n",
       " 'pwskills',\n",
       " 3,\n",
       " 4,\n",
       " 5,\n",
       " 'sudh',\n",
       " 'kumar',\n",
       " (3+6j),\n",
       " 345.565,\n",
       " True,\n",
       " [3, 4, 5, 6],\n",
       " 343424]"
      ]
     },
     "execution_count": 143,
     "metadata": {},
     "output_type": "execute_result"
    }
   ],
   "source": [
    "l1"
   ]
  },
  {
   "cell_type": "code",
   "execution_count": null,
   "id": "42a503b0-af44-4379-b82a-76ac6e0eb745",
   "metadata": {},
   "outputs": [],
   "source": []
  },
  {
   "cell_type": "code",
   "execution_count": 144,
   "id": "c380eefa-642f-4007-8241-d602c198712e",
   "metadata": {},
   "outputs": [],
   "source": [
    "l1.clear()"
   ]
  },
  {
   "cell_type": "code",
   "execution_count": 145,
   "id": "30625c29-30e3-4348-8af1-2853f8d4059e",
   "metadata": {},
   "outputs": [
    {
     "data": {
      "text/plain": [
       "[]"
      ]
     },
     "execution_count": 145,
     "metadata": {},
     "output_type": "execute_result"
    }
   ],
   "source": [
    "l1"
   ]
  },
  {
   "cell_type": "code",
   "execution_count": 146,
   "id": "0085d58c-44e9-421a-8e6f-5bacaad6a2b1",
   "metadata": {},
   "outputs": [
    {
     "data": {
      "text/plain": [
       "[300, 4, 5, 'pwskills', 'sudh', 'h', 'a', 'd', 'don', 'd', 'o', 'n']"
      ]
     },
     "execution_count": 146,
     "metadata": {},
     "output_type": "execute_result"
    }
   ],
   "source": [
    "l2"
   ]
  },
  {
   "cell_type": "code",
   "execution_count": 147,
   "id": "122a23c2-8da8-4ba5-af9a-6e9615ff2f12",
   "metadata": {},
   "outputs": [],
   "source": [
    "l3 = l2.copy()"
   ]
  },
  {
   "cell_type": "code",
   "execution_count": 148,
   "id": "826d059f-69c0-4b1b-84ed-74835af84d4e",
   "metadata": {},
   "outputs": [
    {
     "data": {
      "text/plain": [
       "[300, 4, 5, 'pwskills', 'sudh', 'h', 'a', 'd', 'don', 'd', 'o', 'n']"
      ]
     },
     "execution_count": 148,
     "metadata": {},
     "output_type": "execute_result"
    }
   ],
   "source": [
    "l3"
   ]
  },
  {
   "cell_type": "code",
   "execution_count": 149,
   "id": "aa113ad6-98c3-4fb8-af2e-a6ab9e012ed2",
   "metadata": {},
   "outputs": [
    {
     "data": {
      "text/plain": [
       "12"
      ]
     },
     "execution_count": 149,
     "metadata": {},
     "output_type": "execute_result"
    }
   ],
   "source": [
    "len(l2)"
   ]
  },
  {
   "cell_type": "code",
   "execution_count": 150,
   "id": "264bee4b-59f5-4a15-95d3-2ed661eddce7",
   "metadata": {},
   "outputs": [
    {
     "data": {
      "text/plain": [
       "0"
      ]
     },
     "execution_count": 150,
     "metadata": {},
     "output_type": "execute_result"
    }
   ],
   "source": [
    "l2.count('s')"
   ]
  },
  {
   "cell_type": "code",
   "execution_count": 151,
   "id": "4717947a-7b99-42ac-bd09-eb114197c785",
   "metadata": {},
   "outputs": [
    {
     "ename": "ValueError",
     "evalue": "'s' is not in list",
     "output_type": "error",
     "traceback": [
      "\u001b[0;31m---------------------------------------------------------------------------\u001b[0m",
      "\u001b[0;31mValueError\u001b[0m                                Traceback (most recent call last)",
      "Cell \u001b[0;32mIn[151], line 1\u001b[0m\n\u001b[0;32m----> 1\u001b[0m \u001b[43ml2\u001b[49m\u001b[38;5;241;43m.\u001b[39;49m\u001b[43mindex\u001b[49m\u001b[43m(\u001b[49m\u001b[38;5;124;43m'\u001b[39;49m\u001b[38;5;124;43ms\u001b[39;49m\u001b[38;5;124;43m'\u001b[39;49m\u001b[43m)\u001b[49m\n",
      "\u001b[0;31mValueError\u001b[0m: 's' is not in list"
     ]
    }
   ],
   "source": [
    "l2.index('s')"
   ]
  },
  {
   "cell_type": "code",
   "execution_count": 152,
   "id": "05c5417b-1de9-4a11-a438-67e3fb6869ce",
   "metadata": {},
   "outputs": [],
   "source": [
    "l2.reverse()"
   ]
  },
  {
   "cell_type": "code",
   "execution_count": 153,
   "id": "578f27fe-2582-44f0-8ae8-26bfefab535d",
   "metadata": {},
   "outputs": [
    {
     "data": {
      "text/plain": [
       "['n', 'o', 'd', 'don', 'd', 'a', 'h', 'sudh', 'pwskills', 5, 4, 300]"
      ]
     },
     "execution_count": 153,
     "metadata": {},
     "output_type": "execute_result"
    }
   ],
   "source": [
    "l2"
   ]
  },
  {
   "cell_type": "code",
   "execution_count": 155,
   "id": "30603cfb-34f4-456c-9184-911a76def8af",
   "metadata": {},
   "outputs": [
    {
     "data": {
      "text/plain": [
       "['n', 'o', 'd', 'don', 'd', 'a', 'h', 'sudh', 'pwskills', 5, 4, 300]"
      ]
     },
     "execution_count": 155,
     "metadata": {},
     "output_type": "execute_result"
    }
   ],
   "source": [
    "l2"
   ]
  },
  {
   "cell_type": "code",
   "execution_count": 163,
   "id": "4e6a1e66-c102-4556-a65a-e74c43861167",
   "metadata": {},
   "outputs": [
    {
     "ename": "TypeError",
     "evalue": "'<' not supported between instances of 'int' and 'str'",
     "output_type": "error",
     "traceback": [
      "\u001b[0;31m---------------------------------------------------------------------------\u001b[0m",
      "\u001b[0;31mTypeError\u001b[0m                                 Traceback (most recent call last)",
      "Cell \u001b[0;32mIn[163], line 1\u001b[0m\n\u001b[0;32m----> 1\u001b[0m \u001b[43ml2\u001b[49m\u001b[38;5;241;43m.\u001b[39;49m\u001b[43msort\u001b[49m\u001b[43m(\u001b[49m\u001b[43m)\u001b[49m\n\u001b[1;32m      2\u001b[0m \u001b[38;5;66;03m# sort not possible in hetrogeneous data\u001b[39;00m\n",
      "\u001b[0;31mTypeError\u001b[0m: '<' not supported between instances of 'int' and 'str'"
     ]
    }
   ],
   "source": [
    "l2.sort()\n",
    "# sort not possible in hetrogeneous data"
   ]
  },
  {
   "cell_type": "code",
   "execution_count": 164,
   "id": "fc1f4e0d-2ec5-44c5-ac21-3830f0b95416",
   "metadata": {},
   "outputs": [],
   "source": [
    "l3 = [20,34,4,50,6,7]"
   ]
  },
  {
   "cell_type": "code",
   "execution_count": 165,
   "id": "8e4b8cd7-cdbc-4e5b-bcba-388a326114f1",
   "metadata": {},
   "outputs": [],
   "source": [
    "l3.sort()"
   ]
  },
  {
   "cell_type": "code",
   "execution_count": 166,
   "id": "3243080c-7e86-4b84-abbb-39f24450d311",
   "metadata": {},
   "outputs": [
    {
     "data": {
      "text/plain": [
       "[4, 6, 7, 20, 34, 50]"
      ]
     },
     "execution_count": 166,
     "metadata": {},
     "output_type": "execute_result"
    }
   ],
   "source": [
    "l3"
   ]
  },
  {
   "cell_type": "code",
   "execution_count": 167,
   "id": "19dd43a6-62ce-4bd3-bb02-5560b396b271",
   "metadata": {},
   "outputs": [],
   "source": [
    "l4 = ['s','a','m']"
   ]
  },
  {
   "cell_type": "code",
   "execution_count": 168,
   "id": "b42aae03-28cf-4582-b191-3e25ffd7c03b",
   "metadata": {},
   "outputs": [
    {
     "data": {
      "text/plain": [
       "['a', 'm', 's']"
      ]
     },
     "execution_count": 168,
     "metadata": {},
     "output_type": "execute_result"
    }
   ],
   "source": [
    "l4.sort()\n",
    "l4"
   ]
  },
  {
   "cell_type": "code",
   "execution_count": 169,
   "id": "959deb9f-c788-4a44-9bb5-4ee4418f76d7",
   "metadata": {},
   "outputs": [],
   "source": [
    "l3 = [ 3,2,4,4,6,6,9]"
   ]
  },
  {
   "cell_type": "code",
   "execution_count": 171,
   "id": "59301713-53e9-48d7-b61f-6f365c7e7377",
   "metadata": {},
   "outputs": [],
   "source": [
    "l5 = list(set(l3)).sort()"
   ]
  },
  {
   "cell_type": "code",
   "execution_count": 172,
   "id": "5ab3af10-77ac-4f6e-b1b6-5416ac7fe717",
   "metadata": {},
   "outputs": [],
   "source": [
    "l5"
   ]
  },
  {
   "cell_type": "markdown",
   "id": "f5a8cb75-7fca-44cb-b277-794b212daf9e",
   "metadata": {},
   "source": [
    "# Copy"
   ]
  },
  {
   "cell_type": "code",
   "execution_count": 173,
   "id": "74222dc0-ecb7-4ac9-a5e2-7304d686d9bb",
   "metadata": {},
   "outputs": [],
   "source": [
    "l0 = [2,3,4,5]"
   ]
  },
  {
   "cell_type": "markdown",
   "id": "83d5657d-572a-4673-8cb6-005e0eface62",
   "metadata": {},
   "source": [
    "### SWALLOW copy"
   ]
  },
  {
   "cell_type": "code",
   "execution_count": 174,
   "id": "f03c3306-a690-4f2f-8bb2-39c0b95c4350",
   "metadata": {},
   "outputs": [
    {
     "data": {
      "text/plain": [
       "[2, 3, 4, 5]"
      ]
     },
     "execution_count": 174,
     "metadata": {},
     "output_type": "execute_result"
    }
   ],
   "source": [
    "l1 = l0  #\n",
    "l1"
   ]
  },
  {
   "cell_type": "code",
   "execution_count": 175,
   "id": "9470cf3e-9be1-4142-9520-3f63479a020f",
   "metadata": {},
   "outputs": [
    {
     "data": {
      "text/plain": [
       "[200, 3, 4, 5]"
      ]
     },
     "execution_count": 175,
     "metadata": {},
     "output_type": "execute_result"
    }
   ],
   "source": [
    "l0[0] = 200\n",
    "l0"
   ]
  },
  {
   "cell_type": "code",
   "execution_count": 176,
   "id": "e6403fda-c916-4b7d-9a00-38687c08cb07",
   "metadata": {},
   "outputs": [
    {
     "data": {
      "text/plain": [
       "[200, 3, 4, 5]"
      ]
     },
     "execution_count": 176,
     "metadata": {},
     "output_type": "execute_result"
    }
   ],
   "source": [
    "l1"
   ]
  },
  {
   "cell_type": "markdown",
   "id": "7dc6b45c-ad37-40e7-a68c-bcef88a6b8a0",
   "metadata": {},
   "source": [
    "## DEEP copy important"
   ]
  },
  {
   "cell_type": "code",
   "execution_count": 182,
   "id": "a6ed6786-a211-4685-8848-663e6f87fcb1",
   "metadata": {},
   "outputs": [],
   "source": [
    "l2 = l0.copy() # Create a separate location/space"
   ]
  },
  {
   "cell_type": "code",
   "execution_count": 183,
   "id": "817dc391-b172-4604-85d7-793ebe6152f7",
   "metadata": {},
   "outputs": [
    {
     "data": {
      "text/plain": [
       "[200, 300, 4, 5]"
      ]
     },
     "execution_count": 183,
     "metadata": {},
     "output_type": "execute_result"
    }
   ],
   "source": [
    "l2"
   ]
  },
  {
   "cell_type": "code",
   "execution_count": 184,
   "id": "9139ea40-1fe8-4921-94c3-e4adc9900c3e",
   "metadata": {},
   "outputs": [
    {
     "data": {
      "text/plain": [
       "[200, 300, 4, 5]"
      ]
     },
     "execution_count": 184,
     "metadata": {},
     "output_type": "execute_result"
    }
   ],
   "source": [
    "l0[1] = 300\n",
    "l0"
   ]
  },
  {
   "cell_type": "code",
   "execution_count": 185,
   "id": "299b235f-893e-4660-8baa-dc2d6ad227e3",
   "metadata": {},
   "outputs": [
    {
     "data": {
      "text/plain": [
       "[200, 300, 4, 5]"
      ]
     },
     "execution_count": 185,
     "metadata": {},
     "output_type": "execute_result"
    }
   ],
   "source": [
    "l1"
   ]
  },
  {
   "cell_type": "code",
   "execution_count": 186,
   "id": "7eecba8c-ca7f-46bc-b718-29a8f3d117ca",
   "metadata": {},
   "outputs": [
    {
     "data": {
      "text/plain": [
       "[200, 300, 4, 5]"
      ]
     },
     "execution_count": 186,
     "metadata": {},
     "output_type": "execute_result"
    }
   ],
   "source": [
    "l2"
   ]
  },
  {
   "cell_type": "code",
   "execution_count": 188,
   "id": "de23ba90-1212-4a7b-a878-76dfc5626fb8",
   "metadata": {},
   "outputs": [],
   "source": [
    "# TUPLE functions"
   ]
  },
  {
   "cell_type": "code",
   "execution_count": 189,
   "id": "2d6991fd-68d1-4afd-a97c-5b88a8f4f719",
   "metadata": {},
   "outputs": [
    {
     "data": {
      "text/plain": [
       "(1, 2, 3, 4, 'sudh', 'pwksills', (4+56j), True)"
      ]
     },
     "execution_count": 189,
     "metadata": {},
     "output_type": "execute_result"
    }
   ],
   "source": [
    "t"
   ]
  },
  {
   "cell_type": "code",
   "execution_count": 192,
   "id": "5470ef0e-6f34-4109-b380-ce5966d21190",
   "metadata": {},
   "outputs": [
    {
     "data": {
      "text/plain": [
       "0"
      ]
     },
     "execution_count": 192,
     "metadata": {},
     "output_type": "execute_result"
    }
   ],
   "source": [
    "t.count(453)"
   ]
  },
  {
   "cell_type": "code",
   "execution_count": 193,
   "id": "da891ee6-f386-4e03-bd9b-018e3f89e50e",
   "metadata": {},
   "outputs": [
    {
     "data": {
      "text/plain": [
       "1"
      ]
     },
     "execution_count": 193,
     "metadata": {},
     "output_type": "execute_result"
    }
   ],
   "source": [
    "t.count(3)"
   ]
  },
  {
   "cell_type": "code",
   "execution_count": 195,
   "id": "bb8659b5-61f6-4e7a-ac71-b18bd82d374b",
   "metadata": {},
   "outputs": [],
   "source": [
    "s = {3,4,54,6,6,43,3,3,3,5,5,6}"
   ]
  },
  {
   "cell_type": "code",
   "execution_count": 196,
   "id": "ac495685-3e15-4b23-addd-d5405624ba46",
   "metadata": {},
   "outputs": [],
   "source": [
    "s.add(4)"
   ]
  },
  {
   "cell_type": "code",
   "execution_count": 197,
   "id": "bae5bf92-588f-4814-b26f-390bddb169f7",
   "metadata": {},
   "outputs": [
    {
     "data": {
      "text/plain": [
       "{3, 4, 5, 6, 43, 54}"
      ]
     },
     "execution_count": 197,
     "metadata": {},
     "output_type": "execute_result"
    }
   ],
   "source": [
    "s"
   ]
  },
  {
   "cell_type": "code",
   "execution_count": 198,
   "id": "09b693b7-389b-42e6-b0b6-51e4dd8d23f1",
   "metadata": {},
   "outputs": [],
   "source": [
    "s.add(423)"
   ]
  },
  {
   "cell_type": "code",
   "execution_count": 199,
   "id": "dc481926-57b1-45e7-8a41-d039b866e009",
   "metadata": {},
   "outputs": [
    {
     "data": {
      "text/plain": [
       "{3, 4, 5, 6, 43, 54, 423}"
      ]
     },
     "execution_count": 199,
     "metadata": {},
     "output_type": "execute_result"
    }
   ],
   "source": [
    "s"
   ]
  },
  {
   "cell_type": "code",
   "execution_count": 200,
   "id": "e0fa2989-c1c0-4faa-8704-57b8dd9a62ee",
   "metadata": {},
   "outputs": [],
   "source": [
    "s.discard(423)"
   ]
  },
  {
   "cell_type": "code",
   "execution_count": 201,
   "id": "d479aee6-f5a8-4f29-8798-d1c5605f174c",
   "metadata": {},
   "outputs": [
    {
     "data": {
      "text/plain": [
       "{3, 4, 5, 6, 43, 54}"
      ]
     },
     "execution_count": 201,
     "metadata": {},
     "output_type": "execute_result"
    }
   ],
   "source": [
    "s"
   ]
  },
  {
   "cell_type": "code",
   "execution_count": 202,
   "id": "8fa08e8e-16d7-42fe-9106-47f592fc3757",
   "metadata": {},
   "outputs": [
    {
     "data": {
      "text/plain": [
       "{4, 5, 6, 43, 54}"
      ]
     },
     "execution_count": 202,
     "metadata": {},
     "output_type": "execute_result"
    }
   ],
   "source": [
    "s.pop()\n",
    "s"
   ]
  },
  {
   "cell_type": "code",
   "execution_count": 203,
   "id": "510af898-3161-4bae-a406-6e661b1d2d7f",
   "metadata": {},
   "outputs": [],
   "source": [
    "s.remove(43)"
   ]
  },
  {
   "cell_type": "code",
   "execution_count": 204,
   "id": "4ee38795-202a-4456-97ec-a3388805c85f",
   "metadata": {},
   "outputs": [
    {
     "data": {
      "text/plain": [
       "{4, 5, 6, 54}"
      ]
     },
     "execution_count": 204,
     "metadata": {},
     "output_type": "execute_result"
    }
   ],
   "source": [
    "s"
   ]
  },
  {
   "cell_type": "markdown",
   "id": "bc7dec84-560d-40c4-84b3-1015c69ea805",
   "metadata": {},
   "source": [
    "# Dictionary funtions"
   ]
  },
  {
   "cell_type": "code",
   "execution_count": 205,
   "id": "dd8dc362-3b5b-4449-8d61-d201c36016d7",
   "metadata": {},
   "outputs": [
    {
     "data": {
      "text/plain": [
       "{'name': 'sudhanshu',\n",
       " 'subject': ['data science ', 'big data ', 'data analytics'],\n",
       " 'number': 43242424}"
      ]
     },
     "execution_count": 205,
     "metadata": {},
     "output_type": "execute_result"
    }
   ],
   "source": [
    "d1"
   ]
  },
  {
   "cell_type": "code",
   "execution_count": 206,
   "id": "02d9b113-cb0f-4cbd-8868-a468085d094a",
   "metadata": {},
   "outputs": [
    {
     "data": {
      "text/plain": [
       "dict_keys(['name', 'subject', 'number'])"
      ]
     },
     "execution_count": 206,
     "metadata": {},
     "output_type": "execute_result"
    }
   ],
   "source": [
    "d1.keys()"
   ]
  },
  {
   "cell_type": "code",
   "execution_count": 208,
   "id": "8b0d696a-b567-4de8-9bb0-aff62914c18c",
   "metadata": {},
   "outputs": [
    {
     "data": {
      "text/plain": [
       "['name', 'subject', 'number']"
      ]
     },
     "execution_count": 208,
     "metadata": {},
     "output_type": "execute_result"
    }
   ],
   "source": [
    "list(d1.keys())"
   ]
  },
  {
   "cell_type": "code",
   "execution_count": 209,
   "id": "4e8123b7-2d33-4502-b13b-2cd80212f90d",
   "metadata": {},
   "outputs": [
    {
     "data": {
      "text/plain": [
       "dict_values(['sudhanshu', ['data science ', 'big data ', 'data analytics'], 43242424])"
      ]
     },
     "execution_count": 209,
     "metadata": {},
     "output_type": "execute_result"
    }
   ],
   "source": [
    "d1.values()"
   ]
  },
  {
   "cell_type": "code",
   "execution_count": 212,
   "id": "ee29b0e5-7d38-402d-972f-53806c3c68e0",
   "metadata": {},
   "outputs": [
    {
     "data": {
      "text/plain": [
       "dict_items([('name', 'sudhanshu'), ('subject', ['data science ', 'big data ', 'data analytics']), ('number', 43242424)])"
      ]
     },
     "execution_count": 212,
     "metadata": {},
     "output_type": "execute_result"
    }
   ],
   "source": [
    "d1.items()"
   ]
  },
  {
   "cell_type": "code",
   "execution_count": 213,
   "id": "85604a8c-3411-4adf-803c-3ad407712543",
   "metadata": {},
   "outputs": [
    {
     "data": {
      "text/plain": [
       "[('name', 'sudhanshu'),\n",
       " ('subject', ['data science ', 'big data ', 'data analytics']),\n",
       " ('number', 43242424)]"
      ]
     },
     "execution_count": 213,
     "metadata": {},
     "output_type": "execute_result"
    }
   ],
   "source": [
    "list(d1.items())"
   ]
  },
  {
   "cell_type": "code",
   "execution_count": 214,
   "id": "d067655f-77c1-4b75-9a57-cac2938c8a26",
   "metadata": {},
   "outputs": [
    {
     "data": {
      "text/plain": [
       "'sudhanshu'"
      ]
     },
     "execution_count": 214,
     "metadata": {},
     "output_type": "execute_result"
    }
   ],
   "source": [
    "d1.get('name')"
   ]
  },
  {
   "cell_type": "code",
   "execution_count": 215,
   "id": "9f3099a9-f80e-4fff-82f1-7aea141d236c",
   "metadata": {},
   "outputs": [
    {
     "data": {
      "text/plain": [
       "'sudhanshu'"
      ]
     },
     "execution_count": 215,
     "metadata": {},
     "output_type": "execute_result"
    }
   ],
   "source": [
    "d1['name']"
   ]
  },
  {
   "cell_type": "code",
   "execution_count": 217,
   "id": "14feb076-3be2-4a3a-a2a3-32b633fbee2d",
   "metadata": {},
   "outputs": [
    {
     "data": {
      "text/plain": [
       "'sudhanshu'"
      ]
     },
     "execution_count": 217,
     "metadata": {},
     "output_type": "execute_result"
    }
   ],
   "source": [
    "d1.pop('name')"
   ]
  },
  {
   "cell_type": "code",
   "execution_count": 218,
   "id": "191eda39-3dc7-4e01-86d3-81cdd0d680cb",
   "metadata": {},
   "outputs": [
    {
     "data": {
      "text/plain": [
       "{'subject': ['data science ', 'big data ', 'data analytics'],\n",
       " 'number': 43242424}"
      ]
     },
     "execution_count": 218,
     "metadata": {},
     "output_type": "execute_result"
    }
   ],
   "source": [
    "d1"
   ]
  },
  {
   "cell_type": "code",
   "execution_count": 219,
   "id": "2805f015-dcc1-4a0e-a1c8-97e7a4e7cb35",
   "metadata": {},
   "outputs": [],
   "source": [
    "a, b = d1.items()"
   ]
  },
  {
   "cell_type": "code",
   "execution_count": 220,
   "id": "8e7b03cb-4d29-4591-8d3b-77bc10aedde5",
   "metadata": {},
   "outputs": [
    {
     "data": {
      "text/plain": [
       "('subject', ['data science ', 'big data ', 'data analytics'])"
      ]
     },
     "execution_count": 220,
     "metadata": {},
     "output_type": "execute_result"
    }
   ],
   "source": [
    "a"
   ]
  },
  {
   "cell_type": "code",
   "execution_count": 221,
   "id": "017ac9e5-4697-44c8-a25f-747efc0f66b9",
   "metadata": {},
   "outputs": [
    {
     "data": {
      "text/plain": [
       "('number', 43242424)"
      ]
     },
     "execution_count": 221,
     "metadata": {},
     "output_type": "execute_result"
    }
   ],
   "source": [
    "b"
   ]
  },
  {
   "cell_type": "code",
   "execution_count": 222,
   "id": "e921ad70-8715-4c43-a2fa-45cf13f132d8",
   "metadata": {},
   "outputs": [
    {
     "name": "stdout",
     "output_type": "stream",
     "text": [
      "subject ['data science ', 'big data ', 'data analytics']\n",
      "number 43242424\n"
     ]
    }
   ],
   "source": [
    "for a, b in d1.items():\n",
    "    print(a, b)"
   ]
  },
  {
   "cell_type": "code",
   "execution_count": 223,
   "id": "a4ee5fb4-a0cc-4045-8137-0ba44c473e59",
   "metadata": {},
   "outputs": [
    {
     "data": {
      "text/plain": [
       "{'subject': ['data science ', 'big data ', 'data analytics'],\n",
       " 'number': 43242424,\n",
       " 'test': 'sgs'}"
      ]
     },
     "execution_count": 223,
     "metadata": {},
     "output_type": "execute_result"
    }
   ],
   "source": [
    "d1['test'] = 'sgs'\n",
    "d1"
   ]
  },
  {
   "cell_type": "code",
   "execution_count": null,
   "id": "6dad7aed-e1c0-447b-b5ea-edbcbca51518",
   "metadata": {},
   "outputs": [],
   "source": []
  }
 ],
 "metadata": {
  "kernelspec": {
   "display_name": "Python 3 (ipykernel)",
   "language": "python",
   "name": "python3"
  },
  "language_info": {
   "codemirror_mode": {
    "name": "ipython",
    "version": 3
   },
   "file_extension": ".py",
   "mimetype": "text/x-python",
   "name": "python",
   "nbconvert_exporter": "python",
   "pygments_lexer": "ipython3",
   "version": "3.10.8"
  }
 },
 "nbformat": 4,
 "nbformat_minor": 5
}
