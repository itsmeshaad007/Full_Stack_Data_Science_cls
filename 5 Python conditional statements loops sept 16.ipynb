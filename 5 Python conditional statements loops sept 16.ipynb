{
 "cells": [
  {
   "cell_type": "code",
   "execution_count": 1,
   "id": "d47d8b9b-6500-4c7b-b376-0f1a76c26201",
   "metadata": {},
   "outputs": [],
   "source": [
    "# 16th sep 2023: Python conditional statement loops"
   ]
  },
  {
   "cell_type": "code",
   "execution_count": 5,
   "id": "8d9e4dd8-4bae-4dde-b37d-ebb5e73f1efc",
   "metadata": {},
   "outputs": [],
   "source": [
    "a = 500\n",
    "price = 450\n",
    "if price<= 500:\n",
    " #    print('buy a shirt')\n",
    "    pas"
   ]
  },
  {
   "cell_type": "code",
   "execution_count": 9,
   "id": "18d7cab8-42b7-4581-ba56-6dab1cee1c12",
   "metadata": {},
   "outputs": [],
   "source": [
    "a = 500\n",
    "price = 850\n",
    "\n",
    "if price<= 500:\n",
    "    print('buy a shirt')"
   ]
  },
  {
   "cell_type": "code",
   "execution_count": 10,
   "id": "7e3f62f5-13d9-48b0-9f52-3294db861da7",
   "metadata": {},
   "outputs": [
    {
     "name": "stdout",
     "output_type": "stream",
     "text": [
      "don't buy\n"
     ]
    }
   ],
   "source": [
    "a = 500\n",
    "price = 850\n",
    "\n",
    "if price<= 500:\n",
    "    print('buy a shirt')\n",
    "else:\n",
    "    print(\"don't buy\")"
   ]
  },
  {
   "cell_type": "code",
   "execution_count": 19,
   "id": "71fe68b0-6b18-490a-9c17-bcad3e872d97",
   "metadata": {},
   "outputs": [
    {
     "name": "stdout",
     "output_type": "stream",
     "text": [
      "this is a testing block\n",
      "buy a shirt\n"
     ]
    }
   ],
   "source": [
    "sum = 500\n",
    "shirt_price = 200\n",
    "pant_price = 500\n",
    "coat_price = 800\n",
    "\n",
    "if True:\n",
    "    print('this is a testing block')\n",
    "\n",
    "if coat_price<= sum:\n",
    "    print('buy a coat')\n",
    "elif pant_price< sum:\n",
    "    print('buy a pant')\n",
    "elif shirt_price<sum:\n",
    "    print('buy a shirt')\n",
    "else:\n",
    "    print(\"don't buy\")"
   ]
  },
  {
   "cell_type": "markdown",
   "id": "3ce12534-4841-403b-92d5-56330930b05e",
   "metadata": {
    "tags": []
   },
   "source": [
    "#### Nested Ifs"
   ]
  },
  {
   "cell_type": "code",
   "execution_count": 1,
   "id": "4571dfa7-b526-4f86-aff1-03cdf1121a94",
   "metadata": {},
   "outputs": [
    {
     "name": "stdout",
     "output_type": "stream",
     "text": [
      "yes it is available in my budget\n",
      "can buy a shirt\n",
      "you can finally buy the shirt\n"
     ]
    }
   ],
   "source": [
    "sum = 500\n",
    "shirt_price = 200\n",
    "pant_price = 500\n",
    "coat_price = 800\n",
    "my_size = 'L'\n",
    "size_store = ['L','S']\n",
    "my_color = 'W'\n",
    "shirt_color = ['R','B','W']\n",
    "\n",
    "\n",
    "if coat_price<= sum:\n",
    "    print('buy a coat')\n",
    "elif pant_price< sum:\n",
    "    print('buy a pant')\n",
    "elif shirt_price<sum:\n",
    "    print('yes it is available in my budget')\n",
    "    if my_size in size_store:\n",
    "        print('can buy a shirt')\n",
    "        if my_color in shirt_color:\n",
    "            print('you can finally buy the shirt')\n",
    "        else:\n",
    "            print(\"don't have desired color, don't buy\")\n",
    "    else:\n",
    "        print('size not availabe')\n",
    "    \n",
    "else:\n",
    "    print(\"don't buy\")"
   ]
  },
  {
   "cell_type": "code",
   "execution_count": 5,
   "id": "83534a92-9c10-4834-9cd1-edd44a53dc8b",
   "metadata": {},
   "outputs": [
    {
     "name": "stdout",
     "output_type": "stream",
     "text": [
      "yes I am doing this course\n"
     ]
    }
   ],
   "source": [
    "course = ['DSM', 'DSA', 'JAVA', 'Big data','DA']\n",
    "price = 20000\n",
    "\n",
    "mentor = 'sudhanshu kumar'\n",
    "\n",
    "if 'DSM' in course and price == 20000 and 'sudhanshu kumar' == mentor:\n",
    "    print('yes I am doing this course')\n",
    "else:\n",
    "    print('my conditions do not match')"
   ]
  },
  {
   "cell_type": "code",
   "execution_count": 9,
   "id": "6f83d584-8831-42e8-ab1f-fb74f0ee70be",
   "metadata": {},
   "outputs": [
    {
     "name": "stdout",
     "output_type": "stream",
     "text": [
      "i will try to buy the course\n"
     ]
    }
   ],
   "source": [
    "course_price = 20000\n",
    "\n",
    "if 15000<= course_price <= 20000:\n",
    "    print('i will try to buy the course')\n",
    "else:\n",
    "    print('Its out of my budget')"
   ]
  },
  {
   "cell_type": "code",
   "execution_count": 14,
   "id": "1b4582ef-dd9e-4024-b27f-23e96a11ab48",
   "metadata": {},
   "outputs": [
    {
     "name": "stdin",
     "output_type": "stream",
     "text": [
      "enter the user-nname ansari\n"
     ]
    },
    {
     "name": "stdout",
     "output_type": "stream",
     "text": [
      "correct user-name, now enter password\n"
     ]
    },
    {
     "name": "stdin",
     "output_type": "stream",
     "text": [
      "enter the password alo\n"
     ]
    },
    {
     "name": "stdout",
     "output_type": "stream",
     "text": [
      "wrong password, if forgotten forget password\n",
      "press 1 for re-enter, press 9 for reset\n"
     ]
    },
    {
     "name": "stdin",
     "output_type": "stream",
     "text": [
      "enter key 1\n",
      "enter the password aloe\n"
     ]
    },
    {
     "name": "stdout",
     "output_type": "stream",
     "text": [
      "correct password\n"
     ]
    }
   ],
   "source": [
    "user_name_saved = 'ansari'\n",
    "password_saved = 'aloe'\n",
    "\n",
    "user_name = input('enter the user-nname')\n",
    "\n",
    "\n",
    "if user_name == user_name_saved:\n",
    "    print('correct user-name, now enter password')\n",
    "    password = input('enter the password')\n",
    "    if password == password_saved:\n",
    "        print('password is correct')\n",
    "    else:\n",
    "        print('wrong password, if forgotten forget password')\n",
    "        print('press 1 for re-enter, press 9 for reset')\n",
    "        key = input('enter key')\n",
    "        \n",
    "        if key == '1':\n",
    "            count = 0\n",
    "            while count <= 2:\n",
    "                \n",
    "                password =input('enter the password')\n",
    "                if password == password_saved:\n",
    "                    print('correct password')\n",
    "                    break\n",
    "                else:\n",
    "                    print('wrong password')\n",
    "                    count+=1\n",
    "        elif key == '9':\n",
    "            password_saved = input('enter new password')\n",
    "            print('new password saved')\n",
    "        else:\n",
    "            print('wrong keyword')\n",
    "else:\n",
    "    print('username is incorrect')"
   ]
  },
  {
   "cell_type": "code",
   "execution_count": 13,
   "id": "0a3c5bb1-7e56-424b-8d22-f2de91757aec",
   "metadata": {},
   "outputs": [
    {
     "name": "stdin",
     "output_type": "stream",
     "text": [
      "enter your username shad\n",
      "enter your password sja\n"
     ]
    },
    {
     "name": "stdout",
     "output_type": "stream",
     "text": [
      "enter correct username and password \n"
     ]
    }
   ],
   "source": [
    "user_name = \"shad\"\n",
    "password = \"shad@1234\"\n",
    "\n",
    "if user_name == input(\"enter your username\") and  password == input(\"enter your password\"):\n",
    "    print(\"you have loged in succefully \")\n",
    "else:\n",
    "    print(\"enter correct username and password \")\n",
    "    "
   ]
  },
  {
   "cell_type": "code",
   "execution_count": 24,
   "id": "fb16ba10-4382-4605-a527-c124191a907c",
   "metadata": {},
   "outputs": [
    {
     "name": "stdin",
     "output_type": "stream",
     "text": [
      "enter your registered mo no 123456\n"
     ]
    },
    {
     "name": "stdout",
     "output_type": "stream",
     "text": [
      "yes you are a registered user\n",
      "sending otp\n"
     ]
    },
    {
     "name": "stdin",
     "output_type": "stream",
     "text": [
      "enter otp that we have sent 1234\n"
     ]
    },
    {
     "name": "stdout",
     "output_type": "stream",
     "text": [
      "you have logged in successfully\n"
     ]
    }
   ],
   "source": [
    "mobile_no = 123456\n",
    "otp = 1234\n",
    "\n",
    "if mobile_no == int(input('enter your registered mo no')):\n",
    "    print('yes you are a registered user')\n",
    "    print('sending otp')\n",
    "    if otp == int(input('enter otp that we have sent')):\n",
    "        print('you have logged in successfully')\n",
    "    else:\n",
    "        print('otp is not correct, please try again')\n",
    "else:\n",
    "    print('you have not entered a valid mobile nos')"
   ]
  },
  {
   "cell_type": "code",
   "execution_count": 26,
   "id": "9190812a-8037-4b65-9fd0-63fbadf389b1",
   "metadata": {},
   "outputs": [
    {
     "name": "stdin",
     "output_type": "stream",
     "text": [
      "enter your registered mo no 143423\n"
     ]
    },
    {
     "name": "stdout",
     "output_type": "stream",
     "text": [
      "yes you are a registered user\n",
      "sending otp\n"
     ]
    },
    {
     "name": "stdin",
     "output_type": "stream",
     "text": [
      "enter otp that we have sent 1234\n"
     ]
    },
    {
     "name": "stdout",
     "output_type": "stream",
     "text": [
      "you have logged in successfully\n"
     ]
    }
   ],
   "source": [
    "mobile_no = (123456, 143423, 452523, 3415543)\n",
    "otp = 1234\n",
    "\n",
    "if int(input('enter your registered mo no')) in mobile_no :\n",
    "    print('yes you are a registered user')\n",
    "    print('sending otp')\n",
    "    if otp == int(input('enter otp that we have sent')):\n",
    "        print('you have logged in successfully')\n",
    "    else:\n",
    "        print('otp is not correct, please try again')\n",
    "else:\n",
    "    print('you have not entered a valid mobile nos')"
   ]
  },
  {
   "cell_type": "markdown",
   "id": "07ec3300-20bf-45d2-940f-3c8d1ec5e6c9",
   "metadata": {},
   "source": [
    "# Loops"
   ]
  },
  {
   "cell_type": "code",
   "execution_count": 27,
   "id": "56c6a20a-a526-4781-aa7a-88523a2c68bd",
   "metadata": {},
   "outputs": [],
   "source": [
    "l = [12,3,3,4,5,6,6]\n",
    "\n",
    "out = []\n",
    "\n",
    "for i in l:\n",
    "    out.append(i+2)"
   ]
  },
  {
   "cell_type": "code",
   "execution_count": 28,
   "id": "75be559f-1695-4d2b-aa17-78430ac7bb17",
   "metadata": {},
   "outputs": [
    {
     "data": {
      "text/plain": [
       "[14, 5, 5, 6, 7, 8, 8]"
      ]
     },
     "execution_count": 28,
     "metadata": {},
     "output_type": "execute_result"
    }
   ],
   "source": [
    "out"
   ]
  },
  {
   "cell_type": "code",
   "execution_count": 33,
   "id": "450edb90-39a3-43d0-974d-6c33028b1af7",
   "metadata": {},
   "outputs": [
    {
     "name": "stdout",
     "output_type": "stream",
     "text": [
      "123456\n",
      "143423\n",
      "user is registered one\n",
      "452523\n",
      "3415543\n",
      "23432\n"
     ]
    }
   ],
   "source": [
    "mobile = [123456, 143423, 452523, 3415543, 23432]\n",
    "stud_mo = 143423\n",
    "for i in mobile:\n",
    "    print(i)\n",
    "    if i == stud_mo:\n",
    "        print('user is registered one')"
   ]
  },
  {
   "cell_type": "code",
   "execution_count": 40,
   "id": "a1d75ede-134c-4f7f-bf15-27ca2e75d2d2",
   "metadata": {},
   "outputs": [
    {
     "name": "stdout",
     "output_type": "stream",
     "text": [
      "123456\n",
      "143423\n",
      "452523\n",
      "3415543\n",
      "23432\n",
      "user is registered one\n",
      "user details available in db\n",
      "course access ['dsa', 'dsm', 'big-data']\n"
     ]
    }
   ],
   "source": [
    "mobile = [123456, 143423, 452523, 3415543, 23432]\n",
    "stud_mo = 23432\n",
    "stud_details = {'mobile': 23432, 'course': ['dsa', 'dsm', 'big-data']}\n",
    "\n",
    "for i in mobile:\n",
    "    print(i)\n",
    "    if i == stud_mo:\n",
    "        print('user is registered one')\n",
    "        if i == stud_details['mobile']:\n",
    "            print('user details available in db')\n",
    "            print('course access', stud_details['course'])"
   ]
  },
  {
   "cell_type": "code",
   "execution_count": 41,
   "id": "04530238-cdbb-4d20-b5c7-3bb45e26ddfd",
   "metadata": {},
   "outputs": [
    {
     "name": "stdout",
     "output_type": "stream",
     "text": [
      "12\n",
      "3\n",
      "4\n",
      "5\n",
      "56\n"
     ]
    }
   ],
   "source": [
    "t = (12, 3,4,5,56)\n",
    "\n",
    "for i in t:\n",
    "    print(i)"
   ]
  },
  {
   "cell_type": "code",
   "execution_count": 54,
   "id": "d51e7be9-19c7-4dec-bc68-16104ef0d848",
   "metadata": {},
   "outputs": [
    {
     "name": "stdout",
     "output_type": "stream",
     "text": [
      "12 not string\n",
      "3 not string\n",
      "4 not string\n",
      "5 not string\n",
      "56 not string\n",
      "sudh\n",
      "kumar\n"
     ]
    }
   ],
   "source": [
    "# extracting values from tuple if type of value is string\n",
    "t = (12, 3,4,5,56, 'sudh','kumar')\n",
    "\n",
    "\n",
    "for i in t:\n",
    "    if type(i) == str:\n",
    "        print(i)\n",
    "    else:\n",
    "        print(f'{i} not string')\n",
    "        "
   ]
  },
  {
   "cell_type": "code",
   "execution_count": 62,
   "id": "7aa85f4c-bf39-4143-a2fa-1bccbe30e566",
   "metadata": {},
   "outputs": [
    {
     "name": "stdout",
     "output_type": "stream",
     "text": [
      "string list: ['sudh', 'kumar']\n",
      "int list: [12, 3, 4, 5, 56]\n",
      "other type list: [2.4]\n"
     ]
    }
   ],
   "source": [
    "# extracting values from tuple if type of value is string\n",
    "t = (12, 3,4,5,56, 'sudh','kumar', 2.4)\n",
    "list_string = []\n",
    "list_int = []\n",
    "list_other_type = []\n",
    "\n",
    "for i in t:\n",
    "    if type(i) == str:\n",
    "        list_string.append(i)\n",
    "    elif type(i) == int:\n",
    "        list_int.append(i)\n",
    "    else:\n",
    "        list_other_type.append(i)\n",
    "    \n",
    "    \n",
    "print(f'string list: {list_string}')\n",
    "print(f'int list: {list_int}')\n",
    "print(f'other type list: {list_other_type}')\n"
   ]
  },
  {
   "cell_type": "code",
   "execution_count": 63,
   "id": "f5726f16-b2bb-4a05-83dd-e70bc0da7a13",
   "metadata": {},
   "outputs": [
    {
     "name": "stdout",
     "output_type": "stream",
     "text": [
      "3\n",
      "4\n",
      "5\n"
     ]
    }
   ],
   "source": [
    "#  SETs\n",
    "s = {3,4,5}\n",
    "\n",
    "for i in s:\n",
    "    print(i)"
   ]
  },
  {
   "cell_type": "code",
   "execution_count": 64,
   "id": "2bfa86ca-745a-4fef-b47a-33e147a92613",
   "metadata": {},
   "outputs": [],
   "source": [
    "d = {'name': 'shad', 'class':['big data','data analytics','data science','DSA','architecture','systems']\n",
    "     ,'mobile_no':5534534, 'email':'sk@gmail.com'}"
   ]
  },
  {
   "cell_type": "code",
   "execution_count": 65,
   "id": "c82146b6-9d88-47fa-a347-50445e13d529",
   "metadata": {},
   "outputs": [
    {
     "data": {
      "text/plain": [
       "{'name': 'shad',\n",
       " 'class': ['big data',\n",
       "  'data analytics',\n",
       "  'data science',\n",
       "  'DSA',\n",
       "  'architecture',\n",
       "  'systems'],\n",
       " 'mobile_no': 5534534,\n",
       " 'email': 'sk@gmail.com'}"
      ]
     },
     "execution_count": 65,
     "metadata": {},
     "output_type": "execute_result"
    }
   ],
   "source": [
    "d"
   ]
  },
  {
   "cell_type": "code",
   "execution_count": 67,
   "id": "6a95aa49-d624-4795-b96b-00c01347a598",
   "metadata": {},
   "outputs": [
    {
     "data": {
      "text/plain": [
       "dict_values(['shad', ['big data', 'data analytics', 'data science', 'DSA', 'architecture', 'systems'], 5534534, 'sk@gmail.com'])"
      ]
     },
     "execution_count": 67,
     "metadata": {},
     "output_type": "execute_result"
    }
   ],
   "source": [
    "d.values()"
   ]
  },
  {
   "cell_type": "code",
   "execution_count": 66,
   "id": "94cb4b12-2ce8-436c-a628-3315ad1ba4dd",
   "metadata": {},
   "outputs": [
    {
     "name": "stdout",
     "output_type": "stream",
     "text": [
      "shad\n",
      "['big data', 'data analytics', 'data science', 'DSA', 'architecture', 'systems']\n",
      "5534534\n",
      "sk@gmail.com\n"
     ]
    }
   ],
   "source": [
    "for i in d.values():\n",
    "    print(i)"
   ]
  },
  {
   "cell_type": "code",
   "execution_count": 68,
   "id": "b3a8ee19-41af-4a29-aacf-ba862c5f3fc8",
   "metadata": {},
   "outputs": [
    {
     "name": "stdout",
     "output_type": "stream",
     "text": [
      "name\n",
      "class\n",
      "mobile_no\n",
      "email\n"
     ]
    }
   ],
   "source": [
    "for i in d.keys():\n",
    "    print(i)"
   ]
  },
  {
   "cell_type": "code",
   "execution_count": 69,
   "id": "fa7792d5-fd76-4ccf-a81d-cd949a9ed136",
   "metadata": {},
   "outputs": [
    {
     "name": "stdout",
     "output_type": "stream",
     "text": [
      "name shad\n",
      "class ['big data', 'data analytics', 'data science', 'DSA', 'architecture', 'systems']\n",
      "mobile_no 5534534\n",
      "email sk@gmail.com\n"
     ]
    }
   ],
   "source": [
    "for i,j in d.items():\n",
    "    print(i,j)"
   ]
  },
  {
   "cell_type": "code",
   "execution_count": 71,
   "id": "3a334e34-a892-4b14-b2ce-4373c9495cf1",
   "metadata": {},
   "outputs": [
    {
     "name": "stdout",
     "output_type": "stream",
     "text": [
      "['big data', 'data analytics', 'data science', 'DSA', 'architecture', 'systems']\n"
     ]
    }
   ],
   "source": [
    "for i in d.values():\n",
    "    if type(i) == list:\n",
    "        print(i)"
   ]
  },
  {
   "cell_type": "code",
   "execution_count": 72,
   "id": "b31a955c-08f6-41c6-83ef-94b67db8bcfa",
   "metadata": {},
   "outputs": [
    {
     "name": "stdout",
     "output_type": "stream",
     "text": [
      "class\n"
     ]
    }
   ],
   "source": [
    "for i,j in d.items():\n",
    "    if type(j) == list:\n",
    "        print(i)"
   ]
  },
  {
   "cell_type": "code",
   "execution_count": 81,
   "id": "c8147aea-cab0-4a18-a4ba-6d5c7986f87c",
   "metadata": {},
   "outputs": [
    {
     "name": "stdin",
     "output_type": "stream",
     "text": [
      "enter subject name to check if it is available DSA\n"
     ]
    },
    {
     "name": "stdout",
     "output_type": "stream",
     "text": [
      "DSA available\n"
     ]
    }
   ],
   "source": [
    "subject = input('enter subject name to check if it is available')\n",
    "for i in d.values():\n",
    "    if type(i) == list:\n",
    "        if subject in i:\n",
    "            print(f'{subject} available')\n",
    "        else:\n",
    "            print('not available')"
   ]
  },
  {
   "cell_type": "code",
   "execution_count": 82,
   "id": "00da6a43-5791-406d-bca1-f721e1d51a86",
   "metadata": {},
   "outputs": [
    {
     "name": "stdout",
     "output_type": "stream",
     "text": [
      "big data\n",
      "data analytics\n",
      "data science\n",
      "DSA\n",
      "architecture\n",
      "systems\n"
     ]
    }
   ],
   "source": [
    "for i in d.values():\n",
    "    if type(i) == list:\n",
    "        for j in i:\n",
    "            print(j)\n",
    "        "
   ]
  },
  {
   "cell_type": "code",
   "execution_count": null,
   "id": "d940c261-7c6f-40b2-bed4-e84aa184befe",
   "metadata": {},
   "outputs": [],
   "source": []
  }
 ],
 "metadata": {
  "kernelspec": {
   "display_name": "Python 3 (ipykernel)",
   "language": "python",
   "name": "python3"
  },
  "language_info": {
   "codemirror_mode": {
    "name": "ipython",
    "version": 3
   },
   "file_extension": ".py",
   "mimetype": "text/x-python",
   "name": "python",
   "nbconvert_exporter": "python",
   "pygments_lexer": "ipython3",
   "version": "3.10.8"
  }
 },
 "nbformat": 4,
 "nbformat_minor": 5
}
