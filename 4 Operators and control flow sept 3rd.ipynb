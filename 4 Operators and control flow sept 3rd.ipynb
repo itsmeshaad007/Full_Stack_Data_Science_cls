{
 "cells": [
  {
   "cell_type": "markdown",
   "id": "c9a941cc-2f65-4b5d-8c94-cd6e9fd9ab52",
   "metadata": {},
   "source": [
    "# Logical operators"
   ]
  },
  {
   "cell_type": "markdown",
   "id": "2c46750b-8acb-4a6d-a34c-21d6ec44de80",
   "metadata": {},
   "source": [
    "and \n",
    "or \n",
    "not\n"
   ]
  },
  {
   "cell_type": "code",
   "execution_count": 2,
   "id": "ccee5136-4fff-47ab-93fe-9be3a129f03c",
   "metadata": {},
   "outputs": [],
   "source": [
    "a = 10\n",
    "b = 20"
   ]
  },
  {
   "cell_type": "code",
   "execution_count": 3,
   "id": "fa99145b-dd79-41bf-95df-958a1905fc86",
   "metadata": {},
   "outputs": [
    {
     "data": {
      "text/plain": [
       "False"
      ]
     },
     "execution_count": 3,
     "metadata": {},
     "output_type": "execute_result"
    }
   ],
   "source": [
    "((a>10) and (b > 20))"
   ]
  },
  {
   "cell_type": "code",
   "execution_count": null,
   "id": "efa8274f-631f-4c2c-abea-4fac252cff1f",
   "metadata": {},
   "outputs": [],
   "source": [
    "1 1 1\n",
    "1 0 0\n",
    "0 1 0\n",
    "0 0 0\n",
    "\n",
    "#and"
   ]
  },
  {
   "cell_type": "code",
   "execution_count": 4,
   "id": "dead3cea-6e22-4149-976e-94da42f95965",
   "metadata": {},
   "outputs": [
    {
     "data": {
      "text/plain": [
       "True"
      ]
     },
     "execution_count": 4,
     "metadata": {},
     "output_type": "execute_result"
    }
   ],
   "source": [
    "((a>1) and (b > 2))"
   ]
  },
  {
   "cell_type": "code",
   "execution_count": 5,
   "id": "84d9cd37-cf02-40a0-83a0-d665e90367c7",
   "metadata": {},
   "outputs": [
    {
     "name": "stdout",
     "output_type": "stream",
     "text": [
      "True\n"
     ]
    }
   ],
   "source": [
    "print( True and True)"
   ]
  },
  {
   "cell_type": "code",
   "execution_count": 6,
   "id": "54126ea7-c420-406b-9fa5-aab0c01fe15d",
   "metadata": {},
   "outputs": [
    {
     "name": "stdout",
     "output_type": "stream",
     "text": [
      "False\n"
     ]
    }
   ],
   "source": [
    "print( False and True)"
   ]
  },
  {
   "cell_type": "code",
   "execution_count": null,
   "id": "59b96d63-6c2d-438f-83c8-5f6ca9983469",
   "metadata": {},
   "outputs": [],
   "source": [
    "1 1 1\n",
    "1 0 1\n",
    "0 1 1\n",
    "0 0 0\n",
    "\n",
    "#or"
   ]
  },
  {
   "cell_type": "code",
   "execution_count": 7,
   "id": "9d4cf8db-cb69-4243-8121-edca86ec087f",
   "metadata": {},
   "outputs": [
    {
     "data": {
      "text/plain": [
       "False"
      ]
     },
     "execution_count": 7,
     "metadata": {},
     "output_type": "execute_result"
    }
   ],
   "source": [
    "((a>10) or (b > 20))"
   ]
  },
  {
   "cell_type": "code",
   "execution_count": 8,
   "id": "7d5798d3-fcc1-4291-b6ea-7f878230e8f7",
   "metadata": {},
   "outputs": [
    {
     "data": {
      "text/plain": [
       "True"
      ]
     },
     "execution_count": 8,
     "metadata": {},
     "output_type": "execute_result"
    }
   ],
   "source": [
    "((a>1) or (b > 20))"
   ]
  },
  {
   "cell_type": "code",
   "execution_count": 9,
   "id": "42b1042e-ac23-4871-8e9e-7bef63bfe6cb",
   "metadata": {},
   "outputs": [
    {
     "name": "stdout",
     "output_type": "stream",
     "text": [
      "True\n"
     ]
    }
   ],
   "source": [
    "print( False or True)"
   ]
  },
  {
   "cell_type": "code",
   "execution_count": 10,
   "id": "4e329d18-7dd5-4124-a1e0-986785dde679",
   "metadata": {},
   "outputs": [
    {
     "name": "stdout",
     "output_type": "stream",
     "text": [
      "False\n"
     ]
    }
   ],
   "source": [
    "print( False or False)"
   ]
  },
  {
   "cell_type": "code",
   "execution_count": 11,
   "id": "6bf2882c-bd14-4d14-b233-c123ff259309",
   "metadata": {},
   "outputs": [],
   "source": [
    "a = True"
   ]
  },
  {
   "cell_type": "code",
   "execution_count": 12,
   "id": "930b198a-1ead-4571-9a18-ec4deb83b804",
   "metadata": {},
   "outputs": [
    {
     "data": {
      "text/plain": [
       "False"
      ]
     },
     "execution_count": 12,
     "metadata": {},
     "output_type": "execute_result"
    }
   ],
   "source": [
    "not(a)"
   ]
  },
  {
   "cell_type": "code",
   "execution_count": 13,
   "id": "b8a36207-ee25-4dbd-9b3d-a3cf45e07ab8",
   "metadata": {},
   "outputs": [],
   "source": [
    "a = False"
   ]
  },
  {
   "cell_type": "code",
   "execution_count": 14,
   "id": "d1360f5d-a00a-4124-82be-3247851bd534",
   "metadata": {},
   "outputs": [
    {
     "data": {
      "text/plain": [
       "True"
      ]
     },
     "execution_count": 14,
     "metadata": {},
     "output_type": "execute_result"
    }
   ],
   "source": [
    "not(a)"
   ]
  },
  {
   "cell_type": "code",
   "execution_count": null,
   "id": "23f99276-1a37-4a92-9291-b6c102e6d461",
   "metadata": {},
   "outputs": [],
   "source": [
    "& --- and \n",
    "| --- or\n",
    "^ --- xor\n",
    "~ ----negation\n",
    "\n",
    "<< ---left shit\n",
    "\n",
    ">> --- right shit"
   ]
  },
  {
   "cell_type": "code",
   "execution_count": 15,
   "id": "b5a32d99-9f9c-42c9-aa12-b28e8f08219b",
   "metadata": {},
   "outputs": [],
   "source": [
    "a = 10\n",
    "b = 4"
   ]
  },
  {
   "cell_type": "code",
   "execution_count": 16,
   "id": "efcedf3a-7498-4570-958a-bbf1d8ca3a05",
   "metadata": {},
   "outputs": [
    {
     "data": {
      "text/plain": [
       "'0b1010'"
      ]
     },
     "execution_count": 16,
     "metadata": {},
     "output_type": "execute_result"
    }
   ],
   "source": [
    "bin(a) # 1010"
   ]
  },
  {
   "cell_type": "code",
   "execution_count": 17,
   "id": "5d300846-4334-4e66-9de3-9d94f28f977f",
   "metadata": {},
   "outputs": [
    {
     "data": {
      "text/plain": [
       "'0b100'"
      ]
     },
     "execution_count": 17,
     "metadata": {},
     "output_type": "execute_result"
    }
   ],
   "source": [
    "bin(b) # 100"
   ]
  },
  {
   "cell_type": "code",
   "execution_count": 18,
   "id": "22a2bfd2-5b32-464a-bd27-905722bfacef",
   "metadata": {},
   "outputs": [
    {
     "data": {
      "text/plain": [
       "0"
      ]
     },
     "execution_count": 18,
     "metadata": {},
     "output_type": "execute_result"
    }
   ],
   "source": [
    "a & b\n",
    "# 1010\n",
    "# 0100\n",
    "# 0000"
   ]
  },
  {
   "cell_type": "code",
   "execution_count": 19,
   "id": "58a2fd14-1fb0-411b-9428-f0b93dff3368",
   "metadata": {},
   "outputs": [
    {
     "data": {
      "text/plain": [
       "14"
      ]
     },
     "execution_count": 19,
     "metadata": {},
     "output_type": "execute_result"
    }
   ],
   "source": [
    "a | b\n",
    "# 1010\n",
    "# 0100\n",
    "# 1110  -- 2^3 + 2^2 + 2^1 + 0*2^0"
   ]
  },
  {
   "cell_type": "code",
   "execution_count": 20,
   "id": "3ea6c079-8ca3-4952-ade1-942a32503d18",
   "metadata": {},
   "outputs": [
    {
     "data": {
      "text/plain": [
       "14"
      ]
     },
     "execution_count": 20,
     "metadata": {},
     "output_type": "execute_result"
    }
   ],
   "source": [
    "a ^ b\n",
    "# 1010\n",
    "# 0100\n",
    "# 1110"
   ]
  },
  {
   "cell_type": "code",
   "execution_count": 22,
   "id": "24165592-b5f4-4aa9-bde5-70fdcab71078",
   "metadata": {},
   "outputs": [
    {
     "data": {
      "text/plain": [
       "-11"
      ]
     },
     "execution_count": 22,
     "metadata": {},
     "output_type": "execute_result"
    }
   ],
   "source": [
    "~a\n",
    "# 0  1010  10\n",
    "# 1  0101  -5\n",
    "#       to compensate neg, 1s complement + 1 is done\n",
    "#    1010 (one's complement)\n",
    "#       1 (two's complement)\n",
    "#    1011 = 11"
   ]
  },
  {
   "cell_type": "code",
   "execution_count": 23,
   "id": "f1bbd38f-208f-4658-8b17-ea0d410a8af7",
   "metadata": {},
   "outputs": [
    {
     "data": {
      "text/plain": [
       "'0b1000'"
      ]
     },
     "execution_count": 23,
     "metadata": {},
     "output_type": "execute_result"
    }
   ],
   "source": [
    "a = 8\n",
    "bin(a) # 1000"
   ]
  },
  {
   "cell_type": "code",
   "execution_count": 24,
   "id": "126d3323-085d-4dcc-aee1-cef7778a48a1",
   "metadata": {},
   "outputs": [
    {
     "data": {
      "text/plain": [
       "-9"
      ]
     },
     "execution_count": 24,
     "metadata": {},
     "output_type": "execute_result"
    }
   ],
   "source": [
    "~a\n",
    "# 1000  8\n",
    "# 0111  -7\n",
    "# 1000\n",
    "# 0001\n",
    "# 1001  -9\n"
   ]
  },
  {
   "cell_type": "code",
   "execution_count": 25,
   "id": "00833335-e094-4dea-9693-67391181ec70",
   "metadata": {},
   "outputs": [
    {
     "data": {
      "text/plain": [
       "'0b1011'"
      ]
     },
     "execution_count": 25,
     "metadata": {},
     "output_type": "execute_result"
    }
   ],
   "source": [
    "a =11\n",
    "bin(a) # 1011"
   ]
  },
  {
   "cell_type": "code",
   "execution_count": 26,
   "id": "c5bb78a0-b2ec-4622-a328-0853e51d7cf7",
   "metadata": {},
   "outputs": [
    {
     "data": {
      "text/plain": [
       "-12"
      ]
     },
     "execution_count": 26,
     "metadata": {},
     "output_type": "execute_result"
    }
   ],
   "source": [
    "~a\n",
    "# 1011  11\n",
    "# 0100  -4\n",
    "# 1011   one's complement\n",
    "# 0001   +1 for two's complement\n",
    "# 1100  "
   ]
  },
  {
   "cell_type": "code",
   "execution_count": 28,
   "id": "ae84d6c0-7163-48c8-a1af-f8a42e84a637",
   "metadata": {},
   "outputs": [
    {
     "data": {
      "text/plain": [
       "'0b1100'"
      ]
     },
     "execution_count": 28,
     "metadata": {},
     "output_type": "execute_result"
    }
   ],
   "source": [
    "bin(0b1011 +0b0001)"
   ]
  },
  {
   "cell_type": "code",
   "execution_count": 29,
   "id": "75e654f1-78a3-4387-8a7f-870b28f28923",
   "metadata": {},
   "outputs": [],
   "source": [
    "x = [1,2,3,4,5]\n"
   ]
  },
  {
   "cell_type": "code",
   "execution_count": 30,
   "id": "10dee8e1-a348-4053-a5c1-d9799fa53d88",
   "metadata": {},
   "outputs": [
    {
     "data": {
      "text/plain": [
       "True"
      ]
     },
     "execution_count": 30,
     "metadata": {},
     "output_type": "execute_result"
    }
   ],
   "source": [
    "2 in x"
   ]
  },
  {
   "cell_type": "code",
   "execution_count": 31,
   "id": "f1588808-8bc5-4162-a2b5-3c8534ba5f83",
   "metadata": {},
   "outputs": [
    {
     "data": {
      "text/plain": [
       "False"
      ]
     },
     "execution_count": 31,
     "metadata": {},
     "output_type": "execute_result"
    }
   ],
   "source": [
    "7 in x"
   ]
  },
  {
   "cell_type": "code",
   "execution_count": 32,
   "id": "622f2cb1-aa6b-4858-b6bb-32f0d828c7d7",
   "metadata": {},
   "outputs": [],
   "source": [
    "a = 10 # 1010\n"
   ]
  },
  {
   "cell_type": "markdown",
   "id": "652aaf70-cd14-41e2-8814-5611d2f5ca42",
   "metadata": {},
   "source": [
    "##### Multiplier of 2"
   ]
  },
  {
   "cell_type": "code",
   "execution_count": 33,
   "id": "6738096a-1218-4b87-919b-9b1ab81afa2d",
   "metadata": {},
   "outputs": [
    {
     "data": {
      "text/plain": [
       "20"
      ]
     },
     "execution_count": 33,
     "metadata": {},
     "output_type": "execute_result"
    }
   ],
   "source": [
    "a << 1\n",
    "#  1010\n",
    "# 10100   # 20"
   ]
  },
  {
   "cell_type": "code",
   "execution_count": 34,
   "id": "5414f659-449b-4e08-b4e5-8cb3f04f16e4",
   "metadata": {},
   "outputs": [
    {
     "data": {
      "text/plain": [
       "40"
      ]
     },
     "execution_count": 34,
     "metadata": {},
     "output_type": "execute_result"
    }
   ],
   "source": [
    "a << 2"
   ]
  },
  {
   "cell_type": "code",
   "execution_count": 35,
   "id": "bbc058e0-138f-478a-9691-f4e3c0a653be",
   "metadata": {},
   "outputs": [
    {
     "data": {
      "text/plain": [
       "80"
      ]
     },
     "execution_count": 35,
     "metadata": {},
     "output_type": "execute_result"
    }
   ],
   "source": [
    "a << 3"
   ]
  },
  {
   "cell_type": "markdown",
   "id": "996a46e8-b757-4866-a97d-53952ef25a75",
   "metadata": {},
   "source": [
    "##### Division by 2"
   ]
  },
  {
   "cell_type": "code",
   "execution_count": 36,
   "id": "f0a5829c-63e1-4f68-aaf6-24b03919de15",
   "metadata": {},
   "outputs": [
    {
     "data": {
      "text/plain": [
       "5"
      ]
     },
     "execution_count": 36,
     "metadata": {},
     "output_type": "execute_result"
    }
   ],
   "source": [
    "a >> 1"
   ]
  },
  {
   "cell_type": "code",
   "execution_count": 37,
   "id": "9469bbd6-fcf8-44d3-af8c-8c18a2e5267b",
   "metadata": {},
   "outputs": [
    {
     "data": {
      "text/plain": [
       "2"
      ]
     },
     "execution_count": 37,
     "metadata": {},
     "output_type": "execute_result"
    }
   ],
   "source": [
    "a >> 2"
   ]
  },
  {
   "cell_type": "markdown",
   "id": "10b3c07d-df16-484f-8225-a32027ac102b",
   "metadata": {},
   "source": [
    "# Control Flows"
   ]
  },
  {
   "cell_type": "code",
   "execution_count": null,
   "id": "65e0e0e1-3c8c-408c-9849-df146397ba41",
   "metadata": {},
   "outputs": [],
   "source": [
    "if\n",
    "if else\n",
    "if elif else\n"
   ]
  },
  {
   "cell_type": "code",
   "execution_count": 3,
   "id": "0583e13e-bf8e-49f5-ae30-a0eaac9ed2eb",
   "metadata": {},
   "outputs": [],
   "source": [
    "age = 17"
   ]
  },
  {
   "cell_type": "code",
   "execution_count": 4,
   "id": "642ce018-41af-4e98-8936-4b13b51b80ea",
   "metadata": {},
   "outputs": [
    {
     "name": "stdout",
     "output_type": "stream",
     "text": [
      "you cannot drive\n"
     ]
    }
   ],
   "source": [
    "if age>=18:\n",
    "    print(\"you can drive\")\n",
    "else:\n",
    "    print(\"you cannot drive\")"
   ]
  },
  {
   "cell_type": "code",
   "execution_count": 6,
   "id": "388a8c3b-417a-47fb-bedd-e240b8fd2fdd",
   "metadata": {},
   "outputs": [
    {
     "name": "stdout",
     "output_type": "stream",
     "text": [
      "excellent performance your grade is c\n"
     ]
    }
   ],
   "source": [
    "score=35\n",
    "\n",
    "if score >=90:\n",
    "    print(\"excellent performance your grade is A+\")\n",
    "elif score >=80:\n",
    "    print(\"excellent performance your grade is A\")\n",
    "elif score >=70:\n",
    "    print(\"excellent performance your grade is B\")\n",
    "else:\n",
    "    print(\"excellent performance your grade is c\")\n"
   ]
  },
  {
   "cell_type": "code",
   "execution_count": 9,
   "id": "d4196467-64f6-4a05-a7d9-1bd86b5e39fc",
   "metadata": {},
   "outputs": [
    {
     "name": "stdin",
     "output_type": "stream",
     "text": [
      "Please enter the time  21\n"
     ]
    },
    {
     "name": "stdout",
     "output_type": "stream",
     "text": [
      "Evening\n"
     ]
    }
   ],
   "source": [
    "time = int(input(\"Please enter the time \"))\n",
    "    \n",
    "if time < 0:\n",
    "           print(\"Invalid\")\n",
    "elif 0 <= time <= 5:\n",
    "           print(\"Night\")\n",
    "elif 6<= time <= 11:\n",
    "           print(\"Morning\")\n",
    "elif 12 <= time <= 17:\n",
    "           print(\"Afternoon\")\n",
    "elif 18 <= time <= 23:\n",
    "           print(\"Evening\")\n",
    "else:\n",
    "           print(\"Invalid\")"
   ]
  },
  {
   "cell_type": "code",
   "execution_count": 16,
   "id": "ad1649f8-f8f4-4e73-af89-db61b80ececc",
   "metadata": {},
   "outputs": [
    {
     "name": "stdout",
     "output_type": "stream",
     "text": [
      "largest: 4\n"
     ]
    }
   ],
   "source": [
    "# ind the largest number from 3 given number\n",
    "a = 2\n",
    "b = 4\n",
    "c = 2\n",
    "\n",
    "if (a>=b) and (a>=c):\n",
    "    largest = a\n",
    "    print(f' largest: {largest}')\n",
    "elif (b>c) and (b>a):\n",
    "    largest = b\n",
    "    print(f'largest: {largest}')\n",
    "else:\n",
    "    largest = c\n",
    "    print(f'largest: {largest}')\n",
    "          \n",
    "  "
   ]
  },
  {
   "cell_type": "code",
   "execution_count": 25,
   "id": "7092dafc-cd71-4d9e-9c88-16de14dbdfb1",
   "metadata": {},
   "outputs": [
    {
     "name": "stdin",
     "output_type": "stream",
     "text": [
      "enter operation: add for addition, sub for subtraction, mul for multiplication, div for division divvv\n"
     ]
    },
    {
     "name": "stdout",
     "output_type": "stream",
     "text": [
      "re-run the code\n"
     ]
    }
   ],
   "source": [
    "# Simple calculator\n",
    "operation = input('enter operation: add for addition, sub for subtraction, mul for multiplication, div for division')\n",
    "\n",
    "        \n",
    "temp = ['add','sub','mul','div']\n",
    "if operation not in temp:\n",
    "    print('re-run the code')\n",
    "else:\n",
    "    a = int(input('enter a'))\n",
    "    b = int(input('enter b'))\n",
    "    if operation == 'add':\n",
    "        print(f'sum is: {a+b}')\n",
    "    elif operation == 'sub':\n",
    "        print(f'sum is: {a-b}')\n",
    "    elif operation == 'mul':\n",
    "        print(f'sum is: {a*b}')\n",
    "    elif operation == 'div':\n",
    "        print(f'sum is: {a/b}')\n"
   ]
  },
  {
   "cell_type": "code",
   "execution_count": 31,
   "id": "5ea1f385-29a0-44c9-801d-feec8402ce29",
   "metadata": {},
   "outputs": [
    {
     "name": "stdout",
     "output_type": "stream",
     "text": [
      "number is negitive\n"
     ]
    }
   ],
   "source": [
    "num=-10\n",
    "\n",
    "if (num >= 0):\n",
    "    if num == 0:\n",
    "        print(\"number is 0\")\n",
    "    else:\n",
    "        print(\"number is positive\")\n",
    "else:\n",
    "    print(\"number is negitive\")"
   ]
  },
  {
   "cell_type": "markdown",
   "id": "5de6f596-0eb2-44f6-8408-017339f81490",
   "metadata": {},
   "source": [
    "# FOR LOOP"
   ]
  },
  {
   "cell_type": "code",
   "execution_count": 32,
   "id": "76cd3aeb-2f74-417e-8494-c48c87d4b91a",
   "metadata": {},
   "outputs": [
    {
     "data": {
      "text/plain": [
       "range(0, 10)"
      ]
     },
     "execution_count": 32,
     "metadata": {},
     "output_type": "execute_result"
    }
   ],
   "source": [
    "range(0, 10)"
   ]
  },
  {
   "cell_type": "code",
   "execution_count": 33,
   "id": "ad78930f-87ff-4cad-bbc3-a151767d6574",
   "metadata": {},
   "outputs": [
    {
     "data": {
      "text/plain": [
       "[0, 1, 2, 3, 4]"
      ]
     },
     "execution_count": 33,
     "metadata": {},
     "output_type": "execute_result"
    }
   ],
   "source": [
    "list(range(5))"
   ]
  },
  {
   "cell_type": "code",
   "execution_count": 34,
   "id": "6dd9f825-f245-4a05-a1f1-7c3b13ebf762",
   "metadata": {},
   "outputs": [
    {
     "data": {
      "text/plain": [
       "[1, 2, 3, 4]"
      ]
     },
     "execution_count": 34,
     "metadata": {},
     "output_type": "execute_result"
    }
   ],
   "source": [
    "list(range(1, 5))"
   ]
  },
  {
   "cell_type": "code",
   "execution_count": 36,
   "id": "70697637-e7d4-41ba-849c-cbdff1d3639b",
   "metadata": {},
   "outputs": [
    {
     "data": {
      "text/plain": [
       "[1, 3, 5]"
      ]
     },
     "execution_count": 36,
     "metadata": {},
     "output_type": "execute_result"
    }
   ],
   "source": [
    "list(range(1, 6, 2))"
   ]
  },
  {
   "cell_type": "code",
   "execution_count": 37,
   "id": "e136edab-5aca-4771-9fd7-081ee9eeb7eb",
   "metadata": {},
   "outputs": [
    {
     "data": {
      "text/plain": [
       "[2, 3, 4, 5, 6, 7, 8, 9]"
      ]
     },
     "execution_count": 37,
     "metadata": {},
     "output_type": "execute_result"
    }
   ],
   "source": [
    "list(range(2,10))"
   ]
  },
  {
   "cell_type": "code",
   "execution_count": 43,
   "id": "63b07499-58bc-41c1-aa1d-a3e46dee111a",
   "metadata": {},
   "outputs": [
    {
     "data": {
      "text/plain": [
       "[45, 50, 55, 60, 65, 70, 75, 80]"
      ]
     },
     "execution_count": 43,
     "metadata": {},
     "output_type": "execute_result"
    }
   ],
   "source": [
    "list(range(45, 85, 5))"
   ]
  },
  {
   "cell_type": "markdown",
   "id": "6565ad22-190c-4da5-9e8b-370c15cce7a0",
   "metadata": {},
   "source": [
    "# For loop "
   ]
  },
  {
   "cell_type": "code",
   "execution_count": 51,
   "id": "1fdc8a5f-bff4-4ae2-9d24-bab84a3e9fea",
   "metadata": {},
   "outputs": [
    {
     "name": "stdout",
     "output_type": "stream",
     "text": [
      "0 1 2\n",
      "1 2 3\n",
      "2 3 4\n",
      "3 4 5\n",
      "4 5 6\n"
     ]
    }
   ],
   "source": [
    "# range(5) is iterable object\n",
    "# i is iterator\n",
    "for i in range(5):\n",
    "    print(i, i + 1, i+2)"
   ]
  },
  {
   "cell_type": "code",
   "execution_count": 52,
   "id": "e55abc03-12c0-4838-8193-bd985f5c259f",
   "metadata": {},
   "outputs": [
    {
     "name": "stdout",
     "output_type": "stream",
     "text": [
      "0 0 0\n",
      "1 1 0\n",
      "2 2 0\n",
      "3 3 0\n",
      "4 4 0\n",
      "0 1 0\n",
      "1 2 1\n",
      "2 3 2\n",
      "3 4 3\n",
      "4 5 4\n"
     ]
    }
   ],
   "source": [
    "for j in range(2):\n",
    "    for i in range(5):\n",
    "        print(i, i + j, i*j)"
   ]
  },
  {
   "cell_type": "code",
   "execution_count": 53,
   "id": "dd1e6a9b-4819-42f6-a32d-fcb3afce79db",
   "metadata": {},
   "outputs": [
    {
     "name": "stdout",
     "output_type": "stream",
     "text": [
      "a\n",
      "b\n",
      "c\n"
     ]
    }
   ],
   "source": [
    "for ivar in ['a','b','c']:\n",
    "    print(ivar)"
   ]
  },
  {
   "cell_type": "code",
   "execution_count": 54,
   "id": "fd8c3fc9-dde8-48e2-bcf1-d789f4d08696",
   "metadata": {},
   "outputs": [],
   "source": [
    "x={\"name\":\"imran\",\"city\":\"bangalore\"}"
   ]
  },
  {
   "cell_type": "code",
   "execution_count": 56,
   "id": "0b5b6e2c-55dc-4160-9b14-01927e8c7d53",
   "metadata": {},
   "outputs": [
    {
     "name": "stdout",
     "output_type": "stream",
     "text": [
      "imran\n",
      "bangalore\n"
     ]
    }
   ],
   "source": [
    "for i in x.values():\n",
    "    print(i)"
   ]
  },
  {
   "cell_type": "code",
   "execution_count": 57,
   "id": "f178a910-e063-408c-8e45-7d886302e3a4",
   "metadata": {},
   "outputs": [
    {
     "name": "stdout",
     "output_type": "stream",
     "text": [
      "name\n",
      "city\n"
     ]
    }
   ],
   "source": [
    "for i in x.keys():\n",
    "    print(i)"
   ]
  },
  {
   "cell_type": "code",
   "execution_count": 58,
   "id": "673a4276-9dcf-476e-bfce-99afec6a6381",
   "metadata": {},
   "outputs": [
    {
     "name": "stdout",
     "output_type": "stream",
     "text": [
      "india\n",
      "uk\n",
      "germenry\n"
     ]
    }
   ],
   "source": [
    "country=[\"india\",\"uk\",\"germenry\"]\n",
    "\n",
    "for ct in country:\n",
    "    print(ct)"
   ]
  },
  {
   "cell_type": "code",
   "execution_count": 60,
   "id": "0c1a8556-4881-4a6d-a244-2e88591c972a",
   "metadata": {},
   "outputs": [
    {
     "name": "stdout",
     "output_type": "stream",
     "text": [
      "india\n",
      "uk\n",
      "germenry\n"
     ]
    }
   ],
   "source": [
    "country=[\"india\",\"uk\",\"germenry\"]\n",
    "\n",
    "for index in range(len(country)):\n",
    "    print(country[index])"
   ]
  },
  {
   "cell_type": "code",
   "execution_count": 67,
   "id": "a62694a2-bea6-4119-a89c-a2fd73d106e3",
   "metadata": {},
   "outputs": [
    {
     "name": "stdout",
     "output_type": "stream",
     "text": [
      "\n",
      "\n",
      "x\n",
      "x\n",
      "xx\n",
      "xx\n"
     ]
    }
   ],
   "source": [
    "for j in range(3):\n",
    "    for i in range(2):\n",
    "        print('x'*j)"
   ]
  },
  {
   "cell_type": "code",
   "execution_count": 68,
   "id": "ec6ce227-6a83-4724-892f-94716ca90650",
   "metadata": {},
   "outputs": [],
   "source": [
    "dict1={\"x1\":1,\"x2\":2,\"x3\":3}"
   ]
  },
  {
   "cell_type": "code",
   "execution_count": 71,
   "id": "2f281d08-4bbc-40a3-869a-ad16250f6e0e",
   "metadata": {},
   "outputs": [
    {
     "name": "stdout",
     "output_type": "stream",
     "text": [
      "x1\n",
      "x2\n",
      "x3\n"
     ]
    }
   ],
   "source": [
    "for i in dict1.keys():\n",
    "    print(i, sep = '' )"
   ]
  },
  {
   "cell_type": "code",
   "execution_count": 74,
   "id": "962ee080-5ee1-4c6b-868c-f3404c4099c8",
   "metadata": {},
   "outputs": [
    {
     "name": "stdout",
     "output_type": "stream",
     "text": [
      "x1\n",
      "x2\n",
      "x3\n"
     ]
    }
   ],
   "source": [
    "for key in dict1:\n",
    "    print(key)"
   ]
  },
  {
   "cell_type": "code",
   "execution_count": 73,
   "id": "dd49569a-4bb2-40b5-bf43-b9acada062e6",
   "metadata": {},
   "outputs": [
    {
     "name": "stdout",
     "output_type": "stream",
     "text": [
      "x1 1\n",
      "x2 2\n",
      "x3 3\n"
     ]
    }
   ],
   "source": [
    "for key in dict1:\n",
    "    print(key, dict1[key])"
   ]
  },
  {
   "cell_type": "code",
   "execution_count": 75,
   "id": "86602aab-8559-4851-9a25-ed3b72850b14",
   "metadata": {},
   "outputs": [
    {
     "name": "stdout",
     "output_type": "stream",
     "text": [
      "1\n",
      "2\n",
      "3\n"
     ]
    }
   ],
   "source": [
    "for i in {1,2,3}:\n",
    "    print(i)"
   ]
  },
  {
   "cell_type": "code",
   "execution_count": 76,
   "id": "d5dfaa15-4618-46d6-bfaf-76d79e70d310",
   "metadata": {},
   "outputs": [
    {
     "name": "stdout",
     "output_type": "stream",
     "text": [
      "p\n",
      "w\n",
      "s\n",
      "k\n",
      "i\n",
      "l\n",
      "l\n",
      "s\n"
     ]
    }
   ],
   "source": [
    "x=\"pwskills\"\n",
    "\n",
    "for i in x:\n",
    "    print(i)"
   ]
  },
  {
   "cell_type": "code",
   "execution_count": 77,
   "id": "e8bc1201-0d0d-403e-a4ea-25aa5ffcf3ec",
   "metadata": {},
   "outputs": [
    {
     "name": "stdout",
     "output_type": "stream",
     "text": [
      "[0, 1, 2, 3, 4, 5, 6, 7, 8, 9]\n"
     ]
    }
   ],
   "source": [
    "print(list(range(10)))"
   ]
  },
  {
   "cell_type": "code",
   "execution_count": 84,
   "id": "df5f7dea-dee9-4482-b5f5-bcb114d335d1",
   "metadata": {},
   "outputs": [
    {
     "name": "stdout",
     "output_type": "stream",
     "text": [
      "hi pw skills ineuron "
     ]
    }
   ],
   "source": [
    "print(\"hi\",end = ' ' )\n",
    "print(\"pw\", end=' ')\n",
    "print(\"skills\",end = ' ')\n",
    "print(\"ineuron\",end=' ')"
   ]
  },
  {
   "cell_type": "code",
   "execution_count": 85,
   "id": "832b207d-75c6-4693-a455-764fc7eaad7c",
   "metadata": {},
   "outputs": [
    {
     "name": "stdout",
     "output_type": "stream",
     "text": [
      "hi@ pw@ skills @ineuron @"
     ]
    }
   ],
   "source": [
    "print(\"hi\",end = '@ ' )\n",
    "print(\"pw\", end='@ ')\n",
    "print(\"skills\",end = ' @')\n",
    "print(\"ineuron\",end=' @')"
   ]
  },
  {
   "cell_type": "code",
   "execution_count": 81,
   "id": "1a532363-8b48-4d00-b527-d6b63bade456",
   "metadata": {},
   "outputs": [
    {
     "ename": "TypeError",
     "evalue": "'int' object is not iterable",
     "output_type": "error",
     "traceback": [
      "\u001b[0;31m---------------------------------------------------------------------------\u001b[0m",
      "\u001b[0;31mTypeError\u001b[0m                                 Traceback (most recent call last)",
      "Cell \u001b[0;32mIn[81], line 1\u001b[0m\n\u001b[0;32m----> 1\u001b[0m \u001b[38;5;28;01mfor\u001b[39;00m i \u001b[38;5;129;01min\u001b[39;00m \u001b[38;5;241m23\u001b[39m:\n\u001b[1;32m      2\u001b[0m     \u001b[38;5;28mprint\u001b[39m(i)\n",
      "\u001b[0;31mTypeError\u001b[0m: 'int' object is not iterable"
     ]
    }
   ],
   "source": [
    "for i in 23:\n",
    "    print(i)"
   ]
  },
  {
   "cell_type": "code",
   "execution_count": 82,
   "id": "66516d1b-c10a-4479-b36d-826c85e77490",
   "metadata": {},
   "outputs": [
    {
     "name": "stdout",
     "output_type": "stream",
     "text": [
      "0 1 2 3 4 5 6 7 8 9 "
     ]
    }
   ],
   "source": [
    "for i in range(10):\n",
    "    print(i,end=' ')"
   ]
  },
  {
   "cell_type": "markdown",
   "id": "15d02126-97a5-48cb-a9cd-cf32048e7447",
   "metadata": {},
   "source": [
    "### Else can be used along with for"
   ]
  },
  {
   "cell_type": "code",
   "execution_count": 1,
   "id": "20eff50b-9734-45f3-bf5c-4d5c8250eefc",
   "metadata": {},
   "outputs": [
    {
     "name": "stdout",
     "output_type": "stream",
     "text": [
      "0\n",
      "1\n",
      "2\n",
      "3\n",
      "4\n",
      "done\n"
     ]
    }
   ],
   "source": [
    "for i in range(5):\n",
    "    print(i)\n",
    "else:\n",
    "    print(\"done\")"
   ]
  },
  {
   "cell_type": "code",
   "execution_count": 12,
   "id": "d25849fd-5947-4c3c-b5bc-31825c5013e3",
   "metadata": {},
   "outputs": [
    {
     "data": {
      "text/plain": [
       "[-5, -4, -3, -2]"
      ]
     },
     "execution_count": 12,
     "metadata": {},
     "output_type": "execute_result"
    }
   ],
   "source": [
    "list(range(-5, -1))"
   ]
  },
  {
   "cell_type": "code",
   "execution_count": 14,
   "id": "a32c5893-9f27-49bd-87a6-00cdce96aff6",
   "metadata": {},
   "outputs": [
    {
     "name": "stdout",
     "output_type": "stream",
     "text": [
      "* \n",
      "* * \n",
      "* * * \n",
      "* * * * \n",
      "* * * * * \n"
     ]
    }
   ],
   "source": [
    "for i in range(5):   # for rows\n",
    "    for j in range(i + 1): # for columns\n",
    "        print(\"*\", end = ' ')\n",
    "    print()\n",
    "        "
   ]
  },
  {
   "cell_type": "code",
   "execution_count": 16,
   "id": "4f1cae38-2ff4-40d0-a9f5-7993be7af502",
   "metadata": {},
   "outputs": [
    {
     "data": {
      "text/plain": [
       "[5, 4, 3, 2, 1]"
      ]
     },
     "execution_count": 16,
     "metadata": {},
     "output_type": "execute_result"
    }
   ],
   "source": [
    "list(range(5, 0, -1))"
   ]
  },
  {
   "cell_type": "code",
   "execution_count": 21,
   "id": "d050e409-1bc5-4636-a6fc-37a0cb4a7d98",
   "metadata": {},
   "outputs": [
    {
     "name": "stdout",
     "output_type": "stream",
     "text": [
      "* * * * * \n",
      "* * * * \n",
      "* * * \n",
      "* * \n",
      "* \n"
     ]
    }
   ],
   "source": [
    "for i in range(5, 0 , -1):   # for rows\n",
    "    for j in range(i): # for columns\n",
    "        print(\"*\", end = ' ')\n",
    "    print()"
   ]
  },
  {
   "cell_type": "code",
   "execution_count": 27,
   "id": "99536bc0-166e-4d55-8771-8cf8d2239788",
   "metadata": {},
   "outputs": [
    {
     "name": "stdout",
     "output_type": "stream",
     "text": [
      "* * * * * \n",
      "* * * * \n",
      "* * * \n",
      "* * \n",
      "* \n"
     ]
    }
   ],
   "source": [
    "for i in range(5,0,-1):\n",
    "    for j in range(i,0,-1):\n",
    "        print(\"*\", end = \" \")\n",
    "    print()\n"
   ]
  },
  {
   "cell_type": "code",
   "execution_count": 32,
   "id": "06ddbfe7-2800-4171-a0c6-9f75df49e8b0",
   "metadata": {},
   "outputs": [
    {
     "name": "stdout",
     "output_type": "stream",
     "text": [
      "1 2 3 4 5 \n",
      "2 4 6 8 10 \n",
      "3 6 9 12 15 \n",
      "4 8 12 16 20 \n",
      "5 10 15 20 25 \n"
     ]
    }
   ],
   "source": [
    "for i in range(1, 6):\n",
    "    for j in range(1, 6):\n",
    "        print(i*j, end = ' ')\n",
    "    print()"
   ]
  },
  {
   "cell_type": "code",
   "execution_count": 18,
   "id": "78eab47c-004f-4eaa-98df-ac794da0d14f",
   "metadata": {},
   "outputs": [
    {
     "name": "stdin",
     "output_type": "stream",
     "text": [
      "enter a password word quit\n"
     ]
    },
    {
     "name": "stdout",
     "output_type": "stream",
     "text": [
      "correct\n"
     ]
    }
   ],
   "source": [
    "text = ' '\n",
    "\n",
    "for i in range(1, 4):\n",
    "    if text != 'quit':\n",
    "        text = input('enter a password word')\n",
    "\n",
    "    else:\n",
    "        print('correct')\n",
    "        break"
   ]
  },
  {
   "cell_type": "markdown",
   "id": "0888183b-306a-49c6-8078-c1442ddcaa89",
   "metadata": {},
   "source": [
    "# While loop\n",
    "\n",
    "##### if nos of iterations are not known then go with while loop"
   ]
  },
  {
   "cell_type": "code",
   "execution_count": 2,
   "id": "79c2f9a9-9605-41a9-81f3-2b045505643f",
   "metadata": {},
   "outputs": [
    {
     "name": "stdout",
     "output_type": "stream",
     "text": [
      "1\n",
      "2\n",
      "3\n",
      "4\n",
      "5\n"
     ]
    }
   ],
   "source": [
    "count = 1\n",
    "\n",
    "while count <= 5:\n",
    "    print(count)\n",
    "    count +=1"
   ]
  },
  {
   "cell_type": "code",
   "execution_count": 4,
   "id": "c2cd0a9f-c9ec-42db-84cc-14e3995d614c",
   "metadata": {},
   "outputs": [
    {
     "name": "stdin",
     "output_type": "stream",
     "text": [
      "enter a password word dfsd\n",
      "enter a password word quit\n"
     ]
    }
   ],
   "source": [
    "text = ' '\n",
    "\n",
    "while text != 'quit':\n",
    "    text = input('enter a password word')"
   ]
  },
  {
   "cell_type": "markdown",
   "id": "1ec99d71-fb1b-488f-b4ef-393d87139b95",
   "metadata": {},
   "source": [
    "if you know how times you will iterate go with for loop\n",
    "\n",
    "if you dont know how times you will iterate go with while loop"
   ]
  },
  {
   "cell_type": "code",
   "execution_count": 1,
   "id": "b9b0af42-a172-4d59-a19c-bba3ca685ecb",
   "metadata": {},
   "outputs": [
    {
     "name": "stdin",
     "output_type": "stream",
     "text": [
      "enter number 34\n",
      "enter number 23\n"
     ]
    }
   ],
   "source": [
    "age = 0\n",
    "\n",
    "while age != 23:\n",
    "    age = int(input('enter number'))\n",
    "    "
   ]
  },
  {
   "cell_type": "code",
   "execution_count": 9,
   "id": "f1699286-fe85-4fde-bf65-8b452e9afc88",
   "metadata": {},
   "outputs": [
    {
     "name": "stdin",
     "output_type": "stream",
     "text": [
      "enter number 54\n",
      "enter number 54\n",
      "enter number 54\n",
      "enter number 54\n",
      "enter number 23\n"
     ]
    },
    {
     "name": "stdout",
     "output_type": "stream",
     "text": [
      "age in the list\n"
     ]
    }
   ],
   "source": [
    "age_list = [23,24,25]\n",
    "age = 0\n",
    "while age not in age_list:\n",
    "    age = int(input('enter number'))\n",
    "    \n",
    "else:\n",
    "    print('age in the list')\n",
    "   "
   ]
  },
  {
   "cell_type": "code",
   "execution_count": null,
   "id": "c1ebb409-db29-4962-bb0c-28d0873558de",
   "metadata": {},
   "outputs": [],
   "source": []
  }
 ],
 "metadata": {
  "kernelspec": {
   "display_name": "Python 3 (ipykernel)",
   "language": "python",
   "name": "python3"
  },
  "language_info": {
   "codemirror_mode": {
    "name": "ipython",
    "version": 3
   },
   "file_extension": ".py",
   "mimetype": "text/x-python",
   "name": "python",
   "nbconvert_exporter": "python",
   "pygments_lexer": "ipython3",
   "version": "3.10.8"
  }
 },
 "nbformat": 4,
 "nbformat_minor": 5
}
