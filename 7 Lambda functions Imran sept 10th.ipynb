{
 "cells": [
  {
   "cell_type": "markdown",
   "id": "b9d66767-546f-459a-af01-06cd1c5237cd",
   "metadata": {},
   "source": [
    "# 10 Sept 2023"
   ]
  },
  {
   "cell_type": "markdown",
   "id": "f072ab77-f15d-4f6f-a2e6-d39c8b600515",
   "metadata": {},
   "source": [
    "### Lambda function"
   ]
  },
  {
   "cell_type": "code",
   "execution_count": 1,
   "id": "aea07286-f990-451b-b631-934c04b8491e",
   "metadata": {},
   "outputs": [],
   "source": [
    "def greet():\n",
    "    message = 'hello'\n",
    "    \n",
    "    print('local',message)"
   ]
  },
  {
   "cell_type": "code",
   "execution_count": 2,
   "id": "20da138b-5b99-4d46-a85e-af6484d81c75",
   "metadata": {},
   "outputs": [
    {
     "name": "stdout",
     "output_type": "stream",
     "text": [
      "local hello\n"
     ]
    }
   ],
   "source": [
    "greet()"
   ]
  },
  {
   "cell_type": "code",
   "execution_count": 3,
   "id": "28c87eb6-88d5-4b70-a5f2-0a8c1815c5db",
   "metadata": {},
   "outputs": [
    {
     "ename": "NameError",
     "evalue": "name 'message' is not defined",
     "output_type": "error",
     "traceback": [
      "\u001b[0;31m---------------------------------------------------------------------------\u001b[0m",
      "\u001b[0;31mNameError\u001b[0m                                 Traceback (most recent call last)",
      "Cell \u001b[0;32mIn[3], line 6\u001b[0m\n\u001b[1;32m      2\u001b[0m     message \u001b[38;5;241m=\u001b[39m \u001b[38;5;124m'\u001b[39m\u001b[38;5;124mhello\u001b[39m\u001b[38;5;124m'\u001b[39m\n\u001b[1;32m      4\u001b[0m     \u001b[38;5;28mprint\u001b[39m(\u001b[38;5;124m'\u001b[39m\u001b[38;5;124mlocal\u001b[39m\u001b[38;5;124m'\u001b[39m,message)\n\u001b[0;32m----> 6\u001b[0m \u001b[38;5;28mprint\u001b[39m(\u001b[43mmessage\u001b[49m)\n\u001b[1;32m      7\u001b[0m greet()\n",
      "\u001b[0;31mNameError\u001b[0m: name 'message' is not defined"
     ]
    }
   ],
   "source": [
    "def greet():\n",
    "    message = 'hello'\n",
    "    \n",
    "    print('local',message)\n",
    "    \n",
    "print(message) # message is local function\n",
    "greet()"
   ]
  },
  {
   "cell_type": "code",
   "execution_count": 4,
   "id": "b91fb868-86b5-466f-91f7-0f039c00c8bd",
   "metadata": {},
   "outputs": [
    {
     "ename": "NameError",
     "evalue": "name 'a' is not defined",
     "output_type": "error",
     "traceback": [
      "\u001b[0;31m---------------------------------------------------------------------------\u001b[0m",
      "\u001b[0;31mNameError\u001b[0m                                 Traceback (most recent call last)",
      "Cell \u001b[0;32mIn[4], line 6\u001b[0m\n\u001b[1;32m      3\u001b[0m     b \u001b[38;5;241m=\u001b[39m \u001b[38;5;241m20\u001b[39m\n\u001b[1;32m      4\u001b[0m     \u001b[38;5;28mprint\u001b[39m(a\u001b[38;5;241m+\u001b[39mb)\n\u001b[0;32m----> 6\u001b[0m \u001b[38;5;28mprint\u001b[39m(\u001b[43ma\u001b[49m)\n",
      "\u001b[0;31mNameError\u001b[0m: name 'a' is not defined"
     ]
    }
   ],
   "source": [
    "def add():\n",
    "    a = 1\n",
    "    b = 20\n",
    "    print(a+b)\n",
    "    \n",
    "print(a) # a is local variable"
   ]
  },
  {
   "cell_type": "code",
   "execution_count": 5,
   "id": "862b80df-cd3b-4ede-94fa-5c5f1028960b",
   "metadata": {},
   "outputs": [
    {
     "name": "stdout",
     "output_type": "stream",
     "text": [
      "python is fantastic\n",
      "awesome\n"
     ]
    }
   ],
   "source": [
    "x= \"awesome\"\n",
    "#global scope\n",
    "\n",
    "def myfunc():\n",
    "    x=\"fantastic\"\n",
    "    #local scope\n",
    "    print(\"python is \" + x)\n",
    "    \n",
    "myfunc()  # x here is fantastic \n",
    "print(x)  # x is global variable"
   ]
  },
  {
   "cell_type": "markdown",
   "id": "8d17851a-48f9-40d2-8ab0-6138ce8b3a2c",
   "metadata": {},
   "source": [
    "### Global variable can work inside the function"
   ]
  },
  {
   "cell_type": "code",
   "execution_count": 1,
   "id": "07ecee73-8b89-4f6c-95e5-ced5027bc2e1",
   "metadata": {},
   "outputs": [],
   "source": [
    "x=20\n",
    "\n",
    "def add():\n",
    "    \n",
    "    y=30\n",
    "    print(\"local variable y=\",y)\n",
    "    \n",
    "    print(\"global variable x=\", x)\n",
    "    \n",
    "    z= x+y\n",
    "    print(z)\n",
    "    \n",
    "def sub():\n",
    "    m = 10\n",
    "    print('local variable m=',m)\n",
    "    \n",
    "    print('global variable x=',x)"
   ]
  },
  {
   "cell_type": "code",
   "execution_count": 2,
   "id": "19a64bd7-9a24-4431-852b-47819c511b31",
   "metadata": {},
   "outputs": [
    {
     "name": "stdout",
     "output_type": "stream",
     "text": [
      "local variable y= 30\n",
      "global variable x= 20\n",
      "50\n"
     ]
    }
   ],
   "source": [
    "add()"
   ]
  },
  {
   "cell_type": "code",
   "execution_count": 3,
   "id": "fa422078-8b1f-45f0-b1e9-e410128b8aea",
   "metadata": {},
   "outputs": [
    {
     "name": "stdout",
     "output_type": "stream",
     "text": [
      "local variable m= 10\n",
      "global variable x= 20\n"
     ]
    }
   ],
   "source": [
    "sub()"
   ]
  },
  {
   "cell_type": "markdown",
   "id": "8856507e-c8ee-4eaa-9d60-f41dc6ebf63a",
   "metadata": {},
   "source": [
    "#### Python function arguments"
   ]
  },
  {
   "cell_type": "code",
   "execution_count": 10,
   "id": "c70ac245-560f-4d0f-9cf7-e52481b88ee7",
   "metadata": {},
   "outputs": [],
   "source": [
    "def add_numbers(a, b):\n",
    "    print('sum:', a+b)"
   ]
  },
  {
   "cell_type": "code",
   "execution_count": 11,
   "id": "9fdb1f3e-e2f7-4971-9d72-d5b9763306b7",
   "metadata": {},
   "outputs": [
    {
     "name": "stdout",
     "output_type": "stream",
     "text": [
      "sum: 8\n"
     ]
    }
   ],
   "source": [
    "add_numbers(3, 5)"
   ]
  },
  {
   "cell_type": "code",
   "execution_count": 12,
   "id": "878cf257-aa75-4662-b8b9-3b609764bdb2",
   "metadata": {},
   "outputs": [],
   "source": [
    "def emp_name(name):\n",
    "    print('my name is, ', name)"
   ]
  },
  {
   "cell_type": "code",
   "execution_count": 13,
   "id": "d9ba9a59-9d1d-444b-9a30-43d671392a7b",
   "metadata": {},
   "outputs": [
    {
     "name": "stdout",
     "output_type": "stream",
     "text": [
      "my name is,  shaad\n"
     ]
    }
   ],
   "source": [
    "emp_name('shaad')"
   ]
  },
  {
   "cell_type": "markdown",
   "id": "7058c0ef-51dc-45f2-b1d7-a9acb549879a",
   "metadata": {},
   "source": [
    "#### Default arguments"
   ]
  },
  {
   "cell_type": "code",
   "execution_count": 14,
   "id": "dad4e914-f754-41dd-aba0-e8c861afe0b8",
   "metadata": {},
   "outputs": [],
   "source": [
    "def add_numbers(a = 4, b = 8):\n",
    "    sum = a+b\n",
    "    print('sum', sum)"
   ]
  },
  {
   "cell_type": "code",
   "execution_count": 16,
   "id": "d595b711-4a60-4cd0-aa70-2603b5efd186",
   "metadata": {},
   "outputs": [
    {
     "name": "stdout",
     "output_type": "stream",
     "text": [
      "sum 12\n"
     ]
    }
   ],
   "source": [
    "add_numbers()"
   ]
  },
  {
   "cell_type": "code",
   "execution_count": 23,
   "id": "b44d25c5-cfbb-4ba2-9648-a44f7ce709e8",
   "metadata": {},
   "outputs": [
    {
     "name": "stdout",
     "output_type": "stream",
     "text": [
      "sum 103\n"
     ]
    }
   ],
   "source": [
    "add_numbers(b=99) "
   ]
  },
  {
   "cell_type": "code",
   "execution_count": 17,
   "id": "457544a7-c188-4fa6-adc9-30a271ba1e06",
   "metadata": {},
   "outputs": [
    {
     "name": "stdout",
     "output_type": "stream",
     "text": [
      "sum 70\n"
     ]
    }
   ],
   "source": [
    "add_numbers(50, 20)"
   ]
  },
  {
   "cell_type": "code",
   "execution_count": 20,
   "id": "1f30d66d-69ce-4c47-8f30-2ab0c19fa92c",
   "metadata": {},
   "outputs": [],
   "source": [
    "def emp_name(name = 'shadman'):\n",
    "    print('my name is, ', name)"
   ]
  },
  {
   "cell_type": "code",
   "execution_count": 21,
   "id": "687b886b-da5a-4bc6-9af6-e0cb93e77f3c",
   "metadata": {},
   "outputs": [
    {
     "name": "stdout",
     "output_type": "stream",
     "text": [
      "my name is,  shadman\n"
     ]
    }
   ],
   "source": [
    "emp_name()"
   ]
  },
  {
   "cell_type": "code",
   "execution_count": 22,
   "id": "c11f9ac9-6b87-4b93-bc86-b4e64d053859",
   "metadata": {},
   "outputs": [
    {
     "name": "stdout",
     "output_type": "stream",
     "text": [
      "my name is,  Shaad\n"
     ]
    }
   ],
   "source": [
    "emp_name('Shaad')"
   ]
  },
  {
   "cell_type": "markdown",
   "id": "308c6de5-97c9-419c-8e71-7ea546ce7ca7",
   "metadata": {},
   "source": [
    "### Keyword arguments"
   ]
  },
  {
   "cell_type": "code",
   "execution_count": null,
   "id": "074b7a87-5fc5-45bb-bb4a-a27d210f9d54",
   "metadata": {},
   "outputs": [],
   "source": [
    "def display_info(first_name, last_name):\n",
    "    print('first name: ',first_name)\n",
    "    print('last name: ',last_name)"
   ]
  },
  {
   "cell_type": "code",
   "execution_count": 25,
   "id": "551c4aaa-2533-4315-86df-14e780934047",
   "metadata": {},
   "outputs": [
    {
     "name": "stdout",
     "output_type": "stream",
     "text": [
      "first name:  shad\n",
      "last name:  ansari\n"
     ]
    }
   ],
   "source": [
    "display_info('shad', 'ansari')"
   ]
  },
  {
   "cell_type": "code",
   "execution_count": 26,
   "id": "9a41e667-66e5-475c-8b90-0e3fb92decd4",
   "metadata": {},
   "outputs": [
    {
     "name": "stdout",
     "output_type": "stream",
     "text": [
      "first name:  shad\n",
      "last name:  ansari\n"
     ]
    }
   ],
   "source": [
    "display_info(first_name= 'shad',last_name= 'ansari')"
   ]
  },
  {
   "cell_type": "code",
   "execution_count": 29,
   "id": "c408d0da-7b65-4d8e-92db-3fa4574bafa5",
   "metadata": {},
   "outputs": [
    {
     "name": "stdout",
     "output_type": "stream",
     "text": [
      "first name:  ansari\n",
      "last name:  shad\n"
     ]
    }
   ],
   "source": [
    "display_info(last_name= 'shad',first_name= 'ansari')"
   ]
  },
  {
   "cell_type": "code",
   "execution_count": 31,
   "id": "06d3fcd2-aa36-41dc-99c0-e13659cd973d",
   "metadata": {},
   "outputs": [],
   "source": [
    "def add_num(a, b):\n",
    "    print('sum:', a+b)"
   ]
  },
  {
   "cell_type": "code",
   "execution_count": 32,
   "id": "97655c6b-2ea7-41f6-8478-29412fe7f477",
   "metadata": {},
   "outputs": [
    {
     "name": "stdout",
     "output_type": "stream",
     "text": [
      "sum: 40\n"
     ]
    }
   ],
   "source": [
    "add_num(a = 10, b = 30)"
   ]
  },
  {
   "cell_type": "code",
   "execution_count": 33,
   "id": "b30b743a-5d60-4245-a178-ebc0eb9b73e7",
   "metadata": {},
   "outputs": [
    {
     "name": "stdout",
     "output_type": "stream",
     "text": [
      "sum: 40\n"
     ]
    }
   ],
   "source": [
    "add_num(b = 10, a = 30)"
   ]
  },
  {
   "cell_type": "markdown",
   "id": "6347ab79-d60f-48cd-b61b-3a540936e330",
   "metadata": {},
   "source": [
    "#### *args and **kargs\n",
    "when function don't know how many arguments function seek from user"
   ]
  },
  {
   "cell_type": "code",
   "execution_count": 38,
   "id": "755224f8-6374-44c0-940f-7dd7bc7e46ab",
   "metadata": {},
   "outputs": [],
   "source": [
    "def find_num(*numbers):  # * user can pass any number of numbers\n",
    "    result = 0\n",
    "    \n",
    "    for num in numbers:\n",
    "        result+=num\n",
    "    print('sum ', result)"
   ]
  },
  {
   "cell_type": "code",
   "execution_count": 39,
   "id": "4ed45796-e027-4779-9b67-f476d5af7028",
   "metadata": {},
   "outputs": [
    {
     "name": "stdout",
     "output_type": "stream",
     "text": [
      "sum  0\n"
     ]
    }
   ],
   "source": [
    "find_num()"
   ]
  },
  {
   "cell_type": "code",
   "execution_count": 40,
   "id": "e82a1918-f705-48b9-899e-eb23ce1d1401",
   "metadata": {},
   "outputs": [
    {
     "name": "stdout",
     "output_type": "stream",
     "text": [
      "sum  6\n"
     ]
    }
   ],
   "source": [
    "find_num(3, 1, 2)"
   ]
  },
  {
   "cell_type": "code",
   "execution_count": 43,
   "id": "acb1de09-4ef2-4e92-9323-4c081d411f6f",
   "metadata": {},
   "outputs": [
    {
     "name": "stdout",
     "output_type": "stream",
     "text": [
      "sum  25\n"
     ]
    }
   ],
   "source": [
    "find_num(3, 1, 2, 4,2,6,7) # any number of values can be inputed"
   ]
  },
  {
   "cell_type": "code",
   "execution_count": 44,
   "id": "432ba1d4-c535-4aa5-b420-93f92f533a3e",
   "metadata": {},
   "outputs": [],
   "source": [
    "def find_num(*numbers):  # * user can pass any number of numbers\n",
    "    \n",
    "    print(numbers)"
   ]
  },
  {
   "cell_type": "code",
   "execution_count": 47,
   "id": "3ffbe796-28e1-4b6f-be5d-b38be5e794de",
   "metadata": {},
   "outputs": [
    {
     "name": "stdout",
     "output_type": "stream",
     "text": [
      "(1, 2, 4, 7)\n"
     ]
    },
    {
     "data": {
      "text/plain": [
       "NoneType"
      ]
     },
     "execution_count": 47,
     "metadata": {},
     "output_type": "execute_result"
    }
   ],
   "source": [
    "a= find_num(1, 2,4,7)\n",
    "type(a)  # why not tuple"
   ]
  },
  {
   "cell_type": "code",
   "execution_count": 63,
   "id": "6ab90ea8-d867-4ca8-b7e9-0889a35a01a4",
   "metadata": {},
   "outputs": [],
   "source": [
    "### ** is used to pass keyword argument in the form of dictionary"
   ]
  },
  {
   "cell_type": "code",
   "execution_count": 64,
   "id": "cd4f491b-8e29-4aa5-ae78-7b7a7272b680",
   "metadata": {},
   "outputs": [],
   "source": [
    "def intro(**data):\n",
    "    print('data type of argument: ',type(data))\n",
    "    \n",
    "    for key, value in data.items():\n",
    "        print(key, value)\n",
    "        "
   ]
  },
  {
   "cell_type": "code",
   "execution_count": 65,
   "id": "879f1f16-46dd-42ee-b3fc-2bced53a241b",
   "metadata": {},
   "outputs": [],
   "source": [
    "x = {'a':1, 'b':2}"
   ]
  },
  {
   "cell_type": "code",
   "execution_count": 66,
   "id": "38945487-4718-4498-a595-9cbb6400180a",
   "metadata": {},
   "outputs": [
    {
     "data": {
      "text/plain": [
       "dict_items([('a', 1), ('b', 2)])"
      ]
     },
     "execution_count": 66,
     "metadata": {},
     "output_type": "execute_result"
    }
   ],
   "source": [
    "x.items()"
   ]
  },
  {
   "cell_type": "code",
   "execution_count": 67,
   "id": "6db06f5a-5260-4da6-b2e2-eb1fcf1f3803",
   "metadata": {},
   "outputs": [
    {
     "name": "stdout",
     "output_type": "stream",
     "text": [
      "data type of argument:  <class 'dict'>\n",
      "first_name pw\n",
      "last_name skills\n"
     ]
    }
   ],
   "source": [
    "intro(first_name = 'pw', last_name = 'skills')\n",
    "# first_name is key, 'pw' is value\n",
    "# last_name is key, 'skills' is value"
   ]
  },
  {
   "cell_type": "code",
   "execution_count": 81,
   "id": "87cccfc9-dddd-4396-ae53-d87f1b1a5220",
   "metadata": {},
   "outputs": [],
   "source": [
    "def simple(**x):\n",
    "    print(x)"
   ]
  },
  {
   "cell_type": "code",
   "execution_count": 82,
   "id": "40f99937-4e7e-4e89-9853-5d0e20ba2654",
   "metadata": {},
   "outputs": [
    {
     "name": "stdout",
     "output_type": "stream",
     "text": [
      "{'name': 'shad', 'age': 24, 'id': 23}\n"
     ]
    }
   ],
   "source": [
    "simple(name = 'shad', age=24, id = 23)"
   ]
  },
  {
   "cell_type": "code",
   "execution_count": 83,
   "id": "cac13254-6990-4a5f-a079-f5ceeabcbd62",
   "metadata": {},
   "outputs": [],
   "source": [
    "def simple(**x):\n",
    "    return x"
   ]
  },
  {
   "cell_type": "code",
   "execution_count": 84,
   "id": "8c5d6694-b0f1-4913-86d8-8d856a7679e2",
   "metadata": {},
   "outputs": [
    {
     "data": {
      "text/plain": [
       "{'sg': 2, 'hs': 7}"
      ]
     },
     "execution_count": 84,
     "metadata": {},
     "output_type": "execute_result"
    }
   ],
   "source": [
    "simple(sg = 2, hs = 7)"
   ]
  },
  {
   "cell_type": "code",
   "execution_count": 85,
   "id": "a4c622bf-500c-496a-a2f5-beb5b853868c",
   "metadata": {},
   "outputs": [],
   "source": [
    "def showkeyvalue(**y):\n",
    "    print(y)"
   ]
  },
  {
   "cell_type": "code",
   "execution_count": 86,
   "id": "f71d2d43-b696-443d-b949-e0cc57d7fb57",
   "metadata": {},
   "outputs": [
    {
     "name": "stdout",
     "output_type": "stream",
     "text": [
      "{'x': 1, 'y': 2, 'name': 'pgs'}\n"
     ]
    }
   ],
   "source": [
    "showkeyvalue(x = 1, y = 2, name='pgs')"
   ]
  },
  {
   "cell_type": "markdown",
   "id": "408ec6c5-204e-4a8c-8d72-05831e52bb97",
   "metadata": {},
   "source": [
    "# Lambda function"
   ]
  },
  {
   "cell_type": "code",
   "execution_count": 88,
   "id": "9065f974-f945-4de6-8fed-8977b40e9827",
   "metadata": {},
   "outputs": [],
   "source": [
    "# Anonymous function without any name"
   ]
  },
  {
   "cell_type": "code",
   "execution_count": 89,
   "id": "3f933037-ac39-4fbc-a957-9d1b2d9faf80",
   "metadata": {},
   "outputs": [],
   "source": [
    "# lambda arguments: expression"
   ]
  },
  {
   "cell_type": "code",
   "execution_count": 92,
   "id": "0977f227-2675-412a-8f58-3062f474589d",
   "metadata": {},
   "outputs": [
    {
     "name": "stdout",
     "output_type": "stream",
     "text": [
      "hi world\n"
     ]
    }
   ],
   "source": [
    "greet = lambda: print('hi world')\n",
    "greet()"
   ]
  },
  {
   "cell_type": "code",
   "execution_count": 93,
   "id": "587925d0-344d-4d2b-a0d4-2a38bcfeecfe",
   "metadata": {},
   "outputs": [
    {
     "name": "stdout",
     "output_type": "stream",
     "text": [
      "programming is fun\n"
     ]
    }
   ],
   "source": [
    "x = lambda: print('programming is fun')\n",
    "x()"
   ]
  },
  {
   "cell_type": "code",
   "execution_count": 98,
   "id": "0ee2f6f8-1988-4d39-8bb8-81f1e673e39c",
   "metadata": {},
   "outputs": [],
   "source": [
    "add_num = lambda a, b: a+b"
   ]
  },
  {
   "cell_type": "code",
   "execution_count": 99,
   "id": "46b79041-1250-4eb3-8317-09d892c9dbd1",
   "metadata": {},
   "outputs": [
    {
     "data": {
      "text/plain": [
       "5"
      ]
     },
     "execution_count": 99,
     "metadata": {},
     "output_type": "execute_result"
    }
   ],
   "source": [
    "add_num(2, 3)"
   ]
  },
  {
   "cell_type": "code",
   "execution_count": 100,
   "id": "d15160cd-aecb-4d05-9a0c-68ec3c4f6bb4",
   "metadata": {},
   "outputs": [
    {
     "data": {
      "text/plain": [
       "2"
      ]
     },
     "execution_count": 100,
     "metadata": {},
     "output_type": "execute_result"
    }
   ],
   "source": [
    "multi = lambda a, b: a*b\n",
    "multi(1,2)"
   ]
  },
  {
   "cell_type": "code",
   "execution_count": 102,
   "id": "52b4d610-64cf-43b1-bef9-8b5f93bc9d86",
   "metadata": {},
   "outputs": [
    {
     "name": "stdin",
     "output_type": "stream",
     "text": [
      "enter first number 3\n",
      "enter second number 6\n"
     ]
    },
    {
     "data": {
      "text/plain": [
       "(9, 36)"
      ]
     },
     "execution_count": 102,
     "metadata": {},
     "output_type": "execute_result"
    }
   ],
   "source": [
    "a = int(input('enter first number'))\n",
    "b = int(input('enter second number'))\n",
    "\n",
    "square = lambda a, b: (a**2, b**2)\n",
    "square(a,b)"
   ]
  },
  {
   "cell_type": "code",
   "execution_count": 106,
   "id": "05732aef-c214-4fc1-89ca-44be481fab6c",
   "metadata": {},
   "outputs": [
    {
     "ename": "SyntaxError",
     "evalue": "invalid syntax (741473706.py, line 1)",
     "output_type": "error",
     "traceback": [
      "\u001b[0;36m  Cell \u001b[0;32mIn[106], line 1\u001b[0;36m\u001b[0m\n\u001b[0;31m    even_num = lambda n: print(n) for i in n if i %2==0: else: print(i)\u001b[0m\n\u001b[0m                                  ^\u001b[0m\n\u001b[0;31mSyntaxError\u001b[0m\u001b[0;31m:\u001b[0m invalid syntax\n"
     ]
    }
   ],
   "source": [
    "even_num = lambda n: print(n) for i in n if i %2==0: else: print(i)"
   ]
  },
  {
   "cell_type": "code",
   "execution_count": 109,
   "id": "8f9a28e4-2624-4cab-bd6d-c6995a13a13b",
   "metadata": {},
   "outputs": [],
   "source": [
    "def even_odd(limit):\n",
    "    for i in range(1, limit):\n",
    "        if i%2 == 0:\n",
    "            print('even number: ',i)\n",
    "        else:\n",
    "            print('odd number: ',i)"
   ]
  },
  {
   "cell_type": "code",
   "execution_count": 110,
   "id": "46f53722-b8f9-4c76-8eb2-4ad7d6d56535",
   "metadata": {},
   "outputs": [
    {
     "name": "stdout",
     "output_type": "stream",
     "text": [
      "odd number:  1\n",
      "even number:  2\n",
      "odd number:  3\n",
      "even number:  4\n"
     ]
    }
   ],
   "source": [
    "even_odd(5)"
   ]
  },
  {
   "cell_type": "code",
   "execution_count": 112,
   "id": "556b23aa-87ab-4088-9c43-5fead392cf87",
   "metadata": {},
   "outputs": [],
   "source": [
    "def even_odd(n):\n",
    "    if n%2 == 0:\n",
    "        print('number is even')\n",
    "    else:\n",
    "        print('number is odd')"
   ]
  },
  {
   "cell_type": "code",
   "execution_count": 113,
   "id": "130dff19-6a87-4026-9ff5-15f047db7e35",
   "metadata": {},
   "outputs": [
    {
     "name": "stdout",
     "output_type": "stream",
     "text": [
      "number is even\n"
     ]
    }
   ],
   "source": [
    "even_odd(2)"
   ]
  },
  {
   "cell_type": "code",
   "execution_count": 114,
   "id": "0b6f26e6-b7e9-4796-a6f3-4e3aae25b872",
   "metadata": {},
   "outputs": [
    {
     "name": "stdout",
     "output_type": "stream",
     "text": [
      "number is odd\n"
     ]
    }
   ],
   "source": [
    "even_odd(7)"
   ]
  },
  {
   "cell_type": "markdown",
   "id": "618656da-c542-479b-873e-efe348c5df24",
   "metadata": {},
   "source": [
    "### even-odd using lambda"
   ]
  },
  {
   "cell_type": "code",
   "execution_count": 123,
   "id": "a7aac4a5-0056-404b-867e-dd9dff3db28b",
   "metadata": {},
   "outputs": [],
   "source": [
    "odd_even = lambda n: 'even' if n%2 ==0 else 'odd'"
   ]
  },
  {
   "cell_type": "code",
   "execution_count": 124,
   "id": "81f45fe6-5036-4d78-82de-cc39c9cd1e6d",
   "metadata": {},
   "outputs": [
    {
     "data": {
      "text/plain": [
       "'odd'"
      ]
     },
     "execution_count": 124,
     "metadata": {},
     "output_type": "execute_result"
    }
   ],
   "source": [
    "odd_even(3)"
   ]
  },
  {
   "cell_type": "code",
   "execution_count": 125,
   "id": "dd8b73a1-2f8d-4c5a-85d5-cdf00b1947b1",
   "metadata": {},
   "outputs": [
    {
     "data": {
      "text/plain": [
       "'even'"
      ]
     },
     "execution_count": 125,
     "metadata": {},
     "output_type": "execute_result"
    }
   ],
   "source": [
    "odd_even(8)"
   ]
  },
  {
   "cell_type": "code",
   "execution_count": 126,
   "id": "8ed69dd8-5e1b-4094-a388-50e86525a46d",
   "metadata": {},
   "outputs": [],
   "source": [
    "# WAP using lambda that accepts two arguments and returns the greatest number"
   ]
  },
  {
   "cell_type": "code",
   "execution_count": 129,
   "id": "e6329f1e-de76-47bc-83ea-be511df45031",
   "metadata": {},
   "outputs": [],
   "source": [
    "greatest_num = lambda a, b: a if a>b else b"
   ]
  },
  {
   "cell_type": "code",
   "execution_count": 130,
   "id": "aacdd1f9-658e-442d-ac8a-0c8a2dc40579",
   "metadata": {},
   "outputs": [
    {
     "data": {
      "text/plain": [
       "7"
      ]
     },
     "execution_count": 130,
     "metadata": {},
     "output_type": "execute_result"
    }
   ],
   "source": [
    "greatest_num(5,7)"
   ]
  },
  {
   "cell_type": "code",
   "execution_count": 131,
   "id": "902ffef5-a727-4632-8bfe-0716e7ba9750",
   "metadata": {},
   "outputs": [],
   "source": [
    "# WAP using lambda that accepts three arguments and returns the greatest number"
   ]
  },
  {
   "cell_type": "code",
   "execution_count": 132,
   "id": "739d6d5a-d75a-4ef1-9951-68b7315c00ff",
   "metadata": {},
   "outputs": [],
   "source": [
    "greatest_number = lambda a, b, c: max(a,b,c)"
   ]
  },
  {
   "cell_type": "code",
   "execution_count": 134,
   "id": "94b6065b-ee3d-4c2e-9ea6-94a44886d8cd",
   "metadata": {},
   "outputs": [
    {
     "data": {
      "text/plain": [
       "30"
      ]
     },
     "execution_count": 134,
     "metadata": {},
     "output_type": "execute_result"
    }
   ],
   "source": [
    "greatest_number(1,2,30)"
   ]
  },
  {
   "cell_type": "code",
   "execution_count": 135,
   "id": "4256ea86-eced-4733-aa14-022c7f5f085f",
   "metadata": {},
   "outputs": [],
   "source": [
    "sum_three = lambda a, b, c: a+b+c"
   ]
  },
  {
   "cell_type": "code",
   "execution_count": 136,
   "id": "ce361a18-4292-4cab-85fb-55c37acb5b6f",
   "metadata": {},
   "outputs": [
    {
     "data": {
      "text/plain": [
       "9"
      ]
     },
     "execution_count": 136,
     "metadata": {},
     "output_type": "execute_result"
    }
   ],
   "source": [
    "sum_three(3, 1, 5)"
   ]
  },
  {
   "cell_type": "markdown",
   "id": "12cbe002-d8c3-4978-9a13-4c73320eed83",
   "metadata": {},
   "source": [
    "## lambda in Sorted function"
   ]
  },
  {
   "cell_type": "code",
   "execution_count": 151,
   "id": "88329ab7-46ac-42fe-80ff-e91d68664b32",
   "metadata": {},
   "outputs": [
    {
     "data": {
      "text/plain": [
       "80"
      ]
     },
     "execution_count": 151,
     "metadata": {},
     "output_type": "execute_result"
    }
   ],
   "source": [
    "# if you want to access just value of any key-value pair in a dictionary\n",
    "x = {'name': 'product4', 'price': 80}\n",
    "\n",
    "value = lambda x: x['price']\n",
    "value(x)"
   ]
  },
  {
   "cell_type": "code",
   "execution_count": 152,
   "id": "7cce0cbf-feb9-461d-8a23-a8cb495256d4",
   "metadata": {},
   "outputs": [],
   "source": [
    "products = [\n",
    "    {'name':'product1','price':50},\n",
    "    {'name':'product2','price':40},\n",
    "    {'name':'product3','price':30},\n",
    "    {'name':'product4','price':80}\n",
    "]\n",
    "\n",
    "# sorted()\n",
    "\n"
   ]
  },
  {
   "cell_type": "code",
   "execution_count": 153,
   "id": "7ae3b08c-560d-43fb-a791-56a16074a46e",
   "metadata": {},
   "outputs": [
    {
     "data": {
      "text/plain": [
       "[{'name': 'product3', 'price': 30},\n",
       " {'name': 'product2', 'price': 40},\n",
       " {'name': 'product1', 'price': 50},\n",
       " {'name': 'product4', 'price': 80}]"
      ]
     },
     "execution_count": 153,
     "metadata": {},
     "output_type": "execute_result"
    }
   ],
   "source": [
    "sorted(products, key=lambda x: x['price'])\n",
    "# output in the form a list"
   ]
  },
  {
   "cell_type": "code",
   "execution_count": 154,
   "id": "017acaf4-90ae-4f85-836e-cf08a65874d9",
   "metadata": {},
   "outputs": [],
   "source": [
    "sorted_products = sorted(products, key=lambda x: x['name'])"
   ]
  },
  {
   "cell_type": "code",
   "execution_count": 155,
   "id": "73c0627a-a1e1-4053-bbdd-db4a6015cd98",
   "metadata": {},
   "outputs": [
    {
     "name": "stdout",
     "output_type": "stream",
     "text": [
      "{'name': 'product1', 'price': 50}\n",
      "{'name': 'product2', 'price': 40}\n",
      "{'name': 'product3', 'price': 30}\n",
      "{'name': 'product4', 'price': 80}\n"
     ]
    }
   ],
   "source": [
    "for i in sorted_products:\n",
    "    print(i)"
   ]
  },
  {
   "cell_type": "code",
   "execution_count": 156,
   "id": "b40c5f56-4992-4d1d-8473-9d7a53fa124e",
   "metadata": {},
   "outputs": [
    {
     "data": {
      "text/plain": [
       "[{'name': 'product4', 'price': 80},\n",
       " {'name': 'product3', 'price': 30},\n",
       " {'name': 'product2', 'price': 40},\n",
       " {'name': 'product1', 'price': 50}]"
      ]
     },
     "execution_count": 156,
     "metadata": {},
     "output_type": "execute_result"
    }
   ],
   "source": [
    "sorted(products, key=lambda x: x['name'], reverse= True)"
   ]
  },
  {
   "cell_type": "code",
   "execution_count": 157,
   "id": "64674147-f2c9-44ee-98d4-11d912c7df94",
   "metadata": {},
   "outputs": [
    {
     "data": {
      "text/plain": [
       "[1, 2, 4, 6]"
      ]
     },
     "execution_count": 157,
     "metadata": {},
     "output_type": "execute_result"
    }
   ],
   "source": [
    "x = [1,4,6,2]\n",
    "sorted(x)"
   ]
  },
  {
   "cell_type": "code",
   "execution_count": 168,
   "id": "07ad97de-ac01-401a-8d22-c214ccfe4303",
   "metadata": {},
   "outputs": [],
   "source": [
    "dict_ = [{'name': 'shadman', 'roll': 5}\n",
    "        ,{'name': 'nikhil', 'roll': 10}\n",
    "        ,{'name': 'rishabh', 'roll': 3}]"
   ]
  },
  {
   "cell_type": "code",
   "execution_count": 169,
   "id": "9c32046e-f1b1-4a36-8167-c2b9b7cdb3c2",
   "metadata": {},
   "outputs": [
    {
     "data": {
      "text/plain": [
       "[{'name': 'rishabh', 'roll': 3},\n",
       " {'name': 'shadman', 'roll': 5},\n",
       " {'name': 'nikhil', 'roll': 10}]"
      ]
     },
     "execution_count": 169,
     "metadata": {},
     "output_type": "execute_result"
    }
   ],
   "source": [
    "sorted(dict_ , key = lambda x: x['roll'])"
   ]
  },
  {
   "cell_type": "code",
   "execution_count": 170,
   "id": "a818ecf1-15b5-4864-b84c-ed0f757f1479",
   "metadata": {},
   "outputs": [],
   "source": [
    "# wap a lambda expression that accepts a character as argument and return true if it is a vowel else false"
   ]
  },
  {
   "cell_type": "code",
   "execution_count": 176,
   "id": "9928489c-23c2-4975-b3c6-6104873d4fe9",
   "metadata": {},
   "outputs": [
    {
     "name": "stdin",
     "output_type": "stream",
     "text": [
      "enter character g\n"
     ]
    }
   ],
   "source": [
    "string = input('enter character')\n",
    "\n",
    "vowel = ['a','e','i','o','u']\n",
    "\n",
    "vowel_check = lambda string: True if string in vowel else False\n"
   ]
  },
  {
   "cell_type": "code",
   "execution_count": 177,
   "id": "36e4a51d-d5f0-4cc7-963f-5cb4c45251ba",
   "metadata": {},
   "outputs": [
    {
     "data": {
      "text/plain": [
       "False"
      ]
     },
     "execution_count": 177,
     "metadata": {},
     "output_type": "execute_result"
    }
   ],
   "source": [
    "vowel_check(string)"
   ]
  },
  {
   "cell_type": "markdown",
   "id": "bbcadea9-c641-4773-9194-94f3a04bad54",
   "metadata": {},
   "source": [
    "### Filter\n",
    "### map\n",
    "### reduce"
   ]
  },
  {
   "cell_type": "code",
   "execution_count": 4,
   "id": "62457293-ac61-49cb-92e3-49d9b1392dca",
   "metadata": {},
   "outputs": [
    {
     "name": "stdin",
     "output_type": "stream",
     "text": [
      "enter a string fgsadewagd\n"
     ]
    }
   ],
   "source": [
    "vowels = ['a','e','i','o','u']\n",
    "\n",
    "string = input('enter a string').lower()\n",
    "\n",
    "vowels_list = [string[i] for i in range(len(string)) if string[i] in vowels]"
   ]
  },
  {
   "cell_type": "code",
   "execution_count": 5,
   "id": "7cb07472-9905-4527-9202-eb102c1ae4c6",
   "metadata": {},
   "outputs": [
    {
     "data": {
      "text/plain": [
       "['a', 'e', 'a']"
      ]
     },
     "execution_count": 5,
     "metadata": {},
     "output_type": "execute_result"
    }
   ],
   "source": [
    "vowels_list"
   ]
  },
  {
   "cell_type": "code",
   "execution_count": 1,
   "id": "02621bbe-134c-4969-8400-cd0e9e611a17",
   "metadata": {},
   "outputs": [],
   "source": [
    "language=['python','java','javascript']"
   ]
  },
  {
   "cell_type": "code",
   "execution_count": 2,
   "id": "3fc047de-4e45-4cc2-818e-f2985c035118",
   "metadata": {},
   "outputs": [],
   "source": [
    "enumerate_prime= enumerate(language)"
   ]
  },
  {
   "cell_type": "code",
   "execution_count": 3,
   "id": "9be5803d-270b-434f-a677-a049403c8fcd",
   "metadata": {},
   "outputs": [],
   "source": [
    "enumerate_prime= enumerate(language,3)"
   ]
  },
  {
   "cell_type": "code",
   "execution_count": 4,
   "id": "c004db1d-d00a-4469-a6e3-49e1da84a4ae",
   "metadata": {},
   "outputs": [
    {
     "data": {
      "text/plain": [
       "[(3, 'python'), (4, 'java'), (5, 'javascript')]"
      ]
     },
     "execution_count": 4,
     "metadata": {},
     "output_type": "execute_result"
    }
   ],
   "source": [
    "list(enumerate_prime)"
   ]
  },
  {
   "cell_type": "markdown",
   "id": "63ee5af1-24d0-4298-91be-55b437a862ce",
   "metadata": {},
   "source": [
    "### List comprehension\n",
    "\n",
    "[output | collection | Condition]"
   ]
  },
  {
   "cell_type": "code",
   "execution_count": 7,
   "id": "55ce2101-a834-401f-94a2-ecd2b7cbbb1b",
   "metadata": {},
   "outputs": [],
   "source": [
    "lst=[1,2,3,4,5,6,7,8,9,10]"
   ]
  },
  {
   "cell_type": "code",
   "execution_count": 8,
   "id": "4556180a-0b51-48f3-b425-59951d19be6e",
   "metadata": {},
   "outputs": [],
   "source": [
    " # New list from the existing list"
   ]
  },
  {
   "cell_type": "code",
   "execution_count": 12,
   "id": "a8d5ff1a-4276-486a-b23e-04b8c1f35366",
   "metadata": {},
   "outputs": [],
   "source": [
    "b = [x for x in range(5) if x%2 != 0]"
   ]
  },
  {
   "cell_type": "code",
   "execution_count": 13,
   "id": "f7b597b8-601a-4df8-a45c-37bce587e6ec",
   "metadata": {},
   "outputs": [
    {
     "data": {
      "text/plain": [
       "[1, 3]"
      ]
     },
     "execution_count": 13,
     "metadata": {},
     "output_type": "execute_result"
    }
   ],
   "source": [
    "b"
   ]
  },
  {
   "cell_type": "code",
   "execution_count": 14,
   "id": "da1c4f44-ddb9-464a-b3b5-6ec686bdf251",
   "metadata": {},
   "outputs": [],
   "source": [
    "a = [x for x in range(5) if x%2 ==0 ]"
   ]
  },
  {
   "cell_type": "code",
   "execution_count": 15,
   "id": "5e32eaeb-5663-42a2-8734-f655db177635",
   "metadata": {},
   "outputs": [
    {
     "data": {
      "text/plain": [
       "[0, 2, 4]"
      ]
     },
     "execution_count": 15,
     "metadata": {},
     "output_type": "execute_result"
    }
   ],
   "source": [
    "a"
   ]
  },
  {
   "cell_type": "code",
   "execution_count": 20,
   "id": "e60471e6-915d-4a9a-97ae-9e9d0fc1e2cd",
   "metadata": {},
   "outputs": [],
   "source": [
    "a = [x for x in lst if x in [3, 5]]"
   ]
  },
  {
   "cell_type": "code",
   "execution_count": 21,
   "id": "ee49ad1b-9d61-4a9f-93a4-203c20d897b1",
   "metadata": {},
   "outputs": [
    {
     "data": {
      "text/plain": [
       "[3, 5]"
      ]
     },
     "execution_count": 21,
     "metadata": {},
     "output_type": "execute_result"
    }
   ],
   "source": [
    "a"
   ]
  },
  {
   "cell_type": "code",
   "execution_count": 22,
   "id": "19f76367-7d81-4c95-9adc-d2d94abd9c34",
   "metadata": {},
   "outputs": [
    {
     "data": {
      "text/plain": [
       "[1, 2, 3, 4, 5, 6, 7, 8, 9, 10]"
      ]
     },
     "execution_count": 22,
     "metadata": {},
     "output_type": "execute_result"
    }
   ],
   "source": [
    "list_ = []\n",
    "\n",
    "for i in lst:\n",
    "    list_.append(i)\n",
    "\n",
    "list_"
   ]
  },
  {
   "cell_type": "code",
   "execution_count": 23,
   "id": "3cf22a8b-7b31-4110-92a5-06880f346208",
   "metadata": {},
   "outputs": [
    {
     "data": {
      "text/plain": [
       "[2, 3, 4, 5, 6, 7, 8, 9, 10, 11]"
      ]
     },
     "execution_count": 23,
     "metadata": {},
     "output_type": "execute_result"
    }
   ],
   "source": [
    "[x+1 for x in lst]"
   ]
  },
  {
   "cell_type": "markdown",
   "id": "a4d531d0-57b5-4021-b140-73bb781bc872",
   "metadata": {},
   "source": []
  },
  {
   "cell_type": "code",
   "execution_count": 29,
   "id": "b834a880-5f96-43ed-9fb4-452ab90cc405",
   "metadata": {},
   "outputs": [
    {
     "data": {
      "text/plain": [
       "[False, False, False, False, 5, 6, 7, 8, 9, 10]"
      ]
     },
     "execution_count": 29,
     "metadata": {},
     "output_type": "execute_result"
    }
   ],
   "source": []
  },
  {
   "cell_type": "markdown",
   "id": "cbb6d24c-1e64-4584-a011-29f305b0c933",
   "metadata": {},
   "source": [
    "### ODD numbers"
   ]
  },
  {
   "cell_type": "code",
   "execution_count": 31,
   "id": "c4b34c44-5c59-4d91-84db-77aa53e816e0",
   "metadata": {},
   "outputs": [
    {
     "data": {
      "text/plain": [
       "[2, 4, 6, 8, 10]"
      ]
     },
     "execution_count": 31,
     "metadata": {},
     "output_type": "execute_result"
    }
   ],
   "source": [
    "[x for x in lst if x%2 == 0]"
   ]
  },
  {
   "cell_type": "code",
   "execution_count": 32,
   "id": "272700c9-23d4-4368-a2d7-b1f7b55d9ca7",
   "metadata": {},
   "outputs": [
    {
     "data": {
      "text/plain": [
       "[1, 3, 5, 7, 9]"
      ]
     },
     "execution_count": 32,
     "metadata": {},
     "output_type": "execute_result"
    }
   ],
   "source": [
    "[x for x in lst if x%2 != 0]"
   ]
  },
  {
   "cell_type": "code",
   "execution_count": 33,
   "id": "401617c9-5310-441d-b86b-d80af4e7deb6",
   "metadata": {},
   "outputs": [],
   "source": [
    "## X should be greater than 4 and even number"
   ]
  },
  {
   "cell_type": "code",
   "execution_count": 34,
   "id": "bf3c200c-7953-41db-b932-53422ae63d4c",
   "metadata": {},
   "outputs": [],
   "source": [
    "a = []\n",
    "\n",
    "for x in lst:\n",
    "    if x>4 and x%2 == 0:\n",
    "        a.append(x)"
   ]
  },
  {
   "cell_type": "code",
   "execution_count": 35,
   "id": "399ecea8-e444-475d-8dba-38126cacec0c",
   "metadata": {},
   "outputs": [
    {
     "data": {
      "text/plain": [
       "[6, 8, 10]"
      ]
     },
     "execution_count": 35,
     "metadata": {},
     "output_type": "execute_result"
    }
   ],
   "source": [
    "a"
   ]
  },
  {
   "cell_type": "markdown",
   "id": "d8b750a7-d066-4ebd-b777-6c4a3e901773",
   "metadata": {},
   "source": [
    "## using list comprehension"
   ]
  },
  {
   "cell_type": "code",
   "execution_count": 37,
   "id": "b3e5ba39-fa24-4d55-8a46-2e016e770b11",
   "metadata": {},
   "outputs": [
    {
     "data": {
      "text/plain": [
       "[6, 8, 10]"
      ]
     },
     "execution_count": 37,
     "metadata": {},
     "output_type": "execute_result"
    }
   ],
   "source": [
    "[x for x in lst if x> 4 if x%2 == 0]"
   ]
  },
  {
   "cell_type": "markdown",
   "id": "84697689-6b29-47e2-804a-e8cb19e87dc1",
   "metadata": {},
   "source": [
    "## If else in list comprehension\n",
    "##### for comes after if-else in list comprehension"
   ]
  },
  {
   "cell_type": "code",
   "execution_count": 39,
   "id": "94f6e6c8-1633-484d-b3a2-ef28bb1f9c6e",
   "metadata": {},
   "outputs": [
    {
     "data": {
      "text/plain": [
       "[False, False, False, False, 5, 6, 7, 8, 9, 10]"
      ]
     },
     "execution_count": 39,
     "metadata": {},
     "output_type": "execute_result"
    }
   ],
   "source": [
    "[x  if x > 4 else False for x in lst]"
   ]
  },
  {
   "cell_type": "code",
   "execution_count": 42,
   "id": "ec0227ba-4111-4086-95d1-7bc699be4c6b",
   "metadata": {},
   "outputs": [
    {
     "data": {
      "text/plain": [
       "['less than 4', 'less than 4', 'less than 4', 'less than 4', 5, 6, 7, 8, 9, 10]"
      ]
     },
     "execution_count": 42,
     "metadata": {},
     "output_type": "execute_result"
    }
   ],
   "source": [
    "[x if x > 4 else 'less than 4' for x in lst]"
   ]
  },
  {
   "cell_type": "code",
   "execution_count": 48,
   "id": "e2e209ba-c2fa-41af-8b8b-267b9c435431",
   "metadata": {},
   "outputs": [
    {
     "data": {
      "text/plain": [
       "['less than 4', 'less than 4', 'less than 4', 'less than 4', 5, 6, 7, 8, 9, 10]"
      ]
     },
     "execution_count": 48,
     "metadata": {},
     "output_type": "execute_result"
    }
   ],
   "source": [
    "a= []\n",
    "\n",
    "for i in lst:\n",
    "    if i > 4:\n",
    "        a.append(i)\n",
    "    else:\n",
    "        a.append('less than 4')\n",
    "        \n",
    "a"
   ]
  },
  {
   "cell_type": "code",
   "execution_count": 54,
   "id": "568711fd-d691-45e7-8172-60b642d35d65",
   "metadata": {},
   "outputs": [],
   "source": [
    "f = ['two' if x%2 == 0 else 'three' if x%3 ==0 else 'not 2 & 3' for x in lst]"
   ]
  },
  {
   "cell_type": "code",
   "execution_count": 55,
   "id": "d7e06f64-cc91-4f7c-8fad-9186a10e3664",
   "metadata": {},
   "outputs": [
    {
     "data": {
      "text/plain": [
       "['not 2 & 3',\n",
       " 'two',\n",
       " 'three',\n",
       " 'two',\n",
       " 'not 2 & 3',\n",
       " 'two',\n",
       " 'not 2 & 3',\n",
       " 'two',\n",
       " 'three',\n",
       " 'two']"
      ]
     },
     "execution_count": 55,
     "metadata": {},
     "output_type": "execute_result"
    }
   ],
   "source": [
    "f"
   ]
  },
  {
   "cell_type": "code",
   "execution_count": 52,
   "id": "3ef9c2f1-8610-4221-994c-8e1c68a9a070",
   "metadata": {},
   "outputs": [],
   "source": [
    "a = []\n",
    "\n",
    "for i in lst:\n",
    "    if i%2 == 0:\n",
    "        a.append('two')\n",
    "    elif i%3 == 0:\n",
    "        a.append('three')\n",
    "    else:\n",
    "        a.append('not 2 and 3')"
   ]
  },
  {
   "cell_type": "code",
   "execution_count": 53,
   "id": "65a8cb01-1373-40d1-96f0-dc4e3c18ac22",
   "metadata": {},
   "outputs": [
    {
     "data": {
      "text/plain": [
       "['not 2 and 3',\n",
       " 'two',\n",
       " 'three',\n",
       " 'two',\n",
       " 'not 2 and 3',\n",
       " 'two',\n",
       " 'not 2 and 3',\n",
       " 'two',\n",
       " 'three',\n",
       " 'two']"
      ]
     },
     "execution_count": 53,
     "metadata": {},
     "output_type": "execute_result"
    }
   ],
   "source": [
    "a"
   ]
  },
  {
   "cell_type": "code",
   "execution_count": null,
   "id": "2bc90654-8739-48ac-8c3a-f0c5694653a3",
   "metadata": {},
   "outputs": [],
   "source": []
  }
 ],
 "metadata": {
  "kernelspec": {
   "display_name": "Python 3 (ipykernel)",
   "language": "python",
   "name": "python3"
  },
  "language_info": {
   "codemirror_mode": {
    "name": "ipython",
    "version": 3
   },
   "file_extension": ".py",
   "mimetype": "text/x-python",
   "name": "python",
   "nbconvert_exporter": "python",
   "pygments_lexer": "ipython3",
   "version": "3.10.8"
  }
 },
 "nbformat": 4,
 "nbformat_minor": 5
}
