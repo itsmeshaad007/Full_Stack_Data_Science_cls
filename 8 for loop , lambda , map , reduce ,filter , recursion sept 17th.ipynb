{
 "cells": [
  {
   "cell_type": "markdown",
   "id": "ff86b6ca-ba90-4d95-8596-ccc179846b95",
   "metadata": {},
   "source": [
    "type()\n",
    "print()\n",
    "len()\n",
    "range()"
   ]
  },
  {
   "cell_type": "code",
   "execution_count": 2,
   "id": "4fefed71-c7ba-4ca7-a446-81ceea131bc0",
   "metadata": {},
   "outputs": [],
   "source": [
    "def test():\n",
    "    print('hi')"
   ]
  },
  {
   "cell_type": "code",
   "execution_count": 3,
   "id": "5471be3d-d2fa-4d69-b3f2-d1c83f1c0297",
   "metadata": {},
   "outputs": [
    {
     "data": {
      "text/plain": [
       "<function __main__.test()>"
      ]
     },
     "execution_count": 3,
     "metadata": {},
     "output_type": "execute_result"
    }
   ],
   "source": [
    "test"
   ]
  },
  {
   "cell_type": "code",
   "execution_count": 4,
   "id": "841850ee-8662-4f39-ab9b-1208ba783962",
   "metadata": {},
   "outputs": [
    {
     "name": "stdout",
     "output_type": "stream",
     "text": [
      "hi\n"
     ]
    }
   ],
   "source": [
    "test()"
   ]
  },
  {
   "cell_type": "code",
   "execution_count": 7,
   "id": "48f636d3-0fca-4154-b866-0e27e2a3a216",
   "metadata": {},
   "outputs": [
    {
     "name": "stdout",
     "output_type": "stream",
     "text": [
      "hi\n",
      "hi\n",
      "hi\n",
      "hi\n",
      "hi\n"
     ]
    }
   ],
   "source": [
    "for i in range(5):\n",
    "    test()"
   ]
  },
  {
   "cell_type": "code",
   "execution_count": 8,
   "id": "345add84-9536-4b6b-ab7f-b7228c8a670d",
   "metadata": {},
   "outputs": [],
   "source": [
    "def test1():\n",
    "    print('test')"
   ]
  },
  {
   "cell_type": "code",
   "execution_count": 11,
   "id": "55c66504-16dd-45b4-8353-193a3100c6cf",
   "metadata": {},
   "outputs": [
    {
     "name": "stdout",
     "output_type": "stream",
     "text": [
      "test\n"
     ]
    },
    {
     "ename": "TypeError",
     "evalue": "unsupported operand type(s) for +: 'NoneType' and 'str'",
     "output_type": "error",
     "traceback": [
      "\u001b[0;31m---------------------------------------------------------------------------\u001b[0m",
      "\u001b[0;31mTypeError\u001b[0m                                 Traceback (most recent call last)",
      "Cell \u001b[0;32mIn[11], line 1\u001b[0m\n\u001b[0;32m----> 1\u001b[0m \u001b[43mtest1\u001b[49m\u001b[43m(\u001b[49m\u001b[43m)\u001b[49m\u001b[43m \u001b[49m\u001b[38;5;241;43m+\u001b[39;49m\u001b[43m \u001b[49m\u001b[38;5;124;43m'\u001b[39;49m\u001b[38;5;124;43mshad\u001b[39;49m\u001b[38;5;124;43m'\u001b[39;49m\n",
      "\u001b[0;31mTypeError\u001b[0m: unsupported operand type(s) for +: 'NoneType' and 'str'"
     ]
    }
   ],
   "source": [
    "test1() + 'shad'"
   ]
  },
  {
   "cell_type": "code",
   "execution_count": 14,
   "id": "bc0f7a1c-f734-4578-9d9e-43d54e089f97",
   "metadata": {},
   "outputs": [
    {
     "name": "stdout",
     "output_type": "stream",
     "text": [
      "test\n"
     ]
    },
    {
     "data": {
      "text/plain": [
       "NoneType"
      ]
     },
     "execution_count": 14,
     "metadata": {},
     "output_type": "execute_result"
    }
   ],
   "source": [
    "type(test1())\n",
    "\n",
    "# print statement in function is always nonetype"
   ]
  },
  {
   "cell_type": "code",
   "execution_count": 13,
   "id": "24dd3c89-bf54-49ef-a066-9de1bb6c7497",
   "metadata": {},
   "outputs": [
    {
     "name": "stdout",
     "output_type": "stream",
     "text": [
      "test\n"
     ]
    },
    {
     "data": {
      "text/plain": [
       "'Noneshad'"
      ]
     },
     "execution_count": 13,
     "metadata": {},
     "output_type": "execute_result"
    }
   ],
   "source": [
    "str(test1()) + 'shad'"
   ]
  },
  {
   "cell_type": "code",
   "execution_count": 15,
   "id": "313d5126-05cb-41bf-84bd-fc10401f80dd",
   "metadata": {},
   "outputs": [],
   "source": [
    "def test2():\n",
    "    print(1+2) ## we won't we be able to perform primitive operation\n",
    "    # We should use return"
   ]
  },
  {
   "cell_type": "code",
   "execution_count": 16,
   "id": "669f0a93-ed0c-4e1e-8fe4-a39ed14e92d3",
   "metadata": {},
   "outputs": [
    {
     "ename": "TypeError",
     "evalue": "unsupported operand type(s) for +: 'function' and 'int'",
     "output_type": "error",
     "traceback": [
      "\u001b[0;31m---------------------------------------------------------------------------\u001b[0m",
      "\u001b[0;31mTypeError\u001b[0m                                 Traceback (most recent call last)",
      "Cell \u001b[0;32mIn[16], line 1\u001b[0m\n\u001b[0;32m----> 1\u001b[0m \u001b[43mtest2\u001b[49m\u001b[43m \u001b[49m\u001b[38;5;241;43m+\u001b[39;49m\u001b[43m \u001b[49m\u001b[38;5;241;43m5\u001b[39;49m\n",
      "\u001b[0;31mTypeError\u001b[0m: unsupported operand type(s) for +: 'function' and 'int'"
     ]
    }
   ],
   "source": [
    "test2 + 5"
   ]
  },
  {
   "cell_type": "markdown",
   "id": "f88fef74-9e73-418c-ab16-4e142cc94e75",
   "metadata": {},
   "source": [
    "#### We should use return to perform primitive operations and there function will not return 'NoneType'"
   ]
  },
  {
   "cell_type": "code",
   "execution_count": 22,
   "id": "245d3462-13d3-4143-8d08-2f0ffb8d3c3a",
   "metadata": {},
   "outputs": [],
   "source": [
    "def test2():\n",
    "    return 1+2"
   ]
  },
  {
   "cell_type": "code",
   "execution_count": 23,
   "id": "7d3f41d6-4ca6-4fe3-8934-e36b0ac327eb",
   "metadata": {},
   "outputs": [
    {
     "data": {
      "text/plain": [
       "53"
      ]
     },
     "execution_count": 23,
     "metadata": {},
     "output_type": "execute_result"
    }
   ],
   "source": [
    "test2() + 50"
   ]
  },
  {
   "cell_type": "code",
   "execution_count": 24,
   "id": "def637b1-72ab-4d98-ab78-9097ec7a0e1a",
   "metadata": {},
   "outputs": [],
   "source": [
    "def test3():\n",
    "    return '1'+ 'shad' # returns output as it is, without changing datatype"
   ]
  },
  {
   "cell_type": "code",
   "execution_count": 26,
   "id": "ae7e5bdc-ea08-449c-9c12-8c0a12162772",
   "metadata": {},
   "outputs": [
    {
     "data": {
      "text/plain": [
       "'1shadsnv'"
      ]
     },
     "execution_count": 26,
     "metadata": {},
     "output_type": "execute_result"
    }
   ],
   "source": [
    "test3() + 'snv'"
   ]
  },
  {
   "cell_type": "markdown",
   "id": "649667cf-a6e6-42d2-913b-dd0db04b74d3",
   "metadata": {},
   "source": [
    "#### when we are returning multiple values, but tuples would be return"
   ]
  },
  {
   "cell_type": "code",
   "execution_count": 33,
   "id": "d652b773-ed95-41b0-9d65-92f5b99f93be",
   "metadata": {},
   "outputs": [],
   "source": [
    "def test4():\n",
    "    return 2, 'shad', True, [1,2,5]"
   ]
  },
  {
   "cell_type": "code",
   "execution_count": 34,
   "id": "f57adc74-5d9a-4636-ac6d-5d6ffef9347e",
   "metadata": {},
   "outputs": [
    {
     "data": {
      "text/plain": [
       "tuple"
      ]
     },
     "execution_count": 34,
     "metadata": {},
     "output_type": "execute_result"
    }
   ],
   "source": [
    "type(test4())"
   ]
  },
  {
   "cell_type": "code",
   "execution_count": 39,
   "id": "2b945444-9a80-4f4d-bf74-ecc8c2ba3ae0",
   "metadata": {},
   "outputs": [],
   "source": [
    "# using of multipe return\n",
    "a, b, c, d = test4()"
   ]
  },
  {
   "cell_type": "code",
   "execution_count": 40,
   "id": "cbb2642d-d56c-4ef5-ab94-1c9d705b896d",
   "metadata": {},
   "outputs": [
    {
     "name": "stdout",
     "output_type": "stream",
     "text": [
      "a: 2\n",
      "b: shad\n",
      "c: True\n",
      "d: [1, 2, 5]\n"
     ]
    }
   ],
   "source": [
    "print(f'a: {a}')\n",
    "print(f'b: {b}')\n",
    "print(f'c: {c}')\n",
    "print(f'd: {d}')"
   ]
  },
  {
   "cell_type": "code",
   "execution_count": 41,
   "id": "5ddfa69c-553f-4a1d-8799-04273f4b6a5d",
   "metadata": {},
   "outputs": [
    {
     "data": {
      "text/plain": [
       "'shad'"
      ]
     },
     "execution_count": 41,
     "metadata": {},
     "output_type": "execute_result"
    }
   ],
   "source": [
    "b"
   ]
  },
  {
   "cell_type": "code",
   "execution_count": 44,
   "id": "940a6edd-9b13-4fa7-a41f-6c72e5120b1e",
   "metadata": {},
   "outputs": [
    {
     "name": "stdout",
     "output_type": "stream",
     "text": [
      " 2\n",
      " shad\n",
      " True\n",
      " [1, 2, 5]\n"
     ]
    }
   ],
   "source": [
    "for i in test4():\n",
    "    print(f' {i}')"
   ]
  },
  {
   "cell_type": "code",
   "execution_count": 47,
   "id": "d61599e2-b5d9-436f-9e2c-bee388e69305",
   "metadata": {},
   "outputs": [
    {
     "data": {
      "text/plain": [
       "[1, 2, 5]"
      ]
     },
     "execution_count": 47,
     "metadata": {},
     "output_type": "execute_result"
    }
   ],
   "source": [
    "test4()[3]"
   ]
  },
  {
   "cell_type": "code",
   "execution_count": 48,
   "id": "b6711634-0c50-4bdd-b39c-0cf5e086fe6e",
   "metadata": {},
   "outputs": [],
   "source": [
    "def test5(x):\n",
    "    return x"
   ]
  },
  {
   "cell_type": "code",
   "execution_count": 50,
   "id": "010eaf2a-28f6-4da4-aabb-b3c6b759bf9e",
   "metadata": {},
   "outputs": [
    {
     "data": {
      "text/plain": [
       "5"
      ]
     },
     "execution_count": 50,
     "metadata": {},
     "output_type": "execute_result"
    }
   ],
   "source": [
    "test5(5)"
   ]
  },
  {
   "cell_type": "code",
   "execution_count": 52,
   "id": "f9960bbf-05da-443f-aff6-d4b7c55ec6a8",
   "metadata": {},
   "outputs": [
    {
     "data": {
      "text/plain": [
       "'shad'"
      ]
     },
     "execution_count": 52,
     "metadata": {},
     "output_type": "execute_result"
    }
   ],
   "source": [
    "test5('shad')"
   ]
  },
  {
   "cell_type": "code",
   "execution_count": 53,
   "id": "ea5cab0a-88f8-4c44-9e3d-caa2603abcb6",
   "metadata": {},
   "outputs": [
    {
     "data": {
      "text/plain": [
       "[54, 75, 'shad']"
      ]
     },
     "execution_count": 53,
     "metadata": {},
     "output_type": "execute_result"
    }
   ],
   "source": [
    "test5([54,75,'shad'])"
   ]
  },
  {
   "cell_type": "code",
   "execution_count": 54,
   "id": "ca6bb887-1057-4249-9fb1-7ec4c53a58d3",
   "metadata": {},
   "outputs": [
    {
     "ename": "TypeError",
     "evalue": "test5() takes 1 positional argument but 2 were given",
     "output_type": "error",
     "traceback": [
      "\u001b[0;31m---------------------------------------------------------------------------\u001b[0m",
      "\u001b[0;31mTypeError\u001b[0m                                 Traceback (most recent call last)",
      "Cell \u001b[0;32mIn[54], line 1\u001b[0m\n\u001b[0;32m----> 1\u001b[0m \u001b[43mtest5\u001b[49m\u001b[43m(\u001b[49m\u001b[38;5;241;43m4\u001b[39;49m\u001b[43m,\u001b[49m\u001b[38;5;241;43m5\u001b[39;49m\u001b[43m)\u001b[49m\n",
      "\u001b[0;31mTypeError\u001b[0m: test5() takes 1 positional argument but 2 were given"
     ]
    }
   ],
   "source": [
    "test5(4,5)"
   ]
  },
  {
   "cell_type": "code",
   "execution_count": 55,
   "id": "96551bb0-11b4-471b-a3f5-f9148fc6134d",
   "metadata": {},
   "outputs": [
    {
     "data": {
      "text/plain": [
       "''"
      ]
     },
     "execution_count": 55,
     "metadata": {},
     "output_type": "execute_result"
    }
   ],
   "source": [
    "test5('')"
   ]
  },
  {
   "cell_type": "code",
   "execution_count": 56,
   "id": "4921f757-611a-4a27-9534-f7e8bc0c68bf",
   "metadata": {},
   "outputs": [],
   "source": [
    "def test6(x,  y):\n",
    "    return x, y, x+y"
   ]
  },
  {
   "cell_type": "code",
   "execution_count": 58,
   "id": "0a618657-babd-43dd-b664-67192897b17e",
   "metadata": {},
   "outputs": [
    {
     "data": {
      "text/plain": [
       "(5, 6, 11)"
      ]
     },
     "execution_count": 58,
     "metadata": {},
     "output_type": "execute_result"
    }
   ],
   "source": [
    "values = test6(5, 6)\n",
    "values"
   ]
  },
  {
   "cell_type": "code",
   "execution_count": 61,
   "id": "0becf652-63af-4eee-a37f-1b1997012e84",
   "metadata": {},
   "outputs": [
    {
     "name": "stdout",
     "output_type": "stream",
     "text": [
      "first: 5\n",
      "second: 6\n",
      "sum: 11\n"
     ]
    }
   ],
   "source": [
    "print(f'first: {values[0]}')\n",
    "print(f'second: {values[1]}')\n",
    "print(f'sum: {values[2]}')"
   ]
  },
  {
   "cell_type": "code",
   "execution_count": 62,
   "id": "df6d539c-667b-4e51-a9fe-c1197bbee8a1",
   "metadata": {},
   "outputs": [],
   "source": [
    "def test61(x,  y):\n",
    "    return x, y"
   ]
  },
  {
   "cell_type": "code",
   "execution_count": 76,
   "id": "ad8afdf3-0f46-4f55-ae27-587193df4c1c",
   "metadata": {},
   "outputs": [
    {
     "data": {
      "text/plain": [
       "(1, [353, 654])"
      ]
     },
     "execution_count": 76,
     "metadata": {},
     "output_type": "execute_result"
    }
   ],
   "source": [
    "m = test61(1, [353, 654])\n",
    "m"
   ]
  },
  {
   "cell_type": "code",
   "execution_count": 78,
   "id": "1b9cfe9f-0ac1-4965-9adc-cef2a939baff",
   "metadata": {},
   "outputs": [
    {
     "data": {
      "text/plain": [
       "list"
      ]
     },
     "execution_count": 78,
     "metadata": {},
     "output_type": "execute_result"
    }
   ],
   "source": [
    "type(m[1])\n",
    "\n",
    "# why"
   ]
  },
  {
   "cell_type": "markdown",
   "id": "e3f95af5-7bc3-4565-a62b-0434404a6016",
   "metadata": {},
   "source": [
    "##### Notification for the user to enter correct datatypes"
   ]
  },
  {
   "cell_type": "code",
   "execution_count": 79,
   "id": "b48c9616-fce2-43cd-9d55-4e68008a89e7",
   "metadata": {},
   "outputs": [],
   "source": [
    "def test7(a:int, b:int): # Notification for the user\n",
    "    return a, b"
   ]
  },
  {
   "cell_type": "code",
   "execution_count": 80,
   "id": "57e29785-6da0-4f97-9aa3-e299e6457d94",
   "metadata": {},
   "outputs": [
    {
     "data": {
      "text/plain": [
       "(4, 6)"
      ]
     },
     "execution_count": 80,
     "metadata": {},
     "output_type": "execute_result"
    }
   ],
   "source": [
    "test7(4, 6)"
   ]
  },
  {
   "cell_type": "code",
   "execution_count": 81,
   "id": "57d1db6c-5e11-4a95-8402-6ec4ed8769ae",
   "metadata": {},
   "outputs": [
    {
     "data": {
      "text/plain": [
       "('shad', 6)"
      ]
     },
     "execution_count": 81,
     "metadata": {},
     "output_type": "execute_result"
    }
   ],
   "source": [
    "a = test7('shad', 6)\n",
    "a"
   ]
  },
  {
   "cell_type": "code",
   "execution_count": 82,
   "id": "23b672e3-4982-4f84-ba89-8abe9d6e1769",
   "metadata": {},
   "outputs": [
    {
     "data": {
      "text/plain": [
       "tuple"
      ]
     },
     "execution_count": 82,
     "metadata": {},
     "output_type": "execute_result"
    }
   ],
   "source": [
    "type(a)"
   ]
  },
  {
   "cell_type": "code",
   "execution_count": 83,
   "id": "7bff5767-ca61-44df-84e9-52e5246d92d0",
   "metadata": {},
   "outputs": [
    {
     "data": {
      "text/plain": [
       "int"
      ]
     },
     "execution_count": 83,
     "metadata": {},
     "output_type": "execute_result"
    }
   ],
   "source": [
    "type(a[1])"
   ]
  },
  {
   "cell_type": "code",
   "execution_count": 84,
   "id": "f84b74f0-31ef-451b-b4c7-aa394bb3bae4",
   "metadata": {},
   "outputs": [
    {
     "data": {
      "text/plain": [
       "str"
      ]
     },
     "execution_count": 84,
     "metadata": {},
     "output_type": "execute_result"
    }
   ],
   "source": [
    "type(a[0])"
   ]
  },
  {
   "cell_type": "code",
   "execution_count": 89,
   "id": "0509b882-85cd-4f0f-be2b-40e94aad69aa",
   "metadata": {},
   "outputs": [],
   "source": [
    "def test8(x:int, y:int):\n",
    "    \n",
    "    '''\n",
    "    gdgd\n",
    "    '''\n",
    "    return x/y"
   ]
  },
  {
   "cell_type": "code",
   "execution_count": 90,
   "id": "12595026-7257-426d-8d60-103e4a81dfbd",
   "metadata": {},
   "outputs": [
    {
     "data": {
      "text/plain": [
       "9.5"
      ]
     },
     "execution_count": 90,
     "metadata": {},
     "output_type": "execute_result"
    }
   ],
   "source": [
    "test8(19, 2)"
   ]
  },
  {
   "cell_type": "code",
   "execution_count": 91,
   "id": "7cbd0252-081a-44c5-a542-0a25b614d16e",
   "metadata": {},
   "outputs": [
    {
     "ename": "TypeError",
     "evalue": "unsupported operand type(s) for /: 'str' and 'int'",
     "output_type": "error",
     "traceback": [
      "\u001b[0;31m---------------------------------------------------------------------------\u001b[0m",
      "\u001b[0;31mTypeError\u001b[0m                                 Traceback (most recent call last)",
      "Cell \u001b[0;32mIn[91], line 1\u001b[0m\n\u001b[0;32m----> 1\u001b[0m \u001b[43mtest8\u001b[49m\u001b[43m(\u001b[49m\u001b[38;5;124;43m'\u001b[39;49m\u001b[38;5;124;43mshad\u001b[39;49m\u001b[38;5;124;43m'\u001b[39;49m\u001b[43m,\u001b[49m\u001b[43m \u001b[49m\u001b[38;5;241;43m9\u001b[39;49m\u001b[43m)\u001b[49m\n",
      "Cell \u001b[0;32mIn[89], line 6\u001b[0m, in \u001b[0;36mtest8\u001b[0;34m(x, y)\u001b[0m\n\u001b[1;32m      1\u001b[0m \u001b[38;5;28;01mdef\u001b[39;00m \u001b[38;5;21mtest8\u001b[39m(x:\u001b[38;5;28mint\u001b[39m, y:\u001b[38;5;28mint\u001b[39m):\n\u001b[1;32m      3\u001b[0m     \u001b[38;5;124;03m'''\u001b[39;00m\n\u001b[1;32m      4\u001b[0m \u001b[38;5;124;03m    gdgd\u001b[39;00m\n\u001b[1;32m      5\u001b[0m \u001b[38;5;124;03m    '''\u001b[39;00m\n\u001b[0;32m----> 6\u001b[0m     \u001b[38;5;28;01mreturn\u001b[39;00m \u001b[43mx\u001b[49m\u001b[38;5;241;43m/\u001b[39;49m\u001b[43my\u001b[49m\n",
      "\u001b[0;31mTypeError\u001b[0m: unsupported operand type(s) for /: 'str' and 'int'"
     ]
    }
   ],
   "source": [
    "test8('shad', 9)"
   ]
  },
  {
   "cell_type": "markdown",
   "id": "2abe7c6a-2147-414e-bd2c-013c4a2d3757",
   "metadata": {},
   "source": [
    "##### Docstrings"
   ]
  },
  {
   "cell_type": "code",
   "execution_count": 95,
   "id": "b6905ec6-4e48-4ad7-a583-efd56a218755",
   "metadata": {},
   "outputs": [],
   "source": [
    "def test9(c, d):\n",
    "    '''\n",
    "    input: two inputs\n",
    "    \n",
    "    output: return sum of two inputs\n",
    "    '''\n",
    "    return c + d"
   ]
  },
  {
   "cell_type": "code",
   "execution_count": 96,
   "id": "d20d17de-8702-42b8-af00-447e4ac779d8",
   "metadata": {},
   "outputs": [
    {
     "data": {
      "text/plain": [
       "3"
      ]
     },
     "execution_count": 96,
     "metadata": {},
     "output_type": "execute_result"
    }
   ],
   "source": [
    "test9(1, 2)"
   ]
  },
  {
   "cell_type": "code",
   "execution_count": 97,
   "id": "6c264922-d39c-4f34-a110-98c0a24ec32d",
   "metadata": {},
   "outputs": [],
   "source": [
    "def test10(*args):\n",
    "    return args"
   ]
  },
  {
   "cell_type": "code",
   "execution_count": 99,
   "id": "a7a43e78-8856-4445-a5e0-e649b61f8171",
   "metadata": {},
   "outputs": [
    {
     "data": {
      "text/plain": [
       "()"
      ]
     },
     "execution_count": 99,
     "metadata": {},
     "output_type": "execute_result"
    }
   ],
   "source": [
    "test10()"
   ]
  },
  {
   "cell_type": "code",
   "execution_count": 98,
   "id": "21e050da-060b-496c-a465-4aad26ef8c42",
   "metadata": {},
   "outputs": [
    {
     "data": {
      "text/plain": [
       "(1, 4, 10)"
      ]
     },
     "execution_count": 98,
     "metadata": {},
     "output_type": "execute_result"
    }
   ],
   "source": [
    "test10(1, 4 ,10)"
   ]
  },
  {
   "cell_type": "code",
   "execution_count": 130,
   "id": "5216effa-da27-40f7-8b8a-76dfe43ef6b3",
   "metadata": {},
   "outputs": [],
   "source": [
    "def test101(*numbers: int):\n",
    "    \n",
    "    '''\n",
    "    input: any number of integer\n",
    "    output: output as a list of even numbers\n",
    "    '''\n",
    "    \n",
    "    even = []\n",
    "    for i in numbers:\n",
    "        if i%2 == 0:\n",
    "            even.append(i)\n",
    "    \n",
    "    return even"
   ]
  },
  {
   "cell_type": "code",
   "execution_count": 131,
   "id": "c40e083a-cbfe-4e24-992c-96a03b5febae",
   "metadata": {},
   "outputs": [
    {
     "data": {
      "text/plain": [
       "[2]"
      ]
     },
     "execution_count": 131,
     "metadata": {},
     "output_type": "execute_result"
    }
   ],
   "source": [
    "test101(1,2)"
   ]
  },
  {
   "cell_type": "code",
   "execution_count": 132,
   "id": "8dfbc0e8-e615-4452-b36d-65d392f5c3cf",
   "metadata": {},
   "outputs": [
    {
     "data": {
      "text/plain": [
       "[2, 66]"
      ]
     },
     "execution_count": 132,
     "metadata": {},
     "output_type": "execute_result"
    }
   ],
   "source": [
    "test101(1,2, 3, 66)"
   ]
  },
  {
   "cell_type": "code",
   "execution_count": 133,
   "id": "2d723859-3ce3-4bf5-a681-1f7ee4061839",
   "metadata": {},
   "outputs": [],
   "source": [
    "def test11(*shad):\n",
    "    return shad"
   ]
  },
  {
   "cell_type": "code",
   "execution_count": 134,
   "id": "1658f3fa-ae36-4dd1-bafa-6d34d6bb7dd7",
   "metadata": {},
   "outputs": [
    {
     "data": {
      "text/plain": [
       "(1, 24, 5, 22)"
      ]
     },
     "execution_count": 134,
     "metadata": {},
     "output_type": "execute_result"
    }
   ],
   "source": [
    "test11(1, 24, 5,22)"
   ]
  },
  {
   "cell_type": "code",
   "execution_count": 5,
   "id": "9b2bfbb2-1355-4e72-8947-19f0803ca7d8",
   "metadata": {},
   "outputs": [],
   "source": [
    "n = 4\n",
    "\n",
    "fact = 1\n",
    "\n",
    "for i in range(1, n+1):\n",
    "    fact = i*fact"
   ]
  },
  {
   "cell_type": "code",
   "execution_count": 6,
   "id": "10ed0ec5-3466-4581-a1ed-177c7e33a3bc",
   "metadata": {},
   "outputs": [
    {
     "data": {
      "text/plain": [
       "24"
      ]
     },
     "execution_count": 6,
     "metadata": {},
     "output_type": "execute_result"
    }
   ],
   "source": [
    "fact"
   ]
  },
  {
   "cell_type": "markdown",
   "id": "a07aaf14-87a7-4e6b-b9cf-254974890931",
   "metadata": {},
   "source": [
    "##### Use of ** to create dictionary"
   ]
  },
  {
   "cell_type": "code",
   "execution_count": 27,
   "id": "1731c7e4-b6f9-43a0-8d10-243d1a0a5262",
   "metadata": {},
   "outputs": [],
   "source": [
    "def test12(**kwargs):\n",
    "    return kwargs"
   ]
  },
  {
   "cell_type": "code",
   "execution_count": 28,
   "id": "55767506-a59c-4208-a06f-8cc7a0348cf2",
   "metadata": {},
   "outputs": [
    {
     "data": {
      "text/plain": [
       "{'a': 5, 'b': 6}"
      ]
     },
     "execution_count": 28,
     "metadata": {},
     "output_type": "execute_result"
    }
   ],
   "source": [
    "test12(a= 5, b= 6)"
   ]
  },
  {
   "cell_type": "code",
   "execution_count": 29,
   "id": "a395d6c8-8b85-413b-abf6-fbcd352528a7",
   "metadata": {},
   "outputs": [
    {
     "data": {
      "text/plain": [
       "{'m': 3, 'b': 8, 'c': 99}"
      ]
     },
     "execution_count": 29,
     "metadata": {},
     "output_type": "execute_result"
    }
   ],
   "source": [
    "test12(m=3, b= 8, c = 99)"
   ]
  },
  {
   "cell_type": "code",
   "execution_count": 30,
   "id": "092976cd-537f-4ca4-ac0e-c1a00f7d4d68",
   "metadata": {},
   "outputs": [],
   "source": [
    "def test122(**shad):\n",
    "    return shad"
   ]
  },
  {
   "cell_type": "code",
   "execution_count": 31,
   "id": "b96cc2f8-e6f9-4e05-bba2-b4335e1b244c",
   "metadata": {},
   "outputs": [
    {
     "data": {
      "text/plain": [
       "{'a': 2, 'b': 11}"
      ]
     },
     "execution_count": 31,
     "metadata": {},
     "output_type": "execute_result"
    }
   ],
   "source": [
    "test122(a = 2, b= 11)"
   ]
  },
  {
   "cell_type": "code",
   "execution_count": 32,
   "id": "279e6423-8491-4ab1-a7ff-76dfec96b1fa",
   "metadata": {},
   "outputs": [
    {
     "data": {
      "text/plain": [
       "{'n': {'m': 3, 'b': 8, 'c': 99}}"
      ]
     },
     "execution_count": 32,
     "metadata": {},
     "output_type": "execute_result"
    }
   ],
   "source": [
    "test12(n  = {'m': 3, 'b': 8, 'c': 99})"
   ]
  },
  {
   "cell_type": "markdown",
   "id": "637e2761-8405-44e5-bcc5-ef943ccb2167",
   "metadata": {},
   "source": [
    "##### Default argument"
   ]
  },
  {
   "cell_type": "code",
   "execution_count": 37,
   "id": "8d554181-634a-4fbd-bd1f-ad75d4f8fead",
   "metadata": {},
   "outputs": [],
   "source": [
    "def test13(b , a = 10, c = 20):\n",
    "    return a, b, c"
   ]
  },
  {
   "cell_type": "code",
   "execution_count": 38,
   "id": "4667d032-9d56-4db6-8f39-5413b33e1d0f",
   "metadata": {},
   "outputs": [
    {
     "data": {
      "text/plain": [
       "(10, 2, 20)"
      ]
     },
     "execution_count": 38,
     "metadata": {},
     "output_type": "execute_result"
    }
   ],
   "source": [
    "test13(2)"
   ]
  },
  {
   "cell_type": "code",
   "execution_count": 39,
   "id": "e34522b1-4a03-4009-8c89-5129ac4a8965",
   "metadata": {},
   "outputs": [
    {
     "data": {
      "text/plain": [
       "(2, 1, 20)"
      ]
     },
     "execution_count": 39,
     "metadata": {},
     "output_type": "execute_result"
    }
   ],
   "source": [
    "test13(1, 2) "
   ]
  },
  {
   "cell_type": "code",
   "execution_count": 41,
   "id": "d4e153c8-46af-4041-b343-b3c2b3ade132",
   "metadata": {},
   "outputs": [
    {
     "data": {
      "text/plain": [
       "(2, 11, 20)"
      ]
     },
     "execution_count": 41,
     "metadata": {},
     "output_type": "execute_result"
    }
   ],
   "source": [
    "test13( 11, a = 2) "
   ]
  },
  {
   "cell_type": "code",
   "execution_count": 48,
   "id": "4db5bee3-9293-4dff-87ad-d805a7e15368",
   "metadata": {},
   "outputs": [],
   "source": [
    "def test14(a, b):\n",
    "    return a+b"
   ]
  },
  {
   "cell_type": "code",
   "execution_count": 50,
   "id": "a243f0b7-0f71-4217-8130-09b406f4e071",
   "metadata": {},
   "outputs": [
    {
     "data": {
      "text/plain": [
       "8"
      ]
     },
     "execution_count": 50,
     "metadata": {},
     "output_type": "execute_result"
    }
   ],
   "source": [
    "test14(3, 5)"
   ]
  },
  {
   "cell_type": "markdown",
   "id": "41ca1675-e916-43c6-a532-8b304a0f2bcc",
   "metadata": {},
   "source": [
    "### Lambda"
   ]
  },
  {
   "cell_type": "code",
   "execution_count": 54,
   "id": "b4a69b23-7e3f-4c8e-a5fc-c4e4f0a4c16d",
   "metadata": {},
   "outputs": [],
   "source": [
    "m = lambda a, b: a+b\n",
    " # Function without a name"
   ]
  },
  {
   "cell_type": "code",
   "execution_count": 55,
   "id": "adef08e9-5ec1-4fb1-ad39-a32ed8412783",
   "metadata": {},
   "outputs": [
    {
     "data": {
      "text/plain": [
       "<function __main__.<lambda>(a, b)>"
      ]
     },
     "execution_count": 55,
     "metadata": {},
     "output_type": "execute_result"
    }
   ],
   "source": [
    "m"
   ]
  },
  {
   "cell_type": "code",
   "execution_count": 57,
   "id": "38aeff00-de1c-4192-9a59-d212a6993783",
   "metadata": {},
   "outputs": [
    {
     "data": {
      "text/plain": [
       "8"
      ]
     },
     "execution_count": 57,
     "metadata": {},
     "output_type": "execute_result"
    }
   ],
   "source": [
    "m(3, 5)"
   ]
  },
  {
   "cell_type": "code",
   "execution_count": 58,
   "id": "dcd3f504-0da9-44dc-977a-92fe38746f18",
   "metadata": {},
   "outputs": [],
   "source": [
    "def check_even(n):\n",
    "    if n%2 == 0:\n",
    "        return 'given nos is even number'\n",
    "    else:\n",
    "        return 'given nos is not even'"
   ]
  },
  {
   "cell_type": "code",
   "execution_count": 59,
   "id": "617aa1fb-d12c-49ea-8ea1-c0d06c640a60",
   "metadata": {},
   "outputs": [
    {
     "data": {
      "text/plain": [
       "'given nos is not even'"
      ]
     },
     "execution_count": 59,
     "metadata": {},
     "output_type": "execute_result"
    }
   ],
   "source": [
    "check_even(3)"
   ]
  },
  {
   "cell_type": "code",
   "execution_count": 65,
   "id": "0793cc23-5cab-4463-b5f9-926417e3f14b",
   "metadata": {},
   "outputs": [],
   "source": [
    "# Using lambda function to check even_no or not even\n",
    "a = lambda n: 'given nos is even number' if n%2 ==0 else 'given nos is not even'"
   ]
  },
  {
   "cell_type": "code",
   "execution_count": 66,
   "id": "c5df75d8-5127-4bfe-8da2-ac26353424d4",
   "metadata": {},
   "outputs": [
    {
     "data": {
      "text/plain": [
       "'given nos is not even'"
      ]
     },
     "execution_count": 66,
     "metadata": {},
     "output_type": "execute_result"
    }
   ],
   "source": [
    "a(3)"
   ]
  },
  {
   "cell_type": "code",
   "execution_count": 68,
   "id": "226b570f-e42d-4cdc-bf69-d29c50d36a80",
   "metadata": {},
   "outputs": [
    {
     "data": {
      "text/plain": [
       "'given nos is even number'"
      ]
     },
     "execution_count": 68,
     "metadata": {},
     "output_type": "execute_result"
    }
   ],
   "source": [
    "a(4)"
   ]
  },
  {
   "cell_type": "code",
   "execution_count": 69,
   "id": "8065b298-d4ca-4349-94a8-f25939cdda4b",
   "metadata": {},
   "outputs": [
    {
     "data": {
      "text/plain": [
       "2"
      ]
     },
     "execution_count": 69,
     "metadata": {},
     "output_type": "execute_result"
    }
   ],
   "source": [
    "l = [3,4,5,76,3,2,3,4,5]\n",
    "min(l)"
   ]
  },
  {
   "cell_type": "code",
   "execution_count": 70,
   "id": "bc7b5093-1cea-4fea-94f1-cd0d5ea9a6af",
   "metadata": {},
   "outputs": [],
   "source": [
    "min_list = lambda li: min(li)"
   ]
  },
  {
   "cell_type": "code",
   "execution_count": 71,
   "id": "b7b7c1dc-6417-4189-ab41-c1c59c30aa54",
   "metadata": {},
   "outputs": [
    {
     "data": {
      "text/plain": [
       "2"
      ]
     },
     "execution_count": 71,
     "metadata": {},
     "output_type": "execute_result"
    }
   ],
   "source": [
    "min_list(l)"
   ]
  },
  {
   "cell_type": "code",
   "execution_count": 72,
   "id": "8ea9d300-06e5-4140-ad47-2e0cbb4833df",
   "metadata": {},
   "outputs": [],
   "source": [
    "div = lambda a, b: a/b"
   ]
  },
  {
   "cell_type": "code",
   "execution_count": 73,
   "id": "45e8b054-f8a9-49e9-b48f-80eda56faf52",
   "metadata": {},
   "outputs": [
    {
     "data": {
      "text/plain": [
       "5.0"
      ]
     },
     "execution_count": 73,
     "metadata": {},
     "output_type": "execute_result"
    }
   ],
   "source": [
    "div(10, 2)"
   ]
  },
  {
   "cell_type": "code",
   "execution_count": 74,
   "id": "addef2b1-40ca-4648-87ab-1b0ec23fdf8e",
   "metadata": {},
   "outputs": [],
   "source": [
    "upper = lambda s: s.upper()"
   ]
  },
  {
   "cell_type": "code",
   "execution_count": 75,
   "id": "ff03d736-b253-4c1f-91b3-05d0bea6f354",
   "metadata": {},
   "outputs": [
    {
     "data": {
      "text/plain": [
       "'SHAD'"
      ]
     },
     "execution_count": 75,
     "metadata": {},
     "output_type": "execute_result"
    }
   ],
   "source": [
    "upper('Shad')"
   ]
  },
  {
   "cell_type": "code",
   "execution_count": 76,
   "id": "62b392d4-cdcb-44ec-8217-25573a352e46",
   "metadata": {},
   "outputs": [],
   "source": [
    "l = [3,4,5,6,7,2,3,34,5,56]"
   ]
  },
  {
   "cell_type": "code",
   "execution_count": 98,
   "id": "f64f2535-50a3-4936-96d5-69bf35781e86",
   "metadata": {},
   "outputs": [],
   "source": [
    "# find sum of all odd num\n",
    "\n",
    "def sum_odd(a):\n",
    "    sum_odd_nos = []\n",
    "    for i in a:\n",
    "        if i%2 != 0:\n",
    "            sum_odd_nos.append(i)\n",
    "    return sum(sum_odd_nos)\n",
    "        "
   ]
  },
  {
   "cell_type": "code",
   "execution_count": 99,
   "id": "e0cb6bdd-32ed-4ca1-96ec-f0a2836c3baf",
   "metadata": {},
   "outputs": [
    {
     "data": {
      "text/plain": [
       "23"
      ]
     },
     "execution_count": 99,
     "metadata": {},
     "output_type": "execute_result"
    }
   ],
   "source": [
    "sum_odd(l)"
   ]
  },
  {
   "cell_type": "code",
   "execution_count": null,
   "id": "8301e797-4afe-471f-bbbe-177e4daa5889",
   "metadata": {},
   "outputs": [
    {
     "data": {
      "text/plain": [
       "23"
      ]
     },
     "execution_count": 93,
     "metadata": {},
     "output_type": "execute_result"
    }
   ],
   "source": [
    "sum([i for i in l if i%2 !=0])"
   ]
  },
  {
   "cell_type": "markdown",
   "id": "21d2501c-2d21-47db-894b-0b36b4e3de8c",
   "metadata": {},
   "source": [
    "### Use of lambda and list comprehensionm"
   ]
  },
  {
   "cell_type": "code",
   "execution_count": 95,
   "id": "607f274e-ad1c-4553-abd6-76e40f83f744",
   "metadata": {},
   "outputs": [],
   "source": [
    "sum_off_lambda = lambda b: sum([i for i in b if i%2 !=0])"
   ]
  },
  {
   "cell_type": "code",
   "execution_count": 96,
   "id": "aaa8276a-98c4-4327-aa0e-0d4eb9f0de74",
   "metadata": {},
   "outputs": [
    {
     "data": {
      "text/plain": [
       "23"
      ]
     },
     "execution_count": 96,
     "metadata": {},
     "output_type": "execute_result"
    }
   ],
   "source": [
    "sum_off_lambda(l)"
   ]
  },
  {
   "cell_type": "markdown",
   "id": "4167d8a9-c372-4112-b752-55bf8d0f3d28",
   "metadata": {},
   "source": [
    "#### Factorial of a number"
   ]
  },
  {
   "cell_type": "code",
   "execution_count": 118,
   "id": "44792d4c-21f9-4d6b-ab40-fd312b1c59af",
   "metadata": {},
   "outputs": [],
   "source": [
    "def fact0(n):\n",
    "    factorial = 1\n",
    "    for i in range(n, 1, -1):\n",
    "        factorial *= i\n",
    "    return factorial"
   ]
  },
  {
   "cell_type": "code",
   "execution_count": 119,
   "id": "df6f19f5-85a7-4c70-97f9-c826ab8f9c89",
   "metadata": {},
   "outputs": [
    {
     "data": {
      "text/plain": [
       "24"
      ]
     },
     "execution_count": 119,
     "metadata": {},
     "output_type": "execute_result"
    }
   ],
   "source": [
    "fact0(4)"
   ]
  },
  {
   "cell_type": "code",
   "execution_count": 120,
   "id": "9617ce03-568b-41d9-b90f-2fb08de411b5",
   "metadata": {},
   "outputs": [],
   "source": [
    "def fact(n):\n",
    "    factorial = 1\n",
    "    for i in range(1, n+1):\n",
    "        factorial *= i\n",
    "    return factorial"
   ]
  },
  {
   "cell_type": "code",
   "execution_count": 121,
   "id": "5f38e91e-513f-400b-8784-1b6e9fab3b12",
   "metadata": {},
   "outputs": [
    {
     "data": {
      "text/plain": [
       "24"
      ]
     },
     "execution_count": 121,
     "metadata": {},
     "output_type": "execute_result"
    }
   ],
   "source": [
    "fact(4)"
   ]
  },
  {
   "cell_type": "markdown",
   "id": "904821bb-e9d6-47b1-af51-217ef4586d93",
   "metadata": {},
   "source": [
    "## Recursive function\n",
    "##### creating factorial number"
   ]
  },
  {
   "cell_type": "code",
   "execution_count": 122,
   "id": "d70bf068-4a9d-45d9-9395-e04cf92bb961",
   "metadata": {},
   "outputs": [],
   "source": [
    "def fact_number(n):\n",
    "    if n == 0:\n",
    "        return 1\n",
    "    else:\n",
    "        return n*fact_number(n-1)"
   ]
  },
  {
   "cell_type": "code",
   "execution_count": 123,
   "id": "770e637f-c1e2-4a02-90c5-21f49cd9f004",
   "metadata": {},
   "outputs": [
    {
     "data": {
      "text/plain": [
       "24"
      ]
     },
     "execution_count": 123,
     "metadata": {},
     "output_type": "execute_result"
    }
   ],
   "source": [
    "fact_number(4)"
   ]
  },
  {
   "cell_type": "markdown",
   "id": "0cbe4c1b-78f3-42fc-92c6-3405a19232b5",
   "metadata": {},
   "source": [
    "#### Using lambda function to find factorial function using recursive funcion"
   ]
  },
  {
   "cell_type": "code",
   "execution_count": 124,
   "id": "fdecddd2-d731-45f4-b708-b12f2d27199c",
   "metadata": {},
   "outputs": [],
   "source": [
    "factorial = lambda n: 1 if n == 0 else n*factorial(n-1)"
   ]
  },
  {
   "cell_type": "code",
   "execution_count": 125,
   "id": "a17522a4-e130-44b5-bba6-4c0f6b818830",
   "metadata": {},
   "outputs": [
    {
     "data": {
      "text/plain": [
       "24"
      ]
     },
     "execution_count": 125,
     "metadata": {},
     "output_type": "execute_result"
    }
   ],
   "source": [
    "factorial(4)"
   ]
  },
  {
   "cell_type": "markdown",
   "id": "6c435c14-1bc7-4b01-923d-be7c0caf4de4",
   "metadata": {},
   "source": [
    "### Map\n",
    "##### With every element of iterables"
   ]
  },
  {
   "cell_type": "code",
   "execution_count": 129,
   "id": "fc7908b2-4f0d-492c-9aa1-a1f5a4a13f77",
   "metadata": {},
   "outputs": [],
   "source": [
    "l = [5, 6, 7, 8, 89]\n",
    "\n",
    "l1 = []\n",
    "for i in l:\n",
    "    l1.append(i+2)"
   ]
  },
  {
   "cell_type": "code",
   "execution_count": 130,
   "id": "52a93adb-0192-4377-bac7-e7a6c9f6ccac",
   "metadata": {},
   "outputs": [
    {
     "data": {
      "text/plain": [
       "[7, 8, 9, 10, 91]"
      ]
     },
     "execution_count": 130,
     "metadata": {},
     "output_type": "execute_result"
    }
   ],
   "source": [
    "l1"
   ]
  },
  {
   "cell_type": "code",
   "execution_count": 131,
   "id": "7472535a-ca61-40bf-882c-abbf86cfad00",
   "metadata": {},
   "outputs": [],
   "source": [
    "def sum_two(l):\n",
    "    \n",
    "    l1 = []\n",
    "    for i in l:\n",
    "        l1.append(i+2)\n",
    "    return l1"
   ]
  },
  {
   "cell_type": "code",
   "execution_count": 132,
   "id": "ca6c0310-4c1f-4f1d-843d-5b9d571466b3",
   "metadata": {},
   "outputs": [
    {
     "data": {
      "text/plain": [
       "[7, 8, 9, 10, 91]"
      ]
     },
     "execution_count": 132,
     "metadata": {},
     "output_type": "execute_result"
    }
   ],
   "source": [
    "sum_two(l)"
   ]
  },
  {
   "cell_type": "code",
   "execution_count": 133,
   "id": "32219233-4997-41e7-a202-66f43b5991dc",
   "metadata": {},
   "outputs": [],
   "source": [
    "v = lambda a: a+2"
   ]
  },
  {
   "cell_type": "code",
   "execution_count": 135,
   "id": "69072191-e019-4bd1-8983-7b95b9be9d8b",
   "metadata": {},
   "outputs": [
    {
     "data": {
      "text/plain": [
       "<map at 0x7f8235c09930>"
      ]
     },
     "execution_count": 135,
     "metadata": {},
     "output_type": "execute_result"
    }
   ],
   "source": [
    "map(lambda a: a+2, l)"
   ]
  },
  {
   "cell_type": "code",
   "execution_count": 136,
   "id": "ecc2b30c-dbc1-4abd-93d0-7353f9e2207a",
   "metadata": {},
   "outputs": [
    {
     "data": {
      "text/plain": [
       "[5, 6, 7, 8, 89]"
      ]
     },
     "execution_count": 136,
     "metadata": {},
     "output_type": "execute_result"
    }
   ],
   "source": [
    "l"
   ]
  },
  {
   "cell_type": "code",
   "execution_count": 134,
   "id": "ce158db1-e14d-4626-ae9e-2ca4176f941f",
   "metadata": {},
   "outputs": [
    {
     "data": {
      "text/plain": [
       "[7, 8, 9, 10, 91]"
      ]
     },
     "execution_count": 134,
     "metadata": {},
     "output_type": "execute_result"
    }
   ],
   "source": [
    "list(map(lambda a: a+2, l))"
   ]
  },
  {
   "cell_type": "code",
   "execution_count": 142,
   "id": "72893f81-5225-4316-9102-f628213c43d6",
   "metadata": {},
   "outputs": [],
   "source": [
    "def test34(c):\n",
    "    return c + 2"
   ]
  },
  {
   "cell_type": "code",
   "execution_count": 144,
   "id": "9759cca8-7e5e-45a0-935f-d9cc1075f58b",
   "metadata": {},
   "outputs": [
    {
     "data": {
      "text/plain": [
       "[7, 8, 9, 10, 91]"
      ]
     },
     "execution_count": 144,
     "metadata": {},
     "output_type": "execute_result"
    }
   ],
   "source": [
    "list(map(test34, l))"
   ]
  },
  {
   "cell_type": "code",
   "execution_count": 145,
   "id": "3309d31b-dce0-47cc-971e-1ab25fca8e10",
   "metadata": {},
   "outputs": [],
   "source": [
    "l = ['shad','ans','pwskills']"
   ]
  },
  {
   "cell_type": "code",
   "execution_count": 147,
   "id": "9597e3fd-8b54-46e4-8afa-edab891627af",
   "metadata": {},
   "outputs": [
    {
     "data": {
      "text/plain": [
       "[4, 3, 8]"
      ]
     },
     "execution_count": 147,
     "metadata": {},
     "output_type": "execute_result"
    }
   ],
   "source": [
    "list(map(lambda le: len(le), l))"
   ]
  },
  {
   "cell_type": "code",
   "execution_count": 148,
   "id": "49a0637f-de70-4178-bbf4-1a0f72609580",
   "metadata": {},
   "outputs": [
    {
     "data": {
      "text/plain": [
       "[4, 3, 8]"
      ]
     },
     "execution_count": 148,
     "metadata": {},
     "output_type": "execute_result"
    }
   ],
   "source": [
    "list(map(len, l))"
   ]
  },
  {
   "cell_type": "code",
   "execution_count": 149,
   "id": "1a43d0f1-6186-4857-a40f-52b277236e91",
   "metadata": {},
   "outputs": [
    {
     "data": {
      "text/plain": [
       "['shad', 'ans', 'pwskills']"
      ]
     },
     "execution_count": 149,
     "metadata": {},
     "output_type": "execute_result"
    }
   ],
   "source": [
    "l"
   ]
  },
  {
   "cell_type": "code",
   "execution_count": 150,
   "id": "68faaf2d-5f46-4cc9-8d43-4a6f4c72de24",
   "metadata": {},
   "outputs": [
    {
     "data": {
      "text/plain": [
       "'dahs'"
      ]
     },
     "execution_count": 150,
     "metadata": {},
     "output_type": "execute_result"
    }
   ],
   "source": [
    "a = 'shad'\n",
    "a[::-1]"
   ]
  },
  {
   "cell_type": "code",
   "execution_count": 151,
   "id": "162f866e-1eb8-4011-bd68-cf718653fabc",
   "metadata": {},
   "outputs": [
    {
     "data": {
      "text/plain": [
       "['dahs', 'sna', 'sllikswp']"
      ]
     },
     "execution_count": 151,
     "metadata": {},
     "output_type": "execute_result"
    }
   ],
   "source": [
    "list(map(lambda rev: rev[::-1],l))"
   ]
  },
  {
   "cell_type": "markdown",
   "id": "f20dc976-6fa1-4f05-b97b-070795fdc732",
   "metadata": {},
   "source": [
    "### Reducer\n",
    "#### multiplication of all elements"
   ]
  },
  {
   "cell_type": "code",
   "execution_count": 156,
   "id": "63a1c341-da4b-4659-ae5a-2cc93022deb8",
   "metadata": {},
   "outputs": [],
   "source": [
    "l1= [1, 2, 3]"
   ]
  },
  {
   "cell_type": "code",
   "execution_count": 157,
   "id": "144a5110-6034-4ea2-b248-5a5a3ca23996",
   "metadata": {},
   "outputs": [],
   "source": [
    "l = [2, 3, 4, 5, 6, 6]"
   ]
  },
  {
   "cell_type": "code",
   "execution_count": 158,
   "id": "b16db6f2-130d-48f9-95b1-a93cf4401e93",
   "metadata": {},
   "outputs": [],
   "source": [
    "from functools import reduce"
   ]
  },
  {
   "cell_type": "code",
   "execution_count": 159,
   "id": "eeeadb51-7090-4667-aeba-0c60c220b1eb",
   "metadata": {},
   "outputs": [
    {
     "data": {
      "text/plain": [
       "6"
      ]
     },
     "execution_count": 159,
     "metadata": {},
     "output_type": "execute_result"
    }
   ],
   "source": [
    "reduce(lambda a, b: a*b, l1)\n",
    "\n",
    "# first a = 1, b = 2, a*b = 2\n",
    "# a = 2, b = 3, a*b = 2*3 = 6"
   ]
  },
  {
   "cell_type": "code",
   "execution_count": 160,
   "id": "f6b3223c-6877-4d66-a5ce-dc44cd306abb",
   "metadata": {},
   "outputs": [
    {
     "data": {
      "text/plain": [
       "4320"
      ]
     },
     "execution_count": 160,
     "metadata": {},
     "output_type": "execute_result"
    }
   ],
   "source": [
    "reduce(lambda a, b: a*b, l)"
   ]
  },
  {
   "cell_type": "code",
   "execution_count": 161,
   "id": "e523bfb1-001a-47a3-be0a-a0291368f42e",
   "metadata": {},
   "outputs": [
    {
     "data": {
      "text/plain": [
       "[2, 3, 4, 5, 6, 6]"
      ]
     },
     "execution_count": 161,
     "metadata": {},
     "output_type": "execute_result"
    }
   ],
   "source": [
    "l"
   ]
  },
  {
   "cell_type": "code",
   "execution_count": null,
   "id": "221f23e8-90b9-4a99-9414-7e9e953f87bb",
   "metadata": {},
   "outputs": [],
   "source": []
  },
  {
   "cell_type": "code",
   "execution_count": 168,
   "id": "82ac7048-3c48-42d6-a99d-570cf70247dc",
   "metadata": {},
   "outputs": [
    {
     "data": {
      "text/plain": [
       "[1, 2, 3, 4]"
      ]
     },
     "execution_count": 168,
     "metadata": {},
     "output_type": "execute_result"
    }
   ],
   "source": [
    "l2 = [1, 2,3, 4]\n",
    "l2"
   ]
  },
  {
   "cell_type": "code",
   "execution_count": 171,
   "id": "2cba9e9d-47d6-4246-a08d-a0184a62533c",
   "metadata": {},
   "outputs": [
    {
     "data": {
      "text/plain": [
       "[2, 4]"
      ]
     },
     "execution_count": 171,
     "metadata": {},
     "output_type": "execute_result"
    }
   ],
   "source": [
    "[i for i in l2 if i%2 == 0]"
   ]
  },
  {
   "cell_type": "markdown",
   "id": "1fce286e-671c-4d13-9f96-15cf8511fe7d",
   "metadata": {},
   "source": [
    "#### Combination of iterable(list) using list comprehension and lambda function and reducer"
   ]
  },
  {
   "cell_type": "markdown",
   "id": "987a205f-67d5-4171-9727-9a3fb3f7cf7b",
   "metadata": {},
   "source": [
    "### Multiplicattion of even numbers in l2"
   ]
  },
  {
   "cell_type": "code",
   "execution_count": 173,
   "id": "94534636-28c3-473a-b16c-9d764e74542f",
   "metadata": {},
   "outputs": [
    {
     "data": {
      "text/plain": [
       "8"
      ]
     },
     "execution_count": 173,
     "metadata": {},
     "output_type": "execute_result"
    }
   ],
   "source": [
    "reduce(lambda a, b: a*b, [i for i in l2 if i%2 == 0])"
   ]
  },
  {
   "cell_type": "markdown",
   "id": "46d02fa1-0a2e-42be-882d-1760d22b005f",
   "metadata": {},
   "source": [
    "### sum of even numbers in l2 "
   ]
  },
  {
   "cell_type": "code",
   "execution_count": 174,
   "id": "62e7ab70-b467-4dc0-bde3-76a0b18da14d",
   "metadata": {},
   "outputs": [
    {
     "data": {
      "text/plain": [
       "6"
      ]
     },
     "execution_count": 174,
     "metadata": {},
     "output_type": "execute_result"
    }
   ],
   "source": [
    "reduce(lambda a, b: a+b, [i for i in l2 if i%2 == 0])"
   ]
  },
  {
   "cell_type": "code",
   "execution_count": 175,
   "id": "5758d7a7-e18f-4f1c-b547-bb7d863c8e88",
   "metadata": {},
   "outputs": [
    {
     "data": {
      "text/plain": [
       "[2, 3, 4, 5, 6, 6]"
      ]
     },
     "execution_count": 175,
     "metadata": {},
     "output_type": "execute_result"
    }
   ],
   "source": [
    "l"
   ]
  },
  {
   "cell_type": "markdown",
   "id": "04cc94af-6552-4334-99d6-ddd713fc76f2",
   "metadata": {},
   "source": [
    "##### Min of list"
   ]
  },
  {
   "cell_type": "code",
   "execution_count": 176,
   "id": "e1e1bca8-29e4-4bca-8763-10de441f7777",
   "metadata": {},
   "outputs": [
    {
     "data": {
      "text/plain": [
       "2"
      ]
     },
     "execution_count": 176,
     "metadata": {},
     "output_type": "execute_result"
    }
   ],
   "source": [
    "reduce(lambda a, b: min(a, b), l)"
   ]
  },
  {
   "cell_type": "code",
   "execution_count": 180,
   "id": "b847cba7-4f8d-4f59-ae5e-56dd2272257e",
   "metadata": {},
   "outputs": [
    {
     "data": {
      "text/plain": [
       "2"
      ]
     },
     "execution_count": 180,
     "metadata": {},
     "output_type": "execute_result"
    }
   ],
   "source": [
    "reduce(lambda a, b: a if a<b else b, l)"
   ]
  },
  {
   "cell_type": "markdown",
   "id": "b19338f9-476a-414a-9734-30f88db78966",
   "metadata": {},
   "source": [
    "##### Max of list"
   ]
  },
  {
   "cell_type": "code",
   "execution_count": 178,
   "id": "be5fe8af-dcb8-4345-92b4-d842952fa6e9",
   "metadata": {},
   "outputs": [
    {
     "data": {
      "text/plain": [
       "6"
      ]
     },
     "execution_count": 178,
     "metadata": {},
     "output_type": "execute_result"
    }
   ],
   "source": [
    "reduce(lambda a, b: max(a, b), l)"
   ]
  },
  {
   "cell_type": "code",
   "execution_count": 181,
   "id": "a62fdfda-bd26-4d46-bf82-0bbcb0a484cb",
   "metadata": {},
   "outputs": [
    {
     "data": {
      "text/plain": [
       "6"
      ]
     },
     "execution_count": 181,
     "metadata": {},
     "output_type": "execute_result"
    }
   ],
   "source": [
    "reduce(lambda a, b: a if a>b else b, l)"
   ]
  },
  {
   "cell_type": "markdown",
   "id": "c98cc01c-051f-4c7a-a78e-74ae8f4d1717",
   "metadata": {
    "tags": []
   },
   "source": [
    "##### Factorial of a number"
   ]
  },
  {
   "cell_type": "code",
   "execution_count": 182,
   "id": "87f95931-bafc-415a-a540-012ddc578b9f",
   "metadata": {},
   "outputs": [],
   "source": [
    "n = 4\n",
    "\n",
    "fact = reduce(lambda a, b: a*b, range(1, n+1))"
   ]
  },
  {
   "cell_type": "code",
   "execution_count": 183,
   "id": "e495e17f-8a9e-4b28-8711-12cd3f347a5a",
   "metadata": {},
   "outputs": [
    {
     "data": {
      "text/plain": [
       "24"
      ]
     },
     "execution_count": 183,
     "metadata": {},
     "output_type": "execute_result"
    }
   ],
   "source": [
    "fact"
   ]
  },
  {
   "cell_type": "code",
   "execution_count": 185,
   "id": "002a69f3-2282-45f4-8174-2c0b295f2e93",
   "metadata": {},
   "outputs": [],
   "source": [
    "def test(a, b):\n",
    "    return a*b"
   ]
  },
  {
   "cell_type": "code",
   "execution_count": 187,
   "id": "775cb204-9138-4814-b186-295e69e2bbd4",
   "metadata": {},
   "outputs": [],
   "source": [
    "fact1 = reduce(test, range(1, n+1))"
   ]
  },
  {
   "cell_type": "code",
   "execution_count": 188,
   "id": "74000691-6628-4261-9c2d-24174083b4b4",
   "metadata": {},
   "outputs": [
    {
     "data": {
      "text/plain": [
       "24"
      ]
     },
     "execution_count": 188,
     "metadata": {},
     "output_type": "execute_result"
    }
   ],
   "source": [
    "fact1"
   ]
  },
  {
   "cell_type": "code",
   "execution_count": 193,
   "id": "e82e3c99-2438-4f4f-b57b-19f6fcbb0fdd",
   "metadata": {},
   "outputs": [
    {
     "data": {
      "text/plain": [
       "[0, 2, 4, 6, 8, 10]"
      ]
     },
     "execution_count": 193,
     "metadata": {},
     "output_type": "execute_result"
    }
   ],
   "source": [
    "n = 10\n",
    "[i for i in range(n+1) if i%2 == 0]"
   ]
  },
  {
   "cell_type": "markdown",
   "id": "350cecf2-17b5-4b15-80b7-9debf57b93c5",
   "metadata": {},
   "source": [
    "##### Finding the sum of even number of n"
   ]
  },
  {
   "cell_type": "code",
   "execution_count": 194,
   "id": "72b0598f-e5ec-4f18-a0b3-a1b5e197b975",
   "metadata": {},
   "outputs": [
    {
     "data": {
      "text/plain": [
       "30"
      ]
     },
     "execution_count": 194,
     "metadata": {},
     "output_type": "execute_result"
    }
   ],
   "source": [
    "n =10\n",
    "reduce(lambda a, b: a+b, [i for i in range(n+1) if i%2 == 0])"
   ]
  },
  {
   "cell_type": "markdown",
   "id": "ca1458d5-d16c-4fd3-a439-1ac3548da2e5",
   "metadata": {},
   "source": [
    "##### Finding the mul of even number of n"
   ]
  },
  {
   "cell_type": "code",
   "execution_count": 196,
   "id": "86731b36-9491-49d0-a69a-796a24b2aa32",
   "metadata": {},
   "outputs": [
    {
     "data": {
      "text/plain": [
       "3840"
      ]
     },
     "execution_count": 196,
     "metadata": {},
     "output_type": "execute_result"
    }
   ],
   "source": [
    "n =10\n",
    "reduce(lambda a, b: a*b, [i for i in range(1, n+1) if i%2 == 0])"
   ]
  },
  {
   "cell_type": "markdown",
   "id": "47a35756-215a-49fc-9d08-bc219b8c5899",
   "metadata": {},
   "source": [
    "##### Finding mul of even numbers of a list"
   ]
  },
  {
   "cell_type": "code",
   "execution_count": 197,
   "id": "9e768cad-9768-4ec4-92a9-e64dfe794562",
   "metadata": {},
   "outputs": [
    {
     "data": {
      "text/plain": [
       "[2, 3, 4, 5, 6, 6]"
      ]
     },
     "execution_count": 197,
     "metadata": {},
     "output_type": "execute_result"
    }
   ],
   "source": [
    "l"
   ]
  },
  {
   "cell_type": "code",
   "execution_count": 198,
   "id": "8e6b47e0-d86e-40ce-ac36-fa6e0ee471f8",
   "metadata": {},
   "outputs": [
    {
     "data": {
      "text/plain": [
       "288"
      ]
     },
     "execution_count": 198,
     "metadata": {},
     "output_type": "execute_result"
    }
   ],
   "source": [
    "reduce(lambda a, b: a*b, [i for i in l if i%2 == 0])"
   ]
  },
  {
   "cell_type": "markdown",
   "id": "5f8b4f70-3464-4e82-b54b-7aaeb0f0d816",
   "metadata": {},
   "source": [
    "### Filter\n",
    "##### to filter the data\n",
    "##### Filter is like map, it will apply to iterable one by one, and wherever the condition is true it will filter the data"
   ]
  },
  {
   "cell_type": "code",
   "execution_count": 200,
   "id": "d7036ac3-b0b6-48be-8123-77bd5188a0f6",
   "metadata": {},
   "outputs": [],
   "source": [
    "l = [3,4,5,6,76,3,32,2,4,5,5,5]"
   ]
  },
  {
   "cell_type": "code",
   "execution_count": 202,
   "id": "e63c0153-0b14-4b0e-bb9b-6d5e28da7087",
   "metadata": {},
   "outputs": [
    {
     "data": {
      "text/plain": [
       "[3, 5, 3, 5, 5, 5]"
      ]
     },
     "execution_count": 202,
     "metadata": {},
     "output_type": "execute_result"
    }
   ],
   "source": [
    "# Traditional way to filter the data\n",
    "[i for i in l if i%2 !=0]"
   ]
  },
  {
   "cell_type": "code",
   "execution_count": 203,
   "id": "de21f677-0dd7-4f13-9e1e-585448777c49",
   "metadata": {},
   "outputs": [
    {
     "data": {
      "text/plain": [
       "[3, 5, 3, 5, 5, 5]"
      ]
     },
     "execution_count": 203,
     "metadata": {},
     "output_type": "execute_result"
    }
   ],
   "source": [
    "list(filter(lambda a: a%2!=0, l))"
   ]
  },
  {
   "cell_type": "code",
   "execution_count": 208,
   "id": "bea5033e-74e2-4802-95c7-c697f4764c6a",
   "metadata": {},
   "outputs": [
    {
     "data": {
      "text/plain": [
       "['w', 'k', 'i', 'l', 'l', 's']"
      ]
     },
     "execution_count": 208,
     "metadata": {},
     "output_type": "execute_result"
    }
   ],
   "source": [
    "s = 'Pw Skills'\n",
    "list(filter(lambda a: a.islower(), s))"
   ]
  },
  {
   "cell_type": "markdown",
   "id": "6a4db576-a1e3-4f18-9f2c-15baee232d1f",
   "metadata": {},
   "source": [
    "##### Filtering strings in a list based on the length of the string if it is less or equal to 4"
   ]
  },
  {
   "cell_type": "code",
   "execution_count": 217,
   "id": "00fd622f-6af3-45e5-b85a-c2d20f61013f",
   "metadata": {},
   "outputs": [
    {
     "data": {
      "text/plain": [
       "['pw', 'sudh']"
      ]
     },
     "execution_count": 217,
     "metadata": {},
     "output_type": "execute_result"
    }
   ],
   "source": [
    "l = ['pw' ,'pwskills','sudh','krish']\n",
    "\n",
    "list(filter(lambda a: len(a) <= 4, l))"
   ]
  },
  {
   "cell_type": "code",
   "execution_count": 219,
   "id": "9371db19-b3c2-49d6-a0e1-0058c105b2f4",
   "metadata": {},
   "outputs": [
    {
     "data": {
      "text/plain": [
       "['pw', 'pwskills']"
      ]
     },
     "execution_count": 219,
     "metadata": {},
     "output_type": "execute_result"
    }
   ],
   "source": [
    "l = ['pw' ,'pwskills','sudh','krish']\n",
    "\n",
    "list(filter(lambda a: a.startswith('p'), l))"
   ]
  },
  {
   "cell_type": "code",
   "execution_count": 220,
   "id": "a2e073d1-9d16-4ed1-beef-df1bd41ad224",
   "metadata": {},
   "outputs": [
    {
     "data": {
      "text/plain": [
       "['pw', 'pwskills']"
      ]
     },
     "execution_count": 220,
     "metadata": {},
     "output_type": "execute_result"
    }
   ],
   "source": [
    "list(filter(lambda a: a[0] == 'p', l))"
   ]
  },
  {
   "cell_type": "markdown",
   "id": "31b8d1e4-ddef-427f-b1c1-8a5c8dfa8d04",
   "metadata": {},
   "source": [
    "#### Some more example recursive function"
   ]
  },
  {
   "cell_type": "markdown",
   "id": "ce1b5721-07e4-46cb-9789-f6d2bcb1f962",
   "metadata": {},
   "source": [
    "### Fibonacci series"
   ]
  },
  {
   "cell_type": "markdown",
   "id": "5d3e72a2-fbc7-4e63-b715-67ff86173dad",
   "metadata": {},
   "source": [
    "##### 0, 1, 1, 2, 3, 5, 8, 13 ....."
   ]
  },
  {
   "cell_type": "code",
   "execution_count": 1,
   "id": "f2be1375-7737-4194-b2cc-ab9cb78f46d9",
   "metadata": {},
   "outputs": [],
   "source": [
    "n = 5\n",
    "\n",
    "def fibonacci(n, a=0, b=1):\n",
    "    fib = [a, b]\n",
    "    \n",
    "    i = 1\n",
    "    while i<= n-2:\n",
    "        c = a+b\n",
    "        fib.append(c)\n",
    "        a = b\n",
    "        b = c\n",
    "        i += 1\n",
    "    return fib"
   ]
  },
  {
   "cell_type": "code",
   "execution_count": 3,
   "id": "655892ec-0f7a-4360-aa15-78a312ad147f",
   "metadata": {},
   "outputs": [
    {
     "data": {
      "text/plain": [
       "[0, 1, 1, 2, 3, 5, 8]"
      ]
     },
     "execution_count": 3,
     "metadata": {},
     "output_type": "execute_result"
    }
   ],
   "source": [
    "fibonacci(7)"
   ]
  },
  {
   "cell_type": "code",
   "execution_count": 4,
   "id": "9eefe6b5-6f4e-4e62-962d-af1ee444783c",
   "metadata": {},
   "outputs": [],
   "source": [
    "def gen_fib(n):\n",
    "    if n <=1:\n",
    "        return n\n",
    "    else:\n",
    "        return gen_fib(n-1) + gen_fib(n-2)"
   ]
  },
  {
   "cell_type": "markdown",
   "id": "db3ed9d2-6ab7-4721-90ae-b8e311f6e1f1",
   "metadata": {},
   "source": [
    "##### 0, 1, 1, 2, 3, 5, 8, 13 ....."
   ]
  },
  {
   "cell_type": "code",
   "execution_count": 6,
   "id": "ec89a1b8-6849-4adf-a0ab-dce24f837578",
   "metadata": {},
   "outputs": [
    {
     "data": {
      "text/plain": [
       "55"
      ]
     },
     "execution_count": 6,
     "metadata": {},
     "output_type": "execute_result"
    }
   ],
   "source": [
    "gen_fib(10)"
   ]
  },
  {
   "cell_type": "markdown",
   "id": "5eb82759-9e1a-4835-81c6-40a59eb33b8a",
   "metadata": {},
   "source": [
    "##### sum of integers starting from n"
   ]
  },
  {
   "cell_type": "code",
   "execution_count": 19,
   "id": "06d036ff-0274-4a3e-8d99-c16ba9a67a6d",
   "metadata": {},
   "outputs": [],
   "source": [
    "def sum_nos(n):\n",
    "    if n == 1:\n",
    "        return n\n",
    "    else:\n",
    "        return n + sum_nos(n-1)"
   ]
  },
  {
   "cell_type": "code",
   "execution_count": 20,
   "id": "7e1bfb6a-1c57-4a68-a66d-de5c8a954db7",
   "metadata": {},
   "outputs": [
    {
     "data": {
      "text/plain": [
       "15"
      ]
     },
     "execution_count": 20,
     "metadata": {},
     "output_type": "execute_result"
    }
   ],
   "source": [
    "sum_nos(5)"
   ]
  },
  {
   "cell_type": "markdown",
   "id": "10615d3f-2907-4729-8fba-c575d1195dbc",
   "metadata": {},
   "source": [
    "# Check the prime nos:"
   ]
  },
  {
   "cell_type": "code",
   "execution_count": null,
   "id": "7c2b4167-32b5-4af5-95eb-85f129e4a047",
   "metadata": {},
   "outputs": [],
   "source": []
  }
 ],
 "metadata": {
  "kernelspec": {
   "display_name": "Python 3 (ipykernel)",
   "language": "python",
   "name": "python3"
  },
  "language_info": {
   "codemirror_mode": {
    "name": "ipython",
    "version": 3
   },
   "file_extension": ".py",
   "mimetype": "text/x-python",
   "name": "python",
   "nbconvert_exporter": "python",
   "pygments_lexer": "ipython3",
   "version": "3.10.8"
  }
 },
 "nbformat": 4,
 "nbformat_minor": 5
}
