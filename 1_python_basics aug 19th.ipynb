{
 "cells": [
  {
   "cell_type": "code",
   "execution_count": 1,
   "id": "57876964-4ca1-465d-8870-53fd2ac4d247",
   "metadata": {},
   "outputs": [
    {
     "data": {
      "text/plain": [
       "3"
      ]
     },
     "execution_count": 1,
     "metadata": {},
     "output_type": "execute_result"
    }
   ],
   "source": [
    "1+2"
   ]
  },
  {
   "cell_type": "code",
   "execution_count": 2,
   "id": "0bf44768-5d73-4adf-81fe-89be1694b356",
   "metadata": {},
   "outputs": [],
   "source": [
    "a = 10"
   ]
  },
  {
   "cell_type": "code",
   "execution_count": 3,
   "id": "63be8b47-a986-437d-8b76-946539f0779f",
   "metadata": {},
   "outputs": [
    {
     "data": {
      "text/plain": [
       "10"
      ]
     },
     "execution_count": 3,
     "metadata": {},
     "output_type": "execute_result"
    }
   ],
   "source": [
    "a"
   ]
  },
  {
   "cell_type": "code",
   "execution_count": 4,
   "id": "d21c7534-5494-4185-8cf5-e03cd4f1e9d9",
   "metadata": {},
   "outputs": [],
   "source": [
    "shad = 334242"
   ]
  },
  {
   "cell_type": "code",
   "execution_count": 5,
   "id": "6a0499f3-799b-45e4-a7ac-1b3b0a6216f8",
   "metadata": {},
   "outputs": [
    {
     "data": {
      "text/plain": [
       "334242"
      ]
     },
     "execution_count": 5,
     "metadata": {},
     "output_type": "execute_result"
    }
   ],
   "source": [
    "shad"
   ]
  },
  {
   "cell_type": "code",
   "execution_count": 6,
   "id": "39900ea2-daa0-478b-9c84-70872cfe1bee",
   "metadata": {},
   "outputs": [
    {
     "data": {
      "text/plain": [
       "int"
      ]
     },
     "execution_count": 6,
     "metadata": {},
     "output_type": "execute_result"
    }
   ],
   "source": [
    "type(shad)"
   ]
  },
  {
   "cell_type": "code",
   "execution_count": 1,
   "id": "42de45e3-beab-4342-bfc9-e7066f1af063",
   "metadata": {},
   "outputs": [],
   "source": [
    "c = 5+9j"
   ]
  },
  {
   "cell_type": "code",
   "execution_count": 2,
   "id": "a6ab4a83-ce81-48cc-86be-a04dcd23b6d6",
   "metadata": {},
   "outputs": [
    {
     "data": {
      "text/plain": [
       "complex"
      ]
     },
     "execution_count": 2,
     "metadata": {},
     "output_type": "execute_result"
    }
   ],
   "source": [
    "type(c)"
   ]
  },
  {
   "cell_type": "code",
   "execution_count": 3,
   "id": "e3358b37-ceff-42b3-9ad1-a2442bf41a70",
   "metadata": {},
   "outputs": [
    {
     "data": {
      "text/plain": [
       "5.0"
      ]
     },
     "execution_count": 3,
     "metadata": {},
     "output_type": "execute_result"
    }
   ],
   "source": [
    "c.real"
   ]
  },
  {
   "cell_type": "code",
   "execution_count": 4,
   "id": "de881105-dcac-4a0d-b2cb-4e2e855f71c7",
   "metadata": {},
   "outputs": [
    {
     "data": {
      "text/plain": [
       "9.0"
      ]
     },
     "execution_count": 4,
     "metadata": {},
     "output_type": "execute_result"
    }
   ],
   "source": [
    "c.imag"
   ]
  },
  {
   "cell_type": "code",
   "execution_count": 5,
   "id": "ec2de0bd-cfd9-471a-888d-e2c22f38db90",
   "metadata": {},
   "outputs": [],
   "source": [
    "b = True"
   ]
  },
  {
   "cell_type": "code",
   "execution_count": 6,
   "id": "3e5b0874-5b37-48ed-9d09-5ccea3dd8829",
   "metadata": {},
   "outputs": [
    {
     "data": {
      "text/plain": [
       "bool"
      ]
     },
     "execution_count": 6,
     "metadata": {},
     "output_type": "execute_result"
    }
   ],
   "source": [
    "type(b)"
   ]
  },
  {
   "cell_type": "code",
   "execution_count": 7,
   "id": "271e85f3-6455-4804-b897-fc611379aa3a",
   "metadata": {},
   "outputs": [],
   "source": [
    "b1 = False "
   ]
  },
  {
   "cell_type": "code",
   "execution_count": 8,
   "id": "d6178b2b-c9e0-41e9-80f9-0263ed4bde90",
   "metadata": {},
   "outputs": [
    {
     "data": {
      "text/plain": [
       "False"
      ]
     },
     "execution_count": 8,
     "metadata": {},
     "output_type": "execute_result"
    }
   ],
   "source": [
    "b1"
   ]
  },
  {
   "cell_type": "code",
   "execution_count": 9,
   "id": "f2ef5c5f-9ce5-4f0b-9d3d-91073491e33c",
   "metadata": {},
   "outputs": [
    {
     "data": {
      "text/plain": [
       "bool"
      ]
     },
     "execution_count": 9,
     "metadata": {},
     "output_type": "execute_result"
    }
   ],
   "source": [
    "type(b1)"
   ]
  },
  {
   "cell_type": "code",
   "execution_count": 10,
   "id": "e006a2bd-62b2-4e2a-8467-1c9c1274bbe4",
   "metadata": {},
   "outputs": [],
   "source": [
    "a1 = 54"
   ]
  },
  {
   "cell_type": "code",
   "execution_count": 12,
   "id": "41fc93eb-6f7f-4f50-99f9-9d3d2004d6d5",
   "metadata": {},
   "outputs": [],
   "source": [
    "b1 = 65"
   ]
  },
  {
   "cell_type": "code",
   "execution_count": 13,
   "id": "9a5e90ff-b239-4681-bcba-748685d08b55",
   "metadata": {},
   "outputs": [
    {
     "data": {
      "text/plain": [
       "3510"
      ]
     },
     "execution_count": 13,
     "metadata": {},
     "output_type": "execute_result"
    }
   ],
   "source": [
    "a1*b1"
   ]
  },
  {
   "cell_type": "code",
   "execution_count": 15,
   "id": "0933584b-5be4-43da-b538-d961a7068597",
   "metadata": {},
   "outputs": [
    {
     "data": {
      "text/plain": [
       "119"
      ]
     },
     "execution_count": 15,
     "metadata": {},
     "output_type": "execute_result"
    }
   ],
   "source": [
    "a1+b1"
   ]
  },
  {
   "cell_type": "code",
   "execution_count": 17,
   "id": "b62bb4d1-2ca1-4046-8379-2a79db04af32",
   "metadata": {},
   "outputs": [
    {
     "data": {
      "text/plain": [
       "0.8307692307692308"
      ]
     },
     "execution_count": 17,
     "metadata": {},
     "output_type": "execute_result"
    }
   ],
   "source": [
    "a1/b1"
   ]
  },
  {
   "cell_type": "code",
   "execution_count": 18,
   "id": "c0e5387b-7c2b-4cd8-ab21-fc372778bdca",
   "metadata": {},
   "outputs": [
    {
     "data": {
      "text/plain": [
       "0"
      ]
     },
     "execution_count": 18,
     "metadata": {},
     "output_type": "execute_result"
    }
   ],
   "source": [
    "a1//b1"
   ]
  },
  {
   "cell_type": "code",
   "execution_count": 19,
   "id": "0c3ab262-018e-4060-ac0b-0fe2eb660a5e",
   "metadata": {},
   "outputs": [],
   "source": [
    "a, b = 543, 32"
   ]
  },
  {
   "cell_type": "code",
   "execution_count": 20,
   "id": "58e18c55-6944-48b8-a168-39fbb2be93e8",
   "metadata": {},
   "outputs": [
    {
     "data": {
      "text/plain": [
       "543"
      ]
     },
     "execution_count": 20,
     "metadata": {},
     "output_type": "execute_result"
    }
   ],
   "source": [
    "a"
   ]
  },
  {
   "cell_type": "code",
   "execution_count": 21,
   "id": "ffaf4a33-b4cd-4001-bd49-52e89b46db37",
   "metadata": {},
   "outputs": [
    {
     "data": {
      "text/plain": [
       "32"
      ]
     },
     "execution_count": 21,
     "metadata": {},
     "output_type": "execute_result"
    }
   ],
   "source": [
    "b"
   ]
  },
  {
   "cell_type": "code",
   "execution_count": 28,
   "id": "0d98acb8-413a-4c6f-8e9d-8af5b519aea6",
   "metadata": {},
   "outputs": [],
   "source": [
    "a, b, d, m = 1, 2.1, 'fds', True"
   ]
  },
  {
   "cell_type": "code",
   "execution_count": 29,
   "id": "a7c17448-2746-4273-8283-6feb04823585",
   "metadata": {},
   "outputs": [
    {
     "data": {
      "text/plain": [
       "1"
      ]
     },
     "execution_count": 29,
     "metadata": {},
     "output_type": "execute_result"
    }
   ],
   "source": [
    "a"
   ]
  },
  {
   "cell_type": "code",
   "execution_count": 30,
   "id": "2bdbd762-6c95-471a-8768-73e2bf08049f",
   "metadata": {},
   "outputs": [
    {
     "data": {
      "text/plain": [
       "2.1"
      ]
     },
     "execution_count": 30,
     "metadata": {},
     "output_type": "execute_result"
    }
   ],
   "source": [
    "b"
   ]
  },
  {
   "cell_type": "code",
   "execution_count": 31,
   "id": "012d85bb-35db-4b46-9b71-e100b8a4d0d8",
   "metadata": {},
   "outputs": [
    {
     "data": {
      "text/plain": [
       "'fds'"
      ]
     },
     "execution_count": 31,
     "metadata": {},
     "output_type": "execute_result"
    }
   ],
   "source": [
    "d"
   ]
  },
  {
   "cell_type": "code",
   "execution_count": 32,
   "id": "0c928e11-704f-4f25-b940-66a4662d119a",
   "metadata": {},
   "outputs": [
    {
     "data": {
      "text/plain": [
       "True"
      ]
     },
     "execution_count": 32,
     "metadata": {},
     "output_type": "execute_result"
    }
   ],
   "source": [
    "m"
   ]
  },
  {
   "cell_type": "code",
   "execution_count": 38,
   "id": "0708be27-8d33-4b30-9c52-24b0a649fb50",
   "metadata": {},
   "outputs": [
    {
     "name": "stderr",
     "output_type": "stream",
     "text": [
      "UsageError: Line magic function `%` not found.\n"
     ]
    }
   ],
   "source": [
    "% is a special character, not to be put in front\n",
    "%a = 324"
   ]
  },
  {
   "cell_type": "code",
   "execution_count": 39,
   "id": "4ed803cc-290c-4f09-abd6-706610b13818",
   "metadata": {},
   "outputs": [
    {
     "ename": "SyntaxError",
     "evalue": "invalid syntax (1840823979.py, line 1)",
     "output_type": "error",
     "traceback": [
      "\u001b[0;36m  Cell \u001b[0;32mIn[39], line 1\u001b[0;36m\u001b[0m\n\u001b[0;31m    a% = 342\u001b[0m\n\u001b[0m       ^\u001b[0m\n\u001b[0;31mSyntaxError\u001b[0m\u001b[0;31m:\u001b[0m invalid syntax\n"
     ]
    }
   ],
   "source": [
    "a% = 342"
   ]
  },
  {
   "cell_type": "code",
   "execution_count": 40,
   "id": "f5a3a65f-8f96-431d-bcf2-f959be22cf3b",
   "metadata": {},
   "outputs": [
    {
     "ename": "SyntaxError",
     "evalue": "invalid decimal literal (998372608.py, line 1)",
     "output_type": "error",
     "traceback": [
      "\u001b[0;36m  Cell \u001b[0;32mIn[40], line 1\u001b[0;36m\u001b[0m\n\u001b[0;31m    5n = 675\u001b[0m\n\u001b[0m    ^\u001b[0m\n\u001b[0;31mSyntaxError\u001b[0m\u001b[0;31m:\u001b[0m invalid decimal literal\n"
     ]
    }
   ],
   "source": [
    "5n = 675"
   ]
  },
  {
   "cell_type": "code",
   "execution_count": 41,
   "id": "9a8bb01a-2223-4013-9fc7-b31a7a817a45",
   "metadata": {},
   "outputs": [],
   "source": [
    "b44 = 4242"
   ]
  },
  {
   "cell_type": "code",
   "execution_count": 42,
   "id": "fce60a91-d4f8-4fbb-bef4-edd5802461cf",
   "metadata": {},
   "outputs": [
    {
     "ename": "SyntaxError",
     "evalue": "invalid syntax. Maybe you meant '==' or ':=' instead of '='? (1551579550.py, line 1)",
     "output_type": "error",
     "traceback": [
      "\u001b[0;36m  Cell \u001b[0;32mIn[42], line 1\u001b[0;36m\u001b[0m\n\u001b[0;31m    @h =242\u001b[0m\n\u001b[0m     ^\u001b[0m\n\u001b[0;31mSyntaxError\u001b[0m\u001b[0;31m:\u001b[0m invalid syntax. Maybe you meant '==' or ':=' instead of '='?\n"
     ]
    }
   ],
   "source": [
    "@h =242"
   ]
  },
  {
   "cell_type": "code",
   "execution_count": 43,
   "id": "a9e1133d-292f-48f0-b60e-f2f7bcf0d35c",
   "metadata": {},
   "outputs": [],
   "source": [
    "_a = 234"
   ]
  },
  {
   "cell_type": "code",
   "execution_count": 45,
   "id": "adf9e0d2-4ada-4e5b-a286-130a966fd8f0",
   "metadata": {},
   "outputs": [
    {
     "ename": "SyntaxError",
     "evalue": "cannot assign to True (1639940541.py, line 1)",
     "output_type": "error",
     "traceback": [
      "\u001b[0;36m  Cell \u001b[0;32mIn[45], line 1\u001b[0;36m\u001b[0m\n\u001b[0;31m    True = 534 # reserve keywords\u001b[0m\n\u001b[0m    ^\u001b[0m\n\u001b[0;31mSyntaxError\u001b[0m\u001b[0;31m:\u001b[0m cannot assign to True\n"
     ]
    }
   ],
   "source": [
    "True = 534 # reserve keywords"
   ]
  },
  {
   "cell_type": "code",
   "execution_count": 47,
   "id": "e78e4c4e-c863-4eab-82f8-f84b484ca08a",
   "metadata": {},
   "outputs": [],
   "source": [
    "int= 323232"
   ]
  },
  {
   "cell_type": "code",
   "execution_count": 48,
   "id": "8cda874b-6183-44ba-a606-094be4c849e5",
   "metadata": {},
   "outputs": [
    {
     "data": {
      "text/plain": [
       "323232"
      ]
     },
     "execution_count": 48,
     "metadata": {},
     "output_type": "execute_result"
    }
   ],
   "source": [
    "int"
   ]
  },
  {
   "cell_type": "code",
   "execution_count": 49,
   "id": "a21058d2-a635-4550-a131-39ac058f897a",
   "metadata": {},
   "outputs": [],
   "source": [
    "int = 4434"
   ]
  },
  {
   "cell_type": "code",
   "execution_count": 50,
   "id": "edd9d1c6-5d25-4e09-8e78-cb003d18013b",
   "metadata": {},
   "outputs": [
    {
     "data": {
      "text/plain": [
       "4434"
      ]
     },
     "execution_count": 50,
     "metadata": {},
     "output_type": "execute_result"
    }
   ],
   "source": [
    "int"
   ]
  },
  {
   "cell_type": "code",
   "execution_count": 1,
   "id": "7f8a09f9-f91e-4793-bbfd-313b7660b1d1",
   "metadata": {},
   "outputs": [],
   "source": [
    " b1 = True\n",
    "b2 = False"
   ]
  },
  {
   "cell_type": "code",
   "execution_count": 2,
   "id": "87b3f732-e8d7-4fd0-bc2a-d4ebc9a0f811",
   "metadata": {},
   "outputs": [
    {
     "data": {
      "text/plain": [
       "1"
      ]
     },
     "execution_count": 2,
     "metadata": {},
     "output_type": "execute_result"
    }
   ],
   "source": [
    "b1-b2"
   ]
  },
  {
   "cell_type": "code",
   "execution_count": 3,
   "id": "345b2e10-7db8-49c9-94de-fabf13e2c32e",
   "metadata": {},
   "outputs": [
    {
     "data": {
      "text/plain": [
       "-1"
      ]
     },
     "execution_count": 3,
     "metadata": {},
     "output_type": "execute_result"
    }
   ],
   "source": [
    "b2-b1"
   ]
  },
  {
   "cell_type": "code",
   "execution_count": 4,
   "id": "ccedb434-6bba-4eda-a3c2-c228226ceba5",
   "metadata": {},
   "outputs": [
    {
     "ename": "ZeroDivisionError",
     "evalue": "division by zero",
     "output_type": "error",
     "traceback": [
      "\u001b[0;31m---------------------------------------------------------------------------\u001b[0m",
      "\u001b[0;31mZeroDivisionError\u001b[0m                         Traceback (most recent call last)",
      "Cell \u001b[0;32mIn[4], line 1\u001b[0m\n\u001b[0;32m----> 1\u001b[0m \u001b[43mb1\u001b[49m\u001b[38;5;241;43m/\u001b[39;49m\u001b[38;5;241;43m0\u001b[39;49m\n",
      "\u001b[0;31mZeroDivisionError\u001b[0m: division by zero"
     ]
    }
   ],
   "source": [
    "b1/0\n"
   ]
  },
  {
   "cell_type": "code",
   "execution_count": 5,
   "id": "185724b7-a4b2-4828-b82e-3ddd35396d7b",
   "metadata": {},
   "outputs": [],
   "source": [
    "s1 = 'my name is shadman'"
   ]
  },
  {
   "cell_type": "code",
   "execution_count": 6,
   "id": "3dce5356-ca8c-4fe6-98c0-8574165f18a1",
   "metadata": {},
   "outputs": [
    {
     "ename": "SyntaxError",
     "evalue": "unterminated string literal (detected at line 1) (257410178.py, line 1)",
     "output_type": "error",
     "traceback": [
      "\u001b[0;36m  Cell \u001b[0;32mIn[6], line 1\u001b[0;36m\u001b[0m\n\u001b[0;31m    s2 = 'this is my first python class for master's'\u001b[0m\n\u001b[0m                                                    ^\u001b[0m\n\u001b[0;31mSyntaxError\u001b[0m\u001b[0;31m:\u001b[0m unterminated string literal (detected at line 1)\n"
     ]
    }
   ],
   "source": [
    "s2 = 'this is my first python class for master's'"
   ]
  },
  {
   "cell_type": "code",
   "execution_count": 8,
   "id": "8ebf54b6-ea1d-4214-858b-837a9663046c",
   "metadata": {},
   "outputs": [],
   "source": [
    "s2 = \"this is my first python class for master's\""
   ]
  },
  {
   "cell_type": "code",
   "execution_count": 9,
   "id": "46d2313c-f0c3-4276-964c-8e3a676ff789",
   "metadata": {},
   "outputs": [
    {
     "data": {
      "text/plain": [
       "\"my name is shadmanthis is my first python class for master's\""
      ]
     },
     "execution_count": 9,
     "metadata": {},
     "output_type": "execute_result"
    }
   ],
   "source": [
    "s1 + s2"
   ]
  },
  {
   "cell_type": "code",
   "execution_count": 10,
   "id": "ec63c87e-542b-4a67-94a7-9b5cdf542051",
   "metadata": {},
   "outputs": [
    {
     "data": {
      "text/plain": [
       "\"my name is shadman this is my first python class for master's\""
      ]
     },
     "execution_count": 10,
     "metadata": {},
     "output_type": "execute_result"
    }
   ],
   "source": [
    "s1 + ' ' + s2"
   ]
  },
  {
   "cell_type": "code",
   "execution_count": 13,
   "id": "a54a4200-c3a3-46a0-a38a-bf4910d9d648",
   "metadata": {},
   "outputs": [],
   "source": [
    "'''\n",
    "fdgdgd\n",
    "'''\n",
    "a=1"
   ]
  },
  {
   "cell_type": "code",
   "execution_count": 14,
   "id": "ecb7ed61-6390-4c24-972c-0d14addbb401",
   "metadata": {},
   "outputs": [],
   "source": [
    "s = 'shad'\n",
    "b = 10"
   ]
  },
  {
   "cell_type": "code",
   "execution_count": 15,
   "id": "184ba209-f331-4382-9e0c-2442cc1a01b7",
   "metadata": {},
   "outputs": [
    {
     "ename": "TypeError",
     "evalue": "can only concatenate str (not \"int\") to str",
     "output_type": "error",
     "traceback": [
      "\u001b[0;31m---------------------------------------------------------------------------\u001b[0m",
      "\u001b[0;31mTypeError\u001b[0m                                 Traceback (most recent call last)",
      "Cell \u001b[0;32mIn[15], line 1\u001b[0m\n\u001b[0;32m----> 1\u001b[0m \u001b[43ms\u001b[49m\u001b[43m \u001b[49m\u001b[38;5;241;43m+\u001b[39;49m\u001b[43m \u001b[49m\u001b[43mb\u001b[49m\n",
      "\u001b[0;31mTypeError\u001b[0m: can only concatenate str (not \"int\") to str"
     ]
    }
   ],
   "source": [
    "s + b"
   ]
  },
  {
   "cell_type": "code",
   "execution_count": 16,
   "id": "1119beb6-1f30-4c44-beca-f60c8ae81a15",
   "metadata": {},
   "outputs": [],
   "source": [
    "s = 'shad'\n",
    "b = '10'"
   ]
  },
  {
   "cell_type": "code",
   "execution_count": 17,
   "id": "29bc87c9-4c80-4759-9fb0-8f4e2c215ed9",
   "metadata": {},
   "outputs": [
    {
     "data": {
      "text/plain": [
       "'shad10'"
      ]
     },
     "execution_count": 17,
     "metadata": {},
     "output_type": "execute_result"
    }
   ],
   "source": [
    "s+b"
   ]
  },
  {
   "cell_type": "code",
   "execution_count": 18,
   "id": "f661a17b-bfb5-4f12-99aa-ca5c09cbd61f",
   "metadata": {},
   "outputs": [
    {
     "ename": "TypeError",
     "evalue": "unsupported operand type(s) for +: 'type' and 'type'",
     "output_type": "error",
     "traceback": [
      "\u001b[0;31m---------------------------------------------------------------------------\u001b[0m",
      "\u001b[0;31mTypeError\u001b[0m                                 Traceback (most recent call last)",
      "Cell \u001b[0;32mIn[18], line 1\u001b[0m\n\u001b[0;32m----> 1\u001b[0m \u001b[38;5;28;43mtype\u001b[39;49m\u001b[43m(\u001b[49m\u001b[43ms\u001b[49m\u001b[43m)\u001b[49m\u001b[43m \u001b[49m\u001b[38;5;241;43m+\u001b[39;49m\u001b[43m \u001b[49m\u001b[38;5;28;43mtype\u001b[39;49m\u001b[43m(\u001b[49m\u001b[43mb\u001b[49m\u001b[43m)\u001b[49m\n",
      "\u001b[0;31mTypeError\u001b[0m: unsupported operand type(s) for +: 'type' and 'type'"
     ]
    }
   ],
   "source": [
    "type(s) + type(b)"
   ]
  },
  {
   "cell_type": "code",
   "execution_count": 20,
   "id": "98b8dfa0-74a6-463c-b518-1672f041bfb1",
   "metadata": {},
   "outputs": [],
   "source": [
    "s = 'shad' "
   ]
  },
  {
   "cell_type": "code",
   "execution_count": 21,
   "id": "b7ce6d59-e5e8-4857-a845-2e4d073f8c94",
   "metadata": {},
   "outputs": [],
   "source": [
    "b = 10"
   ]
  },
  {
   "cell_type": "code",
   "execution_count": 23,
   "id": "4696b91f-9427-448c-8db3-2d3f2780bc32",
   "metadata": {},
   "outputs": [
    {
     "data": {
      "text/plain": [
       "'shad10'"
      ]
     },
     "execution_count": 23,
     "metadata": {},
     "output_type": "execute_result"
    }
   ],
   "source": [
    "# Typecasting\n",
    "s + str(b)"
   ]
  },
  {
   "cell_type": "code",
   "execution_count": 24,
   "id": "64b758e4-b46e-4fa9-b39e-db0122442829",
   "metadata": {},
   "outputs": [],
   "source": [
    "a = 10"
   ]
  },
  {
   "cell_type": "code",
   "execution_count": 26,
   "id": "89e0c749-207f-4746-8bca-662c5c84f009",
   "metadata": {},
   "outputs": [],
   "source": [
    "b= str(10)"
   ]
  },
  {
   "cell_type": "code",
   "execution_count": 27,
   "id": "3a11d26d-9af2-4e0f-b082-9447ec6e9251",
   "metadata": {},
   "outputs": [
    {
     "data": {
      "text/plain": [
       "str"
      ]
     },
     "execution_count": 27,
     "metadata": {},
     "output_type": "execute_result"
    }
   ],
   "source": [
    "type(b)"
   ]
  },
  {
   "cell_type": "code",
   "execution_count": 28,
   "id": "2a71e406-c5f9-4058-9e41-91e232e78de5",
   "metadata": {},
   "outputs": [
    {
     "data": {
      "text/plain": [
       "10"
      ]
     },
     "execution_count": 28,
     "metadata": {},
     "output_type": "execute_result"
    }
   ],
   "source": [
    "int(b)"
   ]
  },
  {
   "cell_type": "code",
   "execution_count": 29,
   "id": "250d7817-65a5-4a8b-ba57-f0ab141e6ace",
   "metadata": {},
   "outputs": [],
   "source": [
    "int = 342342"
   ]
  },
  {
   "cell_type": "code",
   "execution_count": 43,
   "id": "346697ab-91d0-42ea-830b-fc5cc330275f",
   "metadata": {},
   "outputs": [
    {
     "ename": "TypeError",
     "evalue": "'int' object is not callable",
     "output_type": "error",
     "traceback": [
      "\u001b[0;31m---------------------------------------------------------------------------\u001b[0m",
      "\u001b[0;31mTypeError\u001b[0m                                 Traceback (most recent call last)",
      "Cell \u001b[0;32mIn[43], line 2\u001b[0m\n\u001b[1;32m      1\u001b[0m \u001b[38;5;66;03m# above we have saved int as a variable\u001b[39;00m\n\u001b[0;32m----> 2\u001b[0m \u001b[38;5;28;43mint\u001b[39;49m\u001b[43m(\u001b[49m\u001b[43ma\u001b[49m\u001b[43m)\u001b[49m\n",
      "\u001b[0;31mTypeError\u001b[0m: 'int' object is not callable"
     ]
    }
   ],
   "source": [
    "# above we have saved int as a variable\n",
    "int(a)"
   ]
  },
  {
   "cell_type": "code",
   "execution_count": 31,
   "id": "ce9388e2-8686-41f7-9b1e-73e26fd635ea",
   "metadata": {},
   "outputs": [],
   "source": [
    "s = 'sudh'"
   ]
  },
  {
   "cell_type": "code",
   "execution_count": 1,
   "id": "ef8408b7-1437-4e2e-9621-8b43c71d38fe",
   "metadata": {},
   "outputs": [
    {
     "ename": "NameError",
     "evalue": "name 's' is not defined",
     "output_type": "error",
     "traceback": [
      "\u001b[0;31m---------------------------------------------------------------------------\u001b[0m",
      "\u001b[0;31mNameError\u001b[0m                                 Traceback (most recent call last)",
      "Cell \u001b[0;32mIn[1], line 2\u001b[0m\n\u001b[1;32m      1\u001b[0m \u001b[38;5;66;03m# cant convert string to int\u001b[39;00m\n\u001b[0;32m----> 2\u001b[0m \u001b[38;5;28mint\u001b[39m(\u001b[43ms\u001b[49m)\n",
      "\u001b[0;31mNameError\u001b[0m: name 's' is not defined"
     ]
    }
   ],
   "source": [
    "# cant convert string to int\n",
    "int(s)"
   ]
  },
  {
   "cell_type": "code",
   "execution_count": 3,
   "id": "323d132c-8796-4e67-b4c5-c5c3f3b80fc9",
   "metadata": {},
   "outputs": [
    {
     "name": "stdin",
     "output_type": "stream",
     "text": [
      " 88\n"
     ]
    }
   ],
   "source": [
    "b = input()\n"
   ]
  },
  {
   "cell_type": "code",
   "execution_count": 37,
   "id": "bcbbbc1f-d559-450f-955e-f128892dbae7",
   "metadata": {},
   "outputs": [
    {
     "data": {
      "text/plain": [
       "'7987'"
      ]
     },
     "execution_count": 37,
     "metadata": {},
     "output_type": "execute_result"
    }
   ],
   "source": [
    "b"
   ]
  },
  {
   "cell_type": "code",
   "execution_count": 38,
   "id": "3ad20c66-2f02-4ae3-8f21-d5f10b4e19de",
   "metadata": {},
   "outputs": [
    {
     "data": {
      "text/plain": [
       "str"
      ]
     },
     "execution_count": 38,
     "metadata": {},
     "output_type": "execute_result"
    }
   ],
   "source": [
    "type(b)"
   ]
  },
  {
   "cell_type": "code",
   "execution_count": 39,
   "id": "745d52e4-4d93-4a52-9be4-821b2bfd2e15",
   "metadata": {},
   "outputs": [
    {
     "name": "stdin",
     "output_type": "stream",
     "text": [
      " 534.034\n"
     ]
    }
   ],
   "source": [
    "b = input()"
   ]
  },
  {
   "cell_type": "code",
   "execution_count": 40,
   "id": "0463227c-156b-44a0-8014-d54b3978f6f1",
   "metadata": {},
   "outputs": [
    {
     "data": {
      "text/plain": [
       "'534.034'"
      ]
     },
     "execution_count": 40,
     "metadata": {},
     "output_type": "execute_result"
    }
   ],
   "source": [
    "b"
   ]
  },
  {
   "cell_type": "code",
   "execution_count": 4,
   "id": "733164b4-bcb9-4f02-940d-bc413dffbb8c",
   "metadata": {},
   "outputs": [
    {
     "name": "stdin",
     "output_type": "stream",
     "text": [
      " 9879\n"
     ]
    }
   ],
   "source": [
    "b = int(input())"
   ]
  },
  {
   "cell_type": "code",
   "execution_count": 5,
   "id": "92f56b18-bc8e-4126-8d69-a02bcd2575c2",
   "metadata": {},
   "outputs": [
    {
     "data": {
      "text/plain": [
       "9879"
      ]
     },
     "execution_count": 5,
     "metadata": {},
     "output_type": "execute_result"
    }
   ],
   "source": [
    "b"
   ]
  },
  {
   "cell_type": "code",
   "execution_count": 6,
   "id": "6ac75589-510c-48e2-a735-2b641c18e9e4",
   "metadata": {},
   "outputs": [
    {
     "data": {
      "text/plain": [
       "int"
      ]
     },
     "execution_count": 6,
     "metadata": {},
     "output_type": "execute_result"
    }
   ],
   "source": [
    "type(b)"
   ]
  },
  {
   "cell_type": "code",
   "execution_count": 7,
   "id": "d6323dad-31c9-4fd2-bb50-a726b15a5815",
   "metadata": {},
   "outputs": [],
   "source": [
    "s = 'sudh'   # 0, 1, 2, 3 Forward indexing\n",
    "# -1, -2, -3  Backward indexing"
   ]
  },
  {
   "cell_type": "code",
   "execution_count": 8,
   "id": "350509eb-cd25-4c39-a5ce-5e3feed660d0",
   "metadata": {},
   "outputs": [
    {
     "data": {
      "text/plain": [
       "'s'"
      ]
     },
     "execution_count": 8,
     "metadata": {},
     "output_type": "execute_result"
    }
   ],
   "source": [
    "s[0]"
   ]
  },
  {
   "cell_type": "code",
   "execution_count": 9,
   "id": "ccc20c37-8467-4e11-98be-da59b6b62ab9",
   "metadata": {},
   "outputs": [
    {
     "data": {
      "text/plain": [
       "'sud'"
      ]
     },
     "execution_count": 9,
     "metadata": {},
     "output_type": "execute_result"
    }
   ],
   "source": [
    "s[:3]"
   ]
  },
  {
   "cell_type": "code",
   "execution_count": 10,
   "id": "d8afacfc-de5c-43aa-a1fc-d828c899b17d",
   "metadata": {},
   "outputs": [],
   "source": [
    "# Slicing"
   ]
  },
  {
   "cell_type": "code",
   "execution_count": 11,
   "id": "f191839d-2c69-4b43-863c-eee4d470491b",
   "metadata": {},
   "outputs": [
    {
     "ename": "IndexError",
     "evalue": "string index out of range",
     "output_type": "error",
     "traceback": [
      "\u001b[0;31m---------------------------------------------------------------------------\u001b[0m",
      "\u001b[0;31mIndexError\u001b[0m                                Traceback (most recent call last)",
      "Cell \u001b[0;32mIn[11], line 1\u001b[0m\n\u001b[0;32m----> 1\u001b[0m \u001b[43ms\u001b[49m\u001b[43m[\u001b[49m\u001b[38;5;241;43m100\u001b[39;49m\u001b[43m]\u001b[49m\n",
      "\u001b[0;31mIndexError\u001b[0m: string index out of range"
     ]
    }
   ],
   "source": [
    "s[100]"
   ]
  },
  {
   "cell_type": "code",
   "execution_count": 13,
   "id": "11874752-6ab7-439a-b3bd-aba97bff58b4",
   "metadata": {},
   "outputs": [
    {
     "ename": "TypeError",
     "evalue": "'str' object does not support item assignment",
     "output_type": "error",
     "traceback": [
      "\u001b[0;31m---------------------------------------------------------------------------\u001b[0m",
      "\u001b[0;31mTypeError\u001b[0m                                 Traceback (most recent call last)",
      "Cell \u001b[0;32mIn[13], line 1\u001b[0m\n\u001b[0;32m----> 1\u001b[0m \u001b[43ms\u001b[49m\u001b[43m[\u001b[49m\u001b[38;5;241;43m0\u001b[39;49m\u001b[43m]\u001b[49m \u001b[38;5;241m=\u001b[39m \u001b[38;5;124m'\u001b[39m\u001b[38;5;124mgd\u001b[39m\u001b[38;5;124m'\u001b[39m\n",
      "\u001b[0;31mTypeError\u001b[0m: 'str' object does not support item assignment"
     ]
    }
   ],
   "source": [
    "s[0] = 'gd'   # strings are immutable"
   ]
  },
  {
   "cell_type": "code",
   "execution_count": 14,
   "id": "0f619b8b-274a-43e7-92a9-e97a40c8d5d3",
   "metadata": {},
   "outputs": [
    {
     "ename": "IndexError",
     "evalue": "string index out of range",
     "output_type": "error",
     "traceback": [
      "\u001b[0;31m---------------------------------------------------------------------------\u001b[0m",
      "\u001b[0;31mIndexError\u001b[0m                                Traceback (most recent call last)",
      "Cell \u001b[0;32mIn[14], line 1\u001b[0m\n\u001b[0;32m----> 1\u001b[0m \u001b[43ms\u001b[49m\u001b[43m[\u001b[49m\u001b[38;5;241;43m-\u001b[39;49m\u001b[38;5;241;43m5\u001b[39;49m\u001b[43m]\u001b[49m\n",
      "\u001b[0;31mIndexError\u001b[0m: string index out of range"
     ]
    }
   ],
   "source": [
    "s[-5]"
   ]
  },
  {
   "cell_type": "code",
   "execution_count": 15,
   "id": "a1debb40-5cfd-4e35-8688-3d1c020a1342",
   "metadata": {},
   "outputs": [
    {
     "data": {
      "text/plain": [
       "'s'"
      ]
     },
     "execution_count": 15,
     "metadata": {},
     "output_type": "execute_result"
    }
   ],
   "source": [
    "s[-4]"
   ]
  },
  {
   "cell_type": "code",
   "execution_count": 19,
   "id": "f9b4a818-9884-4f38-998a-d3d634d46a4f",
   "metadata": {},
   "outputs": [],
   "source": [
    "s1 = 'pwskills'"
   ]
  },
  {
   "cell_type": "code",
   "execution_count": 20,
   "id": "2637438d-2a91-45a2-8954-0ec8af776f45",
   "metadata": {},
   "outputs": [
    {
     "data": {
      "text/plain": [
       "'pwil'"
      ]
     },
     "execution_count": 20,
     "metadata": {},
     "output_type": "execute_result"
    }
   ],
   "source": [
    "s1[0:2] + s1[4:6]"
   ]
  },
  {
   "cell_type": "code",
   "execution_count": 21,
   "id": "655d0232-17ff-4266-820d-c0330aaf0ea8",
   "metadata": {},
   "outputs": [
    {
     "data": {
      "text/plain": [
       "'skill'"
      ]
     },
     "execution_count": 21,
     "metadata": {},
     "output_type": "execute_result"
    }
   ],
   "source": [
    "s1[2:-1]"
   ]
  },
  {
   "cell_type": "code",
   "execution_count": 22,
   "id": "03626ebc-b8e4-4b0f-aa49-06db470ed4db",
   "metadata": {},
   "outputs": [
    {
     "data": {
      "text/plain": [
       "'skill'"
      ]
     },
     "execution_count": 22,
     "metadata": {},
     "output_type": "execute_result"
    }
   ],
   "source": [
    "s1[2: 7]"
   ]
  },
  {
   "cell_type": "code",
   "execution_count": 24,
   "id": "96fcd8ca-b208-4000-974d-bcccc0b17dbd",
   "metadata": {},
   "outputs": [
    {
     "data": {
      "text/plain": [
       "'skills'"
      ]
     },
     "execution_count": 24,
     "metadata": {},
     "output_type": "execute_result"
    }
   ],
   "source": [
    "## in case of slicing, range is considered\n",
    "s1[2: 200]"
   ]
  },
  {
   "cell_type": "code",
   "execution_count": 25,
   "id": "5611c865-4f96-4a0a-8a14-6a4744e84cb6",
   "metadata": {},
   "outputs": [
    {
     "data": {
      "text/plain": [
       "'skills'"
      ]
     },
     "execution_count": 25,
     "metadata": {},
     "output_type": "execute_result"
    }
   ],
   "source": [
    "s1[2: ]"
   ]
  },
  {
   "cell_type": "code",
   "execution_count": 28,
   "id": "ea5cbdf8-7cf8-4703-a5ba-f07add3724ce",
   "metadata": {},
   "outputs": [
    {
     "data": {
      "text/plain": [
       "'psil'"
      ]
     },
     "execution_count": 28,
     "metadata": {},
     "output_type": "execute_result"
    }
   ],
   "source": [
    "s1[0 : 8: 2]"
   ]
  },
  {
   "cell_type": "code",
   "execution_count": 30,
   "id": "1ea8bd6e-3256-45c2-a8a8-d1ae9b517b23",
   "metadata": {},
   "outputs": [
    {
     "data": {
      "text/plain": [
       "'pwskills'"
      ]
     },
     "execution_count": 30,
     "metadata": {},
     "output_type": "execute_result"
    }
   ],
   "source": [
    "s1[0 : 8: 1]"
   ]
  },
  {
   "cell_type": "code",
   "execution_count": 35,
   "id": "7def7cb9-c350-4baf-b6d1-7aa14d5694a3",
   "metadata": {},
   "outputs": [
    {
     "data": {
      "text/plain": [
       "'slliks'"
      ]
     },
     "execution_count": 35,
     "metadata": {},
     "output_type": "execute_result"
    }
   ],
   "source": [
    "s1[7: 1: -1]"
   ]
  },
  {
   "cell_type": "code",
   "execution_count": 36,
   "id": "f386ab80-c48b-408e-9c47-e990b21fd16a",
   "metadata": {},
   "outputs": [
    {
     "data": {
      "text/plain": [
       "'pws'"
      ]
     },
     "execution_count": 36,
     "metadata": {},
     "output_type": "execute_result"
    }
   ],
   "source": [
    "s1[0: -5]"
   ]
  },
  {
   "cell_type": "code",
   "execution_count": 37,
   "id": "28b64768-e2e9-4e1c-9df4-a5e144f1f3ff",
   "metadata": {},
   "outputs": [
    {
     "data": {
      "text/plain": [
       "''"
      ]
     },
     "execution_count": 37,
     "metadata": {},
     "output_type": "execute_result"
    }
   ],
   "source": [
    "s1[-4: -5] # Conflict since automatically jump is in positive direction"
   ]
  },
  {
   "cell_type": "code",
   "execution_count": 38,
   "id": "92467902-3e38-4016-91b9-a16e1a47881b",
   "metadata": {},
   "outputs": [
    {
     "data": {
      "text/plain": [
       "'i'"
      ]
     },
     "execution_count": 38,
     "metadata": {},
     "output_type": "execute_result"
    }
   ],
   "source": [
    "s1[-4: -5: -1]"
   ]
  },
  {
   "cell_type": "code",
   "execution_count": 40,
   "id": "68c9a0dd-79ce-4dc7-a17e-b48a791d6e0d",
   "metadata": {},
   "outputs": [
    {
     "data": {
      "text/plain": [
       "'sllikswp'"
      ]
     },
     "execution_count": 40,
     "metadata": {},
     "output_type": "execute_result"
    }
   ],
   "source": [
    "s1[: : -1]"
   ]
  },
  {
   "cell_type": "code",
   "execution_count": null,
   "id": "8add2e76-c086-4324-a699-9bbcd4ccbafa",
   "metadata": {},
   "outputs": [],
   "source": []
  }
 ],
 "metadata": {
  "kernelspec": {
   "display_name": "Python 3 (ipykernel)",
   "language": "python",
   "name": "python3"
  },
  "language_info": {
   "codemirror_mode": {
    "name": "ipython",
    "version": 3
   },
   "file_extension": ".py",
   "mimetype": "text/x-python",
   "name": "python",
   "nbconvert_exporter": "python",
   "pygments_lexer": "ipython3",
   "version": "3.10.8"
  }
 },
 "nbformat": 4,
 "nbformat_minor": 5
}
