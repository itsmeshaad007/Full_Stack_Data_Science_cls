{
 "cells": [
  {
   "cell_type": "code",
   "execution_count": null,
   "id": "aebc1878-9008-4ddf-ac05-6b998088a4e5",
   "metadata": {},
   "outputs": [],
   "source": [
    "## Recursive functions\n"
   ]
  },
  {
   "cell_type": "code",
   "execution_count": 1,
   "id": "eb49a8d7-47bc-4132-83f7-496d9363d6e7",
   "metadata": {},
   "outputs": [
    {
     "data": {
      "text/plain": [
       "9"
      ]
     },
     "execution_count": 1,
     "metadata": {},
     "output_type": "execute_result"
    }
   ],
   "source": [
    "s = 'sudhanshu'\n",
    "len(s)"
   ]
  },
  {
   "cell_type": "code",
   "execution_count": 2,
   "id": "872ea01f-4184-4df1-9577-185503fbc1b6",
   "metadata": {},
   "outputs": [],
   "source": [
    "### Using recursion"
   ]
  },
  {
   "cell_type": "code",
   "execution_count": 6,
   "id": "d67d06a3-dcc7-4a9c-952d-06db2b2d02e9",
   "metadata": {},
   "outputs": [
    {
     "data": {
      "text/plain": [
       "'s'"
      ]
     },
     "execution_count": 6,
     "metadata": {},
     "output_type": "execute_result"
    }
   ],
   "source": [
    "s[0]"
   ]
  },
  {
   "cell_type": "code",
   "execution_count": 7,
   "id": "9d5a5a1a-4263-49c3-968e-85da53b97219",
   "metadata": {},
   "outputs": [
    {
     "data": {
      "text/plain": [
       "'udhanshu'"
      ]
     },
     "execution_count": 7,
     "metadata": {},
     "output_type": "execute_result"
    }
   ],
   "source": [
    "s[1:]"
   ]
  },
  {
   "cell_type": "code",
   "execution_count": 8,
   "id": "a1cdb04a-b5b4-4016-821a-6acd6a46e538",
   "metadata": {},
   "outputs": [],
   "source": [
    "def find_len(s):\n",
    "    if s == '':\n",
    "        return 0\n",
    "    else:\n",
    "        return 1 + find_len(s[1:])"
   ]
  },
  {
   "cell_type": "code",
   "execution_count": 10,
   "id": "a3accc96-8cf9-431c-ac04-e4cd6fb9cd08",
   "metadata": {},
   "outputs": [],
   "source": [
    "## s = 'sudhanshu'\n",
    "\n",
    "## else - 1 + find_len('udhanshu')\n",
    "\n",
    "## else 1 + 1 + find_len('dhanshu')\n",
    "\n",
    "## ----\n",
    "\n",
    "## else 1 + 1 + 1 + 1 + 1 + 1+ 1+ 1 +1 +find_len('')\n",
    "\n",
    "## else 9 + 0 = 9"
   ]
  },
  {
   "cell_type": "code",
   "execution_count": 11,
   "id": "fef78201-e783-4d46-9a5c-aa99f6791f7b",
   "metadata": {},
   "outputs": [
    {
     "data": {
      "text/plain": [
       "9"
      ]
     },
     "execution_count": 11,
     "metadata": {},
     "output_type": "execute_result"
    }
   ],
   "source": [
    "find_len('sudhanshu')"
   ]
  },
  {
   "cell_type": "code",
   "execution_count": 64,
   "id": "363d442e-3678-45af-a289-9f12355eabcd",
   "metadata": {},
   "outputs": [
    {
     "data": {
      "text/plain": [
       "'sudhansh'"
      ]
     },
     "execution_count": 64,
     "metadata": {},
     "output_type": "execute_result"
    }
   ],
   "source": [
    "s[:-1]"
   ]
  },
  {
   "cell_type": "code",
   "execution_count": 65,
   "id": "7f44639c-5b8e-48a1-b1d8-eff6afe313a3",
   "metadata": {},
   "outputs": [],
   "source": [
    "def reverse(s):\n",
    "    if s == '':\n",
    "        return ''\n",
    "    else:\n",
    "        return  s[-1] + reverse(s[:-1])"
   ]
  },
  {
   "cell_type": "code",
   "execution_count": 67,
   "id": "45df4d99-c28c-476b-b6a2-60465f814cf6",
   "metadata": {},
   "outputs": [
    {
     "data": {
      "text/plain": [
       "'namdahs'"
      ]
     },
     "execution_count": 67,
     "metadata": {},
     "output_type": "execute_result"
    }
   ],
   "source": [
    "reverse('shadman')"
   ]
  },
  {
   "cell_type": "markdown",
   "id": "2e60f5a3-2720-481b-a783-59d69964a2a6",
   "metadata": {},
   "source": [
    "n + reverse(shadma)\n",
    "n + a + reverse(shadm)\n",
    "n + a + m +reverse(shad)\n",
    "\n",
    "---\n",
    "---\n",
    "n+ a+ m+ d+ a+ h+ s+ ''"
   ]
  },
  {
   "cell_type": "code",
   "execution_count": 70,
   "id": "dc7209fc-d2ff-4834-8051-615dababf03b",
   "metadata": {},
   "outputs": [],
   "source": [
    "### Another way"
   ]
  },
  {
   "cell_type": "code",
   "execution_count": 71,
   "id": "858b7723-e50a-4dab-949e-e02617270b89",
   "metadata": {},
   "outputs": [],
   "source": [
    "def reverse(s):\n",
    "    if s == '':\n",
    "        return ''\n",
    "    else:\n",
    "        return  reverse(s[1:]) + s[0] "
   ]
  },
  {
   "cell_type": "code",
   "execution_count": 72,
   "id": "ce08ac92-cb89-4d1a-b8e6-9f0335aa8f9d",
   "metadata": {},
   "outputs": [
    {
     "data": {
      "text/plain": [
       "'namdahs'"
      ]
     },
     "execution_count": 72,
     "metadata": {},
     "output_type": "execute_result"
    }
   ],
   "source": [
    "reverse('shadman')"
   ]
  },
  {
   "cell_type": "code",
   "execution_count": 73,
   "id": "a4db74f6-1652-42c9-9b95-ecbda4ad1898",
   "metadata": {},
   "outputs": [
    {
     "data": {
      "text/plain": [
       "'irasna'"
      ]
     },
     "execution_count": 73,
     "metadata": {},
     "output_type": "execute_result"
    }
   ],
   "source": [
    "reverse('ansari')"
   ]
  },
  {
   "cell_type": "code",
   "execution_count": 74,
   "id": "4d8034f6-113c-43fe-9461-b83d98edf625",
   "metadata": {},
   "outputs": [
    {
     "data": {
      "text/plain": [
       "'hdus'"
      ]
     },
     "execution_count": 74,
     "metadata": {},
     "output_type": "execute_result"
    }
   ],
   "source": [
    "'' + 'h' + 'd' + 'u' + 's'"
   ]
  },
  {
   "cell_type": "markdown",
   "id": "d60266af-9b3c-47fc-b6a7-612bff169ba5",
   "metadata": {},
   "source": [
    "s = 'sgsgss'\n",
    "\n",
    "function to find number of occurence of character in a string"
   ]
  },
  {
   "cell_type": "code",
   "execution_count": 1,
   "id": "71edbcae-4d91-4aaa-8c89-385eb53ecd2f",
   "metadata": {},
   "outputs": [],
   "source": [
    "def count_string(s, c):\n",
    "    if s == '':\n",
    "        return 0\n",
    "    elif s[0] == c:\n",
    "        return 1 + count_string(s[1:], c)\n",
    "    else:\n",
    "        return count_string(s[1:], c) "
   ]
  },
  {
   "cell_type": "code",
   "execution_count": 2,
   "id": "0249dce8-8d65-4275-ae0d-129adef92964",
   "metadata": {},
   "outputs": [
    {
     "data": {
      "text/plain": [
       "2"
      ]
     },
     "execution_count": 2,
     "metadata": {},
     "output_type": "execute_result"
    }
   ],
   "source": [
    "count_string('shadsha','s')"
   ]
  },
  {
   "cell_type": "code",
   "execution_count": 3,
   "id": "4771a9c1-2ae4-4854-bfb1-cfa6efedfe2d",
   "metadata": {},
   "outputs": [
    {
     "data": {
      "text/plain": [
       "0"
      ]
     },
     "execution_count": 3,
     "metadata": {},
     "output_type": "execute_result"
    }
   ],
   "source": [
    "count_string('shadsha','m')"
   ]
  },
  {
   "cell_type": "code",
   "execution_count": 22,
   "id": "c5be19c2-fcbe-4fbd-8704-bbb408ecd3b6",
   "metadata": {},
   "outputs": [],
   "source": [
    "l = [4,5,6,3,4,5,6,6,7]"
   ]
  },
  {
   "cell_type": "code",
   "execution_count": 23,
   "id": "6d6eb16f-2617-42be-946e-22f69a8ce311",
   "metadata": {},
   "outputs": [],
   "source": [
    "### Using recursive call, to check if the list is sorted in ascending order"
   ]
  },
  {
   "cell_type": "code",
   "execution_count": 38,
   "id": "f88e5221-15a1-462d-9489-633cb6d0edb3",
   "metadata": {},
   "outputs": [
    {
     "data": {
      "text/plain": [
       "[5, 6, 6, 7]"
      ]
     },
     "execution_count": 38,
     "metadata": {},
     "output_type": "execute_result"
    }
   ],
   "source": [
    "l[5:]"
   ]
  },
  {
   "cell_type": "code",
   "execution_count": 39,
   "id": "68bb9bd8-fb6d-4b66-bade-74380de8b7fb",
   "metadata": {},
   "outputs": [],
   "source": [
    "lm = []"
   ]
  },
  {
   "cell_type": "code",
   "execution_count": 40,
   "id": "27114473-bc8c-4391-a67e-08520fb3dd24",
   "metadata": {},
   "outputs": [
    {
     "data": {
      "text/plain": [
       "0"
      ]
     },
     "execution_count": 40,
     "metadata": {},
     "output_type": "execute_result"
    }
   ],
   "source": [
    "len(lm)"
   ]
  },
  {
   "cell_type": "code",
   "execution_count": 45,
   "id": "8d99c347-9c65-4aa9-8bfe-549bb2b4afbe",
   "metadata": {},
   "outputs": [],
   "source": [
    "def check_asc(l):\n",
    "    if len(l) <= 1:\n",
    "        return True\n",
    "    if l[0] > l[1]:\n",
    "        return False\n",
    "    elif l[0] <= l[1]:\n",
    "        return check_asc(l[1:])\n",
    "    elif l[1] is null:\n",
    "        return 0\n"
   ]
  },
  {
   "cell_type": "code",
   "execution_count": 46,
   "id": "49c8cbd1-88e7-4144-9c2f-f40dfbd0fd6c",
   "metadata": {},
   "outputs": [
    {
     "data": {
      "text/plain": [
       "False"
      ]
     },
     "execution_count": 46,
     "metadata": {},
     "output_type": "execute_result"
    }
   ],
   "source": [
    "check_asc(l)"
   ]
  },
  {
   "cell_type": "code",
   "execution_count": 48,
   "id": "954cb62c-d5e8-4208-967e-5e04b8521373",
   "metadata": {},
   "outputs": [
    {
     "data": {
      "text/plain": [
       "False"
      ]
     },
     "execution_count": 48,
     "metadata": {},
     "output_type": "execute_result"
    }
   ],
   "source": [
    "l2 = [1,2,3,4, 1]\n",
    "check_asc(l2)"
   ]
  },
  {
   "cell_type": "code",
   "execution_count": 49,
   "id": "5229eaa4-99c1-4906-981a-30d76344c8e9",
   "metadata": {},
   "outputs": [
    {
     "data": {
      "text/plain": [
       "True"
      ]
     },
     "execution_count": 49,
     "metadata": {},
     "output_type": "execute_result"
    }
   ],
   "source": [
    "l2 = [1,2,3,4]\n",
    "check_asc(l2)"
   ]
  },
  {
   "cell_type": "code",
   "execution_count": 44,
   "id": "0f3faaaf-7a3d-4ef3-a6be-275ac6afc246",
   "metadata": {},
   "outputs": [
    {
     "data": {
      "text/plain": [
       "[4, 5, 6, 3, 4, 5, 6, 6, 7]"
      ]
     },
     "execution_count": 44,
     "metadata": {},
     "output_type": "execute_result"
    }
   ],
   "source": [
    "l"
   ]
  },
  {
   "cell_type": "code",
   "execution_count": 51,
   "id": "16585660-6f34-4fa8-9c31-240afe01f073",
   "metadata": {},
   "outputs": [],
   "source": [
    "def check_sort_list(l):\n",
    "    if len(l) <= 1:\n",
    "        return True\n",
    "    elif l[0] > l[1]:\n",
    "        return False\n",
    "    elif l[0] <= l[1]:\n",
    "        return check_sort_list(l[1:])\n",
    "        "
   ]
  },
  {
   "cell_type": "code",
   "execution_count": 52,
   "id": "df508550-f2b3-4392-9f38-23eb89e4f7e7",
   "metadata": {},
   "outputs": [
    {
     "data": {
      "text/plain": [
       "True"
      ]
     },
     "execution_count": 52,
     "metadata": {},
     "output_type": "execute_result"
    }
   ],
   "source": [
    "check_sort_list([1,2,3,4])"
   ]
  },
  {
   "cell_type": "code",
   "execution_count": 53,
   "id": "ab8427c3-003c-45ef-8bc3-013e1384b0bb",
   "metadata": {},
   "outputs": [
    {
     "data": {
      "text/plain": [
       "False"
      ]
     },
     "execution_count": 53,
     "metadata": {},
     "output_type": "execute_result"
    }
   ],
   "source": [
    "check_sort_list([1,2,3,4, 3])"
   ]
  },
  {
   "cell_type": "code",
   "execution_count": 54,
   "id": "ee05b8bf-1e0d-4278-b635-d66fe7282f02",
   "metadata": {},
   "outputs": [],
   "source": [
    "def check_per_square(n, start = 1):\n",
    "    if n == start**2:\n",
    "        return True\n",
    "    elif n < start**2:\n",
    "        return False\n",
    "    else:\n",
    "        return check_per_square(n, start+1)"
   ]
  },
  {
   "cell_type": "code",
   "execution_count": 55,
   "id": "6a86835e-e503-4ff3-a879-d19c31b943b7",
   "metadata": {},
   "outputs": [
    {
     "data": {
      "text/plain": [
       "True"
      ]
     },
     "execution_count": 55,
     "metadata": {},
     "output_type": "execute_result"
    }
   ],
   "source": [
    "check_per_square(9)"
   ]
  },
  {
   "cell_type": "code",
   "execution_count": 56,
   "id": "1ab45446-605f-4940-a904-a77200c22ec9",
   "metadata": {},
   "outputs": [
    {
     "data": {
      "text/plain": [
       "False"
      ]
     },
     "execution_count": 56,
     "metadata": {},
     "output_type": "execute_result"
    }
   ],
   "source": [
    "check_per_square(0.64)"
   ]
  },
  {
   "cell_type": "code",
   "execution_count": 58,
   "id": "c5dbf863-2c04-4db5-aa74-515cd3e18092",
   "metadata": {},
   "outputs": [
    {
     "data": {
      "text/plain": [
       "33"
      ]
     },
     "execution_count": 58,
     "metadata": {},
     "output_type": "execute_result"
    }
   ],
   "source": [
    "33 # divisible by itself"
   ]
  },
  {
   "cell_type": "code",
   "execution_count": 94,
   "id": "003b4626-10c8-4820-bb96-43aebeeb5db3",
   "metadata": {},
   "outputs": [],
   "source": [
    "def check_prime(n, start = 2):\n",
    "    if n == 1 or n == 0:\n",
    "        return False\n",
    "    elif n%start == 0:\n",
    "        return False\n",
    "    elif n%start == 1 and (check_per_square(n) == False):\n",
    "        return True\n",
    "    else:\n",
    "        return check_prime(n, start+1)\n",
    "        "
   ]
  },
  {
   "cell_type": "code",
   "execution_count": 99,
   "id": "7e3fd905-bf28-4d28-8766-90b068795ad4",
   "metadata": {},
   "outputs": [
    {
     "data": {
      "text/plain": [
       "True"
      ]
     },
     "execution_count": 99,
     "metadata": {},
     "output_type": "execute_result"
    }
   ],
   "source": [
    "check_prime(63)"
   ]
  },
  {
   "cell_type": "code",
   "execution_count": 100,
   "id": "82dfde7b-02a0-4930-a991-1744f954b254",
   "metadata": {},
   "outputs": [
    {
     "data": {
      "text/plain": [
       "False"
      ]
     },
     "execution_count": 100,
     "metadata": {},
     "output_type": "execute_result"
    }
   ],
   "source": [
    "check_prime(9)"
   ]
  },
  {
   "cell_type": "code",
   "execution_count": 101,
   "id": "8bdd4bd5-57ff-4234-8257-bac76d2700c1",
   "metadata": {},
   "outputs": [
    {
     "data": {
      "text/plain": [
       "False"
      ]
     },
     "execution_count": 101,
     "metadata": {},
     "output_type": "execute_result"
    }
   ],
   "source": [
    "check_prime(100)"
   ]
  },
  {
   "cell_type": "markdown",
   "id": "43f1a118-7d9d-455f-bc5c-df1a7db84223",
   "metadata": {},
   "source": [
    "## Iterable object, Iterator, Next, Iter"
   ]
  },
  {
   "cell_type": "code",
   "execution_count": 6,
   "id": "efd29cc6-9eb8-4ba7-b80d-8a8b58e51faa",
   "metadata": {},
   "outputs": [],
   "source": [
    "l = [2,3,4,5,6]\n",
    "a = 10\n",
    "s = 'sudh'"
   ]
  },
  {
   "cell_type": "code",
   "execution_count": 7,
   "id": "be8a6998-6840-4ab9-becc-fcd92405f5a2",
   "metadata": {},
   "outputs": [
    {
     "name": "stdout",
     "output_type": "stream",
     "text": [
      "2\n",
      "3\n",
      "4\n",
      "5\n",
      "6\n"
     ]
    }
   ],
   "source": [
    "for i in l:\n",
    "    print(i)"
   ]
  },
  {
   "cell_type": "code",
   "execution_count": 9,
   "id": "978a4a54-49ed-477b-b15e-24741fb8de2f",
   "metadata": {},
   "outputs": [
    {
     "ename": "TypeError",
     "evalue": "'int' object is not iterable",
     "output_type": "error",
     "traceback": [
      "\u001b[0;31m---------------------------------------------------------------------------\u001b[0m",
      "\u001b[0;31mTypeError\u001b[0m                                 Traceback (most recent call last)",
      "Cell \u001b[0;32mIn[9], line 1\u001b[0m\n\u001b[0;32m----> 1\u001b[0m \u001b[38;5;28;01mfor\u001b[39;00m i \u001b[38;5;129;01min\u001b[39;00m a:\n\u001b[1;32m      2\u001b[0m     \u001b[38;5;28mprint\u001b[39m(i)\n",
      "\u001b[0;31mTypeError\u001b[0m: 'int' object is not iterable"
     ]
    }
   ],
   "source": [
    "for i in a:\n",
    "    print(i)\n",
    "    \n",
    "    ## Int is not iterable"
   ]
  },
  {
   "cell_type": "code",
   "execution_count": 10,
   "id": "d09717c0-f27a-43b1-b994-7a52eedd8d3c",
   "metadata": {},
   "outputs": [
    {
     "name": "stdout",
     "output_type": "stream",
     "text": [
      "s\n",
      "u\n",
      "d\n",
      "h\n"
     ]
    }
   ],
   "source": [
    "for i in s:\n",
    "    print(i)"
   ]
  },
  {
   "cell_type": "markdown",
   "id": "6ffd42cc-3064-489c-bb91-2445553e1934",
   "metadata": {},
   "source": [
    "### iter"
   ]
  },
  {
   "cell_type": "code",
   "execution_count": 13,
   "id": "4b1262cf-4f2a-4e8f-90af-81a8b8b44479",
   "metadata": {},
   "outputs": [
    {
     "data": {
      "text/plain": [
       "<str_iterator at 0x7f4a86e07010>"
      ]
     },
     "execution_count": 13,
     "metadata": {},
     "output_type": "execute_result"
    }
   ],
   "source": [
    "iter(s)"
   ]
  },
  {
   "cell_type": "code",
   "execution_count": 14,
   "id": "0343e39d-8f23-4934-a698-07bda3ba3a49",
   "metadata": {},
   "outputs": [
    {
     "data": {
      "text/plain": [
       "<list_iterator at 0x7f4a86e055a0>"
      ]
     },
     "execution_count": 14,
     "metadata": {},
     "output_type": "execute_result"
    }
   ],
   "source": [
    "iter(l)"
   ]
  },
  {
   "cell_type": "code",
   "execution_count": null,
   "id": "3ddfd09e-6d06-4e2a-b19b-99c0fce55bf0",
   "metadata": {},
   "outputs": [],
   "source": [
    "Iterator: "
   ]
  },
  {
   "cell_type": "code",
   "execution_count": 15,
   "id": "500dde0d-ee79-4ea1-8754-daae8549c5de",
   "metadata": {},
   "outputs": [],
   "source": [
    "s1 = iter(s)"
   ]
  },
  {
   "cell_type": "code",
   "execution_count": 16,
   "id": "81385c86-ff44-4107-8ceb-4c2ff5ea66c8",
   "metadata": {},
   "outputs": [
    {
     "data": {
      "text/plain": [
       "'s'"
      ]
     },
     "execution_count": 16,
     "metadata": {},
     "output_type": "execute_result"
    }
   ],
   "source": [
    "next(s1)"
   ]
  },
  {
   "cell_type": "code",
   "execution_count": 17,
   "id": "2dfde41a-a4c9-4b35-87d8-9a212eb9e2b8",
   "metadata": {},
   "outputs": [
    {
     "data": {
      "text/plain": [
       "'u'"
      ]
     },
     "execution_count": 17,
     "metadata": {},
     "output_type": "execute_result"
    }
   ],
   "source": [
    "next(s1)"
   ]
  },
  {
   "cell_type": "code",
   "execution_count": 18,
   "id": "29919cc3-bc38-4e22-922b-6c50315cd8ed",
   "metadata": {},
   "outputs": [
    {
     "data": {
      "text/plain": [
       "'d'"
      ]
     },
     "execution_count": 18,
     "metadata": {},
     "output_type": "execute_result"
    }
   ],
   "source": [
    "next(s1)"
   ]
  },
  {
   "cell_type": "code",
   "execution_count": 19,
   "id": "222b8acf-53db-4da0-a567-65c4a02861b5",
   "metadata": {},
   "outputs": [
    {
     "data": {
      "text/plain": [
       "'h'"
      ]
     },
     "execution_count": 19,
     "metadata": {},
     "output_type": "execute_result"
    }
   ],
   "source": [
    "next(s1)"
   ]
  },
  {
   "cell_type": "code",
   "execution_count": 20,
   "id": "8acb6515-c485-4591-adee-8cc41663144b",
   "metadata": {},
   "outputs": [
    {
     "ename": "StopIteration",
     "evalue": "",
     "output_type": "error",
     "traceback": [
      "\u001b[0;31m---------------------------------------------------------------------------\u001b[0m",
      "\u001b[0;31mStopIteration\u001b[0m                             Traceback (most recent call last)",
      "Cell \u001b[0;32mIn[20], line 1\u001b[0m\n\u001b[0;32m----> 1\u001b[0m \u001b[38;5;28;43mnext\u001b[39;49m\u001b[43m(\u001b[49m\u001b[43ms1\u001b[49m\u001b[43m)\u001b[49m\n",
      "\u001b[0;31mStopIteration\u001b[0m: "
     ]
    }
   ],
   "source": [
    "next(s1)"
   ]
  },
  {
   "cell_type": "code",
   "execution_count": 26,
   "id": "d007717a-22f7-41b9-beb8-ed1102f3b0e8",
   "metadata": {},
   "outputs": [
    {
     "ename": "TypeError",
     "evalue": "'str' object is not an iterator",
     "output_type": "error",
     "traceback": [
      "\u001b[0;31m---------------------------------------------------------------------------\u001b[0m",
      "\u001b[0;31mTypeError\u001b[0m                                 Traceback (most recent call last)",
      "Cell \u001b[0;32mIn[26], line 3\u001b[0m\n\u001b[1;32m      1\u001b[0m s2 \u001b[38;5;241m=\u001b[39m \u001b[38;5;124m'\u001b[39m\u001b[38;5;124mpwskills\u001b[39m\u001b[38;5;124m'\u001b[39m\n\u001b[0;32m----> 3\u001b[0m \u001b[38;5;28;43mnext\u001b[39;49m\u001b[43m(\u001b[49m\u001b[43ms2\u001b[49m\u001b[43m)\u001b[49m\n",
      "\u001b[0;31mTypeError\u001b[0m: 'str' object is not an iterator"
     ]
    }
   ],
   "source": [
    "s2 = 'pwskills'\n",
    "\n",
    "next(s2)"
   ]
  },
  {
   "cell_type": "code",
   "execution_count": 27,
   "id": "6f7358ff-124c-48e5-b91e-7d4124bce546",
   "metadata": {},
   "outputs": [
    {
     "data": {
      "text/plain": [
       "'p'"
      ]
     },
     "execution_count": 27,
     "metadata": {},
     "output_type": "execute_result"
    }
   ],
   "source": [
    "s2 = 'pwskills'\n",
    "s2 = iter(s2)\n",
    "next(s2)"
   ]
  },
  {
   "cell_type": "markdown",
   "id": "fd162588-b807-4ab8-bead-df33fcd8bd75",
   "metadata": {},
   "source": [
    "## in order to iterate, first of all object should be iterable"
   ]
  },
  {
   "cell_type": "markdown",
   "id": "ebedabde-2130-4944-b7d9-4097b4488214",
   "metadata": {},
   "source": [
    "#### String is iterable object but not iterator by default, instead inside for loop first iterable object is converted to iterator using in-built iter functtion"
   ]
  },
  {
   "cell_type": "code",
   "execution_count": 33,
   "id": "233f94f9-6c79-4ac8-b492-15f5f48064c8",
   "metadata": {},
   "outputs": [
    {
     "name": "stdout",
     "output_type": "stream",
     "text": [
      "1\n",
      "2\n",
      "3\n"
     ]
    }
   ],
   "source": [
    "for i in [1,2,3]:\n",
    "    print(i)"
   ]
  },
  {
   "cell_type": "markdown",
   "id": "dfe329d5-9ffd-4bee-9450-025e75da81db",
   "metadata": {},
   "source": [
    "##### inside For loop, it is checking if [1,2,3] is iterable object\n",
    "##### if it is iterable object, it will use iter to convert into iterator\n",
    "##### then next will be used to change pointer from 1, 2, 3 and end at the last element"
   ]
  },
  {
   "cell_type": "code",
   "execution_count": 40,
   "id": "c2eac6ea-f15e-433a-acd6-ae23346358a0",
   "metadata": {},
   "outputs": [
    {
     "name": "stdout",
     "output_type": "stream",
     "text": [
      "1\n",
      "2\n",
      "3\n"
     ]
    }
   ],
   "source": [
    "l1 = iter([1,2,3])\n",
    "print(next(l1))\n",
    "print(next(l1))\n",
    "print(next(l1))\n"
   ]
  },
  {
   "cell_type": "markdown",
   "id": "e2b302a7-238f-437d-97ed-f5b5e16ebbd0",
   "metadata": {},
   "source": [
    "## Iterating using while loop"
   ]
  },
  {
   "cell_type": "code",
   "execution_count": 46,
   "id": "15b2c0ab-8653-4ad8-b10a-230f7670073b",
   "metadata": {},
   "outputs": [
    {
     "name": "stdout",
     "output_type": "stream",
     "text": [
      "1\n",
      "2\n",
      "3\n"
     ]
    }
   ],
   "source": [
    "l = [1,2,3]\n",
    "l1 =  iter(l)\n",
    "point = 0\n",
    "\n",
    "while point < len(l):\n",
    "    print(next(l1))\n",
    "    point +=1\n"
   ]
  },
  {
   "cell_type": "code",
   "execution_count": 47,
   "id": "13ad7a9a-843f-4c8f-8c2c-9765bae0855c",
   "metadata": {},
   "outputs": [
    {
     "name": "stdout",
     "output_type": "stream",
     "text": [
      "s\n",
      "h\n",
      "a\n",
      "d\n"
     ]
    }
   ],
   "source": [
    "l = 'shad'\n",
    "l1 =  iter(l)\n",
    "point = 0\n",
    "\n",
    "while point < len(l):\n",
    "    print(next(l1))\n",
    "    point +=1\n"
   ]
  },
  {
   "cell_type": "code",
   "execution_count": 48,
   "id": "8c431962-65aa-4593-82b1-4c63e267e215",
   "metadata": {},
   "outputs": [
    {
     "ename": "TypeError",
     "evalue": "'int' object is not iterable",
     "output_type": "error",
     "traceback": [
      "\u001b[0;31m---------------------------------------------------------------------------\u001b[0m",
      "\u001b[0;31mTypeError\u001b[0m                                 Traceback (most recent call last)",
      "Cell \u001b[0;32mIn[48], line 1\u001b[0m\n\u001b[0;32m----> 1\u001b[0m \u001b[38;5;28;01mfor\u001b[39;00m i \u001b[38;5;129;01min\u001b[39;00m \u001b[38;5;241m10\u001b[39m:\n\u001b[1;32m      2\u001b[0m     \u001b[38;5;28mprint\u001b[39m(i)\n",
      "\u001b[0;31mTypeError\u001b[0m: 'int' object is not iterable"
     ]
    }
   ],
   "source": [
    "for i in 10:\n",
    "    print(i)"
   ]
  },
  {
   "cell_type": "markdown",
   "id": "7c8758a7-2cc0-4e10-9cf2-a12ea8782452",
   "metadata": {},
   "source": [
    "#### Set is an iterable object"
   ]
  },
  {
   "cell_type": "code",
   "execution_count": 49,
   "id": "0aab77e3-0afb-48e8-8c40-b32da70d7e87",
   "metadata": {},
   "outputs": [
    {
     "name": "stdout",
     "output_type": "stream",
     "text": [
      "1\n",
      "2\n",
      "3\n",
      "4\n"
     ]
    }
   ],
   "source": [
    "for i in {1,2,3,4}:\n",
    "    print(i)"
   ]
  },
  {
   "cell_type": "markdown",
   "id": "6d1b09c7-3793-4bd6-939e-7fa8433c0603",
   "metadata": {},
   "source": [
    "#### Tuple is an iterable object"
   ]
  },
  {
   "cell_type": "code",
   "execution_count": 50,
   "id": "6b0e5399-810c-4dc3-9e85-4e093d2e4c4a",
   "metadata": {},
   "outputs": [
    {
     "name": "stdout",
     "output_type": "stream",
     "text": [
      "1\n",
      "2\n",
      "3\n",
      "4\n"
     ]
    }
   ],
   "source": [
    "for i in (1,2,3,4):\n",
    "    print(i)"
   ]
  },
  {
   "cell_type": "markdown",
   "id": "575946f3-f50c-4da9-85b5-a105f1b326d5",
   "metadata": {},
   "source": [
    "#### Bool is not iterable object"
   ]
  },
  {
   "cell_type": "code",
   "execution_count": 53,
   "id": "23ab1504-c4da-4150-a0be-aaf086d4d536",
   "metadata": {},
   "outputs": [
    {
     "ename": "TypeError",
     "evalue": "'bool' object is not iterable",
     "output_type": "error",
     "traceback": [
      "\u001b[0;31m---------------------------------------------------------------------------\u001b[0m",
      "\u001b[0;31mTypeError\u001b[0m                                 Traceback (most recent call last)",
      "Cell \u001b[0;32mIn[53], line 1\u001b[0m\n\u001b[0;32m----> 1\u001b[0m \u001b[38;5;28;43miter\u001b[39;49m\u001b[43m(\u001b[49m\u001b[38;5;28;43;01mTrue\u001b[39;49;00m\u001b[43m)\u001b[49m\n",
      "\u001b[0;31mTypeError\u001b[0m: 'bool' object is not iterable"
     ]
    }
   ],
   "source": [
    "iter(True)"
   ]
  },
  {
   "cell_type": "markdown",
   "id": "c06d1f21-1935-46fe-8fed-ca86a673841b",
   "metadata": {},
   "source": [
    "#### dictionary is key iterable object"
   ]
  },
  {
   "cell_type": "code",
   "execution_count": 55,
   "id": "e3e985db-e4eb-48cc-9544-164f8042ed54",
   "metadata": {},
   "outputs": [
    {
     "data": {
      "text/plain": [
       "<dict_keyiterator at 0x7f4a86c5c810>"
      ]
     },
     "execution_count": 55,
     "metadata": {},
     "output_type": "execute_result"
    }
   ],
   "source": [
    "iter({'key':'value'})"
   ]
  },
  {
   "cell_type": "markdown",
   "id": "ffb133d1-1cf9-4574-b297-09a02d543064",
   "metadata": {},
   "source": [
    "### Generators"
   ]
  },
  {
   "cell_type": "code",
   "execution_count": 2,
   "id": "d0fcc47e-630d-4a8a-a60c-2b0bb6bbbf8e",
   "metadata": {},
   "outputs": [
    {
     "data": {
      "text/plain": [
       "range(0, 5)"
      ]
     },
     "execution_count": 2,
     "metadata": {},
     "output_type": "execute_result"
    }
   ],
   "source": [
    "range(0, 5)"
   ]
  },
  {
   "cell_type": "code",
   "execution_count": 1,
   "id": "6d441132-171c-407f-92ac-943e0d93a937",
   "metadata": {},
   "outputs": [
    {
     "data": {
      "text/plain": [
       "[0, 1, 2, 3, 4]"
      ]
     },
     "execution_count": 1,
     "metadata": {},
     "output_type": "execute_result"
    }
   ],
   "source": [
    "list(range(0, 5))"
   ]
  },
  {
   "cell_type": "code",
   "execution_count": 57,
   "id": "bcde0e8d-9168-461b-98de-e9b92baf9f10",
   "metadata": {},
   "outputs": [
    {
     "name": "stdout",
     "output_type": "stream",
     "text": [
      "0\n",
      "1\n",
      "2\n",
      "3\n",
      "4\n"
     ]
    }
   ],
   "source": [
    "for i in range(0, 5):\n",
    "    print(i)"
   ]
  },
  {
   "cell_type": "code",
   "execution_count": 60,
   "id": "81316360-3890-4893-9fe1-8c02d5426159",
   "metadata": {},
   "outputs": [],
   "source": [
    "i = iter(range(0, 5))"
   ]
  },
  {
   "cell_type": "code",
   "execution_count": 61,
   "id": "9f784c0b-c1e1-41db-b64e-48708254e7c7",
   "metadata": {},
   "outputs": [
    {
     "data": {
      "text/plain": [
       "0"
      ]
     },
     "execution_count": 61,
     "metadata": {},
     "output_type": "execute_result"
    }
   ],
   "source": [
    "next(i)"
   ]
  },
  {
   "cell_type": "code",
   "execution_count": 62,
   "id": "b9bc9001-443f-44ea-8503-17d8aa71bd89",
   "metadata": {},
   "outputs": [
    {
     "data": {
      "text/plain": [
       "1"
      ]
     },
     "execution_count": 62,
     "metadata": {},
     "output_type": "execute_result"
    }
   ],
   "source": [
    "next(i)"
   ]
  },
  {
   "cell_type": "code",
   "execution_count": 63,
   "id": "2098755f-252f-434c-8ecc-41bf687e87dd",
   "metadata": {},
   "outputs": [
    {
     "data": {
      "text/plain": [
       "2"
      ]
     },
     "execution_count": 63,
     "metadata": {},
     "output_type": "execute_result"
    }
   ],
   "source": [
    "next(i)"
   ]
  },
  {
   "cell_type": "code",
   "execution_count": 64,
   "id": "97a3601b-ab51-402a-9ac2-ee584dca81c8",
   "metadata": {},
   "outputs": [
    {
     "data": {
      "text/plain": [
       "3"
      ]
     },
     "execution_count": 64,
     "metadata": {},
     "output_type": "execute_result"
    }
   ],
   "source": [
    "next(i)"
   ]
  },
  {
   "cell_type": "code",
   "execution_count": 65,
   "id": "c6111524-7eb5-492c-bf4b-f4d053fb15d6",
   "metadata": {},
   "outputs": [
    {
     "data": {
      "text/plain": [
       "4"
      ]
     },
     "execution_count": 65,
     "metadata": {},
     "output_type": "execute_result"
    }
   ],
   "source": [
    "next(i)"
   ]
  },
  {
   "cell_type": "code",
   "execution_count": 66,
   "id": "0bd66a2b-f056-4703-b722-315cf48093b8",
   "metadata": {},
   "outputs": [
    {
     "ename": "StopIteration",
     "evalue": "",
     "output_type": "error",
     "traceback": [
      "\u001b[0;31m---------------------------------------------------------------------------\u001b[0m",
      "\u001b[0;31mStopIteration\u001b[0m                             Traceback (most recent call last)",
      "Cell \u001b[0;32mIn[66], line 1\u001b[0m\n\u001b[0;32m----> 1\u001b[0m \u001b[38;5;28;43mnext\u001b[39;49m\u001b[43m(\u001b[49m\u001b[43mi\u001b[49m\u001b[43m)\u001b[49m\n",
      "\u001b[0;31mStopIteration\u001b[0m: "
     ]
    }
   ],
   "source": [
    "next(i)"
   ]
  },
  {
   "cell_type": "code",
   "execution_count": 67,
   "id": "16fadbd9-6ec8-40bf-9666-e7c0012c6e1c",
   "metadata": {},
   "outputs": [
    {
     "data": {
      "text/plain": [
       "range(0, 5)"
      ]
     },
     "execution_count": 67,
     "metadata": {},
     "output_type": "execute_result"
    }
   ],
   "source": [
    "range(0, 5)"
   ]
  },
  {
   "cell_type": "code",
   "execution_count": 70,
   "id": "38ae930b-2c19-49ce-b6a3-1561910b95fe",
   "metadata": {},
   "outputs": [
    {
     "data": {
      "text/plain": [
       "4"
      ]
     },
     "execution_count": 70,
     "metadata": {},
     "output_type": "execute_result"
    }
   ],
   "source": [
    "len('shad')"
   ]
  },
  {
   "cell_type": "code",
   "execution_count": 71,
   "id": "10f3a61a-35d0-4099-95b9-5d145a34b6aa",
   "metadata": {},
   "outputs": [
    {
     "data": {
      "text/plain": [
       "5"
      ]
     },
     "execution_count": 71,
     "metadata": {},
     "output_type": "execute_result"
    }
   ],
   "source": [
    "len(range(0, 5))"
   ]
  },
  {
   "cell_type": "markdown",
   "id": "d2f66b39-5bc1-413d-b0bb-f380fc844786",
   "metadata": {},
   "source": [
    "#### Generators"
   ]
  },
  {
   "cell_type": "code",
   "execution_count": 3,
   "id": "fed1c299-105b-4721-a851-ede67297d02a",
   "metadata": {},
   "outputs": [
    {
     "data": {
      "text/plain": [
       "range(0, 5)"
      ]
     },
     "execution_count": 3,
     "metadata": {},
     "output_type": "execute_result"
    }
   ],
   "source": [
    "range(0, 5)"
   ]
  },
  {
   "cell_type": "markdown",
   "id": "0d3f7421-80ec-4287-bbba-41798ceef487",
   "metadata": {},
   "source": [
    "##### yield"
   ]
  },
  {
   "cell_type": "code",
   "execution_count": 4,
   "id": "4569406a-9dc8-4311-a164-42f27ddedccb",
   "metadata": {},
   "outputs": [],
   "source": [
    "def count_fun(n):\n",
    "    i = 1\n",
    "    while i < n:\n",
    "        yield i  ### used in generators\n",
    "        i += 1"
   ]
  },
  {
   "cell_type": "code",
   "execution_count": 5,
   "id": "bb16f40e-0a3c-4a41-9895-d3e781f5e131",
   "metadata": {},
   "outputs": [
    {
     "data": {
      "text/plain": [
       "<generator object count_fun at 0x7f417835ccf0>"
      ]
     },
     "execution_count": 5,
     "metadata": {},
     "output_type": "execute_result"
    }
   ],
   "source": [
    "count_fun(9)"
   ]
  },
  {
   "cell_type": "code",
   "execution_count": 6,
   "id": "b02c6db7-514e-42e9-9375-17438f882318",
   "metadata": {},
   "outputs": [
    {
     "name": "stdout",
     "output_type": "stream",
     "text": [
      "1\n",
      "2\n",
      "3\n",
      "4\n",
      "5\n",
      "6\n",
      "7\n",
      "8\n"
     ]
    }
   ],
   "source": [
    "for i in count_fun(9):\n",
    "    print(i)"
   ]
  },
  {
   "cell_type": "code",
   "execution_count": 7,
   "id": "f34a32e3-165c-4039-9135-1a5e536f3314",
   "metadata": {},
   "outputs": [],
   "source": [
    "j = iter(count_fun(9))"
   ]
  },
  {
   "cell_type": "code",
   "execution_count": 8,
   "id": "7493b059-8038-4b7e-8402-e5ef6468f43b",
   "metadata": {},
   "outputs": [
    {
     "data": {
      "text/plain": [
       "<generator object count_fun at 0x7f415aa01620>"
      ]
     },
     "execution_count": 8,
     "metadata": {},
     "output_type": "execute_result"
    }
   ],
   "source": [
    "j"
   ]
  },
  {
   "cell_type": "code",
   "execution_count": 12,
   "id": "5420d5b0-a713-43a8-8b1f-0b6a3e784985",
   "metadata": {},
   "outputs": [
    {
     "data": {
      "text/plain": [
       "3"
      ]
     },
     "execution_count": 12,
     "metadata": {},
     "output_type": "execute_result"
    }
   ],
   "source": [
    "next(j)"
   ]
  },
  {
   "cell_type": "code",
   "execution_count": 13,
   "id": "c60eff0d-9be7-4b53-850a-9c3c07fcc691",
   "metadata": {},
   "outputs": [
    {
     "data": {
      "text/plain": [
       "4"
      ]
     },
     "execution_count": 13,
     "metadata": {},
     "output_type": "execute_result"
    }
   ],
   "source": [
    "next(j)"
   ]
  },
  {
   "cell_type": "code",
   "execution_count": 14,
   "id": "117bd038-a51b-42d4-b4b7-c1232d833a5c",
   "metadata": {},
   "outputs": [
    {
     "data": {
      "text/plain": [
       "5"
      ]
     },
     "execution_count": 14,
     "metadata": {},
     "output_type": "execute_result"
    }
   ],
   "source": [
    "next(j)"
   ]
  },
  {
   "cell_type": "code",
   "execution_count": 21,
   "id": "ead7f2fd-f9ce-4911-96fc-2aebe503e7c6",
   "metadata": {},
   "outputs": [],
   "source": [
    "def count_fun_return(n):\n",
    "    i = 1\n",
    "    l = []\n",
    "    while i < n:\n",
    "        l.append(i)\n",
    "        i += 1\n",
    "    return l"
   ]
  },
  {
   "cell_type": "code",
   "execution_count": 22,
   "id": "568a691b-4ad9-40fb-8487-06aab233d635",
   "metadata": {},
   "outputs": [
    {
     "data": {
      "text/plain": [
       "[1, 2, 3, 4]"
      ]
     },
     "execution_count": 22,
     "metadata": {},
     "output_type": "execute_result"
    }
   ],
   "source": [
    "# Return will give result only one time\n",
    "count_fun_return(5)"
   ]
  },
  {
   "cell_type": "code",
   "execution_count": 23,
   "id": "083da556-1c88-468e-befa-2a8d3b743456",
   "metadata": {},
   "outputs": [],
   "source": [
    "## count_fun_return(50000000000)\n",
    "# there will be memory issue"
   ]
  },
  {
   "cell_type": "code",
   "execution_count": 24,
   "id": "5770fdf5-1a9e-4090-be5d-e774ff849a68",
   "metadata": {},
   "outputs": [],
   "source": [
    "def count_fun(n):\n",
    "    i = 1\n",
    "    while i < n:\n",
    "        yield i  ### used in generators\n",
    "        i += 1"
   ]
  },
  {
   "cell_type": "code",
   "execution_count": 27,
   "id": "cdb5f0a5-eb7e-4eb0-8be6-5c8c968f2486",
   "metadata": {},
   "outputs": [
    {
     "name": "stdout",
     "output_type": "stream",
     "text": [
      "1\n",
      "2\n",
      "3\n",
      "4\n",
      "5\n",
      "6\n",
      "7\n",
      "8\n",
      "9\n",
      "10\n",
      "11\n",
      "12\n",
      "13\n",
      "14\n",
      "15\n",
      "16\n",
      "17\n",
      "18\n",
      "19\n"
     ]
    }
   ],
   "source": [
    "for i in count_fun(20):\n",
    "    print(i)\n",
    "\n",
    "### using yield it is generating the results and throwing the results"
   ]
  },
  {
   "cell_type": "code",
   "execution_count": 1,
   "id": "10b82c37-4381-445c-bf23-18c6d24fdcdb",
   "metadata": {},
   "outputs": [],
   "source": [
    "def fib(n):\n",
    "    a, b = 0,1\n",
    "    for i in range(n):\n",
    "        yield a\n",
    "        a, b = b, a+b"
   ]
  },
  {
   "cell_type": "code",
   "execution_count": 2,
   "id": "8494106b-ab3f-42c3-b7c1-280c3c7d3c64",
   "metadata": {},
   "outputs": [
    {
     "name": "stdout",
     "output_type": "stream",
     "text": [
      "0\n",
      "1\n",
      "1\n",
      "2\n",
      "3\n",
      "5\n",
      "8\n",
      "13\n"
     ]
    }
   ],
   "source": [
    "for i in fib(8):\n",
    "    print(i)"
   ]
  },
  {
   "cell_type": "code",
   "execution_count": 3,
   "id": "785ab0c0-8618-4f11-bae8-edbfb4298f0c",
   "metadata": {},
   "outputs": [
    {
     "name": "stdout",
     "output_type": "stream",
     "text": [
      "'10 Python for loop functions sept 24.ipynb'\n",
      "'1_python_basics aug 19th.ipynb'\n",
      "'2_python_datatypes aug 20th.ipynb'\n",
      "'3 python operators sept 2nd.ipynb'\n",
      "'4 Operators and control flow sept 3rd.ipynb'\n",
      "'5 Python conditional statements loops sept 16.ipynb'\n",
      "'6 Functions sept 9th.ipynb'\n",
      "'7 Lambda functions Imran sept 10th.ipynb'\n",
      "'8 for loop , lambda , map , reduce ,filter , recursion sept 17th.ipynb'\n",
      "'9 Python while loop, break sept 23rd.ipynb'\n",
      "'oops 7th oct.ipynb'\n",
      " README.md\n",
      " sample-code.ipynb\n",
      " text.txt\n"
     ]
    }
   ],
   "source": [
    "ls"
   ]
  },
  {
   "cell_type": "code",
   "execution_count": 4,
   "id": "3163e4b9-db14-4bf0-bbe0-743f688e1e6d",
   "metadata": {},
   "outputs": [
    {
     "data": {
      "text/plain": [
       "'/home/jovyan/work'"
      ]
     },
     "execution_count": 4,
     "metadata": {},
     "output_type": "execute_result"
    }
   ],
   "source": [
    "pwd"
   ]
  },
  {
   "cell_type": "code",
   "execution_count": 5,
   "id": "ad633e96-2cbf-4010-9ee4-b9bb4ea8e64a",
   "metadata": {},
   "outputs": [
    {
     "name": "stdout",
     "output_type": "stream",
     "text": [
      "Google LLC (/ˈɡuːɡəl/ ⓘ) is an American multinational technology company focusing on artificial intelligence,[9] online advertising, search engine technology, cloud computing, computer software, quantum computing, e-commerce, and consumer electronics. It has been referred to as \"the most powerful company in the world\"[10] and as one of the world's most valuable brands due to its market dominance, data collection, and technological advantages in the field of artificial intelligence.[11][12][13] Alongside Amazon, Apple Inc., Meta Platforms, and Microsoft, Google's parent company Alphabet Inc. is one of the five Big Tech companies.\n",
      "\n",
      "\n",
      "\n",
      "Google was founded on September 4, 1998, by American computer scientists Larry Page and Sergey Brin while they were PhD students at Stanford University in California. Together they own about 14% of its publicly listed shares and control 56% of its stockholder voting power through super-voting stock. The company went public via an initial public offering (IPO) in 2004. In 2015, Google was reorganized as a wholly owned subsidiary of Alphabet Inc. Google is Alphabet's largest subsidiary and is a holding company for Alphabet's internet properties and interests. Sundar Pichai was appointed CEO of Google on October 24, 2015, replacing Larry Page, who became the CEO of Alphabet. On December 3, 2019, Pichai also became the CEO of Alphabet.[14]\n",
      "\n",
      "\n",
      "\n",
      "The company has since rapidly grown to offer a multitude of products and services beyond Google Search, many of which hold dominant market positions. These products address a wide range of use cases, including email (Gmail), navigation (Waze & Maps), cloud computing (Cloud), web browsing (Chrome), video sharing (YouTube), productivity (Workspace), operating systems (Android), cloud storage (Drive), language translation (Translate), photo storage (Photos), video calling (Meet), smart home (Nest), smartphones (Pixel), wearable technology (Pixel Watch & Fitbit), music streaming (YouTube Music), video on demand (YouTube TV), artificial intelligence (Google Assistant), machine learning APIs (TensorFlow), AI chips (TPU), and more. Discontinued Google products include gaming (Stadia), Glass, Google+, Reader, Play Music, Nexus, Hangouts, and Inbox by Gmail.[15][16]\n",
      "\n",
      "\n",
      "\n",
      "Google's other ventures outside of Internet services and consumer electronics include quantum computing (Sycamore), self-driving cars (Waymo, formerly the Google Self-Driving Car Project), smart cities (Sidewalk Labs), and transformer models (Google Deepmind).[17]\n"
     ]
    }
   ],
   "source": [
    "for i in open('text.txt'):\n",
    "    print(i)"
   ]
  },
  {
   "cell_type": "code",
   "execution_count": 7,
   "id": "8f508d65-968e-47f1-afc5-5125bf277b1e",
   "metadata": {},
   "outputs": [],
   "source": [
    "def read_file(file_name):\n",
    "    with open(file_name, mode = 'r') as file:\n",
    "        for i in file:\n",
    "            yield i\n",
    "            "
   ]
  },
  {
   "cell_type": "code",
   "execution_count": 8,
   "id": "f579e621-b649-47ae-88a6-27ca3038f4f5",
   "metadata": {},
   "outputs": [
    {
     "data": {
      "text/plain": [
       "<generator object read_file at 0x7f68f198dee0>"
      ]
     },
     "execution_count": 8,
     "metadata": {},
     "output_type": "execute_result"
    }
   ],
   "source": [
    "read_file('text.txt')"
   ]
  },
  {
   "cell_type": "code",
   "execution_count": 10,
   "id": "a4c82397-0d90-4e88-a213-b2883acc683a",
   "metadata": {},
   "outputs": [
    {
     "name": "stdout",
     "output_type": "stream",
     "text": [
      "Google LLC (/ˈɡuːɡəl/ ⓘ) is an American multinational technology company focusing on artificial intelligence,[9] online advertising, search engine technology, cloud computing, computer software, quantum computing, e-commerce, and consumer electronics. It has been referred to as \"the most powerful company in the world\"[10] and as one of the world's most valuable brands due to its market dominance, data collection, and technological advantages in the field of artificial intelligence.[11][12][13] Alongside Amazon, Apple Inc., Meta Platforms, and Microsoft, Google's parent company Alphabet Inc. is one of the five Big Tech companies.\n",
      "\n",
      "\n",
      "\n",
      "Google was founded on September 4, 1998, by American computer scientists Larry Page and Sergey Brin while they were PhD students at Stanford University in California. Together they own about 14% of its publicly listed shares and control 56% of its stockholder voting power through super-voting stock. The company went public via an initial public offering (IPO) in 2004. In 2015, Google was reorganized as a wholly owned subsidiary of Alphabet Inc. Google is Alphabet's largest subsidiary and is a holding company for Alphabet's internet properties and interests. Sundar Pichai was appointed CEO of Google on October 24, 2015, replacing Larry Page, who became the CEO of Alphabet. On December 3, 2019, Pichai also became the CEO of Alphabet.[14]\n",
      "\n",
      "\n",
      "\n",
      "The company has since rapidly grown to offer a multitude of products and services beyond Google Search, many of which hold dominant market positions. These products address a wide range of use cases, including email (Gmail), navigation (Waze & Maps), cloud computing (Cloud), web browsing (Chrome), video sharing (YouTube), productivity (Workspace), operating systems (Android), cloud storage (Drive), language translation (Translate), photo storage (Photos), video calling (Meet), smart home (Nest), smartphones (Pixel), wearable technology (Pixel Watch & Fitbit), music streaming (YouTube Music), video on demand (YouTube TV), artificial intelligence (Google Assistant), machine learning APIs (TensorFlow), AI chips (TPU), and more. Discontinued Google products include gaming (Stadia), Glass, Google+, Reader, Play Music, Nexus, Hangouts, and Inbox by Gmail.[15][16]\n",
      "\n",
      "\n",
      "\n",
      "Google's other ventures outside of Internet services and consumer electronics include quantum computing (Sycamore), self-driving cars (Waymo, formerly the Google Self-Driving Car Project), smart cities (Sidewalk Labs), and transformer models (Google Deepmind).[17]\n"
     ]
    }
   ],
   "source": [
    "for i in read_file('text.txt'):\n",
    "    print(i)"
   ]
  },
  {
   "cell_type": "markdown",
   "id": "224371cb-6e34-4b05-bbd1-cf805e996ba3",
   "metadata": {},
   "source": [
    "### Using yield we don't require to save the huge volumne of data in the internal memory, instead yield provides capability to give output simultaneously it is processing"
   ]
  },
  {
   "cell_type": "code",
   "execution_count": 11,
   "id": "182f962d-9486-4dd8-bc5b-dba3dd2f71f6",
   "metadata": {},
   "outputs": [
    {
     "data": {
      "text/plain": [
       "'sudha akshay pwskils'"
      ]
     },
     "execution_count": 11,
     "metadata": {},
     "output_type": "execute_result"
    }
   ],
   "source": [
    "l = [\"sudha\", 'akshay' , 'pwskils']\n",
    "\" \".join(l)"
   ]
  },
  {
   "cell_type": "code",
   "execution_count": null,
   "id": "7187c308-9174-4f30-b2c5-eec44b6f853d",
   "metadata": {},
   "outputs": [],
   "source": []
  }
 ],
 "metadata": {
  "kernelspec": {
   "display_name": "Python 3 (ipykernel)",
   "language": "python",
   "name": "python3"
  },
  "language_info": {
   "codemirror_mode": {
    "name": "ipython",
    "version": 3
   },
   "file_extension": ".py",
   "mimetype": "text/x-python",
   "name": "python",
   "nbconvert_exporter": "python",
   "pygments_lexer": "ipython3",
   "version": "3.10.8"
  }
 },
 "nbformat": 4,
 "nbformat_minor": 5
}
