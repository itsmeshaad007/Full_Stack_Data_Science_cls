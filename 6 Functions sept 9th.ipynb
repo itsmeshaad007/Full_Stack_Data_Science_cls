{
 "cells": [
  {
   "cell_type": "markdown",
   "id": "3545c9ad-294d-4da5-92a7-923fd3592aa7",
   "metadata": {},
   "source": [
    "# 9th September - Imran"
   ]
  },
  {
   "cell_type": "code",
   "execution_count": 6,
   "id": "73bb2686-bab2-43df-bdd6-d8a3544462e0",
   "metadata": {},
   "outputs": [
    {
     "name": "stdout",
     "output_type": "stream",
     "text": [
      "negative number\n",
      "this always runs\n"
     ]
    }
   ],
   "source": [
    "number = -2\n",
    "\n",
    "if number > 0:\n",
    "    print('positive number')\n",
    "elif number == 0:\n",
    "    print('zero')\n",
    "else:\n",
    "    print('negative number')\n",
    "    \n",
    "print('this always runs')"
   ]
  },
  {
   "cell_type": "code",
   "execution_count": 7,
   "id": "49bc2403-eeb4-4dd2-9c79-e4b9367812c7",
   "metadata": {},
   "outputs": [
    {
     "name": "stdout",
     "output_type": "stream",
     "text": [
      "0\n",
      "1\n",
      "2\n",
      "3\n",
      "4\n"
     ]
    }
   ],
   "source": [
    "for i in range(5):\n",
    "    print(i)"
   ]
  },
  {
   "cell_type": "code",
   "execution_count": 9,
   "id": "80a72d50-ea14-4d33-ba7a-bf0372809b96",
   "metadata": {},
   "outputs": [
    {
     "name": "stdout",
     "output_type": "stream",
     "text": [
      "today is mon\n",
      "today is tue\n",
      "today is wed\n",
      "today is thu\n",
      "today is fri\n",
      "today is sat\n",
      "today is sun\n"
     ]
    }
   ],
   "source": [
    "# week of days\n",
    "days=0\n",
    "week=['mon','tue','wed','thu','fri','sat','sun']\n",
    "\n",
    "while days<7:\n",
    "    print(\"today is \" + week[days])\n",
    "    days +=1\n",
    "    # days= days+1"
   ]
  },
  {
   "cell_type": "code",
   "execution_count": 10,
   "id": "1b264523-c6bf-4b11-b296-4935f615f301",
   "metadata": {},
   "outputs": [
    {
     "name": "stdout",
     "output_type": "stream",
     "text": [
      "today is: mon\n",
      "today is: tue\n",
      "today is: wed\n",
      "today is: thu\n",
      "today is: fri\n",
      "today is: sat\n",
      "today is: sun\n"
     ]
    }
   ],
   "source": [
    "week=['mon','tue','wed','thu','fri','sat','sun']\n",
    "\n",
    "for we in week:\n",
    "    print('today is: ' + we)"
   ]
  },
  {
   "cell_type": "code",
   "execution_count": 11,
   "id": "8957f0d8-aed0-4ade-9f26-889b0c9878bd",
   "metadata": {},
   "outputs": [],
   "source": [
    "## Split"
   ]
  },
  {
   "cell_type": "code",
   "execution_count": 26,
   "id": "7ece58fd-332b-46ea-85a7-c13afec84dbe",
   "metadata": {},
   "outputs": [
    {
     "data": {
      "text/plain": [
       "'I write code'"
      ]
     },
     "execution_count": 26,
     "metadata": {},
     "output_type": "execute_result"
    }
   ],
   "source": [
    "string = 'I write code'\n",
    "string"
   ]
  },
  {
   "cell_type": "markdown",
   "id": "e1b700c0-aac1-45ff-8c74-86080c83819d",
   "metadata": {},
   "source": [
    "### SPlit"
   ]
  },
  {
   "cell_type": "code",
   "execution_count": 29,
   "id": "040c2367-22c2-4ed9-a9c7-b28dd63ec5ed",
   "metadata": {},
   "outputs": [
    {
     "name": "stdin",
     "output_type": "stream",
     "text": [
      "enter 3 word message I like programming\n"
     ]
    },
    {
     "name": "stdout",
     "output_type": "stream",
     "text": [
      "I\n",
      "like\n",
      "programming\n"
     ]
    }
   ],
   "source": [
    "x = input('enter 3 word message')\n",
    "list_ = x.split()\n",
    "for i in list_:\n",
    "    print(i)"
   ]
  },
  {
   "cell_type": "code",
   "execution_count": 31,
   "id": "026e446b-5abb-4e9d-b2bf-3aac886f79d7",
   "metadata": {},
   "outputs": [],
   "source": [
    "a, b,c = x.split()"
   ]
  },
  {
   "cell_type": "code",
   "execution_count": 32,
   "id": "79cf897c-48ee-4882-901a-a850c1c8226a",
   "metadata": {},
   "outputs": [
    {
     "name": "stdout",
     "output_type": "stream",
     "text": [
      "I\n",
      "like\n",
      "programming\n"
     ]
    }
   ],
   "source": [
    "print(a)\n",
    "print(b)\n",
    "print(c)"
   ]
  },
  {
   "cell_type": "code",
   "execution_count": 34,
   "id": "fb6c7c2a-cc37-4be4-8ccf-85568d74b3b6",
   "metadata": {},
   "outputs": [
    {
     "name": "stdin",
     "output_type": "stream",
     "text": [
      "enter 1st number 2\n",
      "enter 2nd number 3\n"
     ]
    },
    {
     "name": "stdout",
     "output_type": "stream",
     "text": [
      "5\n"
     ]
    }
   ],
   "source": [
    "a = int(input('enter 1st number'))\n",
    "b = int(input('enter 2nd number'))\n",
    "print(a + b)"
   ]
  },
  {
   "cell_type": "code",
   "execution_count": 39,
   "id": "77ffae5a-b5cd-437e-9973-931c898a6082",
   "metadata": {
    "tags": []
   },
   "outputs": [
    {
     "name": "stdin",
     "output_type": "stream",
     "text": [
      "enter two numbers 2 5\n"
     ]
    },
    {
     "name": "stdout",
     "output_type": "stream",
     "text": [
      "7\n"
     ]
    }
   ],
   "source": [
    "a,b = input('enter two numbers').split()\n",
    "\n",
    "c = int(a) + int(b)\n",
    "\n",
    "print(c)"
   ]
  },
  {
   "cell_type": "code",
   "execution_count": 43,
   "id": "de3fcce8-26a9-4f38-af0e-d9171f4f5068",
   "metadata": {},
   "outputs": [
    {
     "name": "stdin",
     "output_type": "stream",
     "text": [
      "enter roll no, name, and percentage 55 shaad 91\n"
     ]
    },
    {
     "name": "stdout",
     "output_type": "stream",
     "text": [
      "55\n",
      "shaad\n",
      "91\n"
     ]
    }
   ],
   "source": [
    "s = input('enter roll no, name, and percentage')\n",
    "\n",
    "roll , name, percentage = s.split()\n",
    "\n",
    "print(roll)\n",
    "print(name)\n",
    "print(percentage)"
   ]
  },
  {
   "cell_type": "code",
   "execution_count": 45,
   "id": "ca0375fe-bcd6-4e0b-9fe5-455283c9bd62",
   "metadata": {},
   "outputs": [
    {
     "name": "stdout",
     "output_type": "stream",
     "text": [
      "['A', 'B', 'C', 'D', 'E F']\n"
     ]
    }
   ],
   "source": [
    "s1 = 'A B C D E F'\n",
    "\n",
    "print(s1.split(' ', maxsplit=4))"
   ]
  },
  {
   "cell_type": "code",
   "execution_count": 46,
   "id": "a9da2eb7-142a-43c6-bb9d-67234d5bc531",
   "metadata": {},
   "outputs": [
    {
     "name": "stdout",
     "output_type": "stream",
     "text": [
      "['HI', 'HI', 'HI', 'HI']\n"
     ]
    }
   ],
   "source": [
    "s1 = 'HI@HI@HI@HI'\n",
    "\n",
    "print(s1.split('@'))"
   ]
  },
  {
   "cell_type": "code",
   "execution_count": 47,
   "id": "9ca44bff-0790-4230-9fa7-df455430c14a",
   "metadata": {},
   "outputs": [
    {
     "name": "stdout",
     "output_type": "stream",
     "text": [
      "['HI', 'HI', 'HI@HI']\n"
     ]
    }
   ],
   "source": [
    "s1 = 'HI@HI@HI@HI'\n",
    "\n",
    "print(s1.split('@', maxsplit=2))"
   ]
  },
  {
   "cell_type": "markdown",
   "id": "ab211991-69bb-4113-973f-c04db9f6176b",
   "metadata": {},
   "source": [
    "# Break"
   ]
  },
  {
   "cell_type": "code",
   "execution_count": 50,
   "id": "4404652b-9965-49e9-9abc-0d15c8590091",
   "metadata": {},
   "outputs": [
    {
     "name": "stdout",
     "output_type": "stream",
     "text": [
      "p\n",
      "w\n",
      "dont print\n"
     ]
    }
   ],
   "source": [
    "for letter in 'pwskills':\n",
    "    if letter == 's':\n",
    "        print('dont print')\n",
    "        break\n",
    "    else:\n",
    "        print(letter)"
   ]
  },
  {
   "cell_type": "code",
   "execution_count": 53,
   "id": "5be43e0f-df73-438b-bfcc-7e42a6cceed4",
   "metadata": {},
   "outputs": [
    {
     "name": "stdout",
     "output_type": "stream",
     "text": [
      "p\n",
      "w\n",
      "s\n",
      "k\n",
      "i\n"
     ]
    }
   ],
   "source": [
    "for letter in 'pwskills':\n",
    "    if letter == 'l':\n",
    "        \n",
    "        break\n",
    "    else:\n",
    "        print(letter)\n",
    "    "
   ]
  },
  {
   "cell_type": "code",
   "execution_count": 54,
   "id": "3927e434-c92c-4999-8a67-168e32fcfe9f",
   "metadata": {},
   "outputs": [
    {
     "name": "stdout",
     "output_type": "stream",
     "text": [
      "0\n",
      "1\n",
      "2\n"
     ]
    }
   ],
   "source": [
    "for i in range(5):\n",
    "    if i == 3:\n",
    "        break\n",
    "    print(i)"
   ]
  },
  {
   "cell_type": "code",
   "execution_count": 2,
   "id": "08257c81-5337-4fc1-aebc-65acd8be6645",
   "metadata": {},
   "outputs": [
    {
     "name": "stdout",
     "output_type": "stream",
     "text": [
      "1\n",
      "2\n",
      "3\n",
      "4\n",
      "5\n"
     ]
    }
   ],
   "source": [
    "i = 1\n",
    "\n",
    "while i <=10:\n",
    "    \n",
    "    print(i)\n",
    "    \n",
    "    if i >= 5:\n",
    "        break\n",
    "    i +=1"
   ]
  },
  {
   "cell_type": "code",
   "execution_count": 4,
   "id": "e863e675-d222-44cd-869a-da65a7404c72",
   "metadata": {},
   "outputs": [
    {
     "name": "stdout",
     "output_type": "stream",
     "text": [
      "current number is: 10\n",
      "current number is: 20\n",
      "current number is: 30\n",
      "current number is: 40\n"
     ]
    }
   ],
   "source": [
    "numbers = [10, 20, 30, 40, 120, 230]\n",
    "\n",
    "for i in numbers:\n",
    "    if i > 100:\n",
    "        break\n",
    "    print('current number is:', i)"
   ]
  },
  {
   "cell_type": "code",
   "execution_count": 1,
   "id": "9a79a273-6e24-494f-87ce-c13980dcec5c",
   "metadata": {},
   "outputs": [
    {
     "name": "stdout",
     "output_type": "stream",
     "text": [
      "h\te\tl\tl\to\t \t"
     ]
    }
   ],
   "source": [
    "s = 'hello world'\n",
    "\n",
    "for char in s:\n",
    "    print(char, end = '\\t')\n",
    "\n",
    "    if char == ' ':\n",
    "        break"
   ]
  },
  {
   "cell_type": "code",
   "execution_count": 3,
   "id": "7abcef8c-29a3-4344-9e9e-ab0ef3f646d4",
   "metadata": {},
   "outputs": [
    {
     "name": "stdout",
     "output_type": "stream",
     "text": [
      "h\te\tl\tl\to\t,\t"
     ]
    }
   ],
   "source": [
    "s = 'hello, world'\n",
    "\n",
    "for char in s:\n",
    "    print(char, end = '\\t')\n",
    "\n",
    "    if char == ',':\n",
    "        break"
   ]
  },
  {
   "cell_type": "markdown",
   "id": "9f478b0d-d814-4790-a8aa-c7e3c99f6b9b",
   "metadata": {},
   "source": [
    "## Continue"
   ]
  },
  {
   "cell_type": "code",
   "execution_count": 6,
   "id": "373482e8-9229-497d-ba20-dc1c14441cec",
   "metadata": {},
   "outputs": [
    {
     "name": "stdout",
     "output_type": "stream",
     "text": [
      "p\n",
      "w\n",
      "s\n",
      "k\n",
      "l\n",
      "l\n",
      "s\n"
     ]
    }
   ],
   "source": [
    "for letter in 'pwskills':\n",
    "    if letter == 'i':\n",
    "        continue   # Skip that iteration\n",
    "    print(letter)"
   ]
  },
  {
   "cell_type": "code",
   "execution_count": 10,
   "id": "859d9985-e204-4981-ae68-a60d6468573e",
   "metadata": {},
   "outputs": [
    {
     "name": "stdout",
     "output_type": "stream",
     "text": [
      "h\n",
      "e\n",
      "l\n",
      "l\n",
      "o\n",
      " \n",
      "w\n",
      "o\n",
      "r\n",
      "l\n",
      "d\n"
     ]
    }
   ],
   "source": [
    "s = 'hello, world'\n",
    "\n",
    "for letter in s:\n",
    "    if letter == ',':\n",
    "        continue   # Skip that iteration\n",
    "    print(letter)"
   ]
  },
  {
   "cell_type": "code",
   "execution_count": 16,
   "id": "52f62d9c-47ae-452b-baea-0f597d6e9656",
   "metadata": {},
   "outputs": [
    {
     "name": "stdout",
     "output_type": "stream",
     "text": [
      "0\n",
      "1\n",
      "2\n",
      "4\n"
     ]
    }
   ],
   "source": [
    "for i in range(5):\n",
    "    if i == 3:\n",
    "        continue\n",
    "    print(i)\n",
    "    \n",
    "# Break ----- end the loop\n",
    "# Continue -- Skip the iteration and running remainning"
   ]
  },
  {
   "cell_type": "code",
   "execution_count": 18,
   "id": "2e9c98e3-ba61-4f4b-980d-cc60b52834ef",
   "metadata": {},
   "outputs": [
    {
     "name": "stdout",
     "output_type": "stream",
     "text": [
      "1\n",
      "3\n",
      "5\n",
      "7\n",
      "9\n"
     ]
    }
   ],
   "source": [
    "# WAP to print odd numbers from 1 to 10\n",
    "\n",
    "for i in range(1, 11):\n",
    "    if i%2 == 0:   ## % gives remainder\n",
    "        continue\n",
    "    print(i)"
   ]
  },
  {
   "cell_type": "markdown",
   "id": "978f5d53-9019-4e36-a209-b7887c6409d0",
   "metadata": {},
   "source": [
    "## Pass\n",
    "\n",
    "if during development we write a code, \n",
    "\n",
    "we can use pass for the code, so that we can come back to work on it"
   ]
  },
  {
   "cell_type": "code",
   "execution_count": 22,
   "id": "a3877304-a314-4e42-8c0f-e120f39ee010",
   "metadata": {},
   "outputs": [
    {
     "name": "stdout",
     "output_type": "stream",
     "text": [
      "hello\n"
     ]
    }
   ],
   "source": [
    "n = 10\n",
    "\n",
    "if n > 10:\n",
    "    pass\n",
    "\n",
    "print('hello')\n",
    "\n"
   ]
  },
  {
   "cell_type": "code",
   "execution_count": 28,
   "id": "b0492dfc-4ed2-4c5f-9fed-6fe091b65713",
   "metadata": {},
   "outputs": [
    {
     "name": "stdout",
     "output_type": "stream",
     "text": [
      "ggdf\n",
      "ggdf\n",
      "ggdf\n",
      "ggdf\n",
      "ggdf\n"
     ]
    }
   ],
   "source": [
    "for i in range(5):\n",
    "    print('ggdf')\n",
    "    pass"
   ]
  },
  {
   "cell_type": "code",
   "execution_count": 29,
   "id": "33320e2e-f330-4a5a-baa7-ae77868afabc",
   "metadata": {},
   "outputs": [
    {
     "name": "stdout",
     "output_type": "stream",
     "text": [
      "ggdf\n",
      "ggdf\n",
      "ggdf\n",
      "ggdf\n",
      "ggdf\n"
     ]
    }
   ],
   "source": [
    "for i in range(5):\n",
    "    pass\n",
    "    print('ggdf')"
   ]
  },
  {
   "cell_type": "markdown",
   "id": "66c750a4-965a-4081-9e70-e2add55fd96b",
   "metadata": {},
   "source": [
    "# Function"
   ]
  },
  {
   "cell_type": "code",
   "execution_count": 30,
   "id": "8b780adb-e63a-415e-9609-efb78dce4d56",
   "metadata": {},
   "outputs": [
    {
     "name": "stdout",
     "output_type": "stream",
     "text": [
      "30\n"
     ]
    }
   ],
   "source": [
    "a = 10\n",
    "b = 20\n",
    "\n",
    "print(a+b)"
   ]
  },
  {
   "cell_type": "code",
   "execution_count": 35,
   "id": "188c1d83-a5b0-47d9-a4e4-472420b67aca",
   "metadata": {},
   "outputs": [],
   "source": [
    "def add(a, b):  # def - keyword to create function\n",
    "    return a+b  "
   ]
  },
  {
   "cell_type": "code",
   "execution_count": 36,
   "id": "415f8a6c-3945-4b59-aa0b-99044f19e278",
   "metadata": {},
   "outputs": [
    {
     "data": {
      "text/plain": [
       "5"
      ]
     },
     "execution_count": 36,
     "metadata": {},
     "output_type": "execute_result"
    }
   ],
   "source": [
    "add(2, 3)"
   ]
  },
  {
   "cell_type": "code",
   "execution_count": 37,
   "id": "b1c2dc5c-27c7-49e1-a09e-4a55d5e83107",
   "metadata": {},
   "outputs": [
    {
     "data": {
      "text/plain": [
       "477"
      ]
     },
     "execution_count": 37,
     "metadata": {},
     "output_type": "execute_result"
    }
   ],
   "source": [
    "add(54, 423)"
   ]
  },
  {
   "cell_type": "raw",
   "id": "6ff053c3-9c6c-4b61-8f12-7fd5da5f4887",
   "metadata": {},
   "source": [
    "def function_name(arguments): \n",
    "    \n",
    "    # function body\n",
    "    \n",
    "    return\n",
    "    \n",
    "# calling the function\n",
    "\n",
    "function_name(arguments)"
   ]
  },
  {
   "cell_type": "code",
   "execution_count": 44,
   "id": "7f6336ae-c258-4cf3-b583-bb16ecd17c82",
   "metadata": {},
   "outputs": [],
   "source": [
    "def greet():\n",
    "    print('hello world')\n",
    "    "
   ]
  },
  {
   "cell_type": "code",
   "execution_count": 45,
   "id": "19004291-0e65-4c09-8e72-03168bd896e0",
   "metadata": {},
   "outputs": [
    {
     "name": "stdout",
     "output_type": "stream",
     "text": [
      "hello world\n"
     ]
    }
   ],
   "source": [
    "greet()"
   ]
  },
  {
   "cell_type": "code",
   "execution_count": 50,
   "id": "c43172e8-4b6e-4de4-8a18-4bd7c8d06172",
   "metadata": {},
   "outputs": [],
   "source": [
    "def addtwonum():\n",
    "    a = input('enter first number')\n",
    "    b = input('enter second number')\n",
    "    c = int(a) + int(b)\n",
    "    \n",
    "    print(c)\n",
    "    "
   ]
  },
  {
   "cell_type": "code",
   "execution_count": 51,
   "id": "99a1c9d9-1468-48ee-a184-c86b83c965f6",
   "metadata": {},
   "outputs": [
    {
     "name": "stdin",
     "output_type": "stream",
     "text": [
      "enter first number 2\n",
      "enter second number 4\n"
     ]
    },
    {
     "name": "stdout",
     "output_type": "stream",
     "text": [
      "6\n"
     ]
    }
   ],
   "source": [
    "addtwonum()"
   ]
  },
  {
   "cell_type": "code",
   "execution_count": 52,
   "id": "231df2da-8e28-41c3-96a5-300b7ecbcf99",
   "metadata": {},
   "outputs": [
    {
     "name": "stdin",
     "output_type": "stream",
     "text": [
      "enter first number 66\n",
      "enter second number 2\n"
     ]
    },
    {
     "name": "stdout",
     "output_type": "stream",
     "text": [
      "68\n"
     ]
    }
   ],
   "source": [
    "addtwonum()"
   ]
  },
  {
   "cell_type": "code",
   "execution_count": 56,
   "id": "0239ad34-b312-40a2-a31c-3c4ad8338105",
   "metadata": {},
   "outputs": [],
   "source": [
    "def multiplynum(x, y):\n",
    "    c = str(x)*y\n",
    "    print(c)"
   ]
  },
  {
   "cell_type": "code",
   "execution_count": 57,
   "id": "42b3666a-ebe4-43f1-a5f9-ffa712a4693c",
   "metadata": {},
   "outputs": [
    {
     "name": "stdout",
     "output_type": "stream",
     "text": [
      "1111\n"
     ]
    }
   ],
   "source": [
    "multiplynum(1, 4) "
   ]
  },
  {
   "cell_type": "code",
   "execution_count": 59,
   "id": "3b41c57a-ceb4-4e66-a817-e9460a5f9f4f",
   "metadata": {},
   "outputs": [],
   "source": [
    "def multiplynum(x, y):\n",
    "    c = x*y\n",
    "    print(c)"
   ]
  },
  {
   "cell_type": "code",
   "execution_count": 60,
   "id": "1691c6d8-0fbd-4e25-aed6-1918efc0a67c",
   "metadata": {},
   "outputs": [
    {
     "name": "stdout",
     "output_type": "stream",
     "text": [
      "4\n"
     ]
    }
   ],
   "source": [
    "multiplynum(1, 4) "
   ]
  },
  {
   "cell_type": "code",
   "execution_count": 63,
   "id": "f2e76f6d-2d8b-48a8-907d-2716455cc0fa",
   "metadata": {},
   "outputs": [],
   "source": [
    "def introduction(name):\n",
    "    print(f'hi, {name}')"
   ]
  },
  {
   "cell_type": "code",
   "execution_count": 64,
   "id": "d5555514-c215-412b-ab4d-1a259fe5dbec",
   "metadata": {},
   "outputs": [
    {
     "name": "stdout",
     "output_type": "stream",
     "text": [
      "hi, shad\n"
     ]
    }
   ],
   "source": [
    "introduction('shad')"
   ]
  },
  {
   "cell_type": "code",
   "execution_count": 65,
   "id": "37a431b8-80da-4d82-95ba-c005d50f6c48",
   "metadata": {},
   "outputs": [],
   "source": [
    "def introduction(name1, name2):\n",
    "    print(f'hi, {name1} {name2}')"
   ]
  },
  {
   "cell_type": "code",
   "execution_count": 66,
   "id": "c31f39d6-6588-436e-b784-4a1cb38cd695",
   "metadata": {},
   "outputs": [
    {
     "name": "stdout",
     "output_type": "stream",
     "text": [
      "hi, shad ansari\n"
     ]
    }
   ],
   "source": [
    "introduction('shad', 'ansari')"
   ]
  },
  {
   "cell_type": "code",
   "execution_count": 67,
   "id": "9153bc90-4075-41e6-8ee4-6d925f455c89",
   "metadata": {},
   "outputs": [],
   "source": [
    "def absolut(a):\n",
    "    if a>0:\n",
    "        return a\n",
    "    else:\n",
    "        return -a"
   ]
  },
  {
   "cell_type": "code",
   "execution_count": 68,
   "id": "a67d66a5-f6e2-4e85-ac05-4225dba027ca",
   "metadata": {},
   "outputs": [
    {
     "data": {
      "text/plain": [
       "10"
      ]
     },
     "execution_count": 68,
     "metadata": {},
     "output_type": "execute_result"
    }
   ],
   "source": [
    "absolut(-10)"
   ]
  },
  {
   "cell_type": "code",
   "execution_count": 70,
   "id": "d9d8fd74-99ee-41af-8fd9-ddae4e667570",
   "metadata": {},
   "outputs": [
    {
     "data": {
      "text/plain": [
       "91"
      ]
     },
     "execution_count": 70,
     "metadata": {},
     "output_type": "execute_result"
    }
   ],
   "source": [
    "absolut(91)"
   ]
  },
  {
   "cell_type": "code",
   "execution_count": 74,
   "id": "56b6ee56-11b2-45b6-a7fc-911170f2a4d7",
   "metadata": {},
   "outputs": [],
   "source": [
    "def fullname(a, b):\n",
    "    return a+b"
   ]
  },
  {
   "cell_type": "code",
   "execution_count": 75,
   "id": "66681ff3-31be-47ef-b7ea-09ad20af3608",
   "metadata": {},
   "outputs": [
    {
     "data": {
      "text/plain": [
       "'pwskills'"
      ]
     },
     "execution_count": 75,
     "metadata": {},
     "output_type": "execute_result"
    }
   ],
   "source": [
    "name = fullname('pw','skills')\n",
    "name"
   ]
  },
  {
   "cell_type": "code",
   "execution_count": 80,
   "id": "a76c15b5-7122-47c5-bc57-70cf7f350f6c",
   "metadata": {},
   "outputs": [],
   "source": [
    "def fullname(a, b):\n",
    "    print(a+b)"
   ]
  },
  {
   "cell_type": "code",
   "execution_count": 81,
   "id": "d9203dce-261c-4822-9829-8128f4efb179",
   "metadata": {},
   "outputs": [
    {
     "name": "stdout",
     "output_type": "stream",
     "text": [
      "pwskills\n"
     ]
    }
   ],
   "source": [
    "name = fullname('pw','skills')\n"
   ]
  },
  {
   "cell_type": "code",
   "execution_count": 83,
   "id": "0ffd1505-1d12-460c-a7b1-3c5540776aa4",
   "metadata": {},
   "outputs": [],
   "source": [
    "name ## it is not returning anythin in case there is print in function"
   ]
  },
  {
   "cell_type": "code",
   "execution_count": 84,
   "id": "339b58d1-f14a-4854-8bae-5acb119e19e5",
   "metadata": {},
   "outputs": [],
   "source": [
    "def fullname(a, b):\n",
    "    return"
   ]
  },
  {
   "cell_type": "code",
   "execution_count": 88,
   "id": "98ced441-987d-4e4d-90b2-b1d1a8b33842",
   "metadata": {},
   "outputs": [
    {
     "data": {
      "text/plain": [
       "NoneType"
      ]
     },
     "execution_count": 88,
     "metadata": {},
     "output_type": "execute_result"
    }
   ],
   "source": [
    "a = fullname('p','s')\n",
    "type(a) # Type is none type if there is nothing to return"
   ]
  },
  {
   "cell_type": "code",
   "execution_count": 89,
   "id": "90c644ae-73c3-452e-8de5-386aa0714b34",
   "metadata": {},
   "outputs": [],
   "source": [
    "def calculator(a, b):\n",
    "    add = a+b\n",
    "    sub = a-b\n",
    "    mul = a*b\n",
    "    div = a/b\n",
    "    return add, sub, mul, div   # returning in the form of tupe"
   ]
  },
  {
   "cell_type": "code",
   "execution_count": 93,
   "id": "7eab21d7-967f-4abb-a002-6f918c56afce",
   "metadata": {},
   "outputs": [],
   "source": [
    "m, n, o, p = calculator(10, 2)\n",
    "num = calculator(1,2)"
   ]
  },
  {
   "cell_type": "code",
   "execution_count": 94,
   "id": "3cda827f-1a0e-4eec-aaea-4e440011cc5d",
   "metadata": {},
   "outputs": [
    {
     "name": "stdout",
     "output_type": "stream",
     "text": [
      "12\n",
      "8\n",
      "20\n",
      "5.0\n"
     ]
    }
   ],
   "source": [
    "print(m)\n",
    "print(n)\n",
    "print(o)\n",
    "print(p)"
   ]
  },
  {
   "cell_type": "code",
   "execution_count": 95,
   "id": "4a5e34e7-1af9-431d-90d4-0fec60d51afe",
   "metadata": {},
   "outputs": [
    {
     "data": {
      "text/plain": [
       "tuple"
      ]
     },
     "execution_count": 95,
     "metadata": {},
     "output_type": "execute_result"
    }
   ],
   "source": [
    "type(num)"
   ]
  },
  {
   "cell_type": "code",
   "execution_count": 96,
   "id": "2aad80a4-4949-44b9-9bb7-7475011b7298",
   "metadata": {},
   "outputs": [
    {
     "data": {
      "text/plain": [
       "(3, -1, 2, 0.5)"
      ]
     },
     "execution_count": 96,
     "metadata": {},
     "output_type": "execute_result"
    }
   ],
   "source": [
    "num"
   ]
  },
  {
   "cell_type": "code",
   "execution_count": 105,
   "id": "6ed09021-7596-482f-8c5f-494677470b0a",
   "metadata": {},
   "outputs": [],
   "source": [
    "# Find area of circule\n",
    "\n",
    "def area_circle(radius):\n",
    "    return 3.14*(radius**2) # radius square\n",
    "                 \n"
   ]
  },
  {
   "cell_type": "code",
   "execution_count": 106,
   "id": "40d337d5-095a-4755-86f9-8e7ec61dee54",
   "metadata": {},
   "outputs": [
    {
     "data": {
      "text/plain": [
       "314.0"
      ]
     },
     "execution_count": 106,
     "metadata": {},
     "output_type": "execute_result"
    }
   ],
   "source": [
    "area_circle(10)"
   ]
  },
  {
   "cell_type": "code",
   "execution_count": 107,
   "id": "4c8bd40c-f4d2-4172-9f1d-dbead98e20d1",
   "metadata": {},
   "outputs": [],
   "source": [
    "# find area of rectangle\n",
    "\n",
    "def area_rect(a, b):\n",
    "    return a*b"
   ]
  },
  {
   "cell_type": "code",
   "execution_count": 108,
   "id": "20889a86-a19c-4b9e-95da-00bb01ce774d",
   "metadata": {},
   "outputs": [
    {
     "data": {
      "text/plain": [
       "200"
      ]
     },
     "execution_count": 108,
     "metadata": {},
     "output_type": "execute_result"
    }
   ],
   "source": [
    "area_rect(10,20)"
   ]
  },
  {
   "cell_type": "code",
   "execution_count": 109,
   "id": "685cd2f8-13ec-4bd5-add3-ebb984ea4ce7",
   "metadata": {},
   "outputs": [],
   "source": [
    "# input a number, create a square"
   ]
  },
  {
   "cell_type": "code",
   "execution_count": 113,
   "id": "b93347d1-5960-4a5a-a5e7-97dc65627fa2",
   "metadata": {},
   "outputs": [],
   "source": [
    "def sq():\n",
    "    a=int(input(\"Enter the number\"))\n",
    "    return a*a\n"
   ]
  },
  {
   "cell_type": "code",
   "execution_count": 116,
   "id": "f381f96a-a558-4457-ad37-2002a6cd9978",
   "metadata": {},
   "outputs": [
    {
     "name": "stdin",
     "output_type": "stream",
     "text": [
      "Enter the number 12\n"
     ]
    },
    {
     "data": {
      "text/plain": [
       "144"
      ]
     },
     "execution_count": 116,
     "metadata": {},
     "output_type": "execute_result"
    }
   ],
   "source": [
    "sq()"
   ]
  },
  {
   "cell_type": "markdown",
   "id": "c1c251c3-2a00-4913-8464-97f9b1016f43",
   "metadata": {},
   "source": [
    "5. Accept two words as input and print the two words after adding a \n",
    "space between them"
   ]
  },
  {
   "cell_type": "code",
   "execution_count": 117,
   "id": "d697bc32-0935-4d4a-8019-97d9fb926ca2",
   "metadata": {},
   "outputs": [],
   "source": [
    "def two(a, b):\n",
    "    print(f'{a} {b}')\n"
   ]
  },
  {
   "cell_type": "code",
   "execution_count": 119,
   "id": "b0c6725f-4bb5-4b16-bff8-af9c4685081b",
   "metadata": {},
   "outputs": [
    {
     "name": "stdout",
     "output_type": "stream",
     "text": [
      "shad ansari\n"
     ]
    }
   ],
   "source": [
    "two('shad','ansari')\n"
   ]
  },
  {
   "cell_type": "markdown",
   "id": "7262c0e8-337d-4b47-a605-1b6b336739c4",
   "metadata": {},
   "source": [
    "create a python program that includes a user-defined function called print_even_number().\n",
    "the function should prompt the user to set a range limit before printing\n",
    "all even numbers upto that limit"
   ]
  },
  {
   "cell_type": "code",
   "execution_count": 137,
   "id": "471388e1-702d-44f2-af50-44e7a2aec1fb",
   "metadata": {},
   "outputs": [],
   "source": [
    "def even_num():\n",
    "    limit1 = int(input('enter the first num'))\n",
    "    n = int(input('enter the range'))\n",
    "    for i in range(limit1, n+1):\n",
    "        if i %2 == 0:\n",
    "            print(i)\n",
    "        else:\n",
    "            pass"
   ]
  },
  {
   "cell_type": "code",
   "execution_count": 139,
   "id": "c76831cd-b97a-47ba-bb18-99ef353c82e8",
   "metadata": {},
   "outputs": [
    {
     "name": "stdin",
     "output_type": "stream",
     "text": [
      "enter the first num 4\n",
      "enter the range 25\n"
     ]
    },
    {
     "name": "stdout",
     "output_type": "stream",
     "text": [
      "4\n",
      "6\n",
      "8\n",
      "10\n",
      "12\n",
      "14\n",
      "16\n",
      "18\n",
      "20\n",
      "22\n",
      "24\n"
     ]
    }
   ],
   "source": [
    "even_num()"
   ]
  },
  {
   "cell_type": "code",
   "execution_count": 141,
   "id": "747acfac-da77-4611-bcc4-2b40c6bbc00f",
   "metadata": {},
   "outputs": [
    {
     "name": "stdin",
     "output_type": "stream",
     "text": [
      "Enter 2 numbers between which you want the even number 2 10\n"
     ]
    },
    {
     "name": "stdout",
     "output_type": "stream",
     "text": [
      "2\n",
      "4\n",
      "6\n",
      "8\n",
      "10\n"
     ]
    }
   ],
   "source": [
    "def print_even_numbers():\n",
    "    a , b = input(\"Enter 2 numbers between which you want the even number\").split()\n",
    "    \n",
    "    for i in range( int(a), int(b)+1):\n",
    "        if i%2 == 0:\n",
    "            print(i)\n",
    "            \n",
    "print_even_numbers()\n"
   ]
  },
  {
   "cell_type": "markdown",
   "id": "c76a50c2-bea6-4e68-b270-060f6888884f",
   "metadata": {},
   "source": [
    "13. Accept three positive integers as input and check if they form the \n",
    "sides of a right triangle. Print YES if they form one, and NO is they do \n",
    "not. The input will have three lines, with one integer on each line. \n",
    "The output should be a single line containing one of these two \n",
    "strings: YES or NO."
   ]
  },
  {
   "cell_type": "code",
   "execution_count": 12,
   "id": "d742d23f-2ce3-4f48-ab74-ec1489e41807",
   "metadata": {},
   "outputs": [
    {
     "name": "stdin",
     "output_type": "stream",
     "text": [
      "enter base 3\n",
      "enter length 4\n",
      "enter hypote 5\n"
     ]
    },
    {
     "data": {
      "text/plain": [
       "'yes'"
      ]
     },
     "execution_count": 12,
     "metadata": {},
     "output_type": "execute_result"
    }
   ],
   "source": [
    "def right_angle():\n",
    "    b = int(input('enter base'))\n",
    "    \n",
    "    l = int(input('enter length'))\n",
    "    h = int(input('enter hypote'))\n",
    "            \n",
    "    if (h**2) == (b**2) + (l**2):\n",
    "        value = 'yes'\n",
    "    else:\n",
    "        value = 'no'\n",
    "        \n",
    "    return value\n",
    "\n",
    "\n",
    "right_angle()           "
   ]
  },
  {
   "cell_type": "code",
   "execution_count": null,
   "id": "553228d9-688b-45e2-af0a-5958ce133ba4",
   "metadata": {},
   "outputs": [],
   "source": [
    "def checkRightTriangle(a,b,c):\n",
    "    if a**2 == b**2 + c**2 or b**2 == c**2 + a**2 or c**2 == a**2 + b**2:\n",
    "        print('It is a right angled triangle')\n",
    "    else:\n",
    "        print('It is not a right angled triangle')\n",
    "a = int(input('Enter the first side of triangle : '))\n",
    "b = int(input('Enter the second side of triangle : '))\n",
    "c = int(input('Enter the third side of triangle : '))\n",
    "checkRightTriangle(a,b,c)\n"
   ]
  },
  {
   "cell_type": "markdown",
   "id": "9f04a70e-fad3-4e22-81b3-6a0fb1703ac1",
   "metadata": {},
   "source": [
    "17.Accept a string as input. Your task is to determine if the input string is a valid password or not. For a \n",
    "string to be a valid password, it must satisfy all the conditions given below:<br>\n",
    "(1) It should have at least 8 and at most 32 characters<br>\n",
    "(2) It should start with an uppercase or lowercase letter<br>\n",
    "(3) It should not have any of these characters: / \\ = ' \"<br>\n",
    "(4) It should not have spaces<br>\n",
    "It could have any character that is not mentioned in the list of characters to be avoided (points 3 and \n",
    "4). Output True if the string forms a valid password and False otherwise<br>"
   ]
  },
  {
   "cell_type": "code",
   "execution_count": 21,
   "id": "9e0306af-73aa-4589-addd-30c9d38eb0ad",
   "metadata": {},
   "outputs": [
    {
     "data": {
      "text/plain": [
       "'shad'"
      ]
     },
     "execution_count": 21,
     "metadata": {},
     "output_type": "execute_result"
    }
   ],
   "source": [
    "string = 'shad'\n",
    "string.strip()"
   ]
  },
  {
   "cell_type": "code",
   "execution_count": 3,
   "id": "4c6be411-bdd2-4d6f-9607-2da0f51bbca5",
   "metadata": {},
   "outputs": [],
   "source": [
    "def password():\n",
    "    password = input('enter password')\n",
    "    special_char =  ['/', '\\\\', '=', \"'\", '\"']\n",
    "    \n",
    "    if (8<=(len(password)) <=32) and (password.istitle()) and (password.find(' ')==-1):\n",
    "        for i in password:\n",
    "            if i not in special_char:\n",
    "                print('password is correct')\n",
    "                break\n",
    "    else:\n",
    "        print('password is wrong')\n",
    "                "
   ]
  },
  {
   "cell_type": "code",
   "execution_count": 4,
   "id": "077f52c0-1fa3-4e7b-b13f-6b2e36546b11",
   "metadata": {},
   "outputs": [
    {
     "name": "stdin",
     "output_type": "stream",
     "text": [
      "enter password Shadman\\\n"
     ]
    },
    {
     "name": "stdout",
     "output_type": "stream",
     "text": [
      "password is correct\n"
     ]
    }
   ],
   "source": [
    "password()\n"
   ]
  },
  {
   "cell_type": "code",
   "execution_count": null,
   "id": "eeeab5bc-2033-4a5d-a3bc-23adbcd17ff8",
   "metadata": {},
   "outputs": [],
   "source": [
    "def validPassword(pwd: str):\n",
    "    if 8 <= len(pwd) <= 32 and pwd[0].isalpha() and all(char not in pwd for char in [\" \", \"'\", \"/\", \"=\", '\"', '\\\\']):\n",
    "        return True\n",
    "    else:\n",
    "        return False\n"
   ]
  }
 ],
 "metadata": {
  "kernelspec": {
   "display_name": "Python 3 (ipykernel)",
   "language": "python",
   "name": "python3"
  },
  "language_info": {
   "codemirror_mode": {
    "name": "ipython",
    "version": 3
   },
   "file_extension": ".py",
   "mimetype": "text/x-python",
   "name": "python",
   "nbconvert_exporter": "python",
   "pygments_lexer": "ipython3",
   "version": "3.10.8"
  }
 },
 "nbformat": 4,
 "nbformat_minor": 5
}
