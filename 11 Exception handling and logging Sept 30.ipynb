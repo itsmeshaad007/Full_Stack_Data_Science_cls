{
 "cells": [
  {
   "cell_type": "markdown",
   "id": "090f14c2-4871-44be-9444-ab3100373911",
   "metadata": {},
   "source": [
    "# Exception handling"
   ]
  },
  {
   "cell_type": "code",
   "execution_count": 1,
   "id": "4bba0602-eab0-47d4-a2fa-28a6eb469e34",
   "metadata": {},
   "outputs": [],
   "source": [
    "a= 10\n",
    "b = 5"
   ]
  },
  {
   "cell_type": "code",
   "execution_count": 2,
   "id": "c68509dc-ebf0-4001-ab0a-4d203ad1176b",
   "metadata": {},
   "outputs": [
    {
     "data": {
      "text/plain": [
       "2.0"
      ]
     },
     "execution_count": 2,
     "metadata": {},
     "output_type": "execute_result"
    }
   ],
   "source": [
    "a/b"
   ]
  },
  {
   "cell_type": "code",
   "execution_count": 3,
   "id": "fc1592c5-8859-4b68-a6ff-fa977c1aaf3d",
   "metadata": {},
   "outputs": [
    {
     "ename": "ZeroDivisionError",
     "evalue": "division by zero",
     "output_type": "error",
     "traceback": [
      "\u001b[0;31m---------------------------------------------------------------------------\u001b[0m",
      "\u001b[0;31mZeroDivisionError\u001b[0m                         Traceback (most recent call last)",
      "Cell \u001b[0;32mIn[3], line 2\u001b[0m\n\u001b[1;32m      1\u001b[0m b\u001b[38;5;241m=\u001b[39m \u001b[38;5;241m0\u001b[39m\n\u001b[0;32m----> 2\u001b[0m \u001b[43ma\u001b[49m\u001b[38;5;241;43m/\u001b[39;49m\u001b[43mb\u001b[49m\n",
      "\u001b[0;31mZeroDivisionError\u001b[0m: division by zero"
     ]
    }
   ],
   "source": [
    "b= 0\n",
    "a/b"
   ]
  },
  {
   "cell_type": "code",
   "execution_count": 4,
   "id": "700e99dc-c163-43cc-a7b0-d3c01de66dbe",
   "metadata": {},
   "outputs": [],
   "source": [
    "### Infinity (INV) is available in numpy lib"
   ]
  },
  {
   "cell_type": "code",
   "execution_count": 6,
   "id": "83d644bf-e03a-459f-bdee-f6f8a4806038",
   "metadata": {},
   "outputs": [
    {
     "name": "stdin",
     "output_type": "stream",
     "text": [
      "enter a value for a 10\n",
      "enter a value for b 0\n"
     ]
    }
   ],
   "source": [
    "a = int(input('enter a value for a'))\n",
    "b = int(input('enter a value for b'))\n",
    "                "
   ]
  },
  {
   "cell_type": "code",
   "execution_count": 8,
   "id": "589ef940-76a7-4403-91b7-52aca84b2b2c",
   "metadata": {},
   "outputs": [
    {
     "ename": "ZeroDivisionError",
     "evalue": "division by zero",
     "output_type": "error",
     "traceback": [
      "\u001b[0;31m---------------------------------------------------------------------------\u001b[0m",
      "\u001b[0;31mZeroDivisionError\u001b[0m                         Traceback (most recent call last)",
      "Cell \u001b[0;32mIn[8], line 1\u001b[0m\n\u001b[0;32m----> 1\u001b[0m \u001b[43ma\u001b[49m\u001b[38;5;241;43m/\u001b[39;49m\u001b[43mb\u001b[49m\n\u001b[1;32m      2\u001b[0m \u001b[38;5;28mprint\u001b[39m(\u001b[38;5;124m'\u001b[39m\u001b[38;5;124mprint something\u001b[39m\u001b[38;5;124m'\u001b[39m)\n",
      "\u001b[0;31mZeroDivisionError\u001b[0m: division by zero"
     ]
    }
   ],
   "source": [
    "a/b\n",
    "print('print something')"
   ]
  },
  {
   "cell_type": "code",
   "execution_count": 9,
   "id": "b18ca4de-7b0e-4bb8-a9d0-e9cd0470718a",
   "metadata": {},
   "outputs": [],
   "source": [
    "# Coding norms: to use exception handling"
   ]
  },
  {
   "cell_type": "code",
   "execution_count": 10,
   "id": "5e24d9d4-52e2-4c17-9710-d3a6613a5cb1",
   "metadata": {},
   "outputs": [],
   "source": [
    "## If-else condition not suitable - we can't predict all posible exceptions"
   ]
  },
  {
   "cell_type": "code",
   "execution_count": 15,
   "id": "1fe7f704-b21a-4db9-aecf-071beac76799",
   "metadata": {},
   "outputs": [],
   "source": [
    "# Use try\n",
    "\n",
    "l = [4,5,6,7,8,9,0]\n",
    "l1 = []\n",
    "def even_parser(l):\n",
    "    for i in l:\n",
    "        if i%2 == 0:\n",
    "            l1.append(i)\n",
    "    return l1"
   ]
  },
  {
   "cell_type": "code",
   "execution_count": 16,
   "id": "3fa89a59-78ea-4f74-a5a9-e41904d81f45",
   "metadata": {},
   "outputs": [
    {
     "data": {
      "text/plain": [
       "[4, 6, 8, 0]"
      ]
     },
     "execution_count": 16,
     "metadata": {},
     "output_type": "execute_result"
    }
   ],
   "source": [
    "even_parser(l)"
   ]
  },
  {
   "cell_type": "code",
   "execution_count": 20,
   "id": "f64c4e83-bcc2-4eec-ad01-767058907646",
   "metadata": {},
   "outputs": [
    {
     "ename": "TypeError",
     "evalue": "not all arguments converted during string formatting",
     "output_type": "error",
     "traceback": [
      "\u001b[0;31m---------------------------------------------------------------------------\u001b[0m",
      "\u001b[0;31mTypeError\u001b[0m                                 Traceback (most recent call last)",
      "Cell \u001b[0;32mIn[20], line 1\u001b[0m\n\u001b[0;32m----> 1\u001b[0m \u001b[43meven_parser\u001b[49m\u001b[43m(\u001b[49m\u001b[38;5;124;43m'\u001b[39;49m\u001b[38;5;124;43mshad\u001b[39;49m\u001b[38;5;124;43m'\u001b[39;49m\u001b[43m)\u001b[49m\n\u001b[1;32m      2\u001b[0m \u001b[38;5;28mprint\u001b[39m(\u001b[38;5;124m'\u001b[39m\u001b[38;5;124msomething\u001b[39m\u001b[38;5;124m'\u001b[39m)\n\u001b[1;32m      3\u001b[0m \u001b[38;5;66;03m## Not printing - something\u001b[39;00m\n",
      "Cell \u001b[0;32mIn[15], line 7\u001b[0m, in \u001b[0;36meven_parser\u001b[0;34m(l)\u001b[0m\n\u001b[1;32m      5\u001b[0m \u001b[38;5;28;01mdef\u001b[39;00m \u001b[38;5;21meven_parser\u001b[39m(l):\n\u001b[1;32m      6\u001b[0m     \u001b[38;5;28;01mfor\u001b[39;00m i \u001b[38;5;129;01min\u001b[39;00m l:\n\u001b[0;32m----> 7\u001b[0m         \u001b[38;5;28;01mif\u001b[39;00m \u001b[43mi\u001b[49m\u001b[38;5;241;43m%\u001b[39;49m\u001b[38;5;241;43m2\u001b[39;49m \u001b[38;5;241m==\u001b[39m \u001b[38;5;241m0\u001b[39m:\n\u001b[1;32m      8\u001b[0m             l1\u001b[38;5;241m.\u001b[39mappend(i)\n\u001b[1;32m      9\u001b[0m     \u001b[38;5;28;01mreturn\u001b[39;00m l1\n",
      "\u001b[0;31mTypeError\u001b[0m: not all arguments converted during string formatting"
     ]
    }
   ],
   "source": [
    "even_parser('shad')\n",
    "print('something')\n",
    "## Not printing - something"
   ]
  },
  {
   "cell_type": "markdown",
   "id": "218bb4e9-d5be-4859-a7c6-961f8e716402",
   "metadata": {},
   "source": [
    "### Try block: handle run-time error"
   ]
  },
  {
   "cell_type": "code",
   "execution_count": 24,
   "id": "d6e951d6-2dde-4893-aa48-58134229800d",
   "metadata": {},
   "outputs": [
    {
     "ename": "SyntaxError",
     "evalue": "incomplete input (797552425.py, line 5)",
     "output_type": "error",
     "traceback": [
      "\u001b[0;36m  Cell \u001b[0;32mIn[24], line 5\u001b[0;36m\u001b[0m\n\u001b[0;31m    print(c)\u001b[0m\n\u001b[0m                ^\u001b[0m\n\u001b[0;31mSyntaxError\u001b[0m\u001b[0;31m:\u001b[0m incomplete input\n"
     ]
    }
   ],
   "source": [
    "try:\n",
    "    a = int(input('enter a value for a'))\n",
    "    b = int(input('enter a value for b'))\n",
    "    c = a/b\n",
    "    print(c)    "
   ]
  },
  {
   "cell_type": "code",
   "execution_count": 26,
   "id": "0ef8b756-a765-4146-873b-860c0b69087b",
   "metadata": {},
   "outputs": [
    {
     "name": "stdin",
     "output_type": "stream",
     "text": [
      "enter a value for a 10\n",
      "enter a value for b 0\n"
     ]
    }
   ],
   "source": [
    "try:\n",
    "    a = int(input('enter a value for a'))\n",
    "    b = int(input('enter a value for b'))\n",
    "    c = a/b\n",
    "    print(c)    \n",
    "\n",
    "except:\n",
    "    pass\n",
    "\n",
    "# No error but able to execute"
   ]
  },
  {
   "cell_type": "code",
   "execution_count": 27,
   "id": "a34d2663-9112-4e50-85dc-6fb4a0c6daae",
   "metadata": {},
   "outputs": [
    {
     "name": "stdin",
     "output_type": "stream",
     "text": [
      "enter a value for a 10\n",
      "enter a value for b 0\n"
     ]
    },
    {
     "name": "stdout",
     "output_type": "stream",
     "text": [
      "no error\n"
     ]
    }
   ],
   "source": [
    "try:\n",
    "    a = int(input('enter a value for a'))\n",
    "    b = int(input('enter a value for b'))\n",
    "    c = a/b\n",
    "    print(c)    \n",
    "\n",
    "except:\n",
    "    pass\n",
    "\n",
    "print('no error')  # it is printing"
   ]
  },
  {
   "cell_type": "code",
   "execution_count": 29,
   "id": "43202f4f-fddc-437f-8264-d33a23bb2806",
   "metadata": {},
   "outputs": [
    {
     "name": "stdin",
     "output_type": "stream",
     "text": [
      "enter a value for a shad\n"
     ]
    },
    {
     "name": "stdout",
     "output_type": "stream",
     "text": [
      "At line 1 there is error\n"
     ]
    }
   ],
   "source": [
    "try:\n",
    "    a = int(input('enter a value for a'))\n",
    "    b = int(input('enter a value for b'))\n",
    "    c = a/b\n",
    "    print(c)    \n",
    "\n",
    "except:\n",
    "    pass\n",
    "\n",
    "print('At line 1 there is error')  # it is printing"
   ]
  },
  {
   "cell_type": "code",
   "execution_count": 30,
   "id": "8b60def5-4b63-4c8d-b5cb-51bc7619331b",
   "metadata": {},
   "outputs": [],
   "source": [
    "l = [4,5,6,7,8,9,0]\n",
    "l1 = []\n",
    "def even_parser(l):\n",
    "    for i in l:\n",
    "        if i%2 == 0:\n",
    "            l1.append(i)\n",
    "    return l1"
   ]
  },
  {
   "cell_type": "code",
   "execution_count": 31,
   "id": "c6af35d8-fe1a-474e-8138-6bf01b356705",
   "metadata": {},
   "outputs": [
    {
     "ename": "TypeError",
     "evalue": "'int' object is not iterable",
     "output_type": "error",
     "traceback": [
      "\u001b[0;31m---------------------------------------------------------------------------\u001b[0m",
      "\u001b[0;31mTypeError\u001b[0m                                 Traceback (most recent call last)",
      "Cell \u001b[0;32mIn[31], line 1\u001b[0m\n\u001b[0;32m----> 1\u001b[0m \u001b[43meven_parser\u001b[49m\u001b[43m(\u001b[49m\u001b[38;5;241;43m5\u001b[39;49m\u001b[43m)\u001b[49m\n",
      "Cell \u001b[0;32mIn[30], line 4\u001b[0m, in \u001b[0;36meven_parser\u001b[0;34m(l)\u001b[0m\n\u001b[1;32m      3\u001b[0m \u001b[38;5;28;01mdef\u001b[39;00m \u001b[38;5;21meven_parser\u001b[39m(l):\n\u001b[0;32m----> 4\u001b[0m     \u001b[38;5;28;01mfor\u001b[39;00m i \u001b[38;5;129;01min\u001b[39;00m l:\n\u001b[1;32m      5\u001b[0m         \u001b[38;5;28;01mif\u001b[39;00m i\u001b[38;5;241m%\u001b[39m\u001b[38;5;241m2\u001b[39m \u001b[38;5;241m==\u001b[39m \u001b[38;5;241m0\u001b[39m:\n\u001b[1;32m      6\u001b[0m             l1\u001b[38;5;241m.\u001b[39mappend(i)\n",
      "\u001b[0;31mTypeError\u001b[0m: 'int' object is not iterable"
     ]
    }
   ],
   "source": [
    "even_parser(5)"
   ]
  },
  {
   "cell_type": "code",
   "execution_count": 32,
   "id": "157086f6-6209-4a40-a36f-1406033f996b",
   "metadata": {},
   "outputs": [],
   "source": [
    "l = [4,5,6,7,8,9,0]\n",
    "l1 = []\n",
    "\n",
    "def even_parser(l):\n",
    "    try:\n",
    "        for i in l:\n",
    "            if i%2 == 0:\n",
    "                l1.append(i)\n",
    "        return l1\n",
    "    except:\n",
    "        pass\n",
    "    print('error free now')"
   ]
  },
  {
   "cell_type": "code",
   "execution_count": 33,
   "id": "9873aef6-1fc6-48b6-b748-07c7625b384e",
   "metadata": {},
   "outputs": [
    {
     "name": "stdout",
     "output_type": "stream",
     "text": [
      "error free now\n"
     ]
    }
   ],
   "source": [
    "even_parser(5)"
   ]
  },
  {
   "cell_type": "code",
   "execution_count": 34,
   "id": "d9a7b533-c218-4906-9537-b933e69e3eaf",
   "metadata": {},
   "outputs": [
    {
     "data": {
      "text/plain": [
       "[10]"
      ]
     },
     "execution_count": 34,
     "metadata": {},
     "output_type": "execute_result"
    }
   ],
   "source": [
    "even_parser([5, 10])"
   ]
  },
  {
   "cell_type": "code",
   "execution_count": 35,
   "id": "d75f2ae4-b058-4093-b477-0edefe71ffc8",
   "metadata": {},
   "outputs": [],
   "source": [
    "### Always keep block of codes in the try-except for exception handling"
   ]
  },
  {
   "cell_type": "markdown",
   "id": "5f274a1d-4e46-4a09-b2ed-0776f435dfa4",
   "metadata": {},
   "source": [
    "### Exception name should be find out"
   ]
  },
  {
   "cell_type": "code",
   "execution_count": 36,
   "id": "08233b67-fe6e-4d2e-a18f-cac1af6cd8fe",
   "metadata": {},
   "outputs": [
    {
     "name": "stdout",
     "output_type": "stream",
     "text": [
      "division by zero\n"
     ]
    }
   ],
   "source": [
    "try:\n",
    "    c = 6/0\n",
    "except Exception as e:  # Exception is a module\n",
    "    print(e)"
   ]
  },
  {
   "cell_type": "code",
   "execution_count": 37,
   "id": "5ed5f6d1-7ea1-465c-af40-e9101565e038",
   "metadata": {},
   "outputs": [
    {
     "name": "stdin",
     "output_type": "stream",
     "text": [
      " 10\n",
      " 0\n"
     ]
    },
    {
     "name": "stdout",
     "output_type": "stream",
     "text": [
      "division by zero\n"
     ]
    }
   ],
   "source": [
    "try:\n",
    "    a = int(input())\n",
    "    b = int(input())\n",
    "    c = a/b\n",
    "except Exception as e:\n",
    "    print(e)"
   ]
  },
  {
   "cell_type": "code",
   "execution_count": 38,
   "id": "87ab8c3f-1c36-4c3a-ae3d-56d09d5ce06b",
   "metadata": {},
   "outputs": [
    {
     "name": "stdin",
     "output_type": "stream",
     "text": [
      " shad\n"
     ]
    },
    {
     "name": "stdout",
     "output_type": "stream",
     "text": [
      "invalid literal for int() with base 10: 'shad'\n"
     ]
    }
   ],
   "source": [
    "try:\n",
    "    a = int(input())\n",
    "    b = int(input())\n",
    "    c = a/b\n",
    "except Exception as e:\n",
    "    print(e)"
   ]
  },
  {
   "cell_type": "code",
   "execution_count": 39,
   "id": "64dce60e-b9cc-4d31-ac9e-eac8345116e4",
   "metadata": {},
   "outputs": [],
   "source": [
    "# we can use specific class to handle exception"
   ]
  },
  {
   "cell_type": "code",
   "execution_count": 41,
   "id": "e4c761d4-9649-4ca9-9407-a0085c2217f1",
   "metadata": {},
   "outputs": [
    {
     "name": "stdin",
     "output_type": "stream",
     "text": [
      " shad\n"
     ]
    },
    {
     "ename": "ValueError",
     "evalue": "invalid literal for int() with base 10: 'shad'",
     "output_type": "error",
     "traceback": [
      "\u001b[0;31m---------------------------------------------------------------------------\u001b[0m",
      "\u001b[0;31mValueError\u001b[0m                                Traceback (most recent call last)",
      "Cell \u001b[0;32mIn[41], line 2\u001b[0m\n\u001b[1;32m      1\u001b[0m \u001b[38;5;28;01mtry\u001b[39;00m:\n\u001b[0;32m----> 2\u001b[0m     a \u001b[38;5;241m=\u001b[39m \u001b[38;5;28;43mint\u001b[39;49m\u001b[43m(\u001b[49m\u001b[38;5;28;43minput\u001b[39;49m\u001b[43m(\u001b[49m\u001b[43m)\u001b[49m\u001b[43m)\u001b[49m\n\u001b[1;32m      3\u001b[0m     b \u001b[38;5;241m=\u001b[39m \u001b[38;5;28mint\u001b[39m(\u001b[38;5;28minput\u001b[39m())\n\u001b[1;32m      4\u001b[0m     c \u001b[38;5;241m=\u001b[39m a\u001b[38;5;241m/\u001b[39mb\n",
      "\u001b[0;31mValueError\u001b[0m: invalid literal for int() with base 10: 'shad'"
     ]
    }
   ],
   "source": [
    "try:\n",
    "    a = int(input())\n",
    "    b = int(input())\n",
    "    c = a/b\n",
    "except TypeError as t:\n",
    "    print(t)\n",
    "except ZeroDivisionError as z:\n",
    "    print(z)"
   ]
  },
  {
   "cell_type": "code",
   "execution_count": 45,
   "id": "bbe3754f-589d-405f-b645-b7260ff0ea9e",
   "metadata": {},
   "outputs": [
    {
     "name": "stdin",
     "output_type": "stream",
     "text": [
      " 9\n",
      " 0\n"
     ]
    },
    {
     "name": "stdout",
     "output_type": "stream",
     "text": [
      "division by zero\n"
     ]
    }
   ],
   "source": [
    "try:\n",
    "    a = int(input())\n",
    "    b = int(input())\n",
    "    c = a/b\n",
    "except TypeError as t:\n",
    "    print(t)\n",
    "except ZeroDivisionError as z:\n",
    "    print(z)\n",
    "except ValueError as v:\n",
    "    print(v)"
   ]
  },
  {
   "cell_type": "code",
   "execution_count": 1,
   "id": "a1835ee3-e9af-4823-82ec-aef2ae684d1c",
   "metadata": {},
   "outputs": [
    {
     "name": "stdout",
     "output_type": "stream",
     "text": [
      "division by zero\n"
     ]
    },
    {
     "ename": "ValueError",
     "evalue": "invalid literal for int() with base 10: 'shad'",
     "output_type": "error",
     "traceback": [
      "\u001b[0;31m---------------------------------------------------------------------------\u001b[0m",
      "\u001b[0;31mZeroDivisionError\u001b[0m                         Traceback (most recent call last)",
      "Cell \u001b[0;32mIn[1], line 2\u001b[0m\n\u001b[1;32m      1\u001b[0m \u001b[38;5;28;01mtry\u001b[39;00m:\n\u001b[0;32m----> 2\u001b[0m     x \u001b[38;5;241m=\u001b[39m \u001b[38;5;241;43m5\u001b[39;49m\u001b[38;5;241;43m/\u001b[39;49m\u001b[38;5;241;43m0\u001b[39;49m\n\u001b[1;32m      3\u001b[0m \u001b[38;5;28;01mexcept\u001b[39;00m \u001b[38;5;167;01mZeroDivisionError\u001b[39;00m \u001b[38;5;28;01mas\u001b[39;00m z:\n",
      "\u001b[0;31mZeroDivisionError\u001b[0m: division by zero",
      "\nDuring handling of the above exception, another exception occurred:\n",
      "\u001b[0;31mValueError\u001b[0m                                Traceback (most recent call last)",
      "Cell \u001b[0;32mIn[1], line 6\u001b[0m\n\u001b[1;32m      3\u001b[0m \u001b[38;5;28;01mexcept\u001b[39;00m \u001b[38;5;167;01mZeroDivisionError\u001b[39;00m \u001b[38;5;28;01mas\u001b[39;00m z:\n\u001b[1;32m      4\u001b[0m     \u001b[38;5;28mprint\u001b[39m(z)\n\u001b[0;32m----> 6\u001b[0m     y \u001b[38;5;241m=\u001b[39m \u001b[38;5;28;43mint\u001b[39;49m\u001b[43m(\u001b[49m\u001b[38;5;124;43m'\u001b[39;49m\u001b[38;5;124;43mshad\u001b[39;49m\u001b[38;5;124;43m'\u001b[39;49m\u001b[43m)\u001b[49m\n",
      "\u001b[0;31mValueError\u001b[0m: invalid literal for int() with base 10: 'shad'"
     ]
    }
   ],
   "source": [
    "try:\n",
    "    x = 5/0\n",
    "except ZeroDivisionError as z:\n",
    "    print(z)\n",
    "    \n",
    "    y = int('shad')"
   ]
  },
  {
   "cell_type": "code",
   "execution_count": 2,
   "id": "9b6dd787-6a97-4e8e-bf03-aa2119cd0f36",
   "metadata": {},
   "outputs": [
    {
     "name": "stdout",
     "output_type": "stream",
     "text": [
      "division by zero\n",
      "invalid literal for int() with base 10: 'shad'\n"
     ]
    }
   ],
   "source": [
    "try:\n",
    "    x = 5/0\n",
    "except ZeroDivisionError as z:\n",
    "    print(z)\n",
    "    \n",
    "    try:\n",
    "        y = int('shad')\n",
    "    except ValueError as v:\n",
    "        print(v)"
   ]
  },
  {
   "cell_type": "code",
   "execution_count": 3,
   "id": "f77e7f59-168a-43b2-96be-5a6495eb82cd",
   "metadata": {},
   "outputs": [
    {
     "name": "stdout",
     "output_type": "stream",
     "text": [
      "division by zero\n"
     ]
    }
   ],
   "source": [
    "try:\n",
    "    x = 5/0\n",
    "except ZeroDivisionError as z:\n",
    "    print(z)\n",
    "else:\n",
    "    print('this will execute itself once try will execute without and error')"
   ]
  },
  {
   "cell_type": "code",
   "execution_count": 4,
   "id": "f5f08414-5208-469a-b97d-d1ff9b51a707",
   "metadata": {},
   "outputs": [
    {
     "name": "stdout",
     "output_type": "stream",
     "text": [
      "this will execute itself once try will execute without and error\n"
     ]
    }
   ],
   "source": [
    "try:\n",
    "    x = 5/2\n",
    "except ZeroDivisionError as z:\n",
    "    print(z)\n",
    "else:\n",
    "    print('this will execute itself once try will execute without and error')"
   ]
  },
  {
   "cell_type": "code",
   "execution_count": 6,
   "id": "4264447b-f432-40a9-a065-8b404e7ea662",
   "metadata": {},
   "outputs": [
    {
     "name": "stdout",
     "output_type": "stream",
     "text": [
      "division by zero\n",
      "this will be executed always\n"
     ]
    }
   ],
   "source": [
    "try:\n",
    "    x = 5/0\n",
    "except ZeroDivisionError as z:\n",
    "    print(z)\n",
    "else:\n",
    "    print('this will execute itself once try will execute without and error')\n",
    "    \n",
    "finally:\n",
    "    print('finally will be always executed ')"
   ]
  },
  {
   "cell_type": "code",
   "execution_count": 7,
   "id": "1d926a8c-f808-44d7-9abc-5e9deb18baca",
   "metadata": {},
   "outputs": [
    {
     "name": "stdout",
     "output_type": "stream",
     "text": [
      "this will execute itself once try will execute without and error\n",
      "finally will be executed always\n"
     ]
    }
   ],
   "source": [
    "try:\n",
    "    x = 5/2\n",
    "except ZeroDivisionError as z:\n",
    "    print(z)\n",
    "else:\n",
    "    print('this will execute itself once try will execute without and error')\n",
    "    \n",
    "finally:\n",
    "    print('finally will be always executed ')"
   ]
  },
  {
   "cell_type": "code",
   "execution_count": 2,
   "id": "3ab5b861-8b86-4ff5-8dfc-378ac505468f",
   "metadata": {},
   "outputs": [
    {
     "ename": "KeyError",
     "evalue": "'course'",
     "output_type": "error",
     "traceback": [
      "\u001b[0;31m---------------------------------------------------------------------------\u001b[0m",
      "\u001b[0;31mKeyError\u001b[0m                                  Traceback (most recent call last)",
      "Cell \u001b[0;32mIn[2], line 2\u001b[0m\n\u001b[1;32m      1\u001b[0m d \u001b[38;5;241m=\u001b[39m {\u001b[38;5;124m'\u001b[39m\u001b[38;5;124mname\u001b[39m\u001b[38;5;124m'\u001b[39m:\u001b[38;5;124m'\u001b[39m\u001b[38;5;124mshad\u001b[39m\u001b[38;5;124m'\u001b[39m,\u001b[38;5;124m'\u001b[39m\u001b[38;5;124mmobile_nos\u001b[39m\u001b[38;5;124m'\u001b[39m:\u001b[38;5;241m2342\u001b[39m,\u001b[38;5;124m'\u001b[39m\u001b[38;5;124memail_id\u001b[39m\u001b[38;5;124m'\u001b[39m:\u001b[38;5;124m'\u001b[39m\u001b[38;5;124mshad@342\u001b[39m\u001b[38;5;124m'\u001b[39m}\n\u001b[0;32m----> 2\u001b[0m \u001b[43md\u001b[49m\u001b[43m[\u001b[49m\u001b[38;5;124;43m'\u001b[39;49m\u001b[38;5;124;43mcourse\u001b[39;49m\u001b[38;5;124;43m'\u001b[39;49m\u001b[43m]\u001b[49m\n",
      "\u001b[0;31mKeyError\u001b[0m: 'course'"
     ]
    }
   ],
   "source": [
    "d = {'name':'shad','mobile_nos':2342,'email_id':'shad@342'}\n",
    "d['course']"
   ]
  },
  {
   "cell_type": "code",
   "execution_count": 3,
   "id": "c3e8dd3a-dd60-499c-8d26-2954fa4a0180",
   "metadata": {},
   "outputs": [
    {
     "name": "stdout",
     "output_type": "stream",
     "text": [
      "'course'\n"
     ]
    }
   ],
   "source": [
    "try:  \n",
    "    d = {'name':'shad','mobile_nos':2342,'email_id':'shad@342'}\n",
    "    d['course']\n",
    "except Exception as e:\n",
    "    print(e)"
   ]
  },
  {
   "cell_type": "code",
   "execution_count": 4,
   "id": "6c407328-fc8a-4148-8f00-4769d367787d",
   "metadata": {},
   "outputs": [
    {
     "name": "stdout",
     "output_type": "stream",
     "text": [
      "this is a key error\n"
     ]
    }
   ],
   "source": [
    "try:  \n",
    "    d = {'name':'shad','mobile_nos':2342,'email_id':'shad@342'}\n",
    "    d['course']\n",
    "except Exception as e:\n",
    "    print('this is a key error')"
   ]
  },
  {
   "cell_type": "code",
   "execution_count": 5,
   "id": "dd7607e4-0272-4c2e-8519-7dfaa8e0f64b",
   "metadata": {},
   "outputs": [
    {
     "ename": "IndexError",
     "evalue": "list index out of range",
     "output_type": "error",
     "traceback": [
      "\u001b[0;31m---------------------------------------------------------------------------\u001b[0m",
      "\u001b[0;31mIndexError\u001b[0m                                Traceback (most recent call last)",
      "Cell \u001b[0;32mIn[5], line 3\u001b[0m\n\u001b[1;32m      1\u001b[0m l\u001b[38;5;241m=\u001b[39m[\u001b[38;5;241m4\u001b[39m,\u001b[38;5;241m5\u001b[39m,\u001b[38;5;241m6\u001b[39m,\u001b[38;5;241m7\u001b[39m,\u001b[38;5;241m7\u001b[39m,\u001b[38;5;241m8\u001b[39m]\n\u001b[0;32m----> 3\u001b[0m \u001b[43ml\u001b[49m\u001b[43m[\u001b[49m\u001b[38;5;241;43m10\u001b[39;49m\u001b[43m]\u001b[49m\n",
      "\u001b[0;31mIndexError\u001b[0m: list index out of range"
     ]
    }
   ],
   "source": [
    "l=[4,5,6,7,7,8]\n",
    "\n",
    "l[10]"
   ]
  },
  {
   "cell_type": "code",
   "execution_count": 6,
   "id": "ed1de189-d969-4511-9684-0ebef4ab1194",
   "metadata": {},
   "outputs": [
    {
     "name": "stdout",
     "output_type": "stream",
     "text": [
      "list index out of range\n"
     ]
    }
   ],
   "source": [
    "try:\n",
    "    l=[4,5,6,7,7,8]\n",
    "\n",
    "    l[10]\n",
    "except Exception as e:\n",
    "    print(e)"
   ]
  },
  {
   "cell_type": "code",
   "execution_count": 7,
   "id": "3fe8daef-0062-4add-8ebf-212ee3be691f",
   "metadata": {},
   "outputs": [
    {
     "ename": "ValueError",
     "evalue": "invalid literal for int() with base 10: 'shad'",
     "output_type": "error",
     "traceback": [
      "\u001b[0;31m---------------------------------------------------------------------------\u001b[0m",
      "\u001b[0;31mValueError\u001b[0m                                Traceback (most recent call last)",
      "Cell \u001b[0;32mIn[7], line 3\u001b[0m\n\u001b[1;32m      1\u001b[0m a \u001b[38;5;241m=\u001b[39m \u001b[38;5;124m'\u001b[39m\u001b[38;5;124mshad\u001b[39m\u001b[38;5;124m'\u001b[39m\n\u001b[0;32m----> 3\u001b[0m \u001b[38;5;28;43mint\u001b[39;49m\u001b[43m(\u001b[49m\u001b[43ma\u001b[49m\u001b[43m)\u001b[49m\n",
      "\u001b[0;31mValueError\u001b[0m: invalid literal for int() with base 10: 'shad'"
     ]
    }
   ],
   "source": [
    "a = 'shad'\n",
    "\n",
    "int(a)"
   ]
  },
  {
   "cell_type": "code",
   "execution_count": 9,
   "id": "82ba25a1-a3d5-4f83-b3da-c7fe43cbd3c6",
   "metadata": {},
   "outputs": [
    {
     "name": "stdout",
     "output_type": "stream",
     "text": [
      "invalid literal for int() with base 10: 'shad'\n"
     ]
    }
   ],
   "source": [
    "try:\n",
    "    a = 'shad'\n",
    "    int(a)\n",
    "except Exception as e:\n",
    "    print(e)"
   ]
  },
  {
   "cell_type": "code",
   "execution_count": 13,
   "id": "7e735305-7a7f-47c2-935f-da5041d6c6c2",
   "metadata": {},
   "outputs": [
    {
     "ename": "FileNotFoundError",
     "evalue": "[Errno 2] No such file or directory: 'test.txt'",
     "output_type": "error",
     "traceback": [
      "\u001b[0;31m---------------------------------------------------------------------------\u001b[0m",
      "\u001b[0;31mFileNotFoundError\u001b[0m                         Traceback (most recent call last)",
      "Cell \u001b[0;32mIn[13], line 3\u001b[0m\n\u001b[1;32m      1\u001b[0m file_name \u001b[38;5;241m=\u001b[39m \u001b[38;5;124m'\u001b[39m\u001b[38;5;124mtest.txt\u001b[39m\u001b[38;5;124m'\u001b[39m\n\u001b[0;32m----> 3\u001b[0m f \u001b[38;5;241m=\u001b[39m \u001b[38;5;28;43mopen\u001b[39;49m\u001b[43m(\u001b[49m\u001b[43mfile_name\u001b[49m\u001b[43m)\u001b[49m\n\u001b[1;32m      4\u001b[0m f\u001b[38;5;241m.\u001b[39mread()[\u001b[38;5;241m2\u001b[39m]\n",
      "File \u001b[0;32m/opt/conda/lib/python3.10/site-packages/IPython/core/interactiveshell.py:282\u001b[0m, in \u001b[0;36m_modified_open\u001b[0;34m(file, *args, **kwargs)\u001b[0m\n\u001b[1;32m    275\u001b[0m \u001b[38;5;28;01mif\u001b[39;00m file \u001b[38;5;129;01min\u001b[39;00m {\u001b[38;5;241m0\u001b[39m, \u001b[38;5;241m1\u001b[39m, \u001b[38;5;241m2\u001b[39m}:\n\u001b[1;32m    276\u001b[0m     \u001b[38;5;28;01mraise\u001b[39;00m \u001b[38;5;167;01mValueError\u001b[39;00m(\n\u001b[1;32m    277\u001b[0m         \u001b[38;5;124mf\u001b[39m\u001b[38;5;124m\"\u001b[39m\u001b[38;5;124mIPython won\u001b[39m\u001b[38;5;124m'\u001b[39m\u001b[38;5;124mt let you open fd=\u001b[39m\u001b[38;5;132;01m{\u001b[39;00mfile\u001b[38;5;132;01m}\u001b[39;00m\u001b[38;5;124m by default \u001b[39m\u001b[38;5;124m\"\u001b[39m\n\u001b[1;32m    278\u001b[0m         \u001b[38;5;124m\"\u001b[39m\u001b[38;5;124mas it is likely to crash IPython. If you know what you are doing, \u001b[39m\u001b[38;5;124m\"\u001b[39m\n\u001b[1;32m    279\u001b[0m         \u001b[38;5;124m\"\u001b[39m\u001b[38;5;124myou can use builtins\u001b[39m\u001b[38;5;124m'\u001b[39m\u001b[38;5;124m open.\u001b[39m\u001b[38;5;124m\"\u001b[39m\n\u001b[1;32m    280\u001b[0m     )\n\u001b[0;32m--> 282\u001b[0m \u001b[38;5;28;01mreturn\u001b[39;00m \u001b[43mio_open\u001b[49m\u001b[43m(\u001b[49m\u001b[43mfile\u001b[49m\u001b[43m,\u001b[49m\u001b[43m \u001b[49m\u001b[38;5;241;43m*\u001b[39;49m\u001b[43margs\u001b[49m\u001b[43m,\u001b[49m\u001b[43m \u001b[49m\u001b[38;5;241;43m*\u001b[39;49m\u001b[38;5;241;43m*\u001b[39;49m\u001b[43mkwargs\u001b[49m\u001b[43m)\u001b[49m\n",
      "\u001b[0;31mFileNotFoundError\u001b[0m: [Errno 2] No such file or directory: 'test.txt'"
     ]
    }
   ],
   "source": [
    "file_name = 'test.txt'\n",
    "\n",
    "f = open(file_name)\n",
    "f.read()"
   ]
  },
  {
   "cell_type": "code",
   "execution_count": 14,
   "id": "d47efe51-06c8-4eaf-b3fa-678651116833",
   "metadata": {},
   "outputs": [
    {
     "name": "stdout",
     "output_type": "stream",
     "text": [
      "[Errno 2] No such file or directory: 'test.txt'\n"
     ]
    }
   ],
   "source": [
    "try:\n",
    "    file_name = 'test.txt'\n",
    "\n",
    "    f = open(file_name)\n",
    "    f.read()\n",
    "except Exception as e:\n",
    "    print(e)"
   ]
  },
  {
   "cell_type": "code",
   "execution_count": 15,
   "id": "631e9361-8112-41b9-b4db-5afec8e02305",
   "metadata": {},
   "outputs": [
    {
     "name": "stdout",
     "output_type": "stream",
     "text": [
      "[Errno 2] No such file or directory: 'text.txt'\n"
     ]
    }
   ],
   "source": [
    "try:\n",
    "    file_name = 'text.txt'\n",
    "\n",
    "    f = open(file_name)\n",
    "    f.read()\n",
    "except Exception as e:\n",
    "    print(e)"
   ]
  },
  {
   "cell_type": "code",
   "execution_count": 16,
   "id": "9a5e6083-6ce5-49be-8c5d-15406914c1bb",
   "metadata": {},
   "outputs": [
    {
     "name": "stdout",
     "output_type": "stream",
     "text": [
      "'10 Python for loop functions sept 24.ipynb'\n",
      "'11 Exception handling and logging Sept 30.ipynb'\n",
      "'1_python_basics aug 19th.ipynb'\n",
      "'2_python_datatypes aug 20th.ipynb'\n",
      "'3 python operators sept 2nd.ipynb'\n",
      "'4 Operators and control flow sept 3rd.ipynb'\n",
      "'5 Python conditional statements loops sept 16.ipynb'\n",
      "'6 Functions sept 9th.ipynb'\n",
      "'7 Lambda functions Imran sept 10th.ipynb'\n",
      "'8 for loop , lambda , map , reduce ,filter , recursion sept 17th.ipynb'\n",
      "'9 Python while loop, break sept 23rd.ipynb'\n",
      "'oops 7th oct.ipynb'\n",
      " \u001b[0m\u001b[01;34mpro\u001b[0m/\n",
      " README.md\n",
      " sample-code.ipynb\n"
     ]
    }
   ],
   "source": [
    "ls"
   ]
  },
  {
   "cell_type": "code",
   "execution_count": 17,
   "id": "f85d9063-ad8b-40ca-9446-dd5f58d11725",
   "metadata": {},
   "outputs": [
    {
     "name": "stdout",
     "output_type": "stream",
     "text": [
      "text.txt\n"
     ]
    }
   ],
   "source": [
    "ls pro"
   ]
  },
  {
   "cell_type": "code",
   "execution_count": 21,
   "id": "a2a47728-09b2-46fa-b34f-80c52ea20962",
   "metadata": {},
   "outputs": [
    {
     "ename": "NameError",
     "evalue": "name 'pwd' is not defined",
     "output_type": "error",
     "traceback": [
      "\u001b[0;31m---------------------------------------------------------------------------\u001b[0m",
      "\u001b[0;31mNameError\u001b[0m                                 Traceback (most recent call last)",
      "Cell \u001b[0;32mIn[21], line 2\u001b[0m\n\u001b[1;32m      1\u001b[0m \u001b[38;5;66;03m# Present working directory\u001b[39;00m\n\u001b[0;32m----> 2\u001b[0m \u001b[43mpwd\u001b[49m\n",
      "\u001b[0;31mNameError\u001b[0m: name 'pwd' is not defined"
     ]
    }
   ],
   "source": []
  },
  {
   "cell_type": "code",
   "execution_count": 18,
   "id": "2f8e294c-abba-46f4-8e75-851b768fb5dc",
   "metadata": {},
   "outputs": [
    {
     "name": "stdout",
     "output_type": "stream",
     "text": [
      "'10 Python for loop functions sept 24.ipynb'\n",
      "'11 Exception handling and logging Sept 30.ipynb'\n",
      "'1_python_basics aug 19th.ipynb'\n",
      "'2_python_datatypes aug 20th.ipynb'\n",
      "'3 python operators sept 2nd.ipynb'\n",
      "'4 Operators and control flow sept 3rd.ipynb'\n",
      "'5 Python conditional statements loops sept 16.ipynb'\n",
      "'6 Functions sept 9th.ipynb'\n",
      "'7 Lambda functions Imran sept 10th.ipynb'\n",
      "'8 for loop , lambda , map , reduce ,filter , recursion sept 17th.ipynb'\n",
      "'9 Python while loop, break sept 23rd.ipynb'\n",
      "'oops 7th oct.ipynb'\n",
      "\u001b[0m\u001b[01;34mpro\u001b[0m/\n",
      "README.md\n",
      "sample-code.ipynb\n"
     ]
    }
   ],
   "source": [
    "ls -1"
   ]
  },
  {
   "cell_type": "code",
   "execution_count": null,
   "id": "6aa28f3b-f3e6-4322-801b-a38b84b78242",
   "metadata": {},
   "outputs": [],
   "source": [
    "# Present working directory"
   ]
  },
  {
   "cell_type": "code",
   "execution_count": 1,
   "id": "373b7eff-c9cc-4e05-b129-9e3faaf01d4e",
   "metadata": {},
   "outputs": [
    {
     "data": {
      "text/plain": [
       "'/home/jovyan/work'"
      ]
     },
     "execution_count": 1,
     "metadata": {},
     "output_type": "execute_result"
    }
   ],
   "source": [
    "pwd "
   ]
  },
  {
   "cell_type": "code",
   "execution_count": 2,
   "id": "c4a0d5f0-cbda-40de-bc61-ab2f74a5cf1e",
   "metadata": {},
   "outputs": [],
   "source": [
    "try:\n",
    "    file_name = '/home/jovyan/work/pro/text.txt'\n",
    "\n",
    "    f = open(file_name)\n",
    "    f.read()\n",
    "except Exception as e:\n",
    "    print(e)"
   ]
  },
  {
   "cell_type": "code",
   "execution_count": 3,
   "id": "4878e606-c85c-40a4-97e5-3978c7b25785",
   "metadata": {},
   "outputs": [
    {
     "data": {
      "text/plain": [
       "''"
      ]
     },
     "execution_count": 3,
     "metadata": {},
     "output_type": "execute_result"
    }
   ],
   "source": [
    "f.read()"
   ]
  },
  {
   "cell_type": "code",
   "execution_count": 4,
   "id": "a98f18f1-6bfd-43d1-9e9b-ff4f7e022a76",
   "metadata": {},
   "outputs": [
    {
     "data": {
      "text/plain": [
       "'/home/jovyan/work'"
      ]
     },
     "execution_count": 4,
     "metadata": {},
     "output_type": "execute_result"
    }
   ],
   "source": [
    "pwd"
   ]
  },
  {
   "cell_type": "code",
   "execution_count": 5,
   "id": "9835c3dd-8a61-4e84-a412-cf9cb71f810f",
   "metadata": {},
   "outputs": [],
   "source": [
    "# Change directory"
   ]
  },
  {
   "cell_type": "code",
   "execution_count": null,
   "id": "9cc2d97a-0885-4180-a2f4-7eee08f1bd92",
   "metadata": {},
   "outputs": [],
   "source": []
  },
  {
   "cell_type": "code",
   "execution_count": 1,
   "id": "5ccf3ab7-93de-49cd-b7f9-e61b6ae6b4e3",
   "metadata": {},
   "outputs": [
    {
     "name": "stdout",
     "output_type": "stream",
     "text": [
      "/home/jovyan/work/pro\n"
     ]
    }
   ],
   "source": [
    "cd pro"
   ]
  },
  {
   "cell_type": "code",
   "execution_count": 2,
   "id": "bdadc8a6-bf32-464c-9929-0e2445da629a",
   "metadata": {},
   "outputs": [
    {
     "name": "stdout",
     "output_type": "stream",
     "text": [
      "/home/jovyan/work\n"
     ]
    }
   ],
   "source": [
    "cd .."
   ]
  },
  {
   "cell_type": "code",
   "execution_count": 3,
   "id": "345c5257-c937-4949-b24f-11e17302c792",
   "metadata": {},
   "outputs": [
    {
     "name": "stdout",
     "output_type": "stream",
     "text": [
      "/home/jovyan\n"
     ]
    }
   ],
   "source": [
    "cd .."
   ]
  },
  {
   "cell_type": "code",
   "execution_count": 4,
   "id": "502f27a4-e28b-4ad5-8588-c8ec0ae3b21a",
   "metadata": {},
   "outputs": [
    {
     "name": "stdout",
     "output_type": "stream",
     "text": [
      "/home\n"
     ]
    }
   ],
   "source": [
    "cd .."
   ]
  },
  {
   "cell_type": "code",
   "execution_count": 5,
   "id": "443e2f61-d2fd-48bd-812f-6120661b3740",
   "metadata": {},
   "outputs": [],
   "source": [
    "try:\n",
    "    file_name = '/home/jovyan/work/pro/text.txt'\n",
    "\n",
    "    f = open(file_name)\n",
    "    f.read()\n",
    "except Exception as e:\n",
    "    print(e)"
   ]
  },
  {
   "cell_type": "code",
   "execution_count": 6,
   "id": "1350cfa8-beef-421c-b0ed-6e9d875dad42",
   "metadata": {},
   "outputs": [
    {
     "name": "stdin",
     "output_type": "stream",
     "text": [
      "enter a number ss\n"
     ]
    },
    {
     "ename": "ValueError",
     "evalue": "invalid literal for int() with base 10: 'ss'",
     "output_type": "error",
     "traceback": [
      "\u001b[0;31m---------------------------------------------------------------------------\u001b[0m",
      "\u001b[0;31mValueError\u001b[0m                                Traceback (most recent call last)",
      "Cell \u001b[0;32mIn[6], line 1\u001b[0m\n\u001b[0;32m----> 1\u001b[0m n\u001b[38;5;241m=\u001b[39m \u001b[38;5;28;43mint\u001b[39;49m\u001b[43m(\u001b[49m\u001b[38;5;28;43minput\u001b[39;49m\u001b[43m(\u001b[49m\u001b[38;5;124;43m'\u001b[39;49m\u001b[38;5;124;43menter a number\u001b[39;49m\u001b[38;5;124;43m'\u001b[39;49m\u001b[43m)\u001b[49m\u001b[43m)\u001b[49m\n\u001b[1;32m      3\u001b[0m div \u001b[38;5;241m=\u001b[39m \u001b[38;5;241m342\u001b[39m\u001b[38;5;241m/\u001b[39mn\n\u001b[1;32m      5\u001b[0m \u001b[38;5;28mprint\u001b[39m(div)\n",
      "\u001b[0;31mValueError\u001b[0m: invalid literal for int() with base 10: 'ss'"
     ]
    }
   ],
   "source": [
    "n= int(input('enter a number'))\n",
    "\n",
    "div = 342/n\n",
    "\n",
    "print(div)\n"
   ]
  },
  {
   "cell_type": "code",
   "execution_count": 9,
   "id": "5790ca2c-71da-4408-8e0d-f350e2a03fad",
   "metadata": {},
   "outputs": [],
   "source": [
    "### Nested Try-except to capture multiple errors in multiple ways"
   ]
  },
  {
   "cell_type": "code",
   "execution_count": 10,
   "id": "89356269-c875-4a76-9517-d55e2486eb57",
   "metadata": {},
   "outputs": [
    {
     "name": "stdin",
     "output_type": "stream",
     "text": [
      "enter a number 0\n"
     ]
    },
    {
     "name": "stdout",
     "output_type": "stream",
     "text": [
      "user has entered zero\n"
     ]
    }
   ],
   "source": [
    "try:\n",
    "    n= int(input('enter a number'))\n",
    "\n",
    "    div = 342/n\n",
    "\n",
    "    print(div)\n",
    "except ValueError:\n",
    "    print('user has invalid input')\n",
    "except ZeroDivisionError:\n",
    "    print('user has entered zero')\n"
   ]
  },
  {
   "cell_type": "code",
   "execution_count": null,
   "id": "463ea9b6-3d08-455b-a711-6b616a071ad2",
   "metadata": {},
   "outputs": [],
   "source": [
    "try:\n",
    "    n= int(input('enter a number'))\n",
    "\n",
    "    div = 342/n\n",
    "\n",
    "    print(div)\n",
    "except ValueError:\n",
    "    print('user has invalid input')\n",
    "except ZeroDivisionError:\n",
    "    print('user has entered zero')\n"
   ]
  },
  {
   "cell_type": "code",
   "execution_count": 11,
   "id": "b6580cc6-6f9c-4a18-a3f7-bd9603f26e50",
   "metadata": {},
   "outputs": [
    {
     "name": "stdin",
     "output_type": "stream",
     "text": [
      "enter a number 0\n"
     ]
    },
    {
     "name": "stdout",
     "output_type": "stream",
     "text": [
      "user has entered finvalid input or may be zero\n"
     ]
    }
   ],
   "source": [
    "try:\n",
    "    n= int(input('enter a number'))\n",
    "\n",
    "    div = 342/n\n",
    "\n",
    "    print(div)\n",
    "except (ValueError,  ZeroDivisionError):\n",
    "    print('user has entered finvalid input or may be zero')"
   ]
  },
  {
   "cell_type": "code",
   "execution_count": 14,
   "id": "44aa40fb-6c61-4870-98f8-213e05cab1f5",
   "metadata": {},
   "outputs": [
    {
     "name": "stdin",
     "output_type": "stream",
     "text": [
      "enter a number hhgjh\n"
     ]
    },
    {
     "name": "stdout",
     "output_type": "stream",
     "text": [
      "user has entered invalid input\n"
     ]
    }
   ],
   "source": [
    "try:\n",
    "    try:\n",
    "        n= int(input('enter a number'))\n",
    "\n",
    "        div = 342/n\n",
    "\n",
    "        print(div)\n",
    "    except ZeroDivisionError:\n",
    "        print('user has entered n = 0')\n",
    "except ValueError:\n",
    "    print('user has entered invalid input')"
   ]
  },
  {
   "cell_type": "code",
   "execution_count": 15,
   "id": "27a919f9-a44c-464f-9b88-dbf68a4ad3bc",
   "metadata": {},
   "outputs": [
    {
     "name": "stdin",
     "output_type": "stream",
     "text": [
      "enter a number 0\n"
     ]
    },
    {
     "name": "stdout",
     "output_type": "stream",
     "text": [
      "user has entered n = 0\n"
     ]
    }
   ],
   "source": [
    "try:\n",
    "    try:\n",
    "        n= int(input('enter a number'))\n",
    "\n",
    "        div = 342/n\n",
    "\n",
    "        print(div)\n",
    "    except ZeroDivisionError:\n",
    "        print('user has entered n = 0')\n",
    "except ValueError:\n",
    "    print('user has entered invalid input')"
   ]
  },
  {
   "cell_type": "code",
   "execution_count": 16,
   "id": "e240d288-5a2f-4f08-b49f-437cbe56c5b2",
   "metadata": {},
   "outputs": [
    {
     "name": "stdin",
     "output_type": "stream",
     "text": [
      "enter a number 5\n"
     ]
    },
    {
     "name": "stdout",
     "output_type": "stream",
     "text": [
      "68.4\n",
      "68.4\n"
     ]
    }
   ],
   "source": [
    "try:\n",
    "    n= int(input('enter a number'))\n",
    "\n",
    "    div = 342/n\n",
    "\n",
    "    print(div)\n",
    "except (ValueError,  ZeroDivisionError):\n",
    "    print('user has entered finvalid input or may be zero')\n",
    "    \n",
    "else:\n",
    "    print(div)"
   ]
  },
  {
   "cell_type": "code",
   "execution_count": 2,
   "id": "d8e13435-aca9-4f0b-a141-e15ccf5f6df3",
   "metadata": {
    "tags": []
   },
   "outputs": [
    {
     "name": "stdin",
     "output_type": "stream",
     "text": [
      "enter a number 0\n"
     ]
    },
    {
     "name": "stdout",
     "output_type": "stream",
     "text": [
      "user has entered finvalid input or may be zero\n"
     ]
    }
   ],
   "source": [
    "try:\n",
    "    n= int(input('enter a number'))\n",
    "\n",
    "    div = 342/n\n",
    "\n",
    "    print(div)\n",
    "except (ValueError,  ZeroDivisionError):\n",
    "    print('user has entered finvalid input or may be zero')\n",
    "    \n",
    "else:  \n",
    "    print(div)\n",
    "    "
   ]
  },
  {
   "cell_type": "code",
   "execution_count": 4,
   "id": "a0f7a1f0-f6c3-47a7-a0dc-4935fe29e65b",
   "metadata": {},
   "outputs": [
    {
     "data": {
      "text/plain": [
       "'/home/jovyan/work'"
      ]
     },
     "execution_count": 4,
     "metadata": {},
     "output_type": "execute_result"
    }
   ],
   "source": [
    "pwd"
   ]
  },
  {
   "cell_type": "code",
   "execution_count": 1,
   "id": "32fb4623-3a74-486b-87c5-096014092742",
   "metadata": {},
   "outputs": [
    {
     "data": {
      "text/plain": [
       "'/home/jovyan/work/pro/text.txt'"
      ]
     },
     "execution_count": 1,
     "metadata": {},
     "output_type": "execute_result"
    }
   ],
   "source": [
    "'/home/jovyan/work/pro/text.txt'"
   ]
  },
  {
   "cell_type": "code",
   "execution_count": 2,
   "id": "a7080076-3d6b-4683-a131-bd30c05e7509",
   "metadata": {},
   "outputs": [],
   "source": [
    "f = open('/home/jovyan/work/pro/text.txt') # initialize the file"
   ]
  },
  {
   "cell_type": "code",
   "execution_count": 3,
   "id": "1740f147-0e73-489a-b683-d80a9d7885ce",
   "metadata": {},
   "outputs": [
    {
     "data": {
      "text/plain": [
       "<_io.TextIOWrapper name='/home/jovyan/work/pro/text.txt' mode='r' encoding='UTF-8'>"
      ]
     },
     "execution_count": 3,
     "metadata": {},
     "output_type": "execute_result"
    }
   ],
   "source": [
    "f   # io. - it is input/output buffer"
   ]
  },
  {
   "cell_type": "code",
   "execution_count": 4,
   "id": "d98a086d-f41a-44c4-b3e6-f6f8c26514b0",
   "metadata": {},
   "outputs": [
    {
     "data": {
      "text/plain": [
       "'Google LLC (/ˈɡuːɡəl/ ⓘ) is an American multinational technology company focusing on artificial intelligence,[9] online advertising, search engine technology, cloud computing, computer software, quantum computing, e-commerce, and consumer electronics. It has been referred to as \"the most powerful company in the world\"[10] and as one of the world\\'s most valuable brands due to its market dominance, data collection, and technological advantages in the field of artificial intelligence.[11][12][13] Alongside Amazon, Apple Inc., Meta Platforms, and Microsoft, Google\\'s parent company Alphabet Inc. is one of the five Big Tech companies.\\n\\nGoogle was founded on September 4, 1998, by American computer scientists Larry Page and Sergey Brin while they were PhD students at Stanford University in California. Together they own about 14% of its publicly listed shares and control 56% of its stockholder voting power through super-voting stock. The company went public via an initial public offering (IPO) in 2004. In 2015, Google was reorganized as a wholly owned subsidiary of Alphabet Inc. Google is Alphabet\\'s largest subsidiary and is a holding company for Alphabet\\'s internet properties and interests. Sundar Pichai was appointed CEO of Google on October 24, 2015, replacing Larry Page, who became the CEO of Alphabet. On December 3, 2019, Pichai also became the CEO of Alphabet.[14]\\n\\nThe company has since rapidly grown to offer a multitude of products and services beyond Google Search, many of which hold dominant market positions. These products address a wide range of use cases, including email (Gmail), navigation (Waze & Maps), cloud computing (Cloud), web browsing (Chrome), video sharing (YouTube), productivity (Workspace), operating systems (Android), cloud storage (Drive), language translation (Translate), photo storage (Photos), video calling (Meet), smart home (Nest), smartphones (Pixel), wearable technology (Pixel Watch & Fitbit), music streaming (YouTube Music), video on demand (YouTube TV), artificial intelligence (Google Assistant), machine learning APIs (TensorFlow), AI chips (TPU), and more. Discontinued Google products include gaming (Stadia), Glass, Google+, Reader, Play Music, Nexus, Hangouts, and Inbox by Gmail.[15][16]\\n\\nGoogle\\'s other ventures outside of Internet services and consumer electronics include quantum computing (Sycamore), self-driving cars (Waymo, formerly the Google Self-Driving Car Project), smart cities (Sidewalk Labs), and transformer models (Google Deepmind).[17]'"
      ]
     },
     "execution_count": 4,
     "metadata": {},
     "output_type": "execute_result"
    }
   ],
   "source": [
    "f.read()"
   ]
  },
  {
   "cell_type": "code",
   "execution_count": 5,
   "id": "fbb8a38f-d1b1-45dc-a8f0-d32009fe8992",
   "metadata": {},
   "outputs": [],
   "source": [
    "f.close()"
   ]
  },
  {
   "cell_type": "code",
   "execution_count": 1,
   "id": "92eab6ad-c08d-47cd-9040-97600d8e9619",
   "metadata": {},
   "outputs": [
    {
     "name": "stdout",
     "output_type": "stream",
     "text": [
      "there is some error\n",
      "closed\n"
     ]
    }
   ],
   "source": [
    "try:\n",
    "    f = open('/home/jovyan/work/pro/text.txt') # initialize the file\n",
    "    f.write('gsgs')\n",
    "except Exception:\n",
    "    print('there is some error')\n",
    "\n",
    "finally:\n",
    "    f.close()\n",
    "    print('closed')"
   ]
  },
  {
   "cell_type": "code",
   "execution_count": 3,
   "id": "7a4bf667-9a9e-400d-8484-a8610b178861",
   "metadata": {},
   "outputs": [],
   "source": [
    "### If try is successful then go to else and always run finally"
   ]
  },
  {
   "cell_type": "code",
   "execution_count": 4,
   "id": "4c7e572f-a956-4973-bf79-cd2d5af47c27",
   "metadata": {},
   "outputs": [
    {
     "name": "stdout",
     "output_type": "stream",
     "text": [
      "Google LLC (/ˈɡuːɡəl/ ⓘ) is an American multinational technology company focusing on artificial intelligence,[9] online advertising, search engine technology, cloud computing, computer software, quantum computing, e-commerce, and consumer electronics. It has been referred to as \"the most powerful company in the world\"[10] and as one of the world's most valuable brands due to its market dominance, data collection, and technological advantages in the field of artificial intelligence.[11][12][13] Alongside Amazon, Apple Inc., Meta Platforms, and Microsoft, Google's parent company Alphabet Inc. is one of the five Big Tech companies.\n",
      "\n",
      "Google was founded on September 4, 1998, by American computer scientists Larry Page and Sergey Brin while they were PhD students at Stanford University in California. Together they own about 14% of its publicly listed shares and control 56% of its stockholder voting power through super-voting stock. The company went public via an initial public offering (IPO) in 2004. In 2015, Google was reorganized as a wholly owned subsidiary of Alphabet Inc. Google is Alphabet's largest subsidiary and is a holding company for Alphabet's internet properties and interests. Sundar Pichai was appointed CEO of Google on October 24, 2015, replacing Larry Page, who became the CEO of Alphabet. On December 3, 2019, Pichai also became the CEO of Alphabet.[14]\n",
      "\n",
      "The company has since rapidly grown to offer a multitude of products and services beyond Google Search, many of which hold dominant market positions. These products address a wide range of use cases, including email (Gmail), navigation (Waze & Maps), cloud computing (Cloud), web browsing (Chrome), video sharing (YouTube), productivity (Workspace), operating systems (Android), cloud storage (Drive), language translation (Translate), photo storage (Photos), video calling (Meet), smart home (Nest), smartphones (Pixel), wearable technology (Pixel Watch & Fitbit), music streaming (YouTube Music), video on demand (YouTube TV), artificial intelligence (Google Assistant), machine learning APIs (TensorFlow), AI chips (TPU), and more. Discontinued Google products include gaming (Stadia), Glass, Google+, Reader, Play Music, Nexus, Hangouts, and Inbox by Gmail.[15][16]\n",
      "\n",
      "Google's other ventures outside of Internet services and consumer electronics include quantum computing (Sycamore), self-driving cars (Waymo, formerly the Google Self-Driving Car Project), smart cities (Sidewalk Labs), and transformer models (Google Deepmind).[17]\n",
      "closed\n"
     ]
    }
   ],
   "source": [
    "try:\n",
    "    f = open('/home/jovyan/work/pro/text.txt') # initialize the file\n",
    "    data = f.read()\n",
    "except Exception:\n",
    "    print('there is some error')\n",
    "\n",
    "else:\n",
    "    print(data)\n",
    "finally:\n",
    "    f.close()\n",
    "    print('closed')"
   ]
  },
  {
   "cell_type": "code",
   "execution_count": 5,
   "id": "d6012865-a541-4f06-9f01-1ae3a722fe7a",
   "metadata": {},
   "outputs": [
    {
     "name": "stdout",
     "output_type": "stream",
     "text": [
      "there is some error\n",
      "closed\n"
     ]
    }
   ],
   "source": [
    "try:\n",
    "    f = open('/home/jovyan/work/pro/tesxt.txt') # initialize the file\n",
    "    data = f.read()\n",
    "except Exception:\n",
    "    print('there is some error')\n",
    "\n",
    "else:\n",
    "    print(data)\n",
    "finally:\n",
    "    f.close()\n",
    "    print('closed')"
   ]
  },
  {
   "cell_type": "code",
   "execution_count": 1,
   "id": "d40827eb-b7ca-4886-ab6b-db559ad97a8f",
   "metadata": {},
   "outputs": [
    {
     "name": "stdout",
     "output_type": "stream",
     "text": [
      "there is some error\n"
     ]
    },
    {
     "ename": "NameError",
     "evalue": "name 'data' is not defined",
     "output_type": "error",
     "traceback": [
      "\u001b[0;31m---------------------------------------------------------------------------\u001b[0m",
      "\u001b[0;31mNameError\u001b[0m                                 Traceback (most recent call last)",
      "Cell \u001b[0;32mIn[1], line 10\u001b[0m\n\u001b[1;32m      8\u001b[0m     \u001b[38;5;28mprint\u001b[39m(data)\n\u001b[1;32m      9\u001b[0m \u001b[38;5;28;01mfinally\u001b[39;00m:\n\u001b[0;32m---> 10\u001b[0m     \u001b[38;5;28mprint\u001b[39m(\u001b[43mdata\u001b[49m)\n\u001b[1;32m     11\u001b[0m     f\u001b[38;5;241m.\u001b[39mclose()\n\u001b[1;32m     12\u001b[0m     \u001b[38;5;28mprint\u001b[39m(\u001b[38;5;124m'\u001b[39m\u001b[38;5;124mclosed\u001b[39m\u001b[38;5;124m'\u001b[39m)\n",
      "\u001b[0;31mNameError\u001b[0m: name 'data' is not defined"
     ]
    }
   ],
   "source": [
    "try:\n",
    "    f = open('/home/jovyan/work/pro/tesxt.txt') # initialize the file\n",
    "    data = f.write()\n",
    "except Exception:\n",
    "    print('there is some error')\n",
    "\n",
    "else:\n",
    "    print(data)\n",
    "finally:\n",
    "    print(data)\n",
    "    f.close()\n",
    "    print('closed')"
   ]
  },
  {
   "cell_type": "code",
   "execution_count": 3,
   "id": "91e2d77b-7f28-43d1-9cf4-7d60396e0c59",
   "metadata": {},
   "outputs": [
    {
     "name": "stdout",
     "output_type": "stream",
     "text": [
      "there is some error\n",
      "closed\n"
     ]
    }
   ],
   "source": [
    "try:\n",
    "    f = open('/home/jovyan/work/pro/text.txt') # initialize the file\n",
    "    data = f.write()\n",
    "except Exception:\n",
    "    print('there is some error')\n",
    "\n",
    "else:\n",
    "    sprint(data)\n",
    "finally:\n",
    "    try:\n",
    "        print(data)\n",
    "    except:\n",
    "        pass\n",
    "    f.close()\n",
    "    print('closed')"
   ]
  },
  {
   "cell_type": "code",
   "execution_count": 4,
   "id": "94e27205-34ad-4791-8cd3-fc0f881f7245",
   "metadata": {},
   "outputs": [
    {
     "data": {
      "text/plain": [
       "<_io.TextIOWrapper name='/home/jovyan/work/pro/text.txt' mode='r' encoding='UTF-8'>"
      ]
     },
     "execution_count": 4,
     "metadata": {},
     "output_type": "execute_result"
    }
   ],
   "source": [
    "f"
   ]
  },
  {
   "cell_type": "markdown",
   "id": "f72757ed-542e-4de4-bb8c-37d36a3e96e8",
   "metadata": {},
   "source": [
    "### Data validation"
   ]
  },
  {
   "cell_type": "code",
   "execution_count": 6,
   "id": "5fe1488d-60b6-479e-b29d-8d9098d3539b",
   "metadata": {},
   "outputs": [
    {
     "name": "stdin",
     "output_type": "stream",
     "text": [
      "enter height of wall -222\n"
     ]
    }
   ],
   "source": [
    "a = int(input('enter height of wall'))\n"
   ]
  },
  {
   "cell_type": "code",
   "execution_count": 8,
   "id": "5818840f-6953-4bb7-b3dc-e61562119e7a",
   "metadata": {},
   "outputs": [
    {
     "name": "stdin",
     "output_type": "stream",
     "text": [
      "enter height of wall 100\n"
     ]
    }
   ],
   "source": [
    "try:\n",
    "    a = int(input('enter height of wall'))\n",
    "    if a <= 0:\n",
    "        raise ValueError('Entered height less or equal to zero')\n",
    "        \n",
    "except ValueError as v:\n",
    "    print(v)"
   ]
  },
  {
   "cell_type": "code",
   "execution_count": 9,
   "id": "ac4fb5a9-a4e7-466e-9f2b-7373c55f221f",
   "metadata": {},
   "outputs": [
    {
     "name": "stdin",
     "output_type": "stream",
     "text": [
      "enter height of wall -43\n"
     ]
    },
    {
     "name": "stdout",
     "output_type": "stream",
     "text": [
      "Entered height less or equal to zero\n"
     ]
    }
   ],
   "source": [
    "try:\n",
    "    a = int(input('enter height of wall'))\n",
    "    if a <= 0:\n",
    "        raise ValueError('Entered height less or equal to zero')\n",
    "        \n",
    "except ValueError as v:\n",
    "    print(v)"
   ]
  },
  {
   "cell_type": "code",
   "execution_count": 10,
   "id": "be835802-d2c4-40b0-aebe-7596c5f2a763",
   "metadata": {},
   "outputs": [
    {
     "name": "stdin",
     "output_type": "stream",
     "text": [
      "enter height of wall 0\n"
     ]
    },
    {
     "name": "stdout",
     "output_type": "stream",
     "text": [
      "Entered height less or equal to zero\n"
     ]
    }
   ],
   "source": [
    "try:\n",
    "    a = int(input('enter height of wall'))\n",
    "    if a <= 0:\n",
    "        raise ValueError('Entered height less or equal to zero')\n",
    "        \n",
    "except ValueError as v:\n",
    "    print(v)\n",
    "    "
   ]
  },
  {
   "cell_type": "code",
   "execution_count": 11,
   "id": "a5366d05-e6d1-4c53-906a-634f1e454534",
   "metadata": {},
   "outputs": [
    {
     "name": "stdin",
     "output_type": "stream",
     "text": [
      "enter your age 17\n"
     ]
    },
    {
     "name": "stdout",
     "output_type": "stream",
     "text": [
      "user is underage\n"
     ]
    }
   ],
   "source": [
    "try:\n",
    "    age= int(input('enter your age'))\n",
    "    if age <= 0:\n",
    "        raise ValueError('user has entered -ve or zero age which is not valid')\n",
    "    elif age < 18:\n",
    "        print('user is underage')\n",
    "    else:\n",
    "        print('you can buy alcohol')\n",
    "except ValueError as v:\n",
    "    print(v)"
   ]
  },
  {
   "cell_type": "code",
   "execution_count": 12,
   "id": "4a2387f3-b05d-4325-a564-646a7b9ef9bc",
   "metadata": {},
   "outputs": [
    {
     "name": "stdin",
     "output_type": "stream",
     "text": [
      "enter your age -5\n"
     ]
    },
    {
     "name": "stdout",
     "output_type": "stream",
     "text": [
      "user has entered -ve or zero age which is not valid\n"
     ]
    }
   ],
   "source": [
    "try:\n",
    "    age= int(input('enter your age'))\n",
    "    if age <= 0:\n",
    "        raise ValueError('user has entered -ve or zero age which is not valid')\n",
    "    elif age < 18:\n",
    "        print('user is underage')\n",
    "    else:\n",
    "        print('you can buy alcohol')\n",
    "except ValueError as v:\n",
    "    print(v)\n",
    "    "
   ]
  },
  {
   "cell_type": "markdown",
   "id": "60aef9ec-21ae-4c93-bb74-cdae60cb5295",
   "metadata": {
    "tags": []
   },
   "source": [
    "### Logging"
   ]
  },
  {
   "cell_type": "code",
   "execution_count": 14,
   "id": "9638978c-1355-471f-9063-c6d19add9af3",
   "metadata": {},
   "outputs": [],
   "source": [
    "# to identify issues"
   ]
  },
  {
   "cell_type": "code",
   "execution_count": 1,
   "id": "45cbad08-8e94-4703-8216-400a63a1d699",
   "metadata": {},
   "outputs": [],
   "source": [
    "import logging as log"
   ]
  },
  {
   "cell_type": "code",
   "execution_count": 2,
   "id": "e2cdbd32-055b-4505-b1a0-21ea388033d5",
   "metadata": {},
   "outputs": [],
   "source": [
    "## BasicConfig is used to create a ffile to save logs\n",
    "log.basicConfig(filename = 'test.log', level = log.INFO)"
   ]
  },
  {
   "cell_type": "code",
   "execution_count": 3,
   "id": "630a5e89-cfb6-4ffe-9852-58a101ec9c85",
   "metadata": {},
   "outputs": [],
   "source": [
    "log.info('store a msg')"
   ]
  },
  {
   "cell_type": "code",
   "execution_count": 4,
   "id": "5c1e97e7-8cff-4a0d-8080-4d915d62cfa1",
   "metadata": {},
   "outputs": [
    {
     "data": {
      "text/plain": [
       "'/home/jovyan/work'"
      ]
     },
     "execution_count": 4,
     "metadata": {},
     "output_type": "execute_result"
    }
   ],
   "source": [
    "pwd"
   ]
  },
  {
   "cell_type": "markdown",
   "id": "3b873127-e6ac-4a88-b033-3ee5a42d4b6b",
   "metadata": {},
   "source": [
    "## Lables in python"
   ]
  },
  {
   "cell_type": "code",
   "execution_count": 5,
   "id": "e375a3b6-9de3-4327-a534-7cd6962255d4",
   "metadata": {},
   "outputs": [],
   "source": [
    "# DEBUG --- Write debug of code\n",
    "# INFO  --- Notification message\n",
    "# WARNING -\n",
    "# ERROR\n",
    "# CRITICAL"
   ]
  },
  {
   "cell_type": "code",
   "execution_count": 6,
   "id": "cad00a51-71e7-454f-830d-5571f02d9f24",
   "metadata": {},
   "outputs": [],
   "source": [
    "log.debug('this is a debug msg')"
   ]
  },
  {
   "cell_type": "code",
   "execution_count": 7,
   "id": "9c602dc8-4393-4840-8129-38d0cb6b9fa9",
   "metadata": {},
   "outputs": [],
   "source": [
    "log.warning('this is my warning')"
   ]
  },
  {
   "cell_type": "code",
   "execution_count": 8,
   "id": "ad417a2b-7f26-4561-bf53-3b847fb48573",
   "metadata": {},
   "outputs": [],
   "source": [
    "log.error('this is an error msg')"
   ]
  },
  {
   "cell_type": "code",
   "execution_count": 2,
   "id": "2a21afe3-f164-4007-8ce5-1c9d9fc7bf90",
   "metadata": {},
   "outputs": [
    {
     "name": "stdin",
     "output_type": "stream",
     "text": [
      "enter your age -10\n"
     ]
    }
   ],
   "source": [
    "import logging\n",
    "logging.basicConfig(filename = 'trytest.log', level = logging.DEBUG, format = '%(asctime)s- %(levelname)s - %(message)s')\n",
    "try:\n",
    "    logging.info('this is a start of my prog')\n",
    "    logging.info('asking user to enter age')\n",
    "    age= int(input('enter your age'))\n",
    "    logging.info(f'age is: {age}')\n",
    "    logging.info('user has entered the age')\n",
    "    if age <= 0:\n",
    "        logging.info('I am checking negative conditions')\n",
    "        raise ValueError('user has entered -ve or zero age which is not valid')\n",
    "    elif age < 18:\n",
    "        logging.info('checking underage condition')\n",
    "        print('user is underage')\n",
    "    else:\n",
    "        print('you can buy alcohol')\n",
    "except ValueError as v:\n",
    "    logging.error(v)\n",
    "    \n",
    "    "
   ]
  },
  {
   "cell_type": "code",
   "execution_count": 1,
   "id": "d20c58d8-5c9d-4525-91a1-ba50ac7e1e7b",
   "metadata": {},
   "outputs": [],
   "source": [
    "import logging \n",
    "logging.basicConfig(filename = 'even_parse.log', level = logging.DEBUG , format = '%(asctime)s- %(levelname)s - %(message)s')\n",
    "l = [4,5,6,7,8,9,0]\n",
    "logging.info(l)\n",
    "l1 = []\n",
    "def even_parser(l):\n",
    "    try:\n",
    "        logging.info(\"inside try block\")\n",
    "        for i in l :\n",
    "            logging.info(\"inside for loop i = %d\",i)\n",
    "            if i%2 == 0 :\n",
    "                logging.info(\"checking the valur of i \")\n",
    "                l1.append(i)\n",
    "                logging.info(\"appending the value i = %d\" , i)\n",
    "        return l1 \n",
    "    except Exception as e :\n",
    "        logging.error(e)\n",
    "        \n"
   ]
  },
  {
   "cell_type": "code",
   "execution_count": 2,
   "id": "7fa47e3c-11eb-48d0-a73e-2f7156bc3632",
   "metadata": {},
   "outputs": [
    {
     "data": {
      "text/plain": [
       "[4, 6, 8, 0]"
      ]
     },
     "execution_count": 2,
     "metadata": {},
     "output_type": "execute_result"
    }
   ],
   "source": [
    "even_parser(l)"
   ]
  },
  {
   "cell_type": "code",
   "execution_count": null,
   "id": "7a320725-afbf-4712-9694-118c2572d3ae",
   "metadata": {},
   "outputs": [],
   "source": []
  }
 ],
 "metadata": {
  "kernelspec": {
   "display_name": "Python 3 (ipykernel)",
   "language": "python",
   "name": "python3"
  },
  "language_info": {
   "codemirror_mode": {
    "name": "ipython",
    "version": 3
   },
   "file_extension": ".py",
   "mimetype": "text/x-python",
   "name": "python",
   "nbconvert_exporter": "python",
   "pygments_lexer": "ipython3",
   "version": "3.10.8"
  }
 },
 "nbformat": 4,
 "nbformat_minor": 5
}
